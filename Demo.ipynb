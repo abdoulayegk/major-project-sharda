{
 "cells": [
  {
   "cell_type": "code",
   "execution_count": 6,
   "id": "4563eb5c-08cb-4a28-811c-8a574eaab2ea",
   "metadata": {},
   "outputs": [],
   "source": [
    "import pandas as pd\n",
    "from sklearn.decomposition import PCA\n",
    "from sklearn.ensemble import RandomForestClassifier\n",
    "from sklearn.impute import SimpleImputer\n",
    "from sklearn.metrics import f1_score\n",
    "from sklearn.pipeline import Pipeline, make_pipeline\n",
    "from sklearn.preprocessing import OneHotEncoder, StandardScaler"
   ]
  },
  {
   "cell_type": "code",
   "execution_count": 2,
   "id": "946eede4-06e1-492c-b1d8-89cbe11f7ccb",
   "metadata": {},
   "outputs": [
    {
     "data": {
      "text/html": [
       "<div>\n",
       "<style scoped>\n",
       "    .dataframe tbody tr th:only-of-type {\n",
       "        vertical-align: middle;\n",
       "    }\n",
       "\n",
       "    .dataframe tbody tr th {\n",
       "        vertical-align: top;\n",
       "    }\n",
       "\n",
       "    .dataframe thead th {\n",
       "        text-align: right;\n",
       "    }\n",
       "</style>\n",
       "<table border=\"1\" class=\"dataframe\">\n",
       "  <thead>\n",
       "    <tr style=\"text-align: right;\">\n",
       "      <th></th>\n",
       "      <th>country</th>\n",
       "      <th>year</th>\n",
       "      <th>uniqueid</th>\n",
       "      <th>bank_account</th>\n",
       "      <th>location_type</th>\n",
       "      <th>cellphone_access</th>\n",
       "      <th>household_size</th>\n",
       "      <th>age_of_respondent</th>\n",
       "      <th>gender_of_respondent</th>\n",
       "      <th>relationship_with_head</th>\n",
       "      <th>marital_status</th>\n",
       "      <th>education_level</th>\n",
       "      <th>job_type</th>\n",
       "    </tr>\n",
       "  </thead>\n",
       "  <tbody>\n",
       "    <tr>\n",
       "      <th>0</th>\n",
       "      <td>Kenya</td>\n",
       "      <td>2018</td>\n",
       "      <td>uniqueid_1</td>\n",
       "      <td>Yes</td>\n",
       "      <td>Rural</td>\n",
       "      <td>Yes</td>\n",
       "      <td>3</td>\n",
       "      <td>24</td>\n",
       "      <td>Female</td>\n",
       "      <td>Spouse</td>\n",
       "      <td>Married/Living together</td>\n",
       "      <td>Secondary education</td>\n",
       "      <td>Self employed</td>\n",
       "    </tr>\n",
       "    <tr>\n",
       "      <th>1</th>\n",
       "      <td>Kenya</td>\n",
       "      <td>2018</td>\n",
       "      <td>uniqueid_2</td>\n",
       "      <td>No</td>\n",
       "      <td>Rural</td>\n",
       "      <td>No</td>\n",
       "      <td>5</td>\n",
       "      <td>70</td>\n",
       "      <td>Female</td>\n",
       "      <td>Head of Household</td>\n",
       "      <td>Widowed</td>\n",
       "      <td>No formal education</td>\n",
       "      <td>Government Dependent</td>\n",
       "    </tr>\n",
       "    <tr>\n",
       "      <th>2</th>\n",
       "      <td>Kenya</td>\n",
       "      <td>2018</td>\n",
       "      <td>uniqueid_3</td>\n",
       "      <td>Yes</td>\n",
       "      <td>Urban</td>\n",
       "      <td>Yes</td>\n",
       "      <td>5</td>\n",
       "      <td>26</td>\n",
       "      <td>Male</td>\n",
       "      <td>Other relative</td>\n",
       "      <td>Single/Never Married</td>\n",
       "      <td>Vocational/Specialised training</td>\n",
       "      <td>Self employed</td>\n",
       "    </tr>\n",
       "    <tr>\n",
       "      <th>3</th>\n",
       "      <td>Kenya</td>\n",
       "      <td>2018</td>\n",
       "      <td>uniqueid_4</td>\n",
       "      <td>No</td>\n",
       "      <td>Rural</td>\n",
       "      <td>Yes</td>\n",
       "      <td>5</td>\n",
       "      <td>34</td>\n",
       "      <td>Female</td>\n",
       "      <td>Head of Household</td>\n",
       "      <td>Married/Living together</td>\n",
       "      <td>Primary education</td>\n",
       "      <td>Formally employed Private</td>\n",
       "    </tr>\n",
       "    <tr>\n",
       "      <th>4</th>\n",
       "      <td>Kenya</td>\n",
       "      <td>2018</td>\n",
       "      <td>uniqueid_5</td>\n",
       "      <td>No</td>\n",
       "      <td>Urban</td>\n",
       "      <td>No</td>\n",
       "      <td>8</td>\n",
       "      <td>26</td>\n",
       "      <td>Male</td>\n",
       "      <td>Child</td>\n",
       "      <td>Single/Never Married</td>\n",
       "      <td>Primary education</td>\n",
       "      <td>Informally employed</td>\n",
       "    </tr>\n",
       "  </tbody>\n",
       "</table>\n",
       "</div>"
      ],
      "text/plain": [
       "  country  year    uniqueid bank_account location_type cellphone_access  \\\n",
       "0   Kenya  2018  uniqueid_1          Yes         Rural              Yes   \n",
       "1   Kenya  2018  uniqueid_2           No         Rural               No   \n",
       "2   Kenya  2018  uniqueid_3          Yes         Urban              Yes   \n",
       "3   Kenya  2018  uniqueid_4           No         Rural              Yes   \n",
       "4   Kenya  2018  uniqueid_5           No         Urban               No   \n",
       "\n",
       "   household_size  age_of_respondent gender_of_respondent  \\\n",
       "0               3                 24               Female   \n",
       "1               5                 70               Female   \n",
       "2               5                 26                 Male   \n",
       "3               5                 34               Female   \n",
       "4               8                 26                 Male   \n",
       "\n",
       "  relationship_with_head           marital_status  \\\n",
       "0                 Spouse  Married/Living together   \n",
       "1      Head of Household                  Widowed   \n",
       "2         Other relative     Single/Never Married   \n",
       "3      Head of Household  Married/Living together   \n",
       "4                  Child     Single/Never Married   \n",
       "\n",
       "                   education_level                   job_type  \n",
       "0              Secondary education              Self employed  \n",
       "1              No formal education       Government Dependent  \n",
       "2  Vocational/Specialised training              Self employed  \n",
       "3                Primary education  Formally employed Private  \n",
       "4                Primary education        Informally employed  "
      ]
     },
     "execution_count": 2,
     "metadata": {},
     "output_type": "execute_result"
    }
   ],
   "source": [
    "train = pd.read_csv(\"Train_v2.csv\")\n",
    "train.head()"
   ]
  },
  {
   "cell_type": "code",
   "execution_count": 3,
   "id": "616d3bd6-5569-4d12-a8ad-e92d67fffd2d",
   "metadata": {},
   "outputs": [],
   "source": [
    "train.drop('uniqueid',axis=1, inplace=True)"
   ]
  },
  {
   "cell_type": "code",
   "execution_count": 4,
   "id": "1a17488c-a786-4078-ba93-2bd922c281ea",
   "metadata": {},
   "outputs": [],
   "source": [
    "train.bank_account = train.bank_account.map({'Yes':1,'No':0})"
   ]
  },
  {
   "cell_type": "code",
   "execution_count": 8,
   "id": "1ef9b334-9274-4eb1-833b-c0ab0a177d41",
   "metadata": {},
   "outputs": [
    {
     "data": {
      "text/plain": [
       "<AxesSubplot:>"
      ]
     },
     "execution_count": 8,
     "metadata": {},
     "output_type": "execute_result"
    },
    {
     "data": {
      "image/png": "[encoded data removed]",
      "text/plain": [
       "<Figure size 1800x720 with 2 Axes>"
      ]
     },
     "metadata": {
      "needs_background": "light"
     },
     "output_type": "display_data"
    }
   ],
   "source": [
    "import missingno as mn\n",
    "\n",
    "mn.matrix(train)"
   ]
  },
  {
   "cell_type": "code",
   "execution_count": 9,
   "id": "fb2deb4a-796a-4ce1-a4c6-c95ea154aca3",
   "metadata": {},
   "outputs": [],
   "source": [
    "train = pd.get_dummies(train,drop_first=True)"
   ]
  },
  {
   "cell_type": "code",
   "execution_count": 10,
   "id": "988b409b-3bc5-4c57-a0d6-9474bb58209c",
   "metadata": {},
   "outputs": [
    {
     "name": "stdout",
     "output_type": "stream",
     "text": [
      "<class 'pandas.core.frame.DataFrame'>\n",
      "RangeIndex: 23524 entries, 0 to 23523\n",
      "Data columns (total 33 columns):\n",
      " #   Column                                           Non-Null Count  Dtype\n",
      "---  ------                                           --------------  -----\n",
      " 0   year                                             23524 non-null  int64\n",
      " 1   bank_account                                     23524 non-null  int64\n",
      " 2   household_size                                   23524 non-null  int64\n",
      " 3   age_of_respondent                                23524 non-null  int64\n",
      " 4   country_Rwanda                                   23524 non-null  uint8\n",
      " 5   country_Tanzania                                 23524 non-null  uint8\n",
      " 6   country_Uganda                                   23524 non-null  uint8\n",
      " 7   location_type_Urban                              23524 non-null  uint8\n",
      " 8   cellphone_access_Yes                             23524 non-null  uint8\n",
      " 9   gender_of_respondent_Male                        23524 non-null  uint8\n",
      " 10  relationship_with_head_Head of Household         23524 non-null  uint8\n",
      " 11  relationship_with_head_Other non-relatives       23524 non-null  uint8\n",
      " 12  relationship_with_head_Other relative            23524 non-null  uint8\n",
      " 13  relationship_with_head_Parent                    23524 non-null  uint8\n",
      " 14  relationship_with_head_Spouse                    23524 non-null  uint8\n",
      " 15  marital_status_Dont know                         23524 non-null  uint8\n",
      " 16  marital_status_Married/Living together           23524 non-null  uint8\n",
      " 17  marital_status_Single/Never Married              23524 non-null  uint8\n",
      " 18  marital_status_Widowed                           23524 non-null  uint8\n",
      " 19  education_level_Other/Dont know/RTA              23524 non-null  uint8\n",
      " 20  education_level_Primary education                23524 non-null  uint8\n",
      " 21  education_level_Secondary education              23524 non-null  uint8\n",
      " 22  education_level_Tertiary education               23524 non-null  uint8\n",
      " 23  education_level_Vocational/Specialised training  23524 non-null  uint8\n",
      " 24  job_type_Farming and Fishing                     23524 non-null  uint8\n",
      " 25  job_type_Formally employed Government            23524 non-null  uint8\n",
      " 26  job_type_Formally employed Private               23524 non-null  uint8\n",
      " 27  job_type_Government Dependent                    23524 non-null  uint8\n",
      " 28  job_type_Informally employed                     23524 non-null  uint8\n",
      " 29  job_type_No Income                               23524 non-null  uint8\n",
      " 30  job_type_Other Income                            23524 non-null  uint8\n",
      " 31  job_type_Remittance Dependent                    23524 non-null  uint8\n",
      " 32  job_type_Self employed                           23524 non-null  uint8\n",
      "dtypes: int64(4), uint8(29)\n",
      "memory usage: 1.4 MB\n"
     ]
    }
   ],
   "source": [
    "train.info()"
   ]
  },
  {
   "cell_type": "code",
   "execution_count": 12,
   "id": "844ec013-b790-40bb-943e-e8ff85dede96",
   "metadata": {},
   "outputs": [],
   "source": [
    "X = train.drop('bank_account',axis=1)\n",
    "y = train.bank_account"
   ]
  },
  {
   "cell_type": "code",
   "execution_count": 11,
   "id": "7f2cf9b7-fb13-435b-8598-55ea850bcafc",
   "metadata": {},
   "outputs": [],
   "source": [
    "from sklearn.model_selection import train_test_split"
   ]
  },
  {
   "cell_type": "code",
   "execution_count": 14,
   "id": "3ba28cd6-b221-4c71-8d94-701ff26de84b",
   "metadata": {},
   "outputs": [],
   "source": [
    "X_train,X_test,y_train,y_test = train_test_split(X,y, random_state=42, stratify=y)"
   ]
  },
  {
   "cell_type": "code",
   "execution_count": 21,
   "id": "7671c085-c622-490c-89f5-055da884a536",
   "metadata": {},
   "outputs": [
    {
     "name": "stdout",
     "output_type": "stream",
     "text": [
      "Test accuracy: 0.875\n"
     ]
    }
   ],
   "source": [
    "pipe_rf = make_pipeline(\n",
    "    StandardScaler(),\n",
    "    PCA(n_components=9),\n",
    "    RandomForestClassifier()\n",
    ")\n",
    "\n",
    "pipe_rf.fit(X_train,y_train)\n",
    "y_pred = pipe_rf.predict(X_test)\n",
    "test_acc = pipe_rf.score(X_test,y_test)\n",
    "print(f'Test accuracy: {test_acc:.3f}')"
   ]
  },
  {
   "cell_type": "code",
   "execution_count": 32,
   "id": "4686bb8b-0ea5-4999-baf9-2559298c437e",
   "metadata": {},
   "outputs": [
    {
     "name": "stdout",
     "output_type": "stream",
     "text": [
      "CV accuracy scores: [0.89121813 0.8674221  0.88498584 0.87414966 0.86904762 0.88492063\n",
      " 0.87018141 0.87131519 0.87868481 0.87585034]\n"
     ]
    }
   ],
   "source": [
    "from sklearn.model_selection import cross_val_score\n",
    "scores = cross_val_score(estimator=pipe_rf, X=X_train,\n",
    "y=y_train,\n",
    "cv=10,\n",
    "n_jobs=-1)\n",
    "print(f'CV accuracy scores: {scores}')\n"
   ]
  },
  {
   "cell_type": "code",
   "execution_count": null,
   "id": "850fb061-6ba5-4687-acef-4e8a4abffe05",
   "metadata": {},
   "outputs": [],
   "source": []
  }
 ],
 "metadata": {
  "kernelspec": {
   "display_name": "Python 3 (ipykernel)",
   "language": "python",
   "name": "python3"
  },
  "language_info": {
   "codemirror_mode": {
    "name": "ipython",
    "version": 3
   },
   "file_extension": ".py",
   "mimetype": "text/x-python",
   "name": "python",
   "nbconvert_exporter": "python",
   "pygments_lexer": "ipython3",
   "version": "3.9.5"
  }
 },
 "nbformat": 4,
 "nbformat_minor": 5
}
