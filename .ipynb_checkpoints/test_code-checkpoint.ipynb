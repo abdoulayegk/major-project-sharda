{
 "cells": [
  {
   "cell_type": "markdown",
   "id": "65080035-6c3c-4e46-b4c2-f28ce0438d86",
   "metadata": {},
   "source": [
    "### Motivation\n",
    "1. Taking advantage of the amount of data that is available nowadays, the authors performed statistical analysis and machine learning to extract knowledge in the current situation of financial inclusion and the factors affecting it. By applying advanced machine learning algorithms to the financial inclusion dataset to predict a person’s likelihood of having a bank account. This would enable the financial institutions to get an understanding of what features make a person capable of having a bank account. Having all that reliable information or guidance, financial institutions can take considerable measures and create a system or come up with a strategy that will help make all members of the society (regardless of class or gender) aware of financial inclusion and its benefits.\n",
    "\n"
   ]
  },
  {
   "cell_type": "code",
   "execution_count": 68,
   "id": "a1c985fa-b960-449f-af76-2e56e7fd237a",
   "metadata": {},
   "outputs": [],
   "source": [
    "import warnings\n",
    "\n",
    "import matplotlib.pyplot as plt\n",
    "import pandas as pd\n",
    "import seaborn as sns\n",
    "from pandas_profiling import profile_report\n",
    "\n",
    "warnings.filterwarnings(\"ignore\")\n",
    "from catboost import CatBoostClassifier\n",
    "from imblearn.over_sampling import SMOTE\n",
    "from lightgbm import LGBMClassifier\n",
    "from sklearn.ensemble import (\n",
    "    AdaBoostClassifier,\n",
    "    GradientBoostingClassifier,\n",
    "    HistGradientBoostingClassifier,\n",
    "    RandomForestClassifier,\n",
    ")\n",
    "# import classification algorithm\n",
    "from sklearn.experimental import enable_hist_gradient_boosting\n",
    "from sklearn.linear_model import LogisticRegression\n",
    "# evaluation matrics\n",
    "from sklearn.metrics import (\n",
    "    accuracy_score,\n",
    "    classification_report,\n",
    "    confusion_matrix,\n",
    "    f1_score,\n",
    "    plot_confusion_matrix,\n",
    "    precision_score,\n",
    "    recall_score,\n",
    "    roc_auc_score,\n",
    ")\n",
    "from sklearn.model_selection import (\n",
    "    KFold,\n",
    "    StratifiedKFold,\n",
    "    cross_val_score,\n",
    "    train_test_split,\n",
    ")\n",
    "from sklearn.neighbors import KNeighborsClassifier\n",
    "# import preprocessing module\n",
    "from sklearn.preprocessing import LabelEncoder, MinMaxScaler, StandardScaler\n",
    "from sklearn.svm import SVC\n",
    "from sklearn.tree import DecisionTreeClassifier\n",
    "from xgboost import XGBClassifier\n",
    "\n",
    "plt.style.use('ggplot')"
   ]
  },
  {
   "cell_type": "code",
   "execution_count": 2,
   "id": "5ab2b5e7-1f44-49ea-8a61-9b44a70efdaf",
   "metadata": {},
   "outputs": [],
   "source": [
    "# Sed set up\n",
    "import numpy as np\n",
    "from numpy import random\n",
    "\n",
    "random.seed(42)\n",
    "seed = np.random.seed(42)"
   ]
  },
  {
   "cell_type": "code",
   "execution_count": 3,
   "id": "29238508-9ee0-439d-99cc-95525b73f3b9",
   "metadata": {},
   "outputs": [],
   "source": [
    "%matplotlib inline"
   ]
  },
  {
   "cell_type": "code",
   "execution_count": 4,
   "id": "8eadc88c-1f19-460b-9de8-ed31632c7662",
   "metadata": {},
   "outputs": [
    {
     "data": {
      "text/html": [
       "<div>\n",
       "<style scoped>\n",
       "    .dataframe tbody tr th:only-of-type {\n",
       "        vertical-align: middle;\n",
       "    }\n",
       "\n",
       "    .dataframe tbody tr th {\n",
       "        vertical-align: top;\n",
       "    }\n",
       "\n",
       "    .dataframe thead th {\n",
       "        text-align: right;\n",
       "    }\n",
       "</style>\n",
       "<table border=\"1\" class=\"dataframe\">\n",
       "  <thead>\n",
       "    <tr style=\"text-align: right;\">\n",
       "      <th></th>\n",
       "      <th>country</th>\n",
       "      <th>year</th>\n",
       "      <th>uniqueid</th>\n",
       "      <th>bank_account</th>\n",
       "      <th>location_type</th>\n",
       "      <th>cellphone_access</th>\n",
       "      <th>household_size</th>\n",
       "      <th>age_of_respondent</th>\n",
       "      <th>gender_of_respondent</th>\n",
       "      <th>relationship_with_head</th>\n",
       "      <th>marital_status</th>\n",
       "      <th>education_level</th>\n",
       "      <th>job_type</th>\n",
       "    </tr>\n",
       "  </thead>\n",
       "  <tbody>\n",
       "    <tr>\n",
       "      <th>0</th>\n",
       "      <td>Kenya</td>\n",
       "      <td>2018</td>\n",
       "      <td>uniqueid_1</td>\n",
       "      <td>Yes</td>\n",
       "      <td>Rural</td>\n",
       "      <td>Yes</td>\n",
       "      <td>3</td>\n",
       "      <td>24</td>\n",
       "      <td>Female</td>\n",
       "      <td>Spouse</td>\n",
       "      <td>Married/Living together</td>\n",
       "      <td>Secondary education</td>\n",
       "      <td>Self employed</td>\n",
       "    </tr>\n",
       "    <tr>\n",
       "      <th>1</th>\n",
       "      <td>Kenya</td>\n",
       "      <td>2018</td>\n",
       "      <td>uniqueid_2</td>\n",
       "      <td>No</td>\n",
       "      <td>Rural</td>\n",
       "      <td>No</td>\n",
       "      <td>5</td>\n",
       "      <td>70</td>\n",
       "      <td>Female</td>\n",
       "      <td>Head of Household</td>\n",
       "      <td>Widowed</td>\n",
       "      <td>No formal education</td>\n",
       "      <td>Government Dependent</td>\n",
       "    </tr>\n",
       "    <tr>\n",
       "      <th>2</th>\n",
       "      <td>Kenya</td>\n",
       "      <td>2018</td>\n",
       "      <td>uniqueid_3</td>\n",
       "      <td>Yes</td>\n",
       "      <td>Urban</td>\n",
       "      <td>Yes</td>\n",
       "      <td>5</td>\n",
       "      <td>26</td>\n",
       "      <td>Male</td>\n",
       "      <td>Other relative</td>\n",
       "      <td>Single/Never Married</td>\n",
       "      <td>Vocational/Specialised training</td>\n",
       "      <td>Self employed</td>\n",
       "    </tr>\n",
       "    <tr>\n",
       "      <th>3</th>\n",
       "      <td>Kenya</td>\n",
       "      <td>2018</td>\n",
       "      <td>uniqueid_4</td>\n",
       "      <td>No</td>\n",
       "      <td>Rural</td>\n",
       "      <td>Yes</td>\n",
       "      <td>5</td>\n",
       "      <td>34</td>\n",
       "      <td>Female</td>\n",
       "      <td>Head of Household</td>\n",
       "      <td>Married/Living together</td>\n",
       "      <td>Primary education</td>\n",
       "      <td>Formally employed Private</td>\n",
       "    </tr>\n",
       "    <tr>\n",
       "      <th>4</th>\n",
       "      <td>Kenya</td>\n",
       "      <td>2018</td>\n",
       "      <td>uniqueid_5</td>\n",
       "      <td>No</td>\n",
       "      <td>Urban</td>\n",
       "      <td>No</td>\n",
       "      <td>8</td>\n",
       "      <td>26</td>\n",
       "      <td>Male</td>\n",
       "      <td>Child</td>\n",
       "      <td>Single/Never Married</td>\n",
       "      <td>Primary education</td>\n",
       "      <td>Informally employed</td>\n",
       "    </tr>\n",
       "  </tbody>\n",
       "</table>\n",
       "</div>"
      ],
      "text/plain": [
       "  country  year    uniqueid bank_account location_type cellphone_access  \\\n",
       "0   Kenya  2018  uniqueid_1          Yes         Rural              Yes   \n",
       "1   Kenya  2018  uniqueid_2           No         Rural               No   \n",
       "2   Kenya  2018  uniqueid_3          Yes         Urban              Yes   \n",
       "3   Kenya  2018  uniqueid_4           No         Rural              Yes   \n",
       "4   Kenya  2018  uniqueid_5           No         Urban               No   \n",
       "\n",
       "   household_size  age_of_respondent gender_of_respondent  \\\n",
       "0               3                 24               Female   \n",
       "1               5                 70               Female   \n",
       "2               5                 26                 Male   \n",
       "3               5                 34               Female   \n",
       "4               8                 26                 Male   \n",
       "\n",
       "  relationship_with_head           marital_status  \\\n",
       "0                 Spouse  Married/Living together   \n",
       "1      Head of Household                  Widowed   \n",
       "2         Other relative     Single/Never Married   \n",
       "3      Head of Household  Married/Living together   \n",
       "4                  Child     Single/Never Married   \n",
       "\n",
       "                   education_level                   job_type  \n",
       "0              Secondary education              Self employed  \n",
       "1              No formal education       Government Dependent  \n",
       "2  Vocational/Specialised training              Self employed  \n",
       "3                Primary education  Formally employed Private  \n",
       "4                Primary education        Informally employed  "
      ]
     },
     "execution_count": 4,
     "metadata": {},
     "output_type": "execute_result"
    }
   ],
   "source": [
    "train = pd.read_csv(\"Train_v2.csv\")\n",
    "test = pd.read_csv(\"Test_v2.csv\")\n",
    "train.head()"
   ]
  },
  {
   "cell_type": "code",
   "execution_count": 5,
   "id": "95762195-b6c1-4e8f-b2dc-917486a6f5c3",
   "metadata": {},
   "outputs": [
    {
     "data": {
      "text/html": [
       "<div>\n",
       "<style scoped>\n",
       "    .dataframe tbody tr th:only-of-type {\n",
       "        vertical-align: middle;\n",
       "    }\n",
       "\n",
       "    .dataframe tbody tr th {\n",
       "        vertical-align: top;\n",
       "    }\n",
       "\n",
       "    .dataframe thead th {\n",
       "        text-align: right;\n",
       "    }\n",
       "</style>\n",
       "<table border=\"1\" class=\"dataframe\">\n",
       "  <thead>\n",
       "    <tr style=\"text-align: right;\">\n",
       "      <th></th>\n",
       "      <th>country</th>\n",
       "      <th>year</th>\n",
       "      <th>uniqueid</th>\n",
       "      <th>location_type</th>\n",
       "      <th>cellphone_access</th>\n",
       "      <th>household_size</th>\n",
       "      <th>age_of_respondent</th>\n",
       "      <th>gender_of_respondent</th>\n",
       "      <th>relationship_with_head</th>\n",
       "      <th>marital_status</th>\n",
       "      <th>education_level</th>\n",
       "      <th>job_type</th>\n",
       "    </tr>\n",
       "  </thead>\n",
       "  <tbody>\n",
       "    <tr>\n",
       "      <th>0</th>\n",
       "      <td>Kenya</td>\n",
       "      <td>2018</td>\n",
       "      <td>uniqueid_6056</td>\n",
       "      <td>Urban</td>\n",
       "      <td>Yes</td>\n",
       "      <td>3</td>\n",
       "      <td>30</td>\n",
       "      <td>Male</td>\n",
       "      <td>Head of Household</td>\n",
       "      <td>Married/Living together</td>\n",
       "      <td>Secondary education</td>\n",
       "      <td>Formally employed Government</td>\n",
       "    </tr>\n",
       "    <tr>\n",
       "      <th>1</th>\n",
       "      <td>Kenya</td>\n",
       "      <td>2018</td>\n",
       "      <td>uniqueid_6060</td>\n",
       "      <td>Urban</td>\n",
       "      <td>Yes</td>\n",
       "      <td>7</td>\n",
       "      <td>51</td>\n",
       "      <td>Male</td>\n",
       "      <td>Head of Household</td>\n",
       "      <td>Married/Living together</td>\n",
       "      <td>Vocational/Specialised training</td>\n",
       "      <td>Formally employed Private</td>\n",
       "    </tr>\n",
       "    <tr>\n",
       "      <th>2</th>\n",
       "      <td>Kenya</td>\n",
       "      <td>2018</td>\n",
       "      <td>uniqueid_6065</td>\n",
       "      <td>Rural</td>\n",
       "      <td>No</td>\n",
       "      <td>3</td>\n",
       "      <td>77</td>\n",
       "      <td>Female</td>\n",
       "      <td>Parent</td>\n",
       "      <td>Married/Living together</td>\n",
       "      <td>No formal education</td>\n",
       "      <td>Remittance Dependent</td>\n",
       "    </tr>\n",
       "    <tr>\n",
       "      <th>3</th>\n",
       "      <td>Kenya</td>\n",
       "      <td>2018</td>\n",
       "      <td>uniqueid_6072</td>\n",
       "      <td>Rural</td>\n",
       "      <td>No</td>\n",
       "      <td>6</td>\n",
       "      <td>39</td>\n",
       "      <td>Female</td>\n",
       "      <td>Head of Household</td>\n",
       "      <td>Married/Living together</td>\n",
       "      <td>Primary education</td>\n",
       "      <td>Remittance Dependent</td>\n",
       "    </tr>\n",
       "    <tr>\n",
       "      <th>4</th>\n",
       "      <td>Kenya</td>\n",
       "      <td>2018</td>\n",
       "      <td>uniqueid_6073</td>\n",
       "      <td>Urban</td>\n",
       "      <td>No</td>\n",
       "      <td>3</td>\n",
       "      <td>16</td>\n",
       "      <td>Male</td>\n",
       "      <td>Child</td>\n",
       "      <td>Single/Never Married</td>\n",
       "      <td>Secondary education</td>\n",
       "      <td>Remittance Dependent</td>\n",
       "    </tr>\n",
       "  </tbody>\n",
       "</table>\n",
       "</div>"
      ],
      "text/plain": [
       "  country  year       uniqueid location_type cellphone_access  household_size  \\\n",
       "0   Kenya  2018  uniqueid_6056         Urban              Yes               3   \n",
       "1   Kenya  2018  uniqueid_6060         Urban              Yes               7   \n",
       "2   Kenya  2018  uniqueid_6065         Rural               No               3   \n",
       "3   Kenya  2018  uniqueid_6072         Rural               No               6   \n",
       "4   Kenya  2018  uniqueid_6073         Urban               No               3   \n",
       "\n",
       "   age_of_respondent gender_of_respondent relationship_with_head  \\\n",
       "0                 30                 Male      Head of Household   \n",
       "1                 51                 Male      Head of Household   \n",
       "2                 77               Female                 Parent   \n",
       "3                 39               Female      Head of Household   \n",
       "4                 16                 Male                  Child   \n",
       "\n",
       "            marital_status                  education_level  \\\n",
       "0  Married/Living together              Secondary education   \n",
       "1  Married/Living together  Vocational/Specialised training   \n",
       "2  Married/Living together              No formal education   \n",
       "3  Married/Living together                Primary education   \n",
       "4     Single/Never Married              Secondary education   \n",
       "\n",
       "                       job_type  \n",
       "0  Formally employed Government  \n",
       "1     Formally employed Private  \n",
       "2          Remittance Dependent  \n",
       "3          Remittance Dependent  \n",
       "4          Remittance Dependent  "
      ]
     },
     "execution_count": 5,
     "metadata": {},
     "output_type": "execute_result"
    }
   ],
   "source": [
    "test.head()"
   ]
  },
  {
   "cell_type": "markdown",
   "id": "f946cc8b-1329-4024-bf18-7cd18271e6e2",
   "metadata": {},
   "source": [
    "# Explolatory Data Analysis\n",
    "*This is the process of finding some insights from you dataset before create predictive models.*\n",
    "\n",
    "Note: This is important steps in your Data science workflow."
   ]
  },
  {
   "cell_type": "code",
   "execution_count": 6,
   "id": "6e9a2beb-ff5c-419a-8ec2-18cd9ffe53ff",
   "metadata": {},
   "outputs": [
    {
     "name": "stdout",
     "output_type": "stream",
     "text": [
      "<class 'pandas.core.frame.DataFrame'>\n",
      "RangeIndex: 23524 entries, 0 to 23523\n",
      "Data columns (total 13 columns):\n",
      " #   Column                  Non-Null Count  Dtype \n",
      "---  ------                  --------------  ----- \n",
      " 0   country                 23524 non-null  object\n",
      " 1   year                    23524 non-null  int64 \n",
      " 2   uniqueid                23524 non-null  object\n",
      " 3   bank_account            23524 non-null  object\n",
      " 4   location_type           23524 non-null  object\n",
      " 5   cellphone_access        23524 non-null  object\n",
      " 6   household_size          23524 non-null  int64 \n",
      " 7   age_of_respondent       23524 non-null  int64 \n",
      " 8   gender_of_respondent    23524 non-null  object\n",
      " 9   relationship_with_head  23524 non-null  object\n",
      " 10  marital_status          23524 non-null  object\n",
      " 11  education_level         23524 non-null  object\n",
      " 12  job_type                23524 non-null  object\n",
      "dtypes: int64(3), object(10)\n",
      "memory usage: 2.3+ MB\n"
     ]
    }
   ],
   "source": [
    "train.info()"
   ]
  },
  {
   "cell_type": "markdown",
   "id": "d7f20b6c-50eb-430e-876e-3d496013e490",
   "metadata": {},
   "source": [
    "## Let see the statistical overview of our dataset"
   ]
  },
  {
   "cell_type": "code",
   "execution_count": 7,
   "id": "25aefcce-ab5f-4f59-90ba-762107e6d28b",
   "metadata": {},
   "outputs": [
    {
     "data": {
      "text/html": [
       "<div>\n",
       "<style scoped>\n",
       "    .dataframe tbody tr th:only-of-type {\n",
       "        vertical-align: middle;\n",
       "    }\n",
       "\n",
       "    .dataframe tbody tr th {\n",
       "        vertical-align: top;\n",
       "    }\n",
       "\n",
       "    .dataframe thead th {\n",
       "        text-align: right;\n",
       "    }\n",
       "</style>\n",
       "<table border=\"1\" class=\"dataframe\">\n",
       "  <thead>\n",
       "    <tr style=\"text-align: right;\">\n",
       "      <th></th>\n",
       "      <th>year</th>\n",
       "      <th>household_size</th>\n",
       "      <th>age_of_respondent</th>\n",
       "    </tr>\n",
       "  </thead>\n",
       "  <tbody>\n",
       "    <tr>\n",
       "      <th>count</th>\n",
       "      <td>23524.000000</td>\n",
       "      <td>23524.000000</td>\n",
       "      <td>23524.000000</td>\n",
       "    </tr>\n",
       "    <tr>\n",
       "      <th>mean</th>\n",
       "      <td>2016.975939</td>\n",
       "      <td>3.797483</td>\n",
       "      <td>38.805220</td>\n",
       "    </tr>\n",
       "    <tr>\n",
       "      <th>std</th>\n",
       "      <td>0.847371</td>\n",
       "      <td>2.227613</td>\n",
       "      <td>16.520569</td>\n",
       "    </tr>\n",
       "    <tr>\n",
       "      <th>min</th>\n",
       "      <td>2016.000000</td>\n",
       "      <td>1.000000</td>\n",
       "      <td>16.000000</td>\n",
       "    </tr>\n",
       "    <tr>\n",
       "      <th>25%</th>\n",
       "      <td>2016.000000</td>\n",
       "      <td>2.000000</td>\n",
       "      <td>26.000000</td>\n",
       "    </tr>\n",
       "    <tr>\n",
       "      <th>50%</th>\n",
       "      <td>2017.000000</td>\n",
       "      <td>3.000000</td>\n",
       "      <td>35.000000</td>\n",
       "    </tr>\n",
       "    <tr>\n",
       "      <th>75%</th>\n",
       "      <td>2018.000000</td>\n",
       "      <td>5.000000</td>\n",
       "      <td>49.000000</td>\n",
       "    </tr>\n",
       "    <tr>\n",
       "      <th>max</th>\n",
       "      <td>2018.000000</td>\n",
       "      <td>21.000000</td>\n",
       "      <td>100.000000</td>\n",
       "    </tr>\n",
       "  </tbody>\n",
       "</table>\n",
       "</div>"
      ],
      "text/plain": [
       "               year  household_size  age_of_respondent\n",
       "count  23524.000000    23524.000000       23524.000000\n",
       "mean    2016.975939        3.797483          38.805220\n",
       "std        0.847371        2.227613          16.520569\n",
       "min     2016.000000        1.000000          16.000000\n",
       "25%     2016.000000        2.000000          26.000000\n",
       "50%     2017.000000        3.000000          35.000000\n",
       "75%     2018.000000        5.000000          49.000000\n",
       "max     2018.000000       21.000000         100.000000"
      ]
     },
     "execution_count": 7,
     "metadata": {},
     "output_type": "execute_result"
    }
   ],
   "source": [
    "# describe will show statistical info\n",
    "train.describe()"
   ]
  },
  {
   "cell_type": "markdown",
   "id": "ee90f807-f43a-4abf-a9b8-fd91b6f22697",
   "metadata": {},
   "source": [
    "From the above cell we can see that most of our features are categorical because ony 3 columns are numerical that's why it shows only those 3 with the mean, count, standard deviation also the minimum value of each columns the maximum value of each columns along with the interquartile range"
   ]
  },
  {
   "cell_type": "code",
   "execution_count": 8,
   "id": "e0155400-5c43-4df3-9170-e701412f885b",
   "metadata": {},
   "outputs": [
    {
     "name": "stdout",
     "output_type": "stream",
     "text": [
      "<class 'pandas.core.frame.DataFrame'>\n",
      "RangeIndex: 23524 entries, 0 to 23523\n",
      "Data columns (total 13 columns):\n",
      " #   Column                  Non-Null Count  Dtype \n",
      "---  ------                  --------------  ----- \n",
      " 0   country                 23524 non-null  object\n",
      " 1   year                    23524 non-null  int64 \n",
      " 2   uniqueid                23524 non-null  object\n",
      " 3   bank_account            23524 non-null  object\n",
      " 4   location_type           23524 non-null  object\n",
      " 5   cellphone_access        23524 non-null  object\n",
      " 6   household_size          23524 non-null  int64 \n",
      " 7   age_of_respondent       23524 non-null  int64 \n",
      " 8   gender_of_respondent    23524 non-null  object\n",
      " 9   relationship_with_head  23524 non-null  object\n",
      " 10  marital_status          23524 non-null  object\n",
      " 11  education_level         23524 non-null  object\n",
      " 12  job_type                23524 non-null  object\n",
      "dtypes: int64(3), object(10)\n",
      "memory usage: 2.3+ MB\n"
     ]
    }
   ],
   "source": [
    "train.info()"
   ]
  },
  {
   "cell_type": "markdown",
   "id": "b03c78ad-344b-454f-85d3-0c36bc87248c",
   "metadata": {},
   "source": [
    "From this info method we got to know more about our data it first show us the number of non null count als the datatype of each columns along with the total number of each datatypes we have. It shows here that we have 3 features with *int* dataypte and 10 *objects* datatype also it tell us about the size of the file we have which is in our case 2.3MB"
   ]
  },
  {
   "cell_type": "code",
   "execution_count": 9,
   "id": "d2166a6f-4288-4cd9-92f2-243dc1e16d8e",
   "metadata": {},
   "outputs": [
    {
     "data": {
      "text/plain": [
       "(23524, 13)"
      ]
     },
     "execution_count": 9,
     "metadata": {},
     "output_type": "execute_result"
    }
   ],
   "source": [
    "# to show the shape of the data\n",
    "train.shape"
   ]
  },
  {
   "cell_type": "code",
   "execution_count": 10,
   "id": "1e8d97c5-a551-42ef-95f2-7e3140973172",
   "metadata": {},
   "outputs": [
    {
     "data": {
      "text/plain": [
       "2016    8735\n",
       "2018    8169\n",
       "2017    6620\n",
       "Name: year, dtype: int64"
      ]
     },
     "execution_count": 10,
     "metadata": {},
     "output_type": "execute_result"
    }
   ],
   "source": [
    "train.year.value_counts()"
   ]
  },
  {
   "cell_type": "markdown",
   "id": "7ace16cb-1349-484f-88d5-5ee96a3816c1",
   "metadata": {},
   "source": [
    "### Target Distribution"
   ]
  },
  {
   "cell_type": "code",
   "execution_count": 11,
   "id": "311bd0ca-7244-42c1-a3bb-53a4218b8c84",
   "metadata": {},
   "outputs": [
    {
     "data": {
      "image/png": "[encoded data removed]",
      "text/plain": [
       "<Figure size 432x288 with 1 Axes>"
      ]
     },
     "metadata": {
      "needs_background": "light"
     },
     "output_type": "display_data"
    }
   ],
   "source": [
    "plt.title(\"Unbalance classes\")\n",
    "sns.countplot(x=\"bank_account\", data=train)\n",
    "plt.show()"
   ]
  },
  {
   "cell_type": "markdown",
   "id": "9ea5d7e0-6e4a-4fd1-90c7-e3cc7cef40e5",
   "metadata": {},
   "source": [
    "From the above cell we can see that we have unbalanced data basically the number of No is much higher than the number of yes which can lead to poor model performence sometimes. In this can we've about 2500 yes and 20000 No which gives us a big difference later on we will what we can do for this ."
   ]
  },
  {
   "cell_type": "markdown",
   "id": "efd705fe-273c-4fc2-8747-2667f33aa62c",
   "metadata": {},
   "source": [
    "### Let's see missing data"
   ]
  },
  {
   "cell_type": "code",
   "execution_count": 12,
   "id": "387e76c4-dd86-4e85-aabd-cb0f64b458fb",
   "metadata": {},
   "outputs": [
    {
     "data": {
      "text/plain": [
       "<AxesSubplot:>"
      ]
     },
     "execution_count": 12,
     "metadata": {},
     "output_type": "execute_result"
    },
    {
     "data": {
      "image/png": "[encoded data removed]",
      "text/plain": [
       "<Figure size 1800x720 with 2 Axes>"
      ]
     },
     "metadata": {
      "needs_background": "light"
     },
     "output_type": "display_data"
    }
   ],
   "source": [
    "import missingno as mn\n",
    "\n",
    "mn.matrix(train)"
   ]
  },
  {
   "cell_type": "markdown",
   "id": "31e05354-01d9-4c1a-96a5-a3c1abcb9bde",
   "metadata": {},
   "source": [
    "It shows that we don't have any missing values which is good"
   ]
  },
  {
   "cell_type": "markdown",
   "id": "3313a1f3-c73e-486e-ab89-ce1dacecff10",
   "metadata": {},
   "source": [
    "### Let's see the disctribution of the people with cellphone based on gender."
   ]
  },
  {
   "cell_type": "code",
   "execution_count": 13,
   "id": "6d89982f-667d-4da6-a102-4ada7a5eee0c",
   "metadata": {},
   "outputs": [
    {
     "data": {
      "image/png": "[encoded data removed]",
      "text/plain": [
       "<Figure size 479.75x360 with 1 Axes>"
      ]
     },
     "metadata": {
      "needs_background": "light"
     },
     "output_type": "display_data"
    }
   ],
   "source": [
    "sns.catplot(x=\"cellphone_access\", data=train, kind=\"count\", hue=\"gender_of_respondent\")\n",
    "plt.show()"
   ]
  },
  {
   "cell_type": "markdown",
   "id": "efeca5a7-c772-4938-8372-1b8bee4bb34e",
   "metadata": {},
   "source": [
    "This shows that number of male having cellphones is higher than the numbero female in this case."
   ]
  },
  {
   "cell_type": "markdown",
   "id": "f2f58cef-0524-481a-8cb6-afb0bbc1e61d",
   "metadata": {},
   "source": [
    "## Let's see the distribution of age"
   ]
  },
  {
   "cell_type": "code",
   "execution_count": 14,
   "id": "acc49e47-b963-47e3-9589-4242c33bb232",
   "metadata": {},
   "outputs": [
    {
     "data": {
      "text/plain": [
       "<AxesSubplot:xlabel='age_of_respondent', ylabel='Density'>"
      ]
     },
     "execution_count": 14,
     "metadata": {},
     "output_type": "execute_result"
    },
    {
     "data": {
      "image/png": "[encoded data removed]",
      "text/plain": [
       "<Figure size 432x288 with 1 Axes>"
      ]
     },
     "metadata": {
      "needs_background": "light"
     },
     "output_type": "display_data"
    }
   ],
   "source": [
    "sns.distplot(train.age_of_respondent)"
   ]
  },
  {
   "cell_type": "markdown",
   "id": "3f02426c-d19d-427b-a787-8014900f8675",
   "metadata": {},
   "source": [
    "This distribution make sense because we have age range from 16 years old to 100 year"
   ]
  },
  {
   "cell_type": "code",
   "execution_count": 15,
   "id": "0cc5c995-adc5-4388-9911-ab9360ce5052",
   "metadata": {},
   "outputs": [
    {
     "data": {
      "image/png": "[encoded data removed]",
      "text/plain": [
       "<Figure size 432x288 with 1 Axes>"
      ]
     },
     "metadata": {
      "needs_background": "light"
     },
     "output_type": "display_data"
    }
   ],
   "source": [
    "# Distribution of the gender\n",
    "sns.countplot(train.gender_of_respondent, hue=\"bank_account\", data=train)\n",
    "plt.show()"
   ]
  },
  {
   "cell_type": "markdown",
   "id": "a6bde4ef-5417-44df-9f8b-cd8b5ddd3065",
   "metadata": {},
   "source": [
    "we can see that the number of female that have bank account is higher than the number of male with a bank account. "
   ]
  },
  {
   "cell_type": "code",
   "execution_count": 16,
   "id": "c011b253-3fb0-4674-846a-6895be3835f4",
   "metadata": {},
   "outputs": [
    {
     "data": {
      "image/png": "[encoded data removed]",
      "text/plain": [
       "<Figure size 1080x504 with 1 Axes>"
      ]
     },
     "metadata": {
      "needs_background": "light"
     },
     "output_type": "display_data"
    }
   ],
   "source": [
    "# distribution of job type\n",
    "plt.figure(figsize=(15, 7))\n",
    "sns.countplot(train.job_type, orient=\"h\", hue=\"bank_account\", data=train)\n",
    "labels = [\n",
    "    \"Self employed\",\n",
    "    \"Government Dependent\",\n",
    "    \"Formally employed Private\",\n",
    "    \"Informally employed\",\n",
    "    \"Formally employed Government\",\n",
    "    \"Farming and Fishing\",\n",
    "    \"Remittance Dependent\",\n",
    "    \"Other Income\",\n",
    "    \"Dont Know/Refuse to answer\",\n",
    "    \"No Income\",\n",
    "]\n",
    "ax = plt.gca()\n",
    "ax.set_xticklabels(labels=labels, rotation=70);"
   ]
  },
  {
   "cell_type": "markdown",
   "id": "0dfbf759-16eb-47c8-8bb1-3864963bb4cb",
   "metadata": {},
   "source": [
    "we can see from the above graph the the people who are self employed and farming and fishing are those who are more likely to have bank account as compare to the those who work for the Government or other income. \n",
    "We can notice also those who don't have no Income and does who reuse to answer don't have high chance of having bank account."
   ]
  },
  {
   "cell_type": "code",
   "execution_count": 17,
   "id": "f9abb468-32ea-47be-9698-14dcf758352d",
   "metadata": {},
   "outputs": [
    {
     "data": {
      "text/plain": [
       "<AxesSubplot:xlabel='location_type', ylabel='count'>"
      ]
     },
     "execution_count": 17,
     "metadata": {},
     "output_type": "execute_result"
    },
    {
     "data": {
      "image/png": "[encoded data removed]",
      "text/plain": [
       "<Figure size 432x288 with 1 Axes>"
      ]
     },
     "metadata": {
      "needs_background": "light"
     },
     "output_type": "display_data"
    }
   ],
   "source": [
    "# Distribution of the location based on account\n",
    "sns.countplot(train.location_type, hue=\"bank_account\", data=train)"
   ]
  },
  {
   "cell_type": "markdown",
   "id": "71a4ca40-a079-451c-b949-0ecde4931621",
   "metadata": {
    "tags": []
   },
   "source": [
    "We can see that people in Urban area is have more chance to have bank_account than those who are in Rural area although we can see also the number people in Rural area is higher."
   ]
  },
  {
   "cell_type": "code",
   "execution_count": 18,
   "id": "7b7a9feb-2662-4d08-9730-fcadea407ab3",
   "metadata": {},
   "outputs": [
    {
     "data": {
      "text/plain": [
       "<AxesSubplot:xlabel='household_size', ylabel='count'>"
      ]
     },
     "execution_count": 18,
     "metadata": {},
     "output_type": "execute_result"
    },
    {
     "data": {
      "image/png": "[encoded data removed]",
      "text/plain": [
       "<Figure size 432x288 with 1 Axes>"
      ]
     },
     "metadata": {
      "needs_background": "light"
     },
     "output_type": "display_data"
    }
   ],
   "source": [
    "# Distirbution of the household_size\n",
    "sns.countplot(train.household_size, hue=\"bank_account\", data=train)"
   ]
  },
  {
   "cell_type": "markdown",
   "id": "1b98c1d1-c5ee-4e39-83c1-92c166a588ee",
   "metadata": {},
   "source": [
    "## How many people have cellphone"
   ]
  },
  {
   "cell_type": "code",
   "execution_count": 19,
   "id": "1fc32588-7913-4a2c-b6a2-3c88fe0a7bbc",
   "metadata": {},
   "outputs": [
    {
     "data": {
      "text/plain": [
       "17454"
      ]
     },
     "execution_count": 19,
     "metadata": {},
     "output_type": "execute_result"
    }
   ],
   "source": [
    "train.cellphone_access.value_counts()[0]"
   ]
  },
  {
   "cell_type": "markdown",
   "id": "2353aafb-3d49-4f6b-bfdc-25fd48bbb9ea",
   "metadata": {},
   "source": [
    "we can see that the number of people who have cellphone access is 17454 which is more than the half which make more sense in this case"
   ]
  },
  {
   "cell_type": "markdown",
   "id": "636107a5-a82a-4bc1-ad7a-faef955c70ac",
   "metadata": {},
   "source": [
    "### How many types of education do the dataset has?"
   ]
  },
  {
   "cell_type": "code",
   "execution_count": 20,
   "id": "a5cb5c13-4042-413c-96b9-3b8b89ae0db4",
   "metadata": {},
   "outputs": [
    {
     "data": {
      "text/plain": [
       "array(['Secondary education', 'No formal education',\n",
       "       'Vocational/Specialised training', 'Primary education',\n",
       "       'Tertiary education', 'Other/Dont know/RTA'], dtype=object)"
      ]
     },
     "execution_count": 20,
     "metadata": {},
     "output_type": "execute_result"
    }
   ],
   "source": [
    "train.education_level.unique()"
   ]
  },
  {
   "cell_type": "code",
   "execution_count": 21,
   "id": "4679b658-6782-416f-87d2-6e9d827ef36c",
   "metadata": {},
   "outputs": [
    {
     "data": {
      "image/png": "[encoded data removed]",
      "text/plain": [
       "<Figure size 432x288 with 1 Axes>"
      ]
     },
     "metadata": {
      "needs_background": "light"
     },
     "output_type": "display_data"
    }
   ],
   "source": [
    "sns.countplot(train.education_level, hue=\"bank_account\", data=train)\n",
    "labels = [\n",
    "    \"Secondary education\",\n",
    "    \"No formal education\",\n",
    "    \"Vocational/Specialised training\",\n",
    "    \"Primary education\",\n",
    "    \"Tertiary education\",\n",
    "    \"Other/Dont know/RTA\",\n",
    "]\n",
    "ax = plt.gca()\n",
    "ax.set_xticklabels(labels=labels, rotation=50);"
   ]
  },
  {
   "cell_type": "markdown",
   "id": "cc5cb797-52ab-42cd-955d-b300d171bca2",
   "metadata": {},
   "source": [
    "we can see that the vocational/ specialised training is the majority in this case and we have few people with No formal education"
   ]
  },
  {
   "cell_type": "code",
   "execution_count": 22,
   "id": "a75da0e6-bb56-4fd5-bf2c-b71c75d5f522",
   "metadata": {},
   "outputs": [
    {
     "data": {
      "text/plain": [
       "Married/Living together    10749\n",
       "Single/Never Married        7983\n",
       "Widowed                     2708\n",
       "Divorced/Seperated          2076\n",
       "Dont know                      8\n",
       "Name: marital_status, dtype: int64"
      ]
     },
     "execution_count": 22,
     "metadata": {},
     "output_type": "execute_result"
    }
   ],
   "source": [
    "train.marital_status.value_counts()"
   ]
  },
  {
   "cell_type": "code",
   "execution_count": 23,
   "id": "375dda02-2de1-41a9-a377-b4c217cc9dd2",
   "metadata": {},
   "outputs": [
    {
     "data": {
      "image/png": "[encoded data removed]",
      "text/plain": [
       "<Figure size 432x288 with 1 Axes>"
      ]
     },
     "metadata": {
      "needs_background": "light"
     },
     "output_type": "display_data"
    }
   ],
   "source": [
    "sns.countplot(train.marital_status, hue=\"bank_account\", data=train)\n",
    "labels = [\n",
    "    \"Married/Living together\",\n",
    "    \"Widowed\",\n",
    "    \"Single/Never Married\",\n",
    "    \"Divorced/Seperated\",\n",
    "    \"Dont know\",\n",
    "]\n",
    "ax = plt.gca()\n",
    "ax.set_xticklabels(labels=labels, rotation=50);"
   ]
  },
  {
   "cell_type": "markdown",
   "id": "ea4bd304-8f9b-4a11-a9bf-e9bfdf096492",
   "metadata": {},
   "source": [
    "This shows that people who are married and living together are more likely to have a bank account as compare to ther slike single or divorced"
   ]
  },
  {
   "cell_type": "code",
   "execution_count": 97,
   "id": "6f073085-0f37-4cae-8e28-dc0c244b6411",
   "metadata": {},
   "outputs": [
    {
     "data": {
      "image/png": "[encoded data removed]",
      "text/plain": [
       "<Figure size 864x432 with 3 Axes>"
      ]
     },
     "metadata": {},
     "output_type": "display_data"
    }
   ],
   "source": [
    "fig, (ax1, ax2, ax3) = plt.subplots(1, 3,figsize = (12, 6))\n",
    "fig.tight_layout(pad = 3)\n",
    "\n",
    "sns.countplot(x = 'location_type', hue = 'gender_of_respondent', data = train, ax = ax1)\n",
    "ax1.set_title(\"Male and Female count in different location type\")\n",
    "ax1.set_xlabel(\"Location Type\")\n",
    "ax1.set_ylabel(\"Count\")\n",
    "\n",
    "# sns.countplot(x = 'cellphone_access', hue = 'location_type', data = data_train, ax = ax2)\n",
    "cellphone = ['Yes', 'No']\n",
    "cellphone_access = train['cellphone_access'].value_counts()\n",
    "ax2.pie(cellphone_access, labels = cellphone, autopct='%1.2f%%', normalize = True)\n",
    "ax2.set_title(\"Cellphone access in different location type\")\n",
    "ax2.set_xlabel(\"Cellphone Access\")\n",
    "ax2.set_ylabel(\"Count\")\n",
    "\n",
    "sns.countplot(x = 'gender_of_respondent', hue = 'cellphone_access', data = train, ax = ax3)\n",
    "ax3.set_title(\"Total count of male and female having cellphone\")\n",
    "ax3.set_xlabel(\"Gender\")\n",
    "ax3.set_ylabel(\"Count\");"
   ]
  },
  {
   "cell_type": "code",
   "execution_count": 25,
   "id": "4dd91242-c9f6-4f53-b13e-6b2529c117d7",
   "metadata": {},
   "outputs": [
    {
     "data": {
      "image/png": "[encoded data removed]",
      "text/plain": [
       "<Figure size 576x360 with 1 Axes>"
      ]
     },
     "metadata": {
      "needs_background": "light"
     },
     "output_type": "display_data"
    }
   ],
   "source": [
    "plt.figure(figsize = (8, 5))\n",
    "sns.boxplot(x = 'location_type', y = 'household_size', data = train, )\n",
    "plt.title(\"Total male and female in a household according to location type\")\n",
    "plt.xlabel(\"Location Type\")\n",
    "plt.ylabel(\"Household Size\");"
   ]
  },
  {
   "cell_type": "code",
   "execution_count": 26,
   "id": "834f6427-4b9b-4e78-a8b8-9673463c5fcb",
   "metadata": {},
   "outputs": [
    {
     "data": {
      "image/png": "[encoded data removed]",
      "text/plain": [
       "<Figure size 648x432 with 1 Axes>"
      ]
     },
     "metadata": {
      "needs_background": "light"
     },
     "output_type": "display_data"
    }
   ],
   "source": [
    "plt.figure(figsize = (9, 6))\n",
    "sns.boxplot(x = 'location_type', y = 'household_size',hue = 'gender_of_respondent', data = train)\n",
    "plt.title(\"Household size according to location type\")\n",
    "plt.xlabel(\"Location Type\")\n",
    "plt.ylabel(\"Household Size\");"
   ]
  },
  {
   "cell_type": "code",
   "execution_count": 27,
   "id": "0b8cf017-2915-47bf-bbc2-8a180641e3cd",
   "metadata": {},
   "outputs": [
    {
     "data": {
      "text/html": [
       "<div>\n",
       "<style scoped>\n",
       "    .dataframe tbody tr th:only-of-type {\n",
       "        vertical-align: middle;\n",
       "    }\n",
       "\n",
       "    .dataframe tbody tr th {\n",
       "        vertical-align: top;\n",
       "    }\n",
       "\n",
       "    .dataframe thead th {\n",
       "        text-align: right;\n",
       "    }\n",
       "</style>\n",
       "<table border=\"1\" class=\"dataframe\">\n",
       "  <thead>\n",
       "    <tr style=\"text-align: right;\">\n",
       "      <th></th>\n",
       "      <th>country</th>\n",
       "      <th>year</th>\n",
       "      <th>uniqueid</th>\n",
       "      <th>bank_account</th>\n",
       "      <th>location_type</th>\n",
       "      <th>cellphone_access</th>\n",
       "      <th>household_size</th>\n",
       "      <th>age_of_respondent</th>\n",
       "      <th>gender_of_respondent</th>\n",
       "      <th>relationship_with_head</th>\n",
       "      <th>marital_status</th>\n",
       "      <th>education_level</th>\n",
       "      <th>job_type</th>\n",
       "    </tr>\n",
       "  </thead>\n",
       "  <tbody>\n",
       "    <tr>\n",
       "      <th>0</th>\n",
       "      <td>Kenya</td>\n",
       "      <td>2018</td>\n",
       "      <td>uniqueid_1</td>\n",
       "      <td>Yes</td>\n",
       "      <td>Rural</td>\n",
       "      <td>Yes</td>\n",
       "      <td>3</td>\n",
       "      <td>24</td>\n",
       "      <td>Female</td>\n",
       "      <td>Spouse</td>\n",
       "      <td>Married/Living together</td>\n",
       "      <td>Secondary education</td>\n",
       "      <td>Self employed</td>\n",
       "    </tr>\n",
       "    <tr>\n",
       "      <th>1</th>\n",
       "      <td>Kenya</td>\n",
       "      <td>2018</td>\n",
       "      <td>uniqueid_2</td>\n",
       "      <td>No</td>\n",
       "      <td>Rural</td>\n",
       "      <td>No</td>\n",
       "      <td>5</td>\n",
       "      <td>70</td>\n",
       "      <td>Female</td>\n",
       "      <td>Head of Household</td>\n",
       "      <td>Widowed</td>\n",
       "      <td>No formal education</td>\n",
       "      <td>Government Dependent</td>\n",
       "    </tr>\n",
       "    <tr>\n",
       "      <th>2</th>\n",
       "      <td>Kenya</td>\n",
       "      <td>2018</td>\n",
       "      <td>uniqueid_3</td>\n",
       "      <td>Yes</td>\n",
       "      <td>Urban</td>\n",
       "      <td>Yes</td>\n",
       "      <td>5</td>\n",
       "      <td>26</td>\n",
       "      <td>Male</td>\n",
       "      <td>Other relative</td>\n",
       "      <td>Single/Never Married</td>\n",
       "      <td>Vocational/Specialised training</td>\n",
       "      <td>Self employed</td>\n",
       "    </tr>\n",
       "    <tr>\n",
       "      <th>3</th>\n",
       "      <td>Kenya</td>\n",
       "      <td>2018</td>\n",
       "      <td>uniqueid_4</td>\n",
       "      <td>No</td>\n",
       "      <td>Rural</td>\n",
       "      <td>Yes</td>\n",
       "      <td>5</td>\n",
       "      <td>34</td>\n",
       "      <td>Female</td>\n",
       "      <td>Head of Household</td>\n",
       "      <td>Married/Living together</td>\n",
       "      <td>Primary education</td>\n",
       "      <td>Formally employed Private</td>\n",
       "    </tr>\n",
       "    <tr>\n",
       "      <th>4</th>\n",
       "      <td>Kenya</td>\n",
       "      <td>2018</td>\n",
       "      <td>uniqueid_5</td>\n",
       "      <td>No</td>\n",
       "      <td>Urban</td>\n",
       "      <td>No</td>\n",
       "      <td>8</td>\n",
       "      <td>26</td>\n",
       "      <td>Male</td>\n",
       "      <td>Child</td>\n",
       "      <td>Single/Never Married</td>\n",
       "      <td>Primary education</td>\n",
       "      <td>Informally employed</td>\n",
       "    </tr>\n",
       "  </tbody>\n",
       "</table>\n",
       "</div>"
      ],
      "text/plain": [
       "  country  year    uniqueid bank_account location_type cellphone_access  \\\n",
       "0   Kenya  2018  uniqueid_1          Yes         Rural              Yes   \n",
       "1   Kenya  2018  uniqueid_2           No         Rural               No   \n",
       "2   Kenya  2018  uniqueid_3          Yes         Urban              Yes   \n",
       "3   Kenya  2018  uniqueid_4           No         Rural              Yes   \n",
       "4   Kenya  2018  uniqueid_5           No         Urban               No   \n",
       "\n",
       "   household_size  age_of_respondent gender_of_respondent  \\\n",
       "0               3                 24               Female   \n",
       "1               5                 70               Female   \n",
       "2               5                 26                 Male   \n",
       "3               5                 34               Female   \n",
       "4               8                 26                 Male   \n",
       "\n",
       "  relationship_with_head           marital_status  \\\n",
       "0                 Spouse  Married/Living together   \n",
       "1      Head of Household                  Widowed   \n",
       "2         Other relative     Single/Never Married   \n",
       "3      Head of Household  Married/Living together   \n",
       "4                  Child     Single/Never Married   \n",
       "\n",
       "                   education_level                   job_type  \n",
       "0              Secondary education              Self employed  \n",
       "1              No formal education       Government Dependent  \n",
       "2  Vocational/Specialised training              Self employed  \n",
       "3                Primary education  Formally employed Private  \n",
       "4                Primary education        Informally employed  "
      ]
     },
     "execution_count": 27,
     "metadata": {},
     "output_type": "execute_result"
    }
   ],
   "source": [
    "train.head()"
   ]
  },
  {
   "cell_type": "code",
   "execution_count": 28,
   "id": "d5e05536-080a-4dec-aad5-df271ae386c6",
   "metadata": {},
   "outputs": [],
   "source": [
    "# Convert target label to numerical Data\n",
    "le = LabelEncoder()\n",
    "train[\"bank_account\"] = le.fit_transform(train[\"bank_account\"])\n",
    "\n",
    "# Separate training features from target\n",
    "X_train = train.drop([\"bank_account\"], axis=1)\n",
    "y_train = train[\"bank_account\"]"
   ]
  },
  {
   "cell_type": "code",
   "execution_count": 29,
   "id": "28bcb2dc-1b75-4e8c-9f6d-03181c97cd17",
   "metadata": {},
   "outputs": [],
   "source": [
    "train[\"country+location\"] = train[\"country\"] + train[\"location_type\"]\n",
    "train[\"location+cellphone_access\"] = train[\"location_type\"] + train[\"cellphone_access\"]\n",
    "train[\"gender+cellphone_access\"] = (\n",
    "    train[\"gender_of_respondent\"] + train[\"cellphone_access\"]\n",
    ")\n",
    "train[\"country+cellphone_access\"] = train[\"country\"] + train[\"cellphone_access\"]"
   ]
  },
  {
   "cell_type": "code",
   "execution_count": 30,
   "id": "6b700ddd-265f-4b48-8940-d7f7b3174f12",
   "metadata": {},
   "outputs": [],
   "source": [
    "test[\"country+location\"] = test[\"country\"] + test[\"location_type\"]\n",
    "test[\"location+cellphone_access\"] = test[\"location_type\"] + test[\"cellphone_access\"]\n",
    "test[\"gender+cellphone_access\"] = (\n",
    "    test[\"gender_of_respondent\"] + test[\"cellphone_access\"]\n",
    ")\n",
    "test[\"country+cellphone_access\"] = test[\"country\"] + test[\"cellphone_access\"]"
   ]
  },
  {
   "cell_type": "code",
   "execution_count": 31,
   "id": "71b2c91b-a401-4f36-8c6f-9ae4eeb695f8",
   "metadata": {},
   "outputs": [],
   "source": [
    "df = train.drop([\"uniqueid\", \"year\"], 1)"
   ]
  },
  {
   "cell_type": "code",
   "execution_count": 32,
   "id": "3163c57a-86fe-4b51-adbf-d7f053eacfe2",
   "metadata": {},
   "outputs": [],
   "source": [
    "col_test = test.uniqueid\n",
    "test = test.drop(\"uniqueid\", 1)"
   ]
  },
  {
   "cell_type": "code",
   "execution_count": 33,
   "id": "86811650-d1a5-4370-a058-6e0ea0ed8d17",
   "metadata": {},
   "outputs": [
    {
     "data": {
      "text/html": [
       "<div>\n",
       "<style scoped>\n",
       "    .dataframe tbody tr th:only-of-type {\n",
       "        vertical-align: middle;\n",
       "    }\n",
       "\n",
       "    .dataframe tbody tr th {\n",
       "        vertical-align: top;\n",
       "    }\n",
       "\n",
       "    .dataframe thead th {\n",
       "        text-align: right;\n",
       "    }\n",
       "</style>\n",
       "<table border=\"1\" class=\"dataframe\">\n",
       "  <thead>\n",
       "    <tr style=\"text-align: right;\">\n",
       "      <th></th>\n",
       "      <th>country</th>\n",
       "      <th>year</th>\n",
       "      <th>location_type</th>\n",
       "      <th>cellphone_access</th>\n",
       "      <th>household_size</th>\n",
       "      <th>age_of_respondent</th>\n",
       "      <th>gender_of_respondent</th>\n",
       "      <th>relationship_with_head</th>\n",
       "      <th>marital_status</th>\n",
       "      <th>education_level</th>\n",
       "      <th>job_type</th>\n",
       "      <th>country+location</th>\n",
       "      <th>location+cellphone_access</th>\n",
       "      <th>gender+cellphone_access</th>\n",
       "      <th>country+cellphone_access</th>\n",
       "    </tr>\n",
       "  </thead>\n",
       "  <tbody>\n",
       "    <tr>\n",
       "      <th>0</th>\n",
       "      <td>Kenya</td>\n",
       "      <td>2018</td>\n",
       "      <td>Urban</td>\n",
       "      <td>Yes</td>\n",
       "      <td>3</td>\n",
       "      <td>30</td>\n",
       "      <td>Male</td>\n",
       "      <td>Head of Household</td>\n",
       "      <td>Married/Living together</td>\n",
       "      <td>Secondary education</td>\n",
       "      <td>Formally employed Government</td>\n",
       "      <td>KenyaUrban</td>\n",
       "      <td>UrbanYes</td>\n",
       "      <td>MaleYes</td>\n",
       "      <td>KenyaYes</td>\n",
       "    </tr>\n",
       "    <tr>\n",
       "      <th>1</th>\n",
       "      <td>Kenya</td>\n",
       "      <td>2018</td>\n",
       "      <td>Urban</td>\n",
       "      <td>Yes</td>\n",
       "      <td>7</td>\n",
       "      <td>51</td>\n",
       "      <td>Male</td>\n",
       "      <td>Head of Household</td>\n",
       "      <td>Married/Living together</td>\n",
       "      <td>Vocational/Specialised training</td>\n",
       "      <td>Formally employed Private</td>\n",
       "      <td>KenyaUrban</td>\n",
       "      <td>UrbanYes</td>\n",
       "      <td>MaleYes</td>\n",
       "      <td>KenyaYes</td>\n",
       "    </tr>\n",
       "    <tr>\n",
       "      <th>2</th>\n",
       "      <td>Kenya</td>\n",
       "      <td>2018</td>\n",
       "      <td>Rural</td>\n",
       "      <td>No</td>\n",
       "      <td>3</td>\n",
       "      <td>77</td>\n",
       "      <td>Female</td>\n",
       "      <td>Parent</td>\n",
       "      <td>Married/Living together</td>\n",
       "      <td>No formal education</td>\n",
       "      <td>Remittance Dependent</td>\n",
       "      <td>KenyaRural</td>\n",
       "      <td>RuralNo</td>\n",
       "      <td>FemaleNo</td>\n",
       "      <td>KenyaNo</td>\n",
       "    </tr>\n",
       "    <tr>\n",
       "      <th>3</th>\n",
       "      <td>Kenya</td>\n",
       "      <td>2018</td>\n",
       "      <td>Rural</td>\n",
       "      <td>No</td>\n",
       "      <td>6</td>\n",
       "      <td>39</td>\n",
       "      <td>Female</td>\n",
       "      <td>Head of Household</td>\n",
       "      <td>Married/Living together</td>\n",
       "      <td>Primary education</td>\n",
       "      <td>Remittance Dependent</td>\n",
       "      <td>KenyaRural</td>\n",
       "      <td>RuralNo</td>\n",
       "      <td>FemaleNo</td>\n",
       "      <td>KenyaNo</td>\n",
       "    </tr>\n",
       "    <tr>\n",
       "      <th>4</th>\n",
       "      <td>Kenya</td>\n",
       "      <td>2018</td>\n",
       "      <td>Urban</td>\n",
       "      <td>No</td>\n",
       "      <td>3</td>\n",
       "      <td>16</td>\n",
       "      <td>Male</td>\n",
       "      <td>Child</td>\n",
       "      <td>Single/Never Married</td>\n",
       "      <td>Secondary education</td>\n",
       "      <td>Remittance Dependent</td>\n",
       "      <td>KenyaUrban</td>\n",
       "      <td>UrbanNo</td>\n",
       "      <td>MaleNo</td>\n",
       "      <td>KenyaNo</td>\n",
       "    </tr>\n",
       "  </tbody>\n",
       "</table>\n",
       "</div>"
      ],
      "text/plain": [
       "  country  year location_type cellphone_access  household_size  \\\n",
       "0   Kenya  2018         Urban              Yes               3   \n",
       "1   Kenya  2018         Urban              Yes               7   \n",
       "2   Kenya  2018         Rural               No               3   \n",
       "3   Kenya  2018         Rural               No               6   \n",
       "4   Kenya  2018         Urban               No               3   \n",
       "\n",
       "   age_of_respondent gender_of_respondent relationship_with_head  \\\n",
       "0                 30                 Male      Head of Household   \n",
       "1                 51                 Male      Head of Household   \n",
       "2                 77               Female                 Parent   \n",
       "3                 39               Female      Head of Household   \n",
       "4                 16                 Male                  Child   \n",
       "\n",
       "            marital_status                  education_level  \\\n",
       "0  Married/Living together              Secondary education   \n",
       "1  Married/Living together  Vocational/Specialised training   \n",
       "2  Married/Living together              No formal education   \n",
       "3  Married/Living together                Primary education   \n",
       "4     Single/Never Married              Secondary education   \n",
       "\n",
       "                       job_type country+location location+cellphone_access  \\\n",
       "0  Formally employed Government       KenyaUrban                  UrbanYes   \n",
       "1     Formally employed Private       KenyaUrban                  UrbanYes   \n",
       "2          Remittance Dependent       KenyaRural                   RuralNo   \n",
       "3          Remittance Dependent       KenyaRural                   RuralNo   \n",
       "4          Remittance Dependent       KenyaUrban                   UrbanNo   \n",
       "\n",
       "  gender+cellphone_access country+cellphone_access  \n",
       "0                 MaleYes                 KenyaYes  \n",
       "1                 MaleYes                 KenyaYes  \n",
       "2                FemaleNo                  KenyaNo  \n",
       "3                FemaleNo                  KenyaNo  \n",
       "4                  MaleNo                  KenyaNo  "
      ]
     },
     "execution_count": 33,
     "metadata": {},
     "output_type": "execute_result"
    }
   ],
   "source": [
    "test.head()"
   ]
  },
  {
   "cell_type": "code",
   "execution_count": 34,
   "id": "7600e5c0-9504-4bff-ae0f-950255e0fed7",
   "metadata": {},
   "outputs": [
    {
     "data": {
      "text/html": [
       "<div>\n",
       "<style scoped>\n",
       "    .dataframe tbody tr th:only-of-type {\n",
       "        vertical-align: middle;\n",
       "    }\n",
       "\n",
       "    .dataframe tbody tr th {\n",
       "        vertical-align: top;\n",
       "    }\n",
       "\n",
       "    .dataframe thead th {\n",
       "        text-align: right;\n",
       "    }\n",
       "</style>\n",
       "<table border=\"1\" class=\"dataframe\">\n",
       "  <thead>\n",
       "    <tr style=\"text-align: right;\">\n",
       "      <th></th>\n",
       "      <th>country</th>\n",
       "      <th>bank_account</th>\n",
       "      <th>location_type</th>\n",
       "      <th>cellphone_access</th>\n",
       "      <th>household_size</th>\n",
       "      <th>age_of_respondent</th>\n",
       "      <th>gender_of_respondent</th>\n",
       "      <th>relationship_with_head</th>\n",
       "      <th>marital_status</th>\n",
       "      <th>education_level</th>\n",
       "      <th>job_type</th>\n",
       "      <th>country+location</th>\n",
       "      <th>location+cellphone_access</th>\n",
       "      <th>gender+cellphone_access</th>\n",
       "      <th>country+cellphone_access</th>\n",
       "    </tr>\n",
       "  </thead>\n",
       "  <tbody>\n",
       "    <tr>\n",
       "      <th>0</th>\n",
       "      <td>Kenya</td>\n",
       "      <td>1</td>\n",
       "      <td>Rural</td>\n",
       "      <td>Yes</td>\n",
       "      <td>3</td>\n",
       "      <td>24</td>\n",
       "      <td>Female</td>\n",
       "      <td>Spouse</td>\n",
       "      <td>Married/Living together</td>\n",
       "      <td>Secondary education</td>\n",
       "      <td>Self employed</td>\n",
       "      <td>KenyaRural</td>\n",
       "      <td>RuralYes</td>\n",
       "      <td>FemaleYes</td>\n",
       "      <td>KenyaYes</td>\n",
       "    </tr>\n",
       "    <tr>\n",
       "      <th>1</th>\n",
       "      <td>Kenya</td>\n",
       "      <td>0</td>\n",
       "      <td>Rural</td>\n",
       "      <td>No</td>\n",
       "      <td>5</td>\n",
       "      <td>70</td>\n",
       "      <td>Female</td>\n",
       "      <td>Head of Household</td>\n",
       "      <td>Widowed</td>\n",
       "      <td>No formal education</td>\n",
       "      <td>Government Dependent</td>\n",
       "      <td>KenyaRural</td>\n",
       "      <td>RuralNo</td>\n",
       "      <td>FemaleNo</td>\n",
       "      <td>KenyaNo</td>\n",
       "    </tr>\n",
       "    <tr>\n",
       "      <th>2</th>\n",
       "      <td>Kenya</td>\n",
       "      <td>1</td>\n",
       "      <td>Urban</td>\n",
       "      <td>Yes</td>\n",
       "      <td>5</td>\n",
       "      <td>26</td>\n",
       "      <td>Male</td>\n",
       "      <td>Other relative</td>\n",
       "      <td>Single/Never Married</td>\n",
       "      <td>Vocational/Specialised training</td>\n",
       "      <td>Self employed</td>\n",
       "      <td>KenyaUrban</td>\n",
       "      <td>UrbanYes</td>\n",
       "      <td>MaleYes</td>\n",
       "      <td>KenyaYes</td>\n",
       "    </tr>\n",
       "    <tr>\n",
       "      <th>3</th>\n",
       "      <td>Kenya</td>\n",
       "      <td>0</td>\n",
       "      <td>Rural</td>\n",
       "      <td>Yes</td>\n",
       "      <td>5</td>\n",
       "      <td>34</td>\n",
       "      <td>Female</td>\n",
       "      <td>Head of Household</td>\n",
       "      <td>Married/Living together</td>\n",
       "      <td>Primary education</td>\n",
       "      <td>Formally employed Private</td>\n",
       "      <td>KenyaRural</td>\n",
       "      <td>RuralYes</td>\n",
       "      <td>FemaleYes</td>\n",
       "      <td>KenyaYes</td>\n",
       "    </tr>\n",
       "    <tr>\n",
       "      <th>4</th>\n",
       "      <td>Kenya</td>\n",
       "      <td>0</td>\n",
       "      <td>Urban</td>\n",
       "      <td>No</td>\n",
       "      <td>8</td>\n",
       "      <td>26</td>\n",
       "      <td>Male</td>\n",
       "      <td>Child</td>\n",
       "      <td>Single/Never Married</td>\n",
       "      <td>Primary education</td>\n",
       "      <td>Informally employed</td>\n",
       "      <td>KenyaUrban</td>\n",
       "      <td>UrbanNo</td>\n",
       "      <td>MaleNo</td>\n",
       "      <td>KenyaNo</td>\n",
       "    </tr>\n",
       "  </tbody>\n",
       "</table>\n",
       "</div>"
      ],
      "text/plain": [
       "  country  bank_account location_type cellphone_access  household_size  \\\n",
       "0   Kenya             1         Rural              Yes               3   \n",
       "1   Kenya             0         Rural               No               5   \n",
       "2   Kenya             1         Urban              Yes               5   \n",
       "3   Kenya             0         Rural              Yes               5   \n",
       "4   Kenya             0         Urban               No               8   \n",
       "\n",
       "   age_of_respondent gender_of_respondent relationship_with_head  \\\n",
       "0                 24               Female                 Spouse   \n",
       "1                 70               Female      Head of Household   \n",
       "2                 26                 Male         Other relative   \n",
       "3                 34               Female      Head of Household   \n",
       "4                 26                 Male                  Child   \n",
       "\n",
       "            marital_status                  education_level  \\\n",
       "0  Married/Living together              Secondary education   \n",
       "1                  Widowed              No formal education   \n",
       "2     Single/Never Married  Vocational/Specialised training   \n",
       "3  Married/Living together                Primary education   \n",
       "4     Single/Never Married                Primary education   \n",
       "\n",
       "                    job_type country+location location+cellphone_access  \\\n",
       "0              Self employed       KenyaRural                  RuralYes   \n",
       "1       Government Dependent       KenyaRural                   RuralNo   \n",
       "2              Self employed       KenyaUrban                  UrbanYes   \n",
       "3  Formally employed Private       KenyaRural                  RuralYes   \n",
       "4        Informally employed       KenyaUrban                   UrbanNo   \n",
       "\n",
       "  gender+cellphone_access country+cellphone_access  \n",
       "0               FemaleYes                 KenyaYes  \n",
       "1                FemaleNo                  KenyaNo  \n",
       "2                 MaleYes                 KenyaYes  \n",
       "3               FemaleYes                 KenyaYes  \n",
       "4                  MaleNo                  KenyaNo  "
      ]
     },
     "execution_count": 34,
     "metadata": {},
     "output_type": "execute_result"
    }
   ],
   "source": [
    "df.head()"
   ]
  },
  {
   "cell_type": "code",
   "execution_count": 35,
   "id": "f80bb42d-15e7-452b-8e8b-ded6935b652a",
   "metadata": {},
   "outputs": [
    {
     "data": {
      "text/html": [
       "<div>\n",
       "<style scoped>\n",
       "    .dataframe tbody tr th:only-of-type {\n",
       "        vertical-align: middle;\n",
       "    }\n",
       "\n",
       "    .dataframe tbody tr th {\n",
       "        vertical-align: top;\n",
       "    }\n",
       "\n",
       "    .dataframe thead th {\n",
       "        text-align: right;\n",
       "    }\n",
       "</style>\n",
       "<table border=\"1\" class=\"dataframe\">\n",
       "  <thead>\n",
       "    <tr style=\"text-align: right;\">\n",
       "      <th></th>\n",
       "      <th>bank_account</th>\n",
       "      <th>household_size</th>\n",
       "      <th>age_of_respondent</th>\n",
       "      <th>country_Kenya</th>\n",
       "      <th>country_Rwanda</th>\n",
       "      <th>country_Tanzania</th>\n",
       "      <th>country_Uganda</th>\n",
       "      <th>location_type_Rural</th>\n",
       "      <th>location_type_Urban</th>\n",
       "      <th>cellphone_access_No</th>\n",
       "      <th>...</th>\n",
       "      <th>gender+cellphone_access_MaleNo</th>\n",
       "      <th>gender+cellphone_access_MaleYes</th>\n",
       "      <th>country+cellphone_access_KenyaNo</th>\n",
       "      <th>country+cellphone_access_KenyaYes</th>\n",
       "      <th>country+cellphone_access_RwandaNo</th>\n",
       "      <th>country+cellphone_access_RwandaYes</th>\n",
       "      <th>country+cellphone_access_TanzaniaNo</th>\n",
       "      <th>country+cellphone_access_TanzaniaYes</th>\n",
       "      <th>country+cellphone_access_UgandaNo</th>\n",
       "      <th>country+cellphone_access_UgandaYes</th>\n",
       "    </tr>\n",
       "  </thead>\n",
       "  <tbody>\n",
       "    <tr>\n",
       "      <th>0</th>\n",
       "      <td>1</td>\n",
       "      <td>3</td>\n",
       "      <td>24</td>\n",
       "      <td>1</td>\n",
       "      <td>0</td>\n",
       "      <td>0</td>\n",
       "      <td>0</td>\n",
       "      <td>1</td>\n",
       "      <td>0</td>\n",
       "      <td>0</td>\n",
       "      <td>...</td>\n",
       "      <td>0</td>\n",
       "      <td>0</td>\n",
       "      <td>0</td>\n",
       "      <td>1</td>\n",
       "      <td>0</td>\n",
       "      <td>0</td>\n",
       "      <td>0</td>\n",
       "      <td>0</td>\n",
       "      <td>0</td>\n",
       "      <td>0</td>\n",
       "    </tr>\n",
       "    <tr>\n",
       "      <th>1</th>\n",
       "      <td>0</td>\n",
       "      <td>5</td>\n",
       "      <td>70</td>\n",
       "      <td>1</td>\n",
       "      <td>0</td>\n",
       "      <td>0</td>\n",
       "      <td>0</td>\n",
       "      <td>1</td>\n",
       "      <td>0</td>\n",
       "      <td>1</td>\n",
       "      <td>...</td>\n",
       "      <td>0</td>\n",
       "      <td>0</td>\n",
       "      <td>1</td>\n",
       "      <td>0</td>\n",
       "      <td>0</td>\n",
       "      <td>0</td>\n",
       "      <td>0</td>\n",
       "      <td>0</td>\n",
       "      <td>0</td>\n",
       "      <td>0</td>\n",
       "    </tr>\n",
       "    <tr>\n",
       "      <th>2</th>\n",
       "      <td>1</td>\n",
       "      <td>5</td>\n",
       "      <td>26</td>\n",
       "      <td>1</td>\n",
       "      <td>0</td>\n",
       "      <td>0</td>\n",
       "      <td>0</td>\n",
       "      <td>0</td>\n",
       "      <td>1</td>\n",
       "      <td>0</td>\n",
       "      <td>...</td>\n",
       "      <td>0</td>\n",
       "      <td>1</td>\n",
       "      <td>0</td>\n",
       "      <td>1</td>\n",
       "      <td>0</td>\n",
       "      <td>0</td>\n",
       "      <td>0</td>\n",
       "      <td>0</td>\n",
       "      <td>0</td>\n",
       "      <td>0</td>\n",
       "    </tr>\n",
       "    <tr>\n",
       "      <th>3</th>\n",
       "      <td>0</td>\n",
       "      <td>5</td>\n",
       "      <td>34</td>\n",
       "      <td>1</td>\n",
       "      <td>0</td>\n",
       "      <td>0</td>\n",
       "      <td>0</td>\n",
       "      <td>1</td>\n",
       "      <td>0</td>\n",
       "      <td>0</td>\n",
       "      <td>...</td>\n",
       "      <td>0</td>\n",
       "      <td>0</td>\n",
       "      <td>0</td>\n",
       "      <td>1</td>\n",
       "      <td>0</td>\n",
       "      <td>0</td>\n",
       "      <td>0</td>\n",
       "      <td>0</td>\n",
       "      <td>0</td>\n",
       "      <td>0</td>\n",
       "    </tr>\n",
       "    <tr>\n",
       "      <th>4</th>\n",
       "      <td>0</td>\n",
       "      <td>8</td>\n",
       "      <td>26</td>\n",
       "      <td>1</td>\n",
       "      <td>0</td>\n",
       "      <td>0</td>\n",
       "      <td>0</td>\n",
       "      <td>0</td>\n",
       "      <td>1</td>\n",
       "      <td>1</td>\n",
       "      <td>...</td>\n",
       "      <td>1</td>\n",
       "      <td>0</td>\n",
       "      <td>1</td>\n",
       "      <td>0</td>\n",
       "      <td>0</td>\n",
       "      <td>0</td>\n",
       "      <td>0</td>\n",
       "      <td>0</td>\n",
       "      <td>0</td>\n",
       "      <td>0</td>\n",
       "    </tr>\n",
       "  </tbody>\n",
       "</table>\n",
       "<p>5 rows × 64 columns</p>\n",
       "</div>"
      ],
      "text/plain": [
       "   bank_account  household_size  age_of_respondent  country_Kenya  \\\n",
       "0             1               3                 24              1   \n",
       "1             0               5                 70              1   \n",
       "2             1               5                 26              1   \n",
       "3             0               5                 34              1   \n",
       "4             0               8                 26              1   \n",
       "\n",
       "   country_Rwanda  country_Tanzania  country_Uganda  location_type_Rural  \\\n",
       "0               0                 0               0                    1   \n",
       "1               0                 0               0                    1   \n",
       "2               0                 0               0                    0   \n",
       "3               0                 0               0                    1   \n",
       "4               0                 0               0                    0   \n",
       "\n",
       "   location_type_Urban  cellphone_access_No  ...  \\\n",
       "0                    0                    0  ...   \n",
       "1                    0                    1  ...   \n",
       "2                    1                    0  ...   \n",
       "3                    0                    0  ...   \n",
       "4                    1                    1  ...   \n",
       "\n",
       "   gender+cellphone_access_MaleNo  gender+cellphone_access_MaleYes  \\\n",
       "0                               0                                0   \n",
       "1                               0                                0   \n",
       "2                               0                                1   \n",
       "3                               0                                0   \n",
       "4                               1                                0   \n",
       "\n",
       "   country+cellphone_access_KenyaNo  country+cellphone_access_KenyaYes  \\\n",
       "0                                 0                                  1   \n",
       "1                                 1                                  0   \n",
       "2                                 0                                  1   \n",
       "3                                 0                                  1   \n",
       "4                                 1                                  0   \n",
       "\n",
       "   country+cellphone_access_RwandaNo  country+cellphone_access_RwandaYes  \\\n",
       "0                                  0                                   0   \n",
       "1                                  0                                   0   \n",
       "2                                  0                                   0   \n",
       "3                                  0                                   0   \n",
       "4                                  0                                   0   \n",
       "\n",
       "   country+cellphone_access_TanzaniaNo  country+cellphone_access_TanzaniaYes  \\\n",
       "0                                    0                                     0   \n",
       "1                                    0                                     0   \n",
       "2                                    0                                     0   \n",
       "3                                    0                                     0   \n",
       "4                                    0                                     0   \n",
       "\n",
       "   country+cellphone_access_UgandaNo  country+cellphone_access_UgandaYes  \n",
       "0                                  0                                   0  \n",
       "1                                  0                                   0  \n",
       "2                                  0                                   0  \n",
       "3                                  0                                   0  \n",
       "4                                  0                                   0  \n",
       "\n",
       "[5 rows x 64 columns]"
      ]
     },
     "execution_count": 35,
     "metadata": {},
     "output_type": "execute_result"
    }
   ],
   "source": [
    "df = pd.get_dummies(df)\n",
    "df.head()"
   ]
  },
  {
   "cell_type": "code",
   "execution_count": 36,
   "id": "f4e99345-4cc7-4296-8bb4-b192a4a8af5b",
   "metadata": {},
   "outputs": [],
   "source": [
    "test = pd.get_dummies(test)"
   ]
  },
  {
   "cell_type": "code",
   "execution_count": 37,
   "id": "f10439bd-9713-480b-9303-1f17a30509ad",
   "metadata": {},
   "outputs": [
    {
     "data": {
      "text/html": [
       "<style type=\"text/css\">\n",
       "#T_45b5b_row0_col1 {\n",
       "  width: 10em;\n",
       "  background: linear-gradient(90deg, #206ff2 9.8%, transparent 9.8%);\n",
       "}\n",
       "#T_45b5b_row0_col2 {\n",
       "  background-color: #fff5f0;\n",
       "  color: #000000;\n",
       "}\n",
       "#T_45b5b_row0_col5 {\n",
       "  background-color: #3b4cc0;\n",
       "  color: #f1f1f1;\n",
       "}\n",
       "#T_45b5b_row1_col1 {\n",
       "  width: 10em;\n",
       "  background: linear-gradient(90deg, #206ff2 100.0%, transparent 100.0%);\n",
       "}\n",
       "#T_45b5b_row1_col2 {\n",
       "  background-color: #67000d;\n",
       "  color: #f1f1f1;\n",
       "}\n",
       "#T_45b5b_row1_col5 {\n",
       "  background-color: #b40426;\n",
       "  color: #f1f1f1;\n",
       "}\n",
       "</style>\n",
       "<table id=\"T_45b5b\">\n",
       "  <thead>\n",
       "    <tr>\n",
       "      <th class=\"blank level0\" >&nbsp;</th>\n",
       "      <th id=\"T_45b5b_level0_col0\" class=\"col_heading level0 col0\" >count</th>\n",
       "      <th id=\"T_45b5b_level0_col1\" class=\"col_heading level0 col1\" >mean</th>\n",
       "      <th id=\"T_45b5b_level0_col2\" class=\"col_heading level0 col2\" >std</th>\n",
       "      <th id=\"T_45b5b_level0_col3\" class=\"col_heading level0 col3\" >min</th>\n",
       "      <th id=\"T_45b5b_level0_col4\" class=\"col_heading level0 col4\" >25%</th>\n",
       "      <th id=\"T_45b5b_level0_col5\" class=\"col_heading level0 col5\" >50%</th>\n",
       "      <th id=\"T_45b5b_level0_col6\" class=\"col_heading level0 col6\" >75%</th>\n",
       "      <th id=\"T_45b5b_level0_col7\" class=\"col_heading level0 col7\" >max</th>\n",
       "    </tr>\n",
       "  </thead>\n",
       "  <tbody>\n",
       "    <tr>\n",
       "      <th id=\"T_45b5b_level0_row0\" class=\"row_heading level0 row0\" >household_size</th>\n",
       "      <td id=\"T_45b5b_row0_col0\" class=\"data row0 col0\" >23524.000000</td>\n",
       "      <td id=\"T_45b5b_row0_col1\" class=\"data row0 col1\" >3.797483</td>\n",
       "      <td id=\"T_45b5b_row0_col2\" class=\"data row0 col2\" >2.227613</td>\n",
       "      <td id=\"T_45b5b_row0_col3\" class=\"data row0 col3\" >1.000000</td>\n",
       "      <td id=\"T_45b5b_row0_col4\" class=\"data row0 col4\" >2.000000</td>\n",
       "      <td id=\"T_45b5b_row0_col5\" class=\"data row0 col5\" >3.000000</td>\n",
       "      <td id=\"T_45b5b_row0_col6\" class=\"data row0 col6\" >5.000000</td>\n",
       "      <td id=\"T_45b5b_row0_col7\" class=\"data row0 col7\" >21.000000</td>\n",
       "    </tr>\n",
       "    <tr>\n",
       "      <th id=\"T_45b5b_level0_row1\" class=\"row_heading level0 row1\" >age_of_respondent</th>\n",
       "      <td id=\"T_45b5b_row1_col0\" class=\"data row1 col0\" >23524.000000</td>\n",
       "      <td id=\"T_45b5b_row1_col1\" class=\"data row1 col1\" >38.805220</td>\n",
       "      <td id=\"T_45b5b_row1_col2\" class=\"data row1 col2\" >16.520569</td>\n",
       "      <td id=\"T_45b5b_row1_col3\" class=\"data row1 col3\" >16.000000</td>\n",
       "      <td id=\"T_45b5b_row1_col4\" class=\"data row1 col4\" >26.000000</td>\n",
       "      <td id=\"T_45b5b_row1_col5\" class=\"data row1 col5\" >35.000000</td>\n",
       "      <td id=\"T_45b5b_row1_col6\" class=\"data row1 col6\" >49.000000</td>\n",
       "      <td id=\"T_45b5b_row1_col7\" class=\"data row1 col7\" >100.000000</td>\n",
       "    </tr>\n",
       "  </tbody>\n",
       "</table>\n"
      ],
      "text/plain": [
       "<pandas.io.formats.style.Styler at 0x7f2842b4afa0>"
      ]
     },
     "execution_count": 37,
     "metadata": {},
     "output_type": "execute_result"
    }
   ],
   "source": [
    "train.loc[:, 'household_size':'age_of_respondent'].describe().T.style.bar(subset=['mean'], color='#206ff2')\\\n",
    "                            .background_gradient(subset=['std'], cmap='Reds')\\\n",
    "                            .background_gradient(subset=['50%'], cmap='coolwarm')"
   ]
  },
  {
   "cell_type": "code",
   "execution_count": 38,
   "id": "1db9b27f-166c-4af2-901b-053db61510b3",
   "metadata": {},
   "outputs": [
    {
     "data": {
      "text/plain": [
       "((23524, 64), (10086, 64))"
      ]
     },
     "execution_count": 38,
     "metadata": {},
     "output_type": "execute_result"
    }
   ],
   "source": [
    "df.shape, test.shape"
   ]
  },
  {
   "cell_type": "code",
   "execution_count": 39,
   "id": "9c328fa6-199a-4b4e-8284-fd9a7a9fc57f",
   "metadata": {},
   "outputs": [
    {
     "data": {
      "text/plain": [
       "bank_account                            1.000000\n",
       "household_size                         -0.028326\n",
       "age_of_respondent                       0.019429\n",
       "country_Kenya                           0.186242\n",
       "country_Rwanda                         -0.057378\n",
       "                                          ...   \n",
       "country+cellphone_access_RwandaYes     -0.009689\n",
       "country+cellphone_access_TanzaniaNo    -0.139647\n",
       "country+cellphone_access_TanzaniaYes    0.012099\n",
       "country+cellphone_access_UgandaNo      -0.060003\n",
       "country+cellphone_access_UgandaYes     -0.017768\n",
       "Name: bank_account, Length: 64, dtype: float64"
      ]
     },
     "execution_count": 39,
     "metadata": {},
     "output_type": "execute_result"
    }
   ],
   "source": [
    "df.corr()[\"bank_account\"]"
   ]
  },
  {
   "cell_type": "code",
   "execution_count": 40,
   "id": "ce6238e7-3931-482b-a40c-adca0b1bee48",
   "metadata": {},
   "outputs": [
    {
     "data": {
      "text/plain": [
       "<AxesSubplot:ylabel='Frequency'>"
      ]
     },
     "execution_count": 40,
     "metadata": {},
     "output_type": "execute_result"
    },
    {
     "data": {
      "image/png": "[encoded data removed]",
      "text/plain": [
       "<Figure size 432x288 with 1 Axes>"
      ]
     },
     "metadata": {
      "needs_background": "light"
     },
     "output_type": "display_data"
    }
   ],
   "source": [
    "df.age_of_respondent.plot(kind=\"hist\")"
   ]
  },
  {
   "cell_type": "code",
   "execution_count": 41,
   "id": "eee452c9-174a-4a03-92d8-9575a35aaa7e",
   "metadata": {},
   "outputs": [],
   "source": [
    "X = df.drop([\"bank_account\"], 1)\n",
    "y = df.bank_account.values"
   ]
  },
  {
   "cell_type": "code",
   "execution_count": 42,
   "id": "7a3fe34c-bc7d-447a-8a12-7260a12fda77",
   "metadata": {},
   "outputs": [],
   "source": [
    "from imblearn.over_sampling import SMOTE"
   ]
  },
  {
   "cell_type": "code",
   "execution_count": 43,
   "id": "4522956b-a330-4fdd-b952-96aaee228314",
   "metadata": {},
   "outputs": [
    {
     "data": {
      "text/plain": [
       "<AxesSubplot:title={'center':'Balanced classes'}, ylabel='count'>"
      ]
     },
     "execution_count": 43,
     "metadata": {},
     "output_type": "execute_result"
    },
    {
     "data": {
      "image/png": "[encoded data removed]",
      "text/plain": [
       "<Figure size 432x288 with 1 Axes>"
      ]
     },
     "metadata": {
      "needs_background": "light"
     },
     "output_type": "display_data"
    }
   ],
   "source": [
    "oversample = SMOTE()\n",
    "# Oversampling the target data\n",
    "X, y = oversample.fit_resample(X, y)\n",
    "plt.title(\"Balanced classes\")\n",
    "sns.countplot(y)"
   ]
  },
  {
   "cell_type": "markdown",
   "id": "eb9eddc9-79be-4e01-9e00-9a3b06b8ca61",
   "metadata": {},
   "source": [
    "## Trying Different Algorithms from Sklearn"
   ]
  },
  {
   "cell_type": "code",
   "execution_count": 44,
   "id": "f8103cc0-6e6e-4ed0-b374-b46c58a1a698",
   "metadata": {},
   "outputs": [],
   "source": [
    "X_train, X_test, y_train, y_test = train_test_split(\n",
    "    X, y, random_state=seed, test_size=0.1, stratify=y\n",
    ")"
   ]
  },
  {
   "cell_type": "code",
   "execution_count": 45,
   "id": "eff2c7f3-78cd-4d2a-b366-930e7057cfe3",
   "metadata": {},
   "outputs": [],
   "source": [
    "scaler = StandardScaler()\n",
    "X_train = scaler.fit_transform(X_train)\n",
    "X_test = scaler.transform(X_test)"
   ]
  },
  {
   "cell_type": "code",
   "execution_count": 46,
   "id": "d6951b28-2809-4265-98d6-72df02ad8fdf",
   "metadata": {},
   "outputs": [
    {
     "name": "stdout",
     "output_type": "stream",
     "text": [
      "Train XGB\n",
      "[12:35:23] WARNING: ../src/learner.cc:1115: Starting in XGBoost 1.3.0, the default evaluation metric used with the objective 'binary:logistic' was changed from 'error' to 'logloss'. Explicitly set eval_metric if you'd like to restore the old behavior.\n",
      "[12:35:38] WARNING: ../src/learner.cc:1115: Starting in XGBoost 1.3.0, the default evaluation metric used with the objective 'binary:logistic' was changed from 'error' to 'logloss'. Explicitly set eval_metric if you'd like to restore the old behavior.\n",
      "[12:35:48] WARNING: ../src/learner.cc:1115: Starting in XGBoost 1.3.0, the default evaluation metric used with the objective 'binary:logistic' was changed from 'error' to 'logloss'. Explicitly set eval_metric if you'd like to restore the old behavior.\n",
      "[12:35:57] WARNING: ../src/learner.cc:1115: Starting in XGBoost 1.3.0, the default evaluation metric used with the objective 'binary:logistic' was changed from 'error' to 'logloss'. Explicitly set eval_metric if you'd like to restore the old behavior.\n",
      "[12:36:04] WARNING: ../src/learner.cc:1115: Starting in XGBoost 1.3.0, the default evaluation metric used with the objective 'binary:logistic' was changed from 'error' to 'logloss'. Explicitly set eval_metric if you'd like to restore the old behavior.\n",
      "[12:36:13] WARNING: ../src/learner.cc:1115: Starting in XGBoost 1.3.0, the default evaluation metric used with the objective 'binary:logistic' was changed from 'error' to 'logloss'. Explicitly set eval_metric if you'd like to restore the old behavior.\n",
      "[12:36:18] WARNING: ../src/learner.cc:1115: Starting in XGBoost 1.3.0, the default evaluation metric used with the objective 'binary:logistic' was changed from 'error' to 'logloss'. Explicitly set eval_metric if you'd like to restore the old behavior.\n",
      "[12:36:23] WARNING: ../src/learner.cc:1115: Starting in XGBoost 1.3.0, the default evaluation metric used with the objective 'binary:logistic' was changed from 'error' to 'logloss'. Explicitly set eval_metric if you'd like to restore the old behavior.\n",
      "[12:36:28] WARNING: ../src/learner.cc:1115: Starting in XGBoost 1.3.0, the default evaluation metric used with the objective 'binary:logistic' was changed from 'error' to 'logloss'. Explicitly set eval_metric if you'd like to restore the old behavior.\n",
      "[12:36:32] WARNING: ../src/learner.cc:1115: Starting in XGBoost 1.3.0, the default evaluation metric used with the objective 'binary:logistic' was changed from 'error' to 'logloss'. Explicitly set eval_metric if you'd like to restore the old behavior.\n",
      "List of scores for XGB: [0.89884474 0.90271937 0.90322581 0.89495917 0.90313471 0.89152542\n",
      " 0.91500701 0.90868597 0.89742865 0.90039172]\n",
      "The mean score for XGB: 0.9015922572909016\n",
      "-------------The End------------------\n",
      "Train KNN\n",
      "List of scores for KNN: [0.90258668 0.89638158 0.89176535 0.90049207 0.90134652 0.90068776\n",
      " 0.90120746 0.89785832 0.90008212 0.89132821]\n",
      "The mean score for KNN: 0.898373608700566\n",
      "-------------The End------------------\n",
      "Train RF\n",
      "List of scores for RF: [0.90959206 0.9126055  0.90969163 0.91403461 0.90581491 0.91579527\n",
      " 0.90948985 0.90541279 0.90918978 0.90663058]\n",
      "The mean score for RF: 0.9098256974594534\n",
      "-------------The End------------------\n",
      "Train GB\n",
      "List of scores for GB: [0.87472036 0.86487996 0.87119307 0.86659193 0.88105234 0.8663311\n",
      " 0.88218872 0.87301587 0.87478944 0.87465025]\n",
      "The mean score for GB: 0.8729413035735684\n",
      "-------------The End------------------\n",
      "Train DTC\n",
      "List of scores for DTC: [0.88796909 0.88497523 0.89270153 0.89591281 0.89953716 0.9001619\n",
      " 0.89655172 0.89508197 0.89160554 0.89816086]\n",
      "The mean score for DTC: 0.894265781288327\n",
      "-------------The End------------------\n",
      "Train HGB\n",
      "List of scores for HGB: [0.90331727 0.8989842  0.90501541 0.88933144 0.90386242 0.8982476\n",
      " 0.89839572 0.89510885 0.89551391 0.90416317]\n",
      "The mean score for HGB: 0.8991939986934983\n",
      "-------------The End------------------\n",
      "Train ADB\n",
      "List of scores for ADB: [0.86944367 0.86808273 0.87032843 0.86580573 0.8767507  0.86320491\n",
      " 0.87601912 0.86030664 0.86220472 0.85738492]\n",
      "The mean score for ADB: 0.8669531567445569\n",
      "-------------The End------------------\n"
     ]
    }
   ],
   "source": [
    "kf = StratifiedKFold(n_splits=10, shuffle=True)\n",
    "models = {\n",
    "    \"XGB\": XGBClassifier(),\n",
    "    \"KNN\": KNeighborsClassifier(),\n",
    "    \"RF\": RandomForestClassifier(),\n",
    "    \"GB\": GradientBoostingClassifier(),\n",
    "    \"DTC\": DecisionTreeClassifier(),\n",
    "    \"HGB\": HistGradientBoostingClassifier(),\n",
    "    \"ADB\": AdaBoostClassifier(),\n",
    "}\n",
    "\n",
    "\n",
    "for model_name, model in models.items():\n",
    "    print(\"Train {}\".format(model_name))\n",
    "    # cross_val_score for each classifier\n",
    "    scores = cross_val_score(model, X_train, y_train, cv=kf, scoring=\"f1\")\n",
    "\n",
    "    print(\"List of scores for {}: {}\".format(model_name, scores))\n",
    "    print(\"The mean score for {}: {}\".format(model_name, scores.mean()))\n",
    "    print(\"-------------The End------------------\")"
   ]
  },
  {
   "cell_type": "markdown",
   "id": "a62aa05f-abc4-4860-8488-2b156ab3f3e9",
   "metadata": {},
   "source": [
    "### XGBoost"
   ]
  },
  {
   "cell_type": "code",
   "execution_count": 47,
   "id": "7220adfd-21db-4d70-ac16-530ed4ffb7e4",
   "metadata": {},
   "outputs": [
    {
     "name": "stdout",
     "output_type": "stream",
     "text": [
      "[12:40:22] WARNING: ../src/learner.cc:1115: Starting in XGBoost 1.3.0, the default evaluation metric used with the objective 'binary:logistic' was changed from 'error' to 'logloss'. Explicitly set eval_metric if you'd like to restore the old behavior.\n"
     ]
    }
   ],
   "source": [
    "xgb = XGBClassifier(\n",
    "    n_estimators=200,\n",
    "    random_state=seed,\n",
    "    use_label_encoder=False,\n",
    ")\n",
    "xgb.fit(X_train, y_train)\n",
    "y_pred_xgb = xgb.predict(X_test)\n",
    "\n",
    "f1_xgb = f1_score(y_test, y_pred_xgb)\n",
    "precision_score_xgb = precision_score(y_test, y_pred_xgb)\n",
    "recall_xgb = recall_score(y_test, y_pred_xgb)\n",
    "accuracy_score_xgb = accuracy_score(y_test, y_pred_xgb)"
   ]
  },
  {
   "cell_type": "code",
   "execution_count": 48,
   "id": "478e5d84-7302-4132-95b5-622d7bf44849",
   "metadata": {},
   "outputs": [
    {
     "name": "stdout",
     "output_type": "stream",
     "text": [
      "XGBoost Accuracy of xgb: 0.9116992332426416\n",
      "precision of xgb: 0.9306418219461697\n",
      "recall of xgb: 0.8896585848589807\n",
      "f1 of xgb: 0.9096888439160131\n"
     ]
    }
   ],
   "source": [
    "print(f\"XGBoost Accuracy of xgb: {accuracy_score_xgb}\")\n",
    "print(f\"precision of xgb: {precision_score_xgb}\")\n",
    "print(f\"recall of xgb: {recall_xgb}\")\n",
    "print(f\"f1 of xgb: {f1_xgb}\")"
   ]
  },
  {
   "cell_type": "markdown",
   "id": "4a904018-ed29-42b4-91d4-60679756536c",
   "metadata": {},
   "source": [
    "#### Classification report and confusion matrix for Xgboost"
   ]
  },
  {
   "cell_type": "code",
   "execution_count": 49,
   "id": "1280f3aa-b226-4070-a2b9-b4183c0a5c85",
   "metadata": {},
   "outputs": [
    {
     "name": "stdout",
     "output_type": "stream",
     "text": [
      "              precision    recall  f1-score   support\n",
      "\n",
      "           0       0.89      0.93      0.91      2022\n",
      "           1       0.93      0.89      0.91      2021\n",
      "\n",
      "    accuracy                           0.91      4043\n",
      "   macro avg       0.91      0.91      0.91      4043\n",
      "weighted avg       0.91      0.91      0.91      4043\n",
      "\n"
     ]
    }
   ],
   "source": [
    "print(classification_report(y_test, y_pred_xgb))"
   ]
  },
  {
   "cell_type": "code",
   "execution_count": 71,
   "id": "063f6dc1-49d1-4ffe-915e-4082c9c0b555",
   "metadata": {},
   "outputs": [
    {
     "data": {
      "image/png": "[encoded data removed]",
      "text/plain": [
       "<Figure size 432x288 with 2 Axes>"
      ]
     },
     "metadata": {},
     "output_type": "display_data"
    }
   ],
   "source": [
    "plot_confusion_matrix(xgb, X_test, y_test)\n",
    "plt.title(\"Confusion matrix for xgboost\")\n",
    "plt.show()"
   ]
  },
  {
   "cell_type": "markdown",
   "id": "eea30305-14f3-4dc6-af3a-979ccc25e145",
   "metadata": {},
   "source": [
    "### KNN"
   ]
  },
  {
   "cell_type": "code",
   "execution_count": 51,
   "id": "bd226667-9a6f-42a0-b92f-c85fb3ccb4fc",
   "metadata": {},
   "outputs": [],
   "source": [
    "knn = KNeighborsClassifier()\n",
    "knn.fit(X_train, y_train)\n",
    "y_pred_knn = knn.predict(X_test)\n",
    "\n",
    "f1_knn = f1_score(y_test, y_pred_knn)\n",
    "precision_score_knn = precision_score(y_test, y_pred_knn)\n",
    "recall_knn = recall_score(y_test, y_pred_knn)\n",
    "accuracy_score_knn = accuracy_score(y_test, y_pred_knn)"
   ]
  },
  {
   "cell_type": "code",
   "execution_count": 52,
   "id": "587489f8-478c-497a-ac55-fcd5fe50f748",
   "metadata": {},
   "outputs": [
    {
     "name": "stdout",
     "output_type": "stream",
     "text": [
      "Accuracy of knn: 0.9077417759089785\n",
      "precision of knn: 0.9047151277013753\n",
      "f1 of knn: 0.9080601429627805\n",
      "recall of knn: 0.9114299851558635\n"
     ]
    }
   ],
   "source": [
    "print(f\"Accuracy of knn: {accuracy_score_knn}\")\n",
    "print(f\"precision of knn: {precision_score_knn}\")\n",
    "print(f\"f1 of knn: {f1_knn}\")\n",
    "print(f\"recall of knn: {recall_knn}\")"
   ]
  },
  {
   "cell_type": "markdown",
   "id": "1480bea9-bc16-4f3a-9567-f369d42c2dff",
   "metadata": {},
   "source": [
    "#### Classification report and confusion matrix for KNN"
   ]
  },
  {
   "cell_type": "code",
   "execution_count": 53,
   "id": "9096ec57-2330-4623-b851-3e52462576a9",
   "metadata": {},
   "outputs": [
    {
     "name": "stdout",
     "output_type": "stream",
     "text": [
      "              precision    recall  f1-score   support\n",
      "\n",
      "           0       0.91      0.90      0.91      2022\n",
      "           1       0.90      0.91      0.91      2021\n",
      "\n",
      "    accuracy                           0.91      4043\n",
      "   macro avg       0.91      0.91      0.91      4043\n",
      "weighted avg       0.91      0.91      0.91      4043\n",
      "\n"
     ]
    }
   ],
   "source": [
    "print(classification_report(y_test, y_pred_knn))"
   ]
  },
  {
   "cell_type": "code",
   "execution_count": 73,
   "id": "d05f869d-f8fb-467a-9f14-32e3dd5bac03",
   "metadata": {},
   "outputs": [
    {
     "data": {
      "image/png": "[encoded data removed]",
      "text/plain": [
       "<Figure size 432x288 with 2 Axes>"
      ]
     },
     "metadata": {},
     "output_type": "display_data"
    }
   ],
   "source": [
    "plot_confusion_matrix(knn, X_test, y_test)\n",
    "plt.title(\"Confusion matrix for KNN\")\n",
    "plt.show()"
   ]
  },
  {
   "cell_type": "markdown",
   "id": "f43f82a6-5a73-4615-8f44-42cf8f9aecb5",
   "metadata": {},
   "source": [
    "### Random Forest"
   ]
  },
  {
   "cell_type": "code",
   "execution_count": 54,
   "id": "932159ea-f9d2-4c68-b2e6-5ecb8aebf94b",
   "metadata": {},
   "outputs": [],
   "source": [
    "rfc = RandomForestClassifier(\n",
    "    n_estimators=200,\n",
    "    random_state=seed,\n",
    ")\n",
    "rfc.fit(X_train, y_train)\n",
    "y_pred_rfc = rfc.predict(X_test)\n",
    "\n",
    "f1_rfc = f1_score(y_test, y_pred_rfc)\n",
    "precision_score_rfc = precision_score(y_test, y_pred_rfc)\n",
    "recall_rfc = recall_score(y_test, y_pred_rfc)\n",
    "accuracy_score_rfc = accuracy_score(y_test, y_pred_rfc)"
   ]
  },
  {
   "cell_type": "code",
   "execution_count": 55,
   "id": "44923fd6-1047-49f0-af49-22d6dc03b482",
   "metadata": {},
   "outputs": [
    {
     "name": "stdout",
     "output_type": "stream",
     "text": [
      "Accuracy of rfc: 0.9154093494929508\n",
      "precision of rfc: 0.9137506160670281\n",
      "f1 of rfc: 0.9155555555555556\n",
      "recall of rfc: 0.917367639782286\n"
     ]
    }
   ],
   "source": [
    "print(f\"Accuracy of rfc: {accuracy_score_rfc}\")\n",
    "print(f\"precision of rfc: {precision_score_rfc}\")\n",
    "print(f\"f1 of rfc: {f1_rfc}\")\n",
    "print(f\"recall of rfc: {recall_rfc}\")"
   ]
  },
  {
   "cell_type": "markdown",
   "id": "3ae81391-a842-4b46-84d1-4e67f71a3b1b",
   "metadata": {},
   "source": [
    "### Classificaion report and confusion matrix for Random Forest"
   ]
  },
  {
   "cell_type": "code",
   "execution_count": 75,
   "id": "171aeb25-90a6-4982-bca4-db2d4a165a25",
   "metadata": {},
   "outputs": [
    {
     "name": "stdout",
     "output_type": "stream",
     "text": [
      "              precision    recall  f1-score   support\n",
      "\n",
      "           0       0.92      0.91      0.92      2022\n",
      "           1       0.91      0.92      0.92      2021\n",
      "\n",
      "    accuracy                           0.92      4043\n",
      "   macro avg       0.92      0.92      0.92      4043\n",
      "weighted avg       0.92      0.92      0.92      4043\n",
      "\n"
     ]
    }
   ],
   "source": [
    "print(classification_report(y_test, y_pred_rfc))"
   ]
  },
  {
   "cell_type": "code",
   "execution_count": 77,
   "id": "29857517-8bd3-4d67-b9da-b8b5677bb394",
   "metadata": {},
   "outputs": [
    {
     "data": {
      "image/png": "[encoded data removed]",
      "text/plain": [
       "<Figure size 432x288 with 2 Axes>"
      ]
     },
     "metadata": {},
     "output_type": "display_data"
    }
   ],
   "source": [
    "plot_confusion_matrix(rfc, X_test, y_test)\n",
    "plt.title(\"Confusion matrix for Random Forest\")\n",
    "plt.show()"
   ]
  },
  {
   "cell_type": "markdown",
   "id": "608ddc41-970e-45e4-89b4-f0ba82af9859",
   "metadata": {},
   "source": [
    "### Logistic Regression"
   ]
  },
  {
   "cell_type": "code",
   "execution_count": 56,
   "id": "46b8b607-8b63-43a7-8774-85109ec8f351",
   "metadata": {},
   "outputs": [],
   "source": [
    "lg = LogisticRegression()\n",
    "lg.fit(X_train, y_train)\n",
    "y_pred_lg = lg.predict(X_test)\n",
    "\n",
    "f1_lg = f1_score(y_test, y_pred_lg)\n",
    "precision_score_lg = precision_score(y_test, y_pred_lg)\n",
    "recall_lg = recall_score(y_test, y_pred_lg)\n",
    "accuracy_score_lg = accuracy_score(y_test, y_pred_lg)"
   ]
  },
  {
   "cell_type": "code",
   "execution_count": 57,
   "id": "15939ac2-17da-4577-aa14-52d5b56b20b3",
   "metadata": {},
   "outputs": [
    {
     "name": "stdout",
     "output_type": "stream",
     "text": [
      "Accuracy of lg: 0.8990848379915904\n",
      "precision of lg: 0.9468144044321329\n",
      "f1 of lg: 0.8933612127548353\n",
      "recall of lg: 0.8456209797130133\n"
     ]
    }
   ],
   "source": [
    "print(f\"Accuracy of lg: {accuracy_score_lg}\")\n",
    "print(f\"precision of lg: {precision_score_lg}\")\n",
    "print(f\"f1 of lg: {f1_lg}\")\n",
    "print(f\"recall of lg: {recall_lg}\")"
   ]
  },
  {
   "cell_type": "markdown",
   "id": "cd6877ae-f612-4f8b-8032-675a1c6895ee",
   "metadata": {},
   "source": [
    "### Classification report and confusion matrix for Logistic Regression"
   ]
  },
  {
   "cell_type": "code",
   "execution_count": 78,
   "id": "6aae30b0-14e4-4089-957a-449e587e586c",
   "metadata": {},
   "outputs": [
    {
     "name": "stdout",
     "output_type": "stream",
     "text": [
      "              precision    recall  f1-score   support\n",
      "\n",
      "           0       0.86      0.95      0.90      2022\n",
      "           1       0.95      0.85      0.89      2021\n",
      "\n",
      "    accuracy                           0.90      4043\n",
      "   macro avg       0.90      0.90      0.90      4043\n",
      "weighted avg       0.90      0.90      0.90      4043\n",
      "\n"
     ]
    }
   ],
   "source": [
    "print(classification_report(y_test, y_pred_lg))"
   ]
  },
  {
   "cell_type": "code",
   "execution_count": 79,
   "id": "1be4d07e-345b-4194-953e-c793f95c613b",
   "metadata": {},
   "outputs": [
    {
     "data": {
      "image/png": "[encoded data removed]",
      "text/plain": [
       "<Figure size 432x288 with 2 Axes>"
      ]
     },
     "metadata": {},
     "output_type": "display_data"
    }
   ],
   "source": [
    "plot_confusion_matrix(lg, X_test, y_test)\n",
    "plt.title(\"Confusion matrix for Logisitc Regression\")\n",
    "plt.show()"
   ]
  },
  {
   "cell_type": "markdown",
   "id": "931a4b69-5dd3-4ef3-8212-26c2cc67537f",
   "metadata": {},
   "source": [
    "# Gradient Boosting classifier"
   ]
  },
  {
   "cell_type": "code",
   "execution_count": 58,
   "id": "10684a2a-b1e7-4da6-a43a-2378afe5e892",
   "metadata": {},
   "outputs": [],
   "source": [
    "gbc = GradientBoostingClassifier(n_estimators=200, random_state=42)\n",
    "gbc.fit(X_train, y_train)\n",
    "y_pred_gbc = gbc.predict(X_test)\n",
    "\n",
    "f1_gbc = f1_score(y_test, y_pred_gbc)\n",
    "precision_score_gbc = precision_score(y_test, y_pred_gbc)\n",
    "recall_gbc = recall_score(y_test, y_pred_gbc)\n",
    "accuracy_score_gbc = accuracy_score(y_test, y_pred_gbc)"
   ]
  },
  {
   "cell_type": "code",
   "execution_count": 59,
   "id": "e68f03c8-1eda-4573-afe9-6af084323ad0",
   "metadata": {},
   "outputs": [
    {
     "name": "stdout",
     "output_type": "stream",
     "text": [
      "Accuracy of gbc: 0.8943853574078654\n",
      "precision of gbc: 0.923936170212766\n",
      "f1 of gbc: 0.8905408869520637\n",
      "recall of gbc: 0.859475507174666\n"
     ]
    }
   ],
   "source": [
    "print(f\"Accuracy of gbc: {accuracy_score_gbc}\")\n",
    "print(f\"precision of gbc: {precision_score_gbc}\")\n",
    "print(f\"f1 of gbc: {f1_gbc}\")\n",
    "print(f\"recall of gbc: {recall_gbc}\")"
   ]
  },
  {
   "cell_type": "markdown",
   "id": "51bb22fe-39dd-4c40-a1fa-e6030a83af25",
   "metadata": {},
   "source": [
    "### Confusion matrix and classification report for Gradient boosting"
   ]
  },
  {
   "cell_type": "code",
   "execution_count": 81,
   "id": "4169a287-946d-4c30-8aa5-03ac6431791d",
   "metadata": {},
   "outputs": [
    {
     "name": "stdout",
     "output_type": "stream",
     "text": [
      "              precision    recall  f1-score   support\n",
      "\n",
      "           0       0.87      0.93      0.90      2022\n",
      "           1       0.92      0.86      0.89      2021\n",
      "\n",
      "    accuracy                           0.89      4043\n",
      "   macro avg       0.90      0.89      0.89      4043\n",
      "weighted avg       0.90      0.89      0.89      4043\n",
      "\n"
     ]
    }
   ],
   "source": [
    "print(classification_report(y_test, y_pred_gbc))"
   ]
  },
  {
   "cell_type": "code",
   "execution_count": 82,
   "id": "be00b545-d26f-4043-82b9-d06473e60809",
   "metadata": {},
   "outputs": [
    {
     "data": {
      "image/png": "[encoded data removed]",
      "text/plain": [
       "<Figure size 432x288 with 2 Axes>"
      ]
     },
     "metadata": {},
     "output_type": "display_data"
    }
   ],
   "source": [
    "plot_confusion_matrix(gbc, X_test, y_test)\n",
    "plt.title(\"Confusion matrix for Gradient Boosting Classifier\")\n",
    "plt.show()"
   ]
  },
  {
   "cell_type": "markdown",
   "id": "1fa12aa7-8d86-4130-9f52-3e3c24e9c721",
   "metadata": {},
   "source": [
    "### Decision Tree"
   ]
  },
  {
   "cell_type": "code",
   "execution_count": 60,
   "id": "eae148bf-cfb9-423f-9d43-bd035a3a492e",
   "metadata": {},
   "outputs": [],
   "source": [
    "dt = DecisionTreeClassifier()\n",
    "dt.fit(X_train, y_train)\n",
    "y_pred_dt = dt.predict(X_test)\n",
    "\n",
    "f1_dt = f1_score(y_test, y_pred_dt)\n",
    "precision_score_dt = precision_score(y_test, y_pred_dt)\n",
    "recall_df = recall_score(y_test, y_pred_dt)\n",
    "accuracy_score_dt = accuracy_score(y_test, y_pred_dt)"
   ]
  },
  {
   "cell_type": "code",
   "execution_count": 61,
   "id": "9a2d7c0f-6d80-4b03-baa1-ebfa3d0f1d28",
   "metadata": {},
   "outputs": [
    {
     "name": "stdout",
     "output_type": "stream",
     "text": [
      "Accuracy of dt: 0.8980954736581747\n",
      "precision of dt: 0.8937836514929026\n",
      "f1 of dt: 0.8986220472440946\n",
      "recall of df: 0.9035131123206334\n"
     ]
    }
   ],
   "source": [
    "print(f\"Accuracy of dt: {accuracy_score_dt}\")\n",
    "print(f\"precision of dt: {precision_score_dt}\")\n",
    "print(f\"f1 of dt: {f1_dt}\")\n",
    "print(f\"recall of df: {recall_df}\")"
   ]
  },
  {
   "cell_type": "markdown",
   "id": "22bc5ebc-e435-49b9-b73c-90f906e71f7b",
   "metadata": {},
   "source": [
    "### Classificaiton report and confusion matrix for Decison tree"
   ]
  },
  {
   "cell_type": "code",
   "execution_count": 83,
   "id": "4860261e-636b-4b45-a42f-6a6f9534f859",
   "metadata": {},
   "outputs": [
    {
     "name": "stdout",
     "output_type": "stream",
     "text": [
      "              precision    recall  f1-score   support\n",
      "\n",
      "           0       0.90      0.89      0.90      2022\n",
      "           1       0.89      0.90      0.90      2021\n",
      "\n",
      "    accuracy                           0.90      4043\n",
      "   macro avg       0.90      0.90      0.90      4043\n",
      "weighted avg       0.90      0.90      0.90      4043\n",
      "\n"
     ]
    }
   ],
   "source": [
    "print(classification_report(y_test, y_pred_dt))"
   ]
  },
  {
   "cell_type": "code",
   "execution_count": 85,
   "id": "56b198fd-6180-4c8f-add6-463dc4c44c17",
   "metadata": {},
   "outputs": [
    {
     "data": {
      "image/png": "[encoded data removed]",
      "text/plain": [
       "<Figure size 432x288 with 2 Axes>"
      ]
     },
     "metadata": {},
     "output_type": "display_data"
    }
   ],
   "source": [
    "plot_confusion_matrix(dt, X_test, y_test)\n",
    "plt.title(\"Confusion matrix for Decision tree\")\n",
    "plt.show()"
   ]
  },
  {
   "cell_type": "markdown",
   "id": "5b91e729-12e3-4864-9269-643ca65cb1cb",
   "metadata": {},
   "source": [
    "### Histogram-based Gradient Boosting"
   ]
  },
  {
   "cell_type": "code",
   "execution_count": 62,
   "id": "28907034-eea5-40f3-8b5c-3feb681d3d75",
   "metadata": {},
   "outputs": [],
   "source": [
    "hg = HistGradientBoostingClassifier()\n",
    "hg.fit(X_train, y_train)\n",
    "y_pred_hg = hg.predict(X_test)\n",
    "\n",
    "f1_hg = f1_score(y_test, y_pred_hg)\n",
    "precision_score_hg = precision_score(y_test, y_pred_hg)\n",
    "recall_hg = recall_score(y_test, y_pred_hg)\n",
    "accuracy_score_hg = accuracy_score(y_test, y_pred_hg)"
   ]
  },
  {
   "cell_type": "code",
   "execution_count": 63,
   "id": "7450be76-abbf-471f-8a69-80e616e741e6",
   "metadata": {},
   "outputs": [
    {
     "name": "stdout",
     "output_type": "stream",
     "text": [
      "Accuracy of hg: 0.9134306208261193\n",
      "precision of hg: 0.9418297197250132\n",
      "f1 of hg: 0.9105316973415133\n",
      "recall of hg : 0.8812469074715488\n"
     ]
    }
   ],
   "source": [
    "print(f\"Accuracy of hg: {accuracy_score_hg}\")\n",
    "print(f\"precision of hg: {precision_score_hg}\")\n",
    "print(f\"f1 of hg: {f1_hg}\")\n",
    "print(f\"recall of hg : {recall_hg}\")"
   ]
  },
  {
   "cell_type": "code",
   "execution_count": 89,
   "id": "55608b49-bcec-4c38-9b91-40efae2b9fdb",
   "metadata": {},
   "outputs": [
    {
     "name": "stdout",
     "output_type": "stream",
     "text": [
      "              precision    recall  f1-score   support\n",
      "\n",
      "           0       0.89      0.95      0.92      2022\n",
      "           1       0.94      0.88      0.91      2021\n",
      "\n",
      "    accuracy                           0.91      4043\n",
      "   macro avg       0.92      0.91      0.91      4043\n",
      "weighted avg       0.92      0.91      0.91      4043\n",
      "\n"
     ]
    }
   ],
   "source": [
    "print(classification_report(y_test, y_pred_hg))"
   ]
  },
  {
   "cell_type": "code",
   "execution_count": 94,
   "id": "33141023-f66e-489c-abde-28c349fc34d7",
   "metadata": {},
   "outputs": [
    {
     "data": {
      "image/png": "[encoded data removed]",
      "text/plain": [
       "<Figure size 432x288 with 2 Axes>"
      ]
     },
     "metadata": {},
     "output_type": "display_data"
    }
   ],
   "source": [
    "plot_confusion_matrix(hg,X_test, y_test)\n",
    "plt.title(\"Confusiong matrix for histogram gradient boosting\")\n",
    "plt.show()"
   ]
  },
  {
   "cell_type": "markdown",
   "id": "2fce5722-eef5-4c36-865c-8d97ac9173b4",
   "metadata": {},
   "source": [
    "### Adaboost"
   ]
  },
  {
   "cell_type": "code",
   "execution_count": 64,
   "id": "8d53d6d2-686c-4b83-9137-692656760a21",
   "metadata": {},
   "outputs": [
    {
     "name": "stdout",
     "output_type": "stream",
     "text": [
      "Accuracy of adb: 0.8706406134058867\n",
      "precision of adb: 0.8954593453009504\n",
      "f1 of adb: 0.866411238825032\n",
      "recall of adb : 0.839188520534389\n"
     ]
    }
   ],
   "source": [
    "adb = AdaBoostClassifier()\n",
    "adb.fit(X_train, y_train)\n",
    "y_pred_adb = adb.predict(X_test)\n",
    "\n",
    "f1_adb = f1_score(y_test, y_pred_adb)\n",
    "precision_score_adb = precision_score(y_test, y_pred_adb)\n",
    "recall_adb = recall_score(y_test, y_pred_adb)\n",
    "accuracy_score_adb = accuracy_score(y_test, y_pred_adb)\n",
    "\n",
    "print(f\"Accuracy of adb: {accuracy_score_adb}\")\n",
    "print(f\"precision of adb: {precision_score_adb}\")\n",
    "print(f\"f1 of adb: {f1_adb}\")\n",
    "print(f\"recall of adb : {recall_adb}\")"
   ]
  },
  {
   "cell_type": "code",
   "execution_count": 92,
   "id": "c1dd3027-914a-41d0-a9c1-cf6c0c45700f",
   "metadata": {},
   "outputs": [
    {
     "name": "stdout",
     "output_type": "stream",
     "text": [
      "              precision    recall  f1-score   support\n",
      "\n",
      "           0       0.85      0.90      0.87      2022\n",
      "           1       0.90      0.84      0.87      2021\n",
      "\n",
      "    accuracy                           0.87      4043\n",
      "   macro avg       0.87      0.87      0.87      4043\n",
      "weighted avg       0.87      0.87      0.87      4043\n",
      "\n"
     ]
    }
   ],
   "source": [
    "print(classification_report(y_test, y_pred_adb))"
   ]
  },
  {
   "cell_type": "code",
   "execution_count": 93,
   "id": "de65cc61-8f2b-421d-9e3b-d54a8f8fc767",
   "metadata": {},
   "outputs": [
    {
     "data": {
      "image/png": "[encoded data removed]",
      "text/plain": [
       "<Figure size 432x288 with 2 Axes>"
      ]
     },
     "metadata": {},
     "output_type": "display_data"
    }
   ],
   "source": [
    "plot_confusion_matrix(adb,X_test, y_test)\n",
    "plt.show()"
   ]
  },
  {
   "cell_type": "code",
   "execution_count": null,
   "id": "fdbfa34c-ee40-40b1-ad4c-629418bcecca",
   "metadata": {},
   "outputs": [],
   "source": []
  },
  {
   "cell_type": "markdown",
   "id": "2bf02295-e0e1-40b9-b24d-7b78302e98bd",
   "metadata": {},
   "source": [
    "## Table of evaluation matrics"
   ]
  },
  {
   "cell_type": "code",
   "execution_count": 86,
   "id": "2d3cbaa5-94ee-4ab0-9216-bc02f6ceaf8a",
   "metadata": {},
   "outputs": [
    {
     "data": {
      "text/html": [
       "<div>\n",
       "<style scoped>\n",
       "    .dataframe tbody tr th:only-of-type {\n",
       "        vertical-align: middle;\n",
       "    }\n",
       "\n",
       "    .dataframe tbody tr th {\n",
       "        vertical-align: top;\n",
       "    }\n",
       "\n",
       "    .dataframe thead th {\n",
       "        text-align: right;\n",
       "    }\n",
       "</style>\n",
       "<table border=\"1\" class=\"dataframe\">\n",
       "  <thead>\n",
       "    <tr style=\"text-align: right;\">\n",
       "      <th></th>\n",
       "      <th>Algoritm</th>\n",
       "      <th>Accuracy</th>\n",
       "      <th>F1 score</th>\n",
       "      <th>Precision</th>\n",
       "      <th>Recall</th>\n",
       "    </tr>\n",
       "  </thead>\n",
       "  <tbody>\n",
       "    <tr>\n",
       "      <th>0</th>\n",
       "      <td>Logistc Regression</td>\n",
       "      <td>0.899085</td>\n",
       "      <td>0.893361</td>\n",
       "      <td>0.946814</td>\n",
       "      <td>0.845621</td>\n",
       "    </tr>\n",
       "    <tr>\n",
       "      <th>1</th>\n",
       "      <td>XGB</td>\n",
       "      <td>0.911699</td>\n",
       "      <td>0.909689</td>\n",
       "      <td>0.930642</td>\n",
       "      <td>0.889659</td>\n",
       "    </tr>\n",
       "    <tr>\n",
       "      <th>2</th>\n",
       "      <td>Random Forest</td>\n",
       "      <td>0.915409</td>\n",
       "      <td>0.915556</td>\n",
       "      <td>0.913751</td>\n",
       "      <td>0.917368</td>\n",
       "    </tr>\n",
       "    <tr>\n",
       "      <th>3</th>\n",
       "      <td>Gradient Boosting</td>\n",
       "      <td>0.894385</td>\n",
       "      <td>0.890541</td>\n",
       "      <td>0.923936</td>\n",
       "      <td>0.859476</td>\n",
       "    </tr>\n",
       "    <tr>\n",
       "      <th>4</th>\n",
       "      <td>Decision tree</td>\n",
       "      <td>0.898095</td>\n",
       "      <td>0.898622</td>\n",
       "      <td>0.893784</td>\n",
       "      <td>0.903513</td>\n",
       "    </tr>\n",
       "    <tr>\n",
       "      <th>5</th>\n",
       "      <td>KNN</td>\n",
       "      <td>0.907742</td>\n",
       "      <td>0.908060</td>\n",
       "      <td>0.904715</td>\n",
       "      <td>0.911430</td>\n",
       "    </tr>\n",
       "    <tr>\n",
       "      <th>6</th>\n",
       "      <td>Historgam Gradient Boosting</td>\n",
       "      <td>0.913431</td>\n",
       "      <td>0.910532</td>\n",
       "      <td>0.941830</td>\n",
       "      <td>0.881247</td>\n",
       "    </tr>\n",
       "    <tr>\n",
       "      <th>7</th>\n",
       "      <td>Adaboost</td>\n",
       "      <td>0.839189</td>\n",
       "      <td>0.866411</td>\n",
       "      <td>0.895459</td>\n",
       "      <td>0.839189</td>\n",
       "    </tr>\n",
       "  </tbody>\n",
       "</table>\n",
       "</div>"
      ],
      "text/plain": [
       "                      Algoritm  Accuracy  F1 score  Precision    Recall\n",
       "0           Logistc Regression  0.899085  0.893361   0.946814  0.845621\n",
       "1                          XGB  0.911699  0.909689   0.930642  0.889659\n",
       "2                Random Forest  0.915409  0.915556   0.913751  0.917368\n",
       "3            Gradient Boosting  0.894385  0.890541   0.923936  0.859476\n",
       "4                Decision tree  0.898095  0.898622   0.893784  0.903513\n",
       "5                          KNN  0.907742  0.908060   0.904715  0.911430\n",
       "6  Historgam Gradient Boosting  0.913431  0.910532   0.941830  0.881247\n",
       "7                     Adaboost  0.839189  0.866411   0.895459  0.839189"
      ]
     },
     "execution_count": 86,
     "metadata": {},
     "output_type": "execute_result"
    }
   ],
   "source": [
    "scores = pd.DataFrame(\n",
    "    {\n",
    "        \"Algoritm\": [\n",
    "            \"Logistc Regression\",\n",
    "            \"XGB\",\n",
    "            \"Random Forest\",\n",
    "            \"Gradient Boosting\",\n",
    "            \"Decision tree\",\n",
    "            \"KNN\",\n",
    "            \"Historgam Gradient Boosting\",\n",
    "            \"Adaboost\",\n",
    "        ],\n",
    "        \"Accuracy\": [\n",
    "            accuracy_score_lg,\n",
    "            accuracy_score_xgb,\n",
    "            accuracy_score_rfc,\n",
    "            accuracy_score_gbc,\n",
    "            accuracy_score_dt,\n",
    "            accuracy_score_knn,\n",
    "            accuracy_score_hg,\n",
    "            recall_adb,\n",
    "        ],\n",
    "        \"F1 score\": [\n",
    "            f1_lg,\n",
    "            f1_xgb,\n",
    "            f1_rfc,\n",
    "            f1_gbc,\n",
    "            f1_dt,\n",
    "            f1_knn,\n",
    "            f1_hg,\n",
    "            f1_adb,\n",
    "        ],\n",
    "        \"Precision\": [\n",
    "            precision_score_lg,\n",
    "            precision_score_xgb,\n",
    "            precision_score_rfc,\n",
    "            precision_score_gbc,\n",
    "            precision_score_dt,\n",
    "            precision_score_knn,\n",
    "            precision_score_hg,\n",
    "            precision_score_adb,\n",
    "        ],\n",
    "        \"Recall\": [\n",
    "            recall_lg,\n",
    "            recall_xgb,\n",
    "            recall_rfc,\n",
    "            recall_gbc,\n",
    "            recall_df,\n",
    "            recall_knn,\n",
    "            recall_hg,\n",
    "            recall_adb,\n",
    "        ],\n",
    "    }\n",
    ")\n",
    "\n",
    "scores"
   ]
  },
  {
   "cell_type": "code",
   "execution_count": null,
   "id": "ece4aa7e-486c-4976-8c9d-a05a32975c4a",
   "metadata": {},
   "outputs": [],
   "source": []
  }
 ],
 "metadata": {
  "kernelspec": {
   "display_name": "Python 3 (ipykernel)",
   "language": "python",
   "name": "python3"
  },
  "language_info": {
   "codemirror_mode": {
    "name": "ipython",
    "version": 3
   },
   "file_extension": ".py",
   "mimetype": "text/x-python",
   "name": "python",
   "nbconvert_exporter": "python",
   "pygments_lexer": "ipython3",
   "version": "3.9.5"
  }
 },
 "nbformat": 4,
 "nbformat_minor": 5
}
