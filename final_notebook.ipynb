{
 "cells": [
  {
   "cell_type": "markdown",
   "id": "65080035-6c3c-4e46-b4c2-f28ce0438d86",
   "metadata": {
    "tags": []
   },
   "source": [
    "### Motivation\n",
    "1. Taking advantage of the amount of data that is available nowadays, the authors performed statistical analysis and machine learning to extract knowledge in the current situation of financial inclusion and the factors affecting it. By applying advanced machine learning algorithms to the financial inclusion dataset to predict a person’s likelihood of having a bank account. This would enable the financial institutions to get an understanding of what features make a person capable of having a bank account. Having all that reliable information or guidance, financial institutions can take considerable measures and create a system or come up with a strategy that will help make all members of the society (regardless of class or gender) aware of financial inclusion and its benefits.\n",
    "\n"
   ]
  },
  {
   "cell_type": "code",
   "execution_count": 1,
   "id": "a1c985fa-b960-449f-af76-2e56e7fd237a",
   "metadata": {},
   "outputs": [],
   "source": [
    "import warnings\n",
    "\n",
    "import matplotlib.pyplot as plt\n",
    "import pandas as pd\n",
    "import seaborn as sns\n",
    "from pandas_profiling import profile_report\n",
    "\n",
    "warnings.filterwarnings(\"ignore\")\n",
    "from imblearn.over_sampling import SMOTE\n",
    "from sklearn.ensemble import (\n",
    "    AdaBoostClassifier,\n",
    "    GradientBoostingClassifier,\n",
    "    HistGradientBoostingClassifier,\n",
    "    RandomForestClassifier,\n",
    ")\n",
    "# import classification algorithm\n",
    "from sklearn.experimental import enable_hist_gradient_boosting\n",
    "from sklearn.linear_model import LogisticRegression\n",
    "# evaluation matrics\n",
    "from sklearn.metrics import (\n",
    "    accuracy_score,\n",
    "    f1_score,\n",
    "    precision_score,\n",
    "    recall_score,\n",
    "    roc_auc_score,\n",
    ")\n",
    "from sklearn.model_selection import cross_val_score, train_test_split\n",
    "from sklearn.neighbors import KNeighborsClassifier\n",
    "# import preprocessing module\n",
    "from sklearn.preprocessing import LabelEncoder, MinMaxScaler, StandardScaler\n",
    "from sklearn.svm import SVC\n",
    "from sklearn.tree import DecisionTreeClassifier\n",
    "from xgboost import XGBClassifier"
   ]
  },
  {
   "cell_type": "code",
   "execution_count": 2,
   "id": "5ab2b5e7-1f44-49ea-8a61-9b44a70efdaf",
   "metadata": {},
   "outputs": [],
   "source": [
    "import numpy as np\n",
    "from numpy import random\n",
    "\n",
    "random.seed(42)\n",
    "seed = np.random.seed(42)"
   ]
  },
  {
   "cell_type": "code",
   "execution_count": 3,
   "id": "29238508-9ee0-439d-99cc-95525b73f3b9",
   "metadata": {},
   "outputs": [],
   "source": [
    "%matplotlib inline"
   ]
  },
  {
   "cell_type": "code",
   "execution_count": 4,
   "id": "8eadc88c-1f19-460b-9de8-ed31632c7662",
   "metadata": {},
   "outputs": [
    {
     "data": {
      "text/html": [
       "<div>\n",
       "<style scoped>\n",
       "    .dataframe tbody tr th:only-of-type {\n",
       "        vertical-align: middle;\n",
       "    }\n",
       "\n",
       "    .dataframe tbody tr th {\n",
       "        vertical-align: top;\n",
       "    }\n",
       "\n",
       "    .dataframe thead th {\n",
       "        text-align: right;\n",
       "    }\n",
       "</style>\n",
       "<table border=\"1\" class=\"dataframe\">\n",
       "  <thead>\n",
       "    <tr style=\"text-align: right;\">\n",
       "      <th></th>\n",
       "      <th>country</th>\n",
       "      <th>year</th>\n",
       "      <th>uniqueid</th>\n",
       "      <th>bank_account</th>\n",
       "      <th>location_type</th>\n",
       "      <th>cellphone_access</th>\n",
       "      <th>household_size</th>\n",
       "      <th>age_of_respondent</th>\n",
       "      <th>gender_of_respondent</th>\n",
       "      <th>relationship_with_head</th>\n",
       "      <th>marital_status</th>\n",
       "      <th>education_level</th>\n",
       "      <th>job_type</th>\n",
       "    </tr>\n",
       "  </thead>\n",
       "  <tbody>\n",
       "    <tr>\n",
       "      <th>0</th>\n",
       "      <td>Kenya</td>\n",
       "      <td>2018</td>\n",
       "      <td>uniqueid_1</td>\n",
       "      <td>Yes</td>\n",
       "      <td>Rural</td>\n",
       "      <td>Yes</td>\n",
       "      <td>3</td>\n",
       "      <td>24</td>\n",
       "      <td>Female</td>\n",
       "      <td>Spouse</td>\n",
       "      <td>Married/Living together</td>\n",
       "      <td>Secondary education</td>\n",
       "      <td>Self employed</td>\n",
       "    </tr>\n",
       "    <tr>\n",
       "      <th>1</th>\n",
       "      <td>Kenya</td>\n",
       "      <td>2018</td>\n",
       "      <td>uniqueid_2</td>\n",
       "      <td>No</td>\n",
       "      <td>Rural</td>\n",
       "      <td>No</td>\n",
       "      <td>5</td>\n",
       "      <td>70</td>\n",
       "      <td>Female</td>\n",
       "      <td>Head of Household</td>\n",
       "      <td>Widowed</td>\n",
       "      <td>No formal education</td>\n",
       "      <td>Government Dependent</td>\n",
       "    </tr>\n",
       "    <tr>\n",
       "      <th>2</th>\n",
       "      <td>Kenya</td>\n",
       "      <td>2018</td>\n",
       "      <td>uniqueid_3</td>\n",
       "      <td>Yes</td>\n",
       "      <td>Urban</td>\n",
       "      <td>Yes</td>\n",
       "      <td>5</td>\n",
       "      <td>26</td>\n",
       "      <td>Male</td>\n",
       "      <td>Other relative</td>\n",
       "      <td>Single/Never Married</td>\n",
       "      <td>Vocational/Specialised training</td>\n",
       "      <td>Self employed</td>\n",
       "    </tr>\n",
       "    <tr>\n",
       "      <th>3</th>\n",
       "      <td>Kenya</td>\n",
       "      <td>2018</td>\n",
       "      <td>uniqueid_4</td>\n",
       "      <td>No</td>\n",
       "      <td>Rural</td>\n",
       "      <td>Yes</td>\n",
       "      <td>5</td>\n",
       "      <td>34</td>\n",
       "      <td>Female</td>\n",
       "      <td>Head of Household</td>\n",
       "      <td>Married/Living together</td>\n",
       "      <td>Primary education</td>\n",
       "      <td>Formally employed Private</td>\n",
       "    </tr>\n",
       "    <tr>\n",
       "      <th>4</th>\n",
       "      <td>Kenya</td>\n",
       "      <td>2018</td>\n",
       "      <td>uniqueid_5</td>\n",
       "      <td>No</td>\n",
       "      <td>Urban</td>\n",
       "      <td>No</td>\n",
       "      <td>8</td>\n",
       "      <td>26</td>\n",
       "      <td>Male</td>\n",
       "      <td>Child</td>\n",
       "      <td>Single/Never Married</td>\n",
       "      <td>Primary education</td>\n",
       "      <td>Informally employed</td>\n",
       "    </tr>\n",
       "  </tbody>\n",
       "</table>\n",
       "</div>"
      ],
      "text/plain": [
       "  country  year    uniqueid bank_account location_type cellphone_access  \\\n",
       "0   Kenya  2018  uniqueid_1          Yes         Rural              Yes   \n",
       "1   Kenya  2018  uniqueid_2           No         Rural               No   \n",
       "2   Kenya  2018  uniqueid_3          Yes         Urban              Yes   \n",
       "3   Kenya  2018  uniqueid_4           No         Rural              Yes   \n",
       "4   Kenya  2018  uniqueid_5           No         Urban               No   \n",
       "\n",
       "   household_size  age_of_respondent gender_of_respondent  \\\n",
       "0               3                 24               Female   \n",
       "1               5                 70               Female   \n",
       "2               5                 26                 Male   \n",
       "3               5                 34               Female   \n",
       "4               8                 26                 Male   \n",
       "\n",
       "  relationship_with_head           marital_status  \\\n",
       "0                 Spouse  Married/Living together   \n",
       "1      Head of Household                  Widowed   \n",
       "2         Other relative     Single/Never Married   \n",
       "3      Head of Household  Married/Living together   \n",
       "4                  Child     Single/Never Married   \n",
       "\n",
       "                   education_level                   job_type  \n",
       "0              Secondary education              Self employed  \n",
       "1              No formal education       Government Dependent  \n",
       "2  Vocational/Specialised training              Self employed  \n",
       "3                Primary education  Formally employed Private  \n",
       "4                Primary education        Informally employed  "
      ]
     },
     "execution_count": 4,
     "metadata": {},
     "output_type": "execute_result"
    }
   ],
   "source": [
    "train = pd.read_csv(\"Train_v2.csv\")\n",
    "test = pd.read_csv(\"Test_v2.csv\")\n",
    "train.head()"
   ]
  },
  {
   "cell_type": "code",
   "execution_count": 5,
   "id": "95762195-b6c1-4e8f-b2dc-917486a6f5c3",
   "metadata": {},
   "outputs": [
    {
     "data": {
      "text/html": [
       "<div>\n",
       "<style scoped>\n",
       "    .dataframe tbody tr th:only-of-type {\n",
       "        vertical-align: middle;\n",
       "    }\n",
       "\n",
       "    .dataframe tbody tr th {\n",
       "        vertical-align: top;\n",
       "    }\n",
       "\n",
       "    .dataframe thead th {\n",
       "        text-align: right;\n",
       "    }\n",
       "</style>\n",
       "<table border=\"1\" class=\"dataframe\">\n",
       "  <thead>\n",
       "    <tr style=\"text-align: right;\">\n",
       "      <th></th>\n",
       "      <th>country</th>\n",
       "      <th>year</th>\n",
       "      <th>uniqueid</th>\n",
       "      <th>location_type</th>\n",
       "      <th>cellphone_access</th>\n",
       "      <th>household_size</th>\n",
       "      <th>age_of_respondent</th>\n",
       "      <th>gender_of_respondent</th>\n",
       "      <th>relationship_with_head</th>\n",
       "      <th>marital_status</th>\n",
       "      <th>education_level</th>\n",
       "      <th>job_type</th>\n",
       "    </tr>\n",
       "  </thead>\n",
       "  <tbody>\n",
       "    <tr>\n",
       "      <th>0</th>\n",
       "      <td>Kenya</td>\n",
       "      <td>2018</td>\n",
       "      <td>uniqueid_6056</td>\n",
       "      <td>Urban</td>\n",
       "      <td>Yes</td>\n",
       "      <td>3</td>\n",
       "      <td>30</td>\n",
       "      <td>Male</td>\n",
       "      <td>Head of Household</td>\n",
       "      <td>Married/Living together</td>\n",
       "      <td>Secondary education</td>\n",
       "      <td>Formally employed Government</td>\n",
       "    </tr>\n",
       "    <tr>\n",
       "      <th>1</th>\n",
       "      <td>Kenya</td>\n",
       "      <td>2018</td>\n",
       "      <td>uniqueid_6060</td>\n",
       "      <td>Urban</td>\n",
       "      <td>Yes</td>\n",
       "      <td>7</td>\n",
       "      <td>51</td>\n",
       "      <td>Male</td>\n",
       "      <td>Head of Household</td>\n",
       "      <td>Married/Living together</td>\n",
       "      <td>Vocational/Specialised training</td>\n",
       "      <td>Formally employed Private</td>\n",
       "    </tr>\n",
       "    <tr>\n",
       "      <th>2</th>\n",
       "      <td>Kenya</td>\n",
       "      <td>2018</td>\n",
       "      <td>uniqueid_6065</td>\n",
       "      <td>Rural</td>\n",
       "      <td>No</td>\n",
       "      <td>3</td>\n",
       "      <td>77</td>\n",
       "      <td>Female</td>\n",
       "      <td>Parent</td>\n",
       "      <td>Married/Living together</td>\n",
       "      <td>No formal education</td>\n",
       "      <td>Remittance Dependent</td>\n",
       "    </tr>\n",
       "    <tr>\n",
       "      <th>3</th>\n",
       "      <td>Kenya</td>\n",
       "      <td>2018</td>\n",
       "      <td>uniqueid_6072</td>\n",
       "      <td>Rural</td>\n",
       "      <td>No</td>\n",
       "      <td>6</td>\n",
       "      <td>39</td>\n",
       "      <td>Female</td>\n",
       "      <td>Head of Household</td>\n",
       "      <td>Married/Living together</td>\n",
       "      <td>Primary education</td>\n",
       "      <td>Remittance Dependent</td>\n",
       "    </tr>\n",
       "    <tr>\n",
       "      <th>4</th>\n",
       "      <td>Kenya</td>\n",
       "      <td>2018</td>\n",
       "      <td>uniqueid_6073</td>\n",
       "      <td>Urban</td>\n",
       "      <td>No</td>\n",
       "      <td>3</td>\n",
       "      <td>16</td>\n",
       "      <td>Male</td>\n",
       "      <td>Child</td>\n",
       "      <td>Single/Never Married</td>\n",
       "      <td>Secondary education</td>\n",
       "      <td>Remittance Dependent</td>\n",
       "    </tr>\n",
       "  </tbody>\n",
       "</table>\n",
       "</div>"
      ],
      "text/plain": [
       "  country  year       uniqueid location_type cellphone_access  household_size  \\\n",
       "0   Kenya  2018  uniqueid_6056         Urban              Yes               3   \n",
       "1   Kenya  2018  uniqueid_6060         Urban              Yes               7   \n",
       "2   Kenya  2018  uniqueid_6065         Rural               No               3   \n",
       "3   Kenya  2018  uniqueid_6072         Rural               No               6   \n",
       "4   Kenya  2018  uniqueid_6073         Urban               No               3   \n",
       "\n",
       "   age_of_respondent gender_of_respondent relationship_with_head  \\\n",
       "0                 30                 Male      Head of Household   \n",
       "1                 51                 Male      Head of Household   \n",
       "2                 77               Female                 Parent   \n",
       "3                 39               Female      Head of Household   \n",
       "4                 16                 Male                  Child   \n",
       "\n",
       "            marital_status                  education_level  \\\n",
       "0  Married/Living together              Secondary education   \n",
       "1  Married/Living together  Vocational/Specialised training   \n",
       "2  Married/Living together              No formal education   \n",
       "3  Married/Living together                Primary education   \n",
       "4     Single/Never Married              Secondary education   \n",
       "\n",
       "                       job_type  \n",
       "0  Formally employed Government  \n",
       "1     Formally employed Private  \n",
       "2          Remittance Dependent  \n",
       "3          Remittance Dependent  \n",
       "4          Remittance Dependent  "
      ]
     },
     "execution_count": 5,
     "metadata": {},
     "output_type": "execute_result"
    }
   ],
   "source": [
    "test.head()"
   ]
  },
  {
   "cell_type": "markdown",
   "id": "f946cc8b-1329-4024-bf18-7cd18271e6e2",
   "metadata": {},
   "source": [
    "# Explolatory Data Analysis\n",
    "*This is the process of finding some insights from you dataset before create predictive models.*\n",
    "\n",
    "Note: This is important steps in your Data science workflow."
   ]
  },
  {
   "cell_type": "code",
   "execution_count": 6,
   "id": "6e9a2beb-ff5c-419a-8ec2-18cd9ffe53ff",
   "metadata": {},
   "outputs": [
    {
     "name": "stdout",
     "output_type": "stream",
     "text": [
      "<class 'pandas.core.frame.DataFrame'>\n",
      "RangeIndex: 23524 entries, 0 to 23523\n",
      "Data columns (total 13 columns):\n",
      " #   Column                  Non-Null Count  Dtype \n",
      "---  ------                  --------------  ----- \n",
      " 0   country                 23524 non-null  object\n",
      " 1   year                    23524 non-null  int64 \n",
      " 2   uniqueid                23524 non-null  object\n",
      " 3   bank_account            23524 non-null  object\n",
      " 4   location_type           23524 non-null  object\n",
      " 5   cellphone_access        23524 non-null  object\n",
      " 6   household_size          23524 non-null  int64 \n",
      " 7   age_of_respondent       23524 non-null  int64 \n",
      " 8   gender_of_respondent    23524 non-null  object\n",
      " 9   relationship_with_head  23524 non-null  object\n",
      " 10  marital_status          23524 non-null  object\n",
      " 11  education_level         23524 non-null  object\n",
      " 12  job_type                23524 non-null  object\n",
      "dtypes: int64(3), object(10)\n",
      "memory usage: 2.3+ MB\n"
     ]
    }
   ],
   "source": [
    "train.info()"
   ]
  },
  {
   "cell_type": "markdown",
   "id": "d7f20b6c-50eb-430e-876e-3d496013e490",
   "metadata": {},
   "source": [
    "## Let see the statistical overview of our dataset"
   ]
  },
  {
   "cell_type": "code",
   "execution_count": 7,
   "id": "25aefcce-ab5f-4f59-90ba-762107e6d28b",
   "metadata": {},
   "outputs": [
    {
     "data": {
      "text/html": [
       "<div>\n",
       "<style scoped>\n",
       "    .dataframe tbody tr th:only-of-type {\n",
       "        vertical-align: middle;\n",
       "    }\n",
       "\n",
       "    .dataframe tbody tr th {\n",
       "        vertical-align: top;\n",
       "    }\n",
       "\n",
       "    .dataframe thead th {\n",
       "        text-align: right;\n",
       "    }\n",
       "</style>\n",
       "<table border=\"1\" class=\"dataframe\">\n",
       "  <thead>\n",
       "    <tr style=\"text-align: right;\">\n",
       "      <th></th>\n",
       "      <th>year</th>\n",
       "      <th>household_size</th>\n",
       "      <th>age_of_respondent</th>\n",
       "    </tr>\n",
       "  </thead>\n",
       "  <tbody>\n",
       "    <tr>\n",
       "      <th>count</th>\n",
       "      <td>23524.000000</td>\n",
       "      <td>23524.000000</td>\n",
       "      <td>23524.000000</td>\n",
       "    </tr>\n",
       "    <tr>\n",
       "      <th>mean</th>\n",
       "      <td>2016.975939</td>\n",
       "      <td>3.797483</td>\n",
       "      <td>38.805220</td>\n",
       "    </tr>\n",
       "    <tr>\n",
       "      <th>std</th>\n",
       "      <td>0.847371</td>\n",
       "      <td>2.227613</td>\n",
       "      <td>16.520569</td>\n",
       "    </tr>\n",
       "    <tr>\n",
       "      <th>min</th>\n",
       "      <td>2016.000000</td>\n",
       "      <td>1.000000</td>\n",
       "      <td>16.000000</td>\n",
       "    </tr>\n",
       "    <tr>\n",
       "      <th>25%</th>\n",
       "      <td>2016.000000</td>\n",
       "      <td>2.000000</td>\n",
       "      <td>26.000000</td>\n",
       "    </tr>\n",
       "    <tr>\n",
       "      <th>50%</th>\n",
       "      <td>2017.000000</td>\n",
       "      <td>3.000000</td>\n",
       "      <td>35.000000</td>\n",
       "    </tr>\n",
       "    <tr>\n",
       "      <th>75%</th>\n",
       "      <td>2018.000000</td>\n",
       "      <td>5.000000</td>\n",
       "      <td>49.000000</td>\n",
       "    </tr>\n",
       "    <tr>\n",
       "      <th>max</th>\n",
       "      <td>2018.000000</td>\n",
       "      <td>21.000000</td>\n",
       "      <td>100.000000</td>\n",
       "    </tr>\n",
       "  </tbody>\n",
       "</table>\n",
       "</div>"
      ],
      "text/plain": [
       "               year  household_size  age_of_respondent\n",
       "count  23524.000000    23524.000000       23524.000000\n",
       "mean    2016.975939        3.797483          38.805220\n",
       "std        0.847371        2.227613          16.520569\n",
       "min     2016.000000        1.000000          16.000000\n",
       "25%     2016.000000        2.000000          26.000000\n",
       "50%     2017.000000        3.000000          35.000000\n",
       "75%     2018.000000        5.000000          49.000000\n",
       "max     2018.000000       21.000000         100.000000"
      ]
     },
     "execution_count": 7,
     "metadata": {},
     "output_type": "execute_result"
    }
   ],
   "source": [
    "# describe will show statistical info\n",
    "train.describe()"
   ]
  },
  {
   "cell_type": "markdown",
   "id": "ee90f807-f43a-4abf-a9b8-fd91b6f22697",
   "metadata": {},
   "source": [
    "From the above cell we can see that most of our features are categorical because ony 3 columns are numerical that's why it shows only those 3 with the mean, count, standard deviation also the minimum value of each columns the maximum value of each columns along with the interquartile range"
   ]
  },
  {
   "cell_type": "code",
   "execution_count": 8,
   "id": "e0155400-5c43-4df3-9170-e701412f885b",
   "metadata": {},
   "outputs": [
    {
     "name": "stdout",
     "output_type": "stream",
     "text": [
      "<class 'pandas.core.frame.DataFrame'>\n",
      "RangeIndex: 23524 entries, 0 to 23523\n",
      "Data columns (total 13 columns):\n",
      " #   Column                  Non-Null Count  Dtype \n",
      "---  ------                  --------------  ----- \n",
      " 0   country                 23524 non-null  object\n",
      " 1   year                    23524 non-null  int64 \n",
      " 2   uniqueid                23524 non-null  object\n",
      " 3   bank_account            23524 non-null  object\n",
      " 4   location_type           23524 non-null  object\n",
      " 5   cellphone_access        23524 non-null  object\n",
      " 6   household_size          23524 non-null  int64 \n",
      " 7   age_of_respondent       23524 non-null  int64 \n",
      " 8   gender_of_respondent    23524 non-null  object\n",
      " 9   relationship_with_head  23524 non-null  object\n",
      " 10  marital_status          23524 non-null  object\n",
      " 11  education_level         23524 non-null  object\n",
      " 12  job_type                23524 non-null  object\n",
      "dtypes: int64(3), object(10)\n",
      "memory usage: 2.3+ MB\n"
     ]
    }
   ],
   "source": [
    "train.info()"
   ]
  },
  {
   "cell_type": "markdown",
   "id": "b03c78ad-344b-454f-85d3-0c36bc87248c",
   "metadata": {},
   "source": [
    "From this info method we got to know more about our data it first show us the number of non null count als the datatype of each columns along with the total number of each datatypes we have. It shows here that we have 3 features with *int* dataypte and 10 *objects* datatype also it tell us about the size of the file we have which is in our case 2.3MB"
   ]
  },
  {
   "cell_type": "code",
   "execution_count": 9,
   "id": "d2166a6f-4288-4cd9-92f2-243dc1e16d8e",
   "metadata": {},
   "outputs": [
    {
     "data": {
      "text/plain": [
       "(23524, 13)"
      ]
     },
     "execution_count": 9,
     "metadata": {},
     "output_type": "execute_result"
    }
   ],
   "source": [
    "# to show the shape of the data\n",
    "train.shape"
   ]
  },
  {
   "cell_type": "code",
   "execution_count": 10,
   "id": "1e8d97c5-a551-42ef-95f2-7e3140973172",
   "metadata": {},
   "outputs": [
    {
     "data": {
      "text/plain": [
       "2016    8735\n",
       "2018    8169\n",
       "2017    6620\n",
       "Name: year, dtype: int64"
      ]
     },
     "execution_count": 10,
     "metadata": {},
     "output_type": "execute_result"
    }
   ],
   "source": [
    "train.year.value_counts()"
   ]
  },
  {
   "cell_type": "markdown",
   "id": "7ace16cb-1349-484f-88d5-5ee96a3816c1",
   "metadata": {},
   "source": [
    "### Target Distribution"
   ]
  },
  {
   "cell_type": "code",
   "execution_count": 11,
   "id": "311bd0ca-7244-42c1-a3bb-53a4218b8c84",
   "metadata": {},
   "outputs": [
    {
     "data": {
      "text/plain": [
       "<AxesSubplot:title={'center':'Unbalance classes'}, xlabel='bank_account', ylabel='count'>"
      ]
     },
     "execution_count": 11,
     "metadata": {},
     "output_type": "execute_result"
    },
    {
     "data": {
      "image/png": "[encoded data removed]",
      "text/plain": [
       "<Figure size 432x288 with 1 Axes>"
      ]
     },
     "metadata": {
      "needs_background": "light"
     },
     "output_type": "display_data"
    }
   ],
   "source": [
    "plt.title(\"Unbalance classes\")\n",
    "sns.countplot(train.bank_account)"
   ]
  },
  {
   "cell_type": "markdown",
   "id": "5b34f07f-4765-4dc2-b8a5-e89364bcf842",
   "metadata": {},
   "source": [
    "Before we move futher we are going to encode the target variable **yes** to 1 and **No** to 0 accordingly."
   ]
  },
  {
   "cell_type": "code",
   "execution_count": 12,
   "id": "29e19d37-26b4-4f00-862e-f5e4cf725188",
   "metadata": {},
   "outputs": [
    {
     "data": {
      "text/plain": [
       "0        1\n",
       "1        0\n",
       "2        1\n",
       "3        0\n",
       "4        0\n",
       "        ..\n",
       "23519    0\n",
       "23520    0\n",
       "23521    0\n",
       "23522    0\n",
       "23523    0\n",
       "Name: bank_account, Length: 23524, dtype: int64"
      ]
     },
     "execution_count": 12,
     "metadata": {},
     "output_type": "execute_result"
    }
   ],
   "source": [
    "train[\"bank_account\"] = train[\"bank_account\"].map({\"Yes\": 1, \"No\": 0})\n",
    "train.bank_account"
   ]
  },
  {
   "cell_type": "markdown",
   "id": "9ea5d7e0-6e4a-4fd1-90c7-e3cc7cef40e5",
   "metadata": {},
   "source": [
    "From the above cell we can see that we have unbalanced data basically the number of No is much higher than the number of yes which can lead to poor model performence sometimes. In this can we've about 2500 yes and 20000 No which gives us a big difference later on we will what we can do for this ."
   ]
  },
  {
   "cell_type": "markdown",
   "id": "efd705fe-273c-4fc2-8747-2667f33aa62c",
   "metadata": {},
   "source": [
    "### Let's see the percentage of missing data"
   ]
  },
  {
   "cell_type": "code",
   "execution_count": 13,
   "id": "387e76c4-dd86-4e85-aabd-cb0f64b458fb",
   "metadata": {},
   "outputs": [
    {
     "data": {
      "image/png": "[encoded data removed]",
      "text/plain": [
       "<Figure size 648x720 with 1 Axes>"
      ]
     },
     "metadata": {
      "needs_background": "light"
     },
     "output_type": "display_data"
    }
   ],
   "source": [
    "# Check if there any missing values in train set\n",
    "ax = train.isna().sum().sort_values().plot(kind=\"barh\", figsize=(9, 10))\n",
    "plt.title(\"Percentage of Missing Values Per Column in Train Set\", fontdict={\"size\": 15})\n",
    "for p in ax.patches:\n",
    "    percentage = \"{:,.0f}%\".format((p.get_width() / train.shape[0]) * 100)\n",
    "    width, height = p.get_width(), p.get_height()\n",
    "    x = p.get_x() + width + 0.02\n",
    "    y = p.get_y() + height / 2\n",
    "    ax.annotate(percentage, (x, y))"
   ]
  },
  {
   "cell_type": "markdown",
   "id": "31e05354-01d9-4c1a-96a5-a3c1abcb9bde",
   "metadata": {},
   "source": [
    "It shows that we don't have any missing values which is good"
   ]
  },
  {
   "cell_type": "markdown",
   "id": "3313a1f3-c73e-486e-ab89-ce1dacecff10",
   "metadata": {},
   "source": [
    "### Let's see the disctribution of the people with cellphone based on gender."
   ]
  },
  {
   "cell_type": "code",
   "execution_count": 14,
   "id": "6d89982f-667d-4da6-a102-4ada7a5eee0c",
   "metadata": {},
   "outputs": [
    {
     "data": {
      "image/png": "[encoded data removed]",
      "text/plain": [
       "<Figure size 479.75x360 with 1 Axes>"
      ]
     },
     "metadata": {
      "needs_background": "light"
     },
     "output_type": "display_data"
    }
   ],
   "source": [
    "sns.catplot(x=\"cellphone_access\", data=train, kind=\"count\", hue=\"gender_of_respondent\")\n",
    "plt.show()"
   ]
  },
  {
   "cell_type": "markdown",
   "id": "efeca5a7-c772-4938-8372-1b8bee4bb34e",
   "metadata": {},
   "source": [
    "This shows that number of male having cellphones is higher than the numbero female in this case."
   ]
  },
  {
   "cell_type": "markdown",
   "id": "f2f58cef-0524-481a-8cb6-afb0bbc1e61d",
   "metadata": {},
   "source": [
    "## Let's see the distribution of age"
   ]
  },
  {
   "cell_type": "code",
   "execution_count": 15,
   "id": "acc49e47-b963-47e3-9589-4242c33bb232",
   "metadata": {},
   "outputs": [
    {
     "data": {
      "text/plain": [
       "<AxesSubplot:xlabel='age_of_respondent', ylabel='Density'>"
      ]
     },
     "execution_count": 15,
     "metadata": {},
     "output_type": "execute_result"
    },
    {
     "data": {
      "image/png": "[encoded data removed]",
      "text/plain": [
       "<Figure size 432x288 with 1 Axes>"
      ]
     },
     "metadata": {
      "needs_background": "light"
     },
     "output_type": "display_data"
    }
   ],
   "source": [
    "sns.distplot(train.age_of_respondent)"
   ]
  },
  {
   "cell_type": "markdown",
   "id": "3f02426c-d19d-427b-a787-8014900f8675",
   "metadata": {},
   "source": [
    "This distribution make sense because we have age range from 16 years old to 100 year"
   ]
  },
  {
   "cell_type": "code",
   "execution_count": 16,
   "id": "0cc5c995-adc5-4388-9911-ab9360ce5052",
   "metadata": {},
   "outputs": [
    {
     "data": {
      "image/png": "[encoded data removed]",
      "text/plain": [
       "<Figure size 432x288 with 1 Axes>"
      ]
     },
     "metadata": {
      "needs_background": "light"
     },
     "output_type": "display_data"
    }
   ],
   "source": [
    "# Distribution of the gender\n",
    "sns.countplot(train.gender_of_respondent, hue=\"bank_account\", data=train)\n",
    "plt.show()"
   ]
  },
  {
   "cell_type": "markdown",
   "id": "a6bde4ef-5417-44df-9f8b-cd8b5ddd3065",
   "metadata": {},
   "source": [
    "we can see that the number of female that have bank account is higher than the number of male with a bank account. "
   ]
  },
  {
   "cell_type": "code",
   "execution_count": 17,
   "id": "c011b253-3fb0-4674-846a-6895be3835f4",
   "metadata": {},
   "outputs": [
    {
     "data": {
      "image/png": "[encoded data removed]",
      "text/plain": [
       "<Figure size 1080x504 with 1 Axes>"
      ]
     },
     "metadata": {
      "needs_background": "light"
     },
     "output_type": "display_data"
    }
   ],
   "source": [
    "# distribution of job type\n",
    "plt.figure(figsize=(15, 7))\n",
    "sns.countplot(train.job_type, orient=\"h\", hue=\"bank_account\", data=train)\n",
    "labels = [\n",
    "    \"Self employed\",\n",
    "    \"Government Dependent\",\n",
    "    \"Formally employed Private\",\n",
    "    \"Informally employed\",\n",
    "    \"Formally employed Government\",\n",
    "    \"Farming and Fishing\",\n",
    "    \"Remittance Dependent\",\n",
    "    \"Other Income\",\n",
    "    \"Dont Know/Refuse to answer\",\n",
    "    \"No Income\",\n",
    "]\n",
    "ax = plt.gca()\n",
    "ax.set_xticklabels(labels=labels, rotation=70);"
   ]
  },
  {
   "cell_type": "markdown",
   "id": "0dfbf759-16eb-47c8-8bb1-3864963bb4cb",
   "metadata": {},
   "source": [
    "we can see from the above graph the the people who are self employed and farming and fishing are those who are more likely to have bank account as compare to the those who work for the Government or other income. \n",
    "We can notice also those who don't have no Income and does who reuse to answer don't have high chance of having bank account."
   ]
  },
  {
   "cell_type": "code",
   "execution_count": 18,
   "id": "f9abb468-32ea-47be-9698-14dcf758352d",
   "metadata": {},
   "outputs": [
    {
     "data": {
      "text/plain": [
       "<AxesSubplot:xlabel='location_type', ylabel='count'>"
      ]
     },
     "execution_count": 18,
     "metadata": {},
     "output_type": "execute_result"
    },
    {
     "data": {
      "image/png": "[encoded data removed]",
      "text/plain": [
       "<Figure size 432x288 with 1 Axes>"
      ]
     },
     "metadata": {
      "needs_background": "light"
     },
     "output_type": "display_data"
    }
   ],
   "source": [
    "# Distribution of the location based on account\n",
    "sns.countplot(train.location_type, hue=\"bank_account\", data=train)"
   ]
  },
  {
   "cell_type": "markdown",
   "id": "71a4ca40-a079-451c-b949-0ecde4931621",
   "metadata": {
    "tags": []
   },
   "source": [
    "We can see that people in Urban area is have more chance to have bank_account than those who are in Rural area although we can see also the number people in Rural area is higher."
   ]
  },
  {
   "cell_type": "code",
   "execution_count": 19,
   "id": "7b7a9feb-2662-4d08-9730-fcadea407ab3",
   "metadata": {},
   "outputs": [
    {
     "data": {
      "text/plain": [
       "<AxesSubplot:xlabel='household_size', ylabel='count'>"
      ]
     },
     "execution_count": 19,
     "metadata": {},
     "output_type": "execute_result"
    },
    {
     "data": {
      "image/png": "[encoded data removed]",
      "text/plain": [
       "<Figure size 432x288 with 1 Axes>"
      ]
     },
     "metadata": {
      "needs_background": "light"
     },
     "output_type": "display_data"
    }
   ],
   "source": [
    "# Distirbution of the household_size\n",
    "sns.countplot(train.household_size, hue=\"bank_account\", data=train)"
   ]
  },
  {
   "cell_type": "markdown",
   "id": "1b98c1d1-c5ee-4e39-83c1-92c166a588ee",
   "metadata": {},
   "source": [
    "## How many people have cellphone"
   ]
  },
  {
   "cell_type": "code",
   "execution_count": 20,
   "id": "1fc32588-7913-4a2c-b6a2-3c88fe0a7bbc",
   "metadata": {},
   "outputs": [
    {
     "data": {
      "text/plain": [
       "17454"
      ]
     },
     "execution_count": 20,
     "metadata": {},
     "output_type": "execute_result"
    }
   ],
   "source": [
    "train.cellphone_access.value_counts()[0]"
   ]
  },
  {
   "cell_type": "markdown",
   "id": "2353aafb-3d49-4f6b-bfdc-25fd48bbb9ea",
   "metadata": {},
   "source": [
    "we can see that the number of people who have cellphone access is 17454 which is more than the half which make more sense in this case"
   ]
  },
  {
   "cell_type": "markdown",
   "id": "636107a5-a82a-4bc1-ad7a-faef955c70ac",
   "metadata": {},
   "source": [
    "### How many types of education do the dataset has?"
   ]
  },
  {
   "cell_type": "code",
   "execution_count": 21,
   "id": "a5cb5c13-4042-413c-96b9-3b8b89ae0db4",
   "metadata": {},
   "outputs": [
    {
     "data": {
      "text/plain": [
       "array(['Secondary education', 'No formal education',\n",
       "       'Vocational/Specialised training', 'Primary education',\n",
       "       'Tertiary education', 'Other/Dont know/RTA'], dtype=object)"
      ]
     },
     "execution_count": 21,
     "metadata": {},
     "output_type": "execute_result"
    }
   ],
   "source": [
    "train.education_level.unique()"
   ]
  },
  {
   "cell_type": "code",
   "execution_count": 22,
   "id": "4679b658-6782-416f-87d2-6e9d827ef36c",
   "metadata": {},
   "outputs": [
    {
     "data": {
      "image/png": "[encoded data removed]",
      "text/plain": [
       "<Figure size 432x288 with 1 Axes>"
      ]
     },
     "metadata": {
      "needs_background": "light"
     },
     "output_type": "display_data"
    }
   ],
   "source": [
    "sns.countplot(train.education_level, hue=\"bank_account\", data=train)\n",
    "labels = [\n",
    "    \"Secondary education\",\n",
    "    \"No formal education\",\n",
    "    \"Vocational/Specialised training\",\n",
    "    \"Primary education\",\n",
    "    \"Tertiary education\",\n",
    "    \"Other/Dont know/RTA\",\n",
    "]\n",
    "ax = plt.gca()\n",
    "ax.set_xticklabels(labels=labels, rotation=50);"
   ]
  },
  {
   "cell_type": "markdown",
   "id": "cc5cb797-52ab-42cd-955d-b300d171bca2",
   "metadata": {},
   "source": [
    "we can see that the vocational/ specialised training is the majority in this case and we have few people with No formal education"
   ]
  },
  {
   "cell_type": "code",
   "execution_count": 23,
   "id": "a75da0e6-bb56-4fd5-bf2c-b71c75d5f522",
   "metadata": {},
   "outputs": [
    {
     "data": {
      "text/plain": [
       "Married/Living together    10749\n",
       "Single/Never Married        7983\n",
       "Widowed                     2708\n",
       "Divorced/Seperated          2076\n",
       "Dont know                      8\n",
       "Name: marital_status, dtype: int64"
      ]
     },
     "execution_count": 23,
     "metadata": {},
     "output_type": "execute_result"
    }
   ],
   "source": [
    "train.marital_status.value_counts()"
   ]
  },
  {
   "cell_type": "code",
   "execution_count": 24,
   "id": "375dda02-2de1-41a9-a377-b4c217cc9dd2",
   "metadata": {},
   "outputs": [
    {
     "data": {
      "image/png": "[encoded data removed]",
      "text/plain": [
       "<Figure size 432x288 with 1 Axes>"
      ]
     },
     "metadata": {
      "needs_background": "light"
     },
     "output_type": "display_data"
    }
   ],
   "source": [
    "sns.countplot(train.marital_status, hue=\"bank_account\", data=train)\n",
    "labels = [\n",
    "    \"Married/Living together\",\n",
    "    \"Widowed\",\n",
    "    \"Single/Never Married\",\n",
    "    \"Divorced/Seperated\",\n",
    "    \"Dont know\",\n",
    "]\n",
    "ax = plt.gca()\n",
    "ax.set_xticklabels(labels=labels, rotation=50);"
   ]
  },
  {
   "cell_type": "markdown",
   "id": "ea4bd304-8f9b-4a11-a9bf-e9bfdf096492",
   "metadata": {},
   "source": [
    "This shows that people who are married and living together are more likely to have a bank account as compare to ther slike single or divorced"
   ]
  },
  {
   "cell_type": "code",
   "execution_count": 25,
   "id": "d5e05536-080a-4dec-aad5-df271ae386c6",
   "metadata": {},
   "outputs": [],
   "source": [
    "# Separate training features from target\n",
    "X_train = train.drop([\"bank_account\"], axis=1)\n",
    "y_train = train[\"bank_account\"]"
   ]
  },
  {
   "cell_type": "code",
   "execution_count": 26,
   "id": "5983be30-c7f6-4432-8dfb-18a92d7856d9",
   "metadata": {},
   "outputs": [
    {
     "data": {
      "text/plain": [
       "0    1\n",
       "1    0\n",
       "2    1\n",
       "3    0\n",
       "4    0\n",
       "Name: bank_account, dtype: int64"
      ]
     },
     "execution_count": 26,
     "metadata": {},
     "output_type": "execute_result"
    }
   ],
   "source": [
    "# target\n",
    "y_train.head()"
   ]
  },
  {
   "cell_type": "code",
   "execution_count": 27,
   "id": "28bcb2dc-1b75-4e8c-9f6d-03181c97cd17",
   "metadata": {},
   "outputs": [],
   "source": [
    "train[\"country+location\"] = train[\"country\"] + train[\"location_type\"]\n",
    "train[\"location+cellphone_access\"] = train[\"location_type\"] + train[\"cellphone_access\"]\n",
    "train[\"gender+cellphone_access\"] = (\n",
    "    train[\"gender_of_respondent\"] + train[\"cellphone_access\"]\n",
    ")\n",
    "train[\"country+cellphone_access\"] = train[\"country\"] + train[\"cellphone_access\"]"
   ]
  },
  {
   "cell_type": "code",
   "execution_count": 28,
   "id": "6b700ddd-265f-4b48-8940-d7f7b3174f12",
   "metadata": {},
   "outputs": [],
   "source": [
    "test[\"country+location\"] = test[\"country\"] + test[\"location_type\"]\n",
    "test[\"location+cellphone_access\"] = test[\"location_type\"] + test[\"cellphone_access\"]\n",
    "test[\"gender+cellphone_access\"] = (\n",
    "    test[\"gender_of_respondent\"] + test[\"cellphone_access\"]\n",
    ")\n",
    "test[\"country+cellphone_access\"] = test[\"country\"] + test[\"cellphone_access\"]"
   ]
  },
  {
   "cell_type": "code",
   "execution_count": 29,
   "id": "71b2c91b-a401-4f36-8c6f-9ae4eeb695f8",
   "metadata": {},
   "outputs": [],
   "source": [
    "df = train.drop([\"uniqueid\", \"year\"], 1)"
   ]
  },
  {
   "cell_type": "code",
   "execution_count": 30,
   "id": "3163c57a-86fe-4b51-adbf-d7f053eacfe2",
   "metadata": {},
   "outputs": [],
   "source": [
    "col_test = test.uniqueid\n",
    "test = test.drop(\"uniqueid\", 1)"
   ]
  },
  {
   "cell_type": "code",
   "execution_count": 31,
   "id": "86811650-d1a5-4370-a058-6e0ea0ed8d17",
   "metadata": {},
   "outputs": [
    {
     "data": {
      "text/html": [
       "<div>\n",
       "<style scoped>\n",
       "    .dataframe tbody tr th:only-of-type {\n",
       "        vertical-align: middle;\n",
       "    }\n",
       "\n",
       "    .dataframe tbody tr th {\n",
       "        vertical-align: top;\n",
       "    }\n",
       "\n",
       "    .dataframe thead th {\n",
       "        text-align: right;\n",
       "    }\n",
       "</style>\n",
       "<table border=\"1\" class=\"dataframe\">\n",
       "  <thead>\n",
       "    <tr style=\"text-align: right;\">\n",
       "      <th></th>\n",
       "      <th>country</th>\n",
       "      <th>year</th>\n",
       "      <th>location_type</th>\n",
       "      <th>cellphone_access</th>\n",
       "      <th>household_size</th>\n",
       "      <th>age_of_respondent</th>\n",
       "      <th>gender_of_respondent</th>\n",
       "      <th>relationship_with_head</th>\n",
       "      <th>marital_status</th>\n",
       "      <th>education_level</th>\n",
       "      <th>job_type</th>\n",
       "      <th>country+location</th>\n",
       "      <th>location+cellphone_access</th>\n",
       "      <th>gender+cellphone_access</th>\n",
       "      <th>country+cellphone_access</th>\n",
       "    </tr>\n",
       "  </thead>\n",
       "  <tbody>\n",
       "    <tr>\n",
       "      <th>0</th>\n",
       "      <td>Kenya</td>\n",
       "      <td>2018</td>\n",
       "      <td>Urban</td>\n",
       "      <td>Yes</td>\n",
       "      <td>3</td>\n",
       "      <td>30</td>\n",
       "      <td>Male</td>\n",
       "      <td>Head of Household</td>\n",
       "      <td>Married/Living together</td>\n",
       "      <td>Secondary education</td>\n",
       "      <td>Formally employed Government</td>\n",
       "      <td>KenyaUrban</td>\n",
       "      <td>UrbanYes</td>\n",
       "      <td>MaleYes</td>\n",
       "      <td>KenyaYes</td>\n",
       "    </tr>\n",
       "    <tr>\n",
       "      <th>1</th>\n",
       "      <td>Kenya</td>\n",
       "      <td>2018</td>\n",
       "      <td>Urban</td>\n",
       "      <td>Yes</td>\n",
       "      <td>7</td>\n",
       "      <td>51</td>\n",
       "      <td>Male</td>\n",
       "      <td>Head of Household</td>\n",
       "      <td>Married/Living together</td>\n",
       "      <td>Vocational/Specialised training</td>\n",
       "      <td>Formally employed Private</td>\n",
       "      <td>KenyaUrban</td>\n",
       "      <td>UrbanYes</td>\n",
       "      <td>MaleYes</td>\n",
       "      <td>KenyaYes</td>\n",
       "    </tr>\n",
       "    <tr>\n",
       "      <th>2</th>\n",
       "      <td>Kenya</td>\n",
       "      <td>2018</td>\n",
       "      <td>Rural</td>\n",
       "      <td>No</td>\n",
       "      <td>3</td>\n",
       "      <td>77</td>\n",
       "      <td>Female</td>\n",
       "      <td>Parent</td>\n",
       "      <td>Married/Living together</td>\n",
       "      <td>No formal education</td>\n",
       "      <td>Remittance Dependent</td>\n",
       "      <td>KenyaRural</td>\n",
       "      <td>RuralNo</td>\n",
       "      <td>FemaleNo</td>\n",
       "      <td>KenyaNo</td>\n",
       "    </tr>\n",
       "    <tr>\n",
       "      <th>3</th>\n",
       "      <td>Kenya</td>\n",
       "      <td>2018</td>\n",
       "      <td>Rural</td>\n",
       "      <td>No</td>\n",
       "      <td>6</td>\n",
       "      <td>39</td>\n",
       "      <td>Female</td>\n",
       "      <td>Head of Household</td>\n",
       "      <td>Married/Living together</td>\n",
       "      <td>Primary education</td>\n",
       "      <td>Remittance Dependent</td>\n",
       "      <td>KenyaRural</td>\n",
       "      <td>RuralNo</td>\n",
       "      <td>FemaleNo</td>\n",
       "      <td>KenyaNo</td>\n",
       "    </tr>\n",
       "    <tr>\n",
       "      <th>4</th>\n",
       "      <td>Kenya</td>\n",
       "      <td>2018</td>\n",
       "      <td>Urban</td>\n",
       "      <td>No</td>\n",
       "      <td>3</td>\n",
       "      <td>16</td>\n",
       "      <td>Male</td>\n",
       "      <td>Child</td>\n",
       "      <td>Single/Never Married</td>\n",
       "      <td>Secondary education</td>\n",
       "      <td>Remittance Dependent</td>\n",
       "      <td>KenyaUrban</td>\n",
       "      <td>UrbanNo</td>\n",
       "      <td>MaleNo</td>\n",
       "      <td>KenyaNo</td>\n",
       "    </tr>\n",
       "  </tbody>\n",
       "</table>\n",
       "</div>"
      ],
      "text/plain": [
       "  country  year location_type cellphone_access  household_size  \\\n",
       "0   Kenya  2018         Urban              Yes               3   \n",
       "1   Kenya  2018         Urban              Yes               7   \n",
       "2   Kenya  2018         Rural               No               3   \n",
       "3   Kenya  2018         Rural               No               6   \n",
       "4   Kenya  2018         Urban               No               3   \n",
       "\n",
       "   age_of_respondent gender_of_respondent relationship_with_head  \\\n",
       "0                 30                 Male      Head of Household   \n",
       "1                 51                 Male      Head of Household   \n",
       "2                 77               Female                 Parent   \n",
       "3                 39               Female      Head of Household   \n",
       "4                 16                 Male                  Child   \n",
       "\n",
       "            marital_status                  education_level  \\\n",
       "0  Married/Living together              Secondary education   \n",
       "1  Married/Living together  Vocational/Specialised training   \n",
       "2  Married/Living together              No formal education   \n",
       "3  Married/Living together                Primary education   \n",
       "4     Single/Never Married              Secondary education   \n",
       "\n",
       "                       job_type country+location location+cellphone_access  \\\n",
       "0  Formally employed Government       KenyaUrban                  UrbanYes   \n",
       "1     Formally employed Private       KenyaUrban                  UrbanYes   \n",
       "2          Remittance Dependent       KenyaRural                   RuralNo   \n",
       "3          Remittance Dependent       KenyaRural                   RuralNo   \n",
       "4          Remittance Dependent       KenyaUrban                   UrbanNo   \n",
       "\n",
       "  gender+cellphone_access country+cellphone_access  \n",
       "0                 MaleYes                 KenyaYes  \n",
       "1                 MaleYes                 KenyaYes  \n",
       "2                FemaleNo                  KenyaNo  \n",
       "3                FemaleNo                  KenyaNo  \n",
       "4                  MaleNo                  KenyaNo  "
      ]
     },
     "execution_count": 31,
     "metadata": {},
     "output_type": "execute_result"
    }
   ],
   "source": [
    "test.head()"
   ]
  },
  {
   "cell_type": "code",
   "execution_count": 32,
   "id": "7600e5c0-9504-4bff-ae0f-950255e0fed7",
   "metadata": {},
   "outputs": [
    {
     "data": {
      "text/html": [
       "<div>\n",
       "<style scoped>\n",
       "    .dataframe tbody tr th:only-of-type {\n",
       "        vertical-align: middle;\n",
       "    }\n",
       "\n",
       "    .dataframe tbody tr th {\n",
       "        vertical-align: top;\n",
       "    }\n",
       "\n",
       "    .dataframe thead th {\n",
       "        text-align: right;\n",
       "    }\n",
       "</style>\n",
       "<table border=\"1\" class=\"dataframe\">\n",
       "  <thead>\n",
       "    <tr style=\"text-align: right;\">\n",
       "      <th></th>\n",
       "      <th>country</th>\n",
       "      <th>bank_account</th>\n",
       "      <th>location_type</th>\n",
       "      <th>cellphone_access</th>\n",
       "      <th>household_size</th>\n",
       "      <th>age_of_respondent</th>\n",
       "      <th>gender_of_respondent</th>\n",
       "      <th>relationship_with_head</th>\n",
       "      <th>marital_status</th>\n",
       "      <th>education_level</th>\n",
       "      <th>job_type</th>\n",
       "      <th>country+location</th>\n",
       "      <th>location+cellphone_access</th>\n",
       "      <th>gender+cellphone_access</th>\n",
       "      <th>country+cellphone_access</th>\n",
       "    </tr>\n",
       "  </thead>\n",
       "  <tbody>\n",
       "    <tr>\n",
       "      <th>0</th>\n",
       "      <td>Kenya</td>\n",
       "      <td>1</td>\n",
       "      <td>Rural</td>\n",
       "      <td>Yes</td>\n",
       "      <td>3</td>\n",
       "      <td>24</td>\n",
       "      <td>Female</td>\n",
       "      <td>Spouse</td>\n",
       "      <td>Married/Living together</td>\n",
       "      <td>Secondary education</td>\n",
       "      <td>Self employed</td>\n",
       "      <td>KenyaRural</td>\n",
       "      <td>RuralYes</td>\n",
       "      <td>FemaleYes</td>\n",
       "      <td>KenyaYes</td>\n",
       "    </tr>\n",
       "    <tr>\n",
       "      <th>1</th>\n",
       "      <td>Kenya</td>\n",
       "      <td>0</td>\n",
       "      <td>Rural</td>\n",
       "      <td>No</td>\n",
       "      <td>5</td>\n",
       "      <td>70</td>\n",
       "      <td>Female</td>\n",
       "      <td>Head of Household</td>\n",
       "      <td>Widowed</td>\n",
       "      <td>No formal education</td>\n",
       "      <td>Government Dependent</td>\n",
       "      <td>KenyaRural</td>\n",
       "      <td>RuralNo</td>\n",
       "      <td>FemaleNo</td>\n",
       "      <td>KenyaNo</td>\n",
       "    </tr>\n",
       "    <tr>\n",
       "      <th>2</th>\n",
       "      <td>Kenya</td>\n",
       "      <td>1</td>\n",
       "      <td>Urban</td>\n",
       "      <td>Yes</td>\n",
       "      <td>5</td>\n",
       "      <td>26</td>\n",
       "      <td>Male</td>\n",
       "      <td>Other relative</td>\n",
       "      <td>Single/Never Married</td>\n",
       "      <td>Vocational/Specialised training</td>\n",
       "      <td>Self employed</td>\n",
       "      <td>KenyaUrban</td>\n",
       "      <td>UrbanYes</td>\n",
       "      <td>MaleYes</td>\n",
       "      <td>KenyaYes</td>\n",
       "    </tr>\n",
       "    <tr>\n",
       "      <th>3</th>\n",
       "      <td>Kenya</td>\n",
       "      <td>0</td>\n",
       "      <td>Rural</td>\n",
       "      <td>Yes</td>\n",
       "      <td>5</td>\n",
       "      <td>34</td>\n",
       "      <td>Female</td>\n",
       "      <td>Head of Household</td>\n",
       "      <td>Married/Living together</td>\n",
       "      <td>Primary education</td>\n",
       "      <td>Formally employed Private</td>\n",
       "      <td>KenyaRural</td>\n",
       "      <td>RuralYes</td>\n",
       "      <td>FemaleYes</td>\n",
       "      <td>KenyaYes</td>\n",
       "    </tr>\n",
       "    <tr>\n",
       "      <th>4</th>\n",
       "      <td>Kenya</td>\n",
       "      <td>0</td>\n",
       "      <td>Urban</td>\n",
       "      <td>No</td>\n",
       "      <td>8</td>\n",
       "      <td>26</td>\n",
       "      <td>Male</td>\n",
       "      <td>Child</td>\n",
       "      <td>Single/Never Married</td>\n",
       "      <td>Primary education</td>\n",
       "      <td>Informally employed</td>\n",
       "      <td>KenyaUrban</td>\n",
       "      <td>UrbanNo</td>\n",
       "      <td>MaleNo</td>\n",
       "      <td>KenyaNo</td>\n",
       "    </tr>\n",
       "  </tbody>\n",
       "</table>\n",
       "</div>"
      ],
      "text/plain": [
       "  country  bank_account location_type cellphone_access  household_size  \\\n",
       "0   Kenya             1         Rural              Yes               3   \n",
       "1   Kenya             0         Rural               No               5   \n",
       "2   Kenya             1         Urban              Yes               5   \n",
       "3   Kenya             0         Rural              Yes               5   \n",
       "4   Kenya             0         Urban               No               8   \n",
       "\n",
       "   age_of_respondent gender_of_respondent relationship_with_head  \\\n",
       "0                 24               Female                 Spouse   \n",
       "1                 70               Female      Head of Household   \n",
       "2                 26                 Male         Other relative   \n",
       "3                 34               Female      Head of Household   \n",
       "4                 26                 Male                  Child   \n",
       "\n",
       "            marital_status                  education_level  \\\n",
       "0  Married/Living together              Secondary education   \n",
       "1                  Widowed              No formal education   \n",
       "2     Single/Never Married  Vocational/Specialised training   \n",
       "3  Married/Living together                Primary education   \n",
       "4     Single/Never Married                Primary education   \n",
       "\n",
       "                    job_type country+location location+cellphone_access  \\\n",
       "0              Self employed       KenyaRural                  RuralYes   \n",
       "1       Government Dependent       KenyaRural                   RuralNo   \n",
       "2              Self employed       KenyaUrban                  UrbanYes   \n",
       "3  Formally employed Private       KenyaRural                  RuralYes   \n",
       "4        Informally employed       KenyaUrban                   UrbanNo   \n",
       "\n",
       "  gender+cellphone_access country+cellphone_access  \n",
       "0               FemaleYes                 KenyaYes  \n",
       "1                FemaleNo                  KenyaNo  \n",
       "2                 MaleYes                 KenyaYes  \n",
       "3               FemaleYes                 KenyaYes  \n",
       "4                  MaleNo                  KenyaNo  "
      ]
     },
     "execution_count": 32,
     "metadata": {},
     "output_type": "execute_result"
    }
   ],
   "source": [
    "df.head()"
   ]
  },
  {
   "cell_type": "code",
   "execution_count": 33,
   "id": "f80bb42d-15e7-452b-8e8b-ded6935b652a",
   "metadata": {},
   "outputs": [
    {
     "data": {
      "text/html": [
       "<div>\n",
       "<style scoped>\n",
       "    .dataframe tbody tr th:only-of-type {\n",
       "        vertical-align: middle;\n",
       "    }\n",
       "\n",
       "    .dataframe tbody tr th {\n",
       "        vertical-align: top;\n",
       "    }\n",
       "\n",
       "    .dataframe thead th {\n",
       "        text-align: right;\n",
       "    }\n",
       "</style>\n",
       "<table border=\"1\" class=\"dataframe\">\n",
       "  <thead>\n",
       "    <tr style=\"text-align: right;\">\n",
       "      <th></th>\n",
       "      <th>bank_account</th>\n",
       "      <th>household_size</th>\n",
       "      <th>age_of_respondent</th>\n",
       "      <th>country_Kenya</th>\n",
       "      <th>country_Rwanda</th>\n",
       "      <th>country_Tanzania</th>\n",
       "      <th>country_Uganda</th>\n",
       "      <th>location_type_Rural</th>\n",
       "      <th>location_type_Urban</th>\n",
       "      <th>cellphone_access_No</th>\n",
       "      <th>...</th>\n",
       "      <th>gender+cellphone_access_MaleNo</th>\n",
       "      <th>gender+cellphone_access_MaleYes</th>\n",
       "      <th>country+cellphone_access_KenyaNo</th>\n",
       "      <th>country+cellphone_access_KenyaYes</th>\n",
       "      <th>country+cellphone_access_RwandaNo</th>\n",
       "      <th>country+cellphone_access_RwandaYes</th>\n",
       "      <th>country+cellphone_access_TanzaniaNo</th>\n",
       "      <th>country+cellphone_access_TanzaniaYes</th>\n",
       "      <th>country+cellphone_access_UgandaNo</th>\n",
       "      <th>country+cellphone_access_UgandaYes</th>\n",
       "    </tr>\n",
       "  </thead>\n",
       "  <tbody>\n",
       "    <tr>\n",
       "      <th>0</th>\n",
       "      <td>1</td>\n",
       "      <td>3</td>\n",
       "      <td>24</td>\n",
       "      <td>1</td>\n",
       "      <td>0</td>\n",
       "      <td>0</td>\n",
       "      <td>0</td>\n",
       "      <td>1</td>\n",
       "      <td>0</td>\n",
       "      <td>0</td>\n",
       "      <td>...</td>\n",
       "      <td>0</td>\n",
       "      <td>0</td>\n",
       "      <td>0</td>\n",
       "      <td>1</td>\n",
       "      <td>0</td>\n",
       "      <td>0</td>\n",
       "      <td>0</td>\n",
       "      <td>0</td>\n",
       "      <td>0</td>\n",
       "      <td>0</td>\n",
       "    </tr>\n",
       "    <tr>\n",
       "      <th>1</th>\n",
       "      <td>0</td>\n",
       "      <td>5</td>\n",
       "      <td>70</td>\n",
       "      <td>1</td>\n",
       "      <td>0</td>\n",
       "      <td>0</td>\n",
       "      <td>0</td>\n",
       "      <td>1</td>\n",
       "      <td>0</td>\n",
       "      <td>1</td>\n",
       "      <td>...</td>\n",
       "      <td>0</td>\n",
       "      <td>0</td>\n",
       "      <td>1</td>\n",
       "      <td>0</td>\n",
       "      <td>0</td>\n",
       "      <td>0</td>\n",
       "      <td>0</td>\n",
       "      <td>0</td>\n",
       "      <td>0</td>\n",
       "      <td>0</td>\n",
       "    </tr>\n",
       "    <tr>\n",
       "      <th>2</th>\n",
       "      <td>1</td>\n",
       "      <td>5</td>\n",
       "      <td>26</td>\n",
       "      <td>1</td>\n",
       "      <td>0</td>\n",
       "      <td>0</td>\n",
       "      <td>0</td>\n",
       "      <td>0</td>\n",
       "      <td>1</td>\n",
       "      <td>0</td>\n",
       "      <td>...</td>\n",
       "      <td>0</td>\n",
       "      <td>1</td>\n",
       "      <td>0</td>\n",
       "      <td>1</td>\n",
       "      <td>0</td>\n",
       "      <td>0</td>\n",
       "      <td>0</td>\n",
       "      <td>0</td>\n",
       "      <td>0</td>\n",
       "      <td>0</td>\n",
       "    </tr>\n",
       "    <tr>\n",
       "      <th>3</th>\n",
       "      <td>0</td>\n",
       "      <td>5</td>\n",
       "      <td>34</td>\n",
       "      <td>1</td>\n",
       "      <td>0</td>\n",
       "      <td>0</td>\n",
       "      <td>0</td>\n",
       "      <td>1</td>\n",
       "      <td>0</td>\n",
       "      <td>0</td>\n",
       "      <td>...</td>\n",
       "      <td>0</td>\n",
       "      <td>0</td>\n",
       "      <td>0</td>\n",
       "      <td>1</td>\n",
       "      <td>0</td>\n",
       "      <td>0</td>\n",
       "      <td>0</td>\n",
       "      <td>0</td>\n",
       "      <td>0</td>\n",
       "      <td>0</td>\n",
       "    </tr>\n",
       "    <tr>\n",
       "      <th>4</th>\n",
       "      <td>0</td>\n",
       "      <td>8</td>\n",
       "      <td>26</td>\n",
       "      <td>1</td>\n",
       "      <td>0</td>\n",
       "      <td>0</td>\n",
       "      <td>0</td>\n",
       "      <td>0</td>\n",
       "      <td>1</td>\n",
       "      <td>1</td>\n",
       "      <td>...</td>\n",
       "      <td>1</td>\n",
       "      <td>0</td>\n",
       "      <td>1</td>\n",
       "      <td>0</td>\n",
       "      <td>0</td>\n",
       "      <td>0</td>\n",
       "      <td>0</td>\n",
       "      <td>0</td>\n",
       "      <td>0</td>\n",
       "      <td>0</td>\n",
       "    </tr>\n",
       "  </tbody>\n",
       "</table>\n",
       "<p>5 rows × 64 columns</p>\n",
       "</div>"
      ],
      "text/plain": [
       "   bank_account  household_size  age_of_respondent  country_Kenya  \\\n",
       "0             1               3                 24              1   \n",
       "1             0               5                 70              1   \n",
       "2             1               5                 26              1   \n",
       "3             0               5                 34              1   \n",
       "4             0               8                 26              1   \n",
       "\n",
       "   country_Rwanda  country_Tanzania  country_Uganda  location_type_Rural  \\\n",
       "0               0                 0               0                    1   \n",
       "1               0                 0               0                    1   \n",
       "2               0                 0               0                    0   \n",
       "3               0                 0               0                    1   \n",
       "4               0                 0               0                    0   \n",
       "\n",
       "   location_type_Urban  cellphone_access_No  ...  \\\n",
       "0                    0                    0  ...   \n",
       "1                    0                    1  ...   \n",
       "2                    1                    0  ...   \n",
       "3                    0                    0  ...   \n",
       "4                    1                    1  ...   \n",
       "\n",
       "   gender+cellphone_access_MaleNo  gender+cellphone_access_MaleYes  \\\n",
       "0                               0                                0   \n",
       "1                               0                                0   \n",
       "2                               0                                1   \n",
       "3                               0                                0   \n",
       "4                               1                                0   \n",
       "\n",
       "   country+cellphone_access_KenyaNo  country+cellphone_access_KenyaYes  \\\n",
       "0                                 0                                  1   \n",
       "1                                 1                                  0   \n",
       "2                                 0                                  1   \n",
       "3                                 0                                  1   \n",
       "4                                 1                                  0   \n",
       "\n",
       "   country+cellphone_access_RwandaNo  country+cellphone_access_RwandaYes  \\\n",
       "0                                  0                                   0   \n",
       "1                                  0                                   0   \n",
       "2                                  0                                   0   \n",
       "3                                  0                                   0   \n",
       "4                                  0                                   0   \n",
       "\n",
       "   country+cellphone_access_TanzaniaNo  country+cellphone_access_TanzaniaYes  \\\n",
       "0                                    0                                     0   \n",
       "1                                    0                                     0   \n",
       "2                                    0                                     0   \n",
       "3                                    0                                     0   \n",
       "4                                    0                                     0   \n",
       "\n",
       "   country+cellphone_access_UgandaNo  country+cellphone_access_UgandaYes  \n",
       "0                                  0                                   0  \n",
       "1                                  0                                   0  \n",
       "2                                  0                                   0  \n",
       "3                                  0                                   0  \n",
       "4                                  0                                   0  \n",
       "\n",
       "[5 rows x 64 columns]"
      ]
     },
     "execution_count": 33,
     "metadata": {},
     "output_type": "execute_result"
    }
   ],
   "source": [
    "df = pd.get_dummies(df)\n",
    "df.head()"
   ]
  },
  {
   "cell_type": "code",
   "execution_count": 34,
   "id": "f4e99345-4cc7-4296-8bb4-b192a4a8af5b",
   "metadata": {},
   "outputs": [],
   "source": [
    "test = pd.get_dummies(test)"
   ]
  },
  {
   "cell_type": "code",
   "execution_count": 35,
   "id": "1db9b27f-166c-4af2-901b-053db61510b3",
   "metadata": {},
   "outputs": [
    {
     "data": {
      "text/plain": [
       "((23524, 64), (10086, 64))"
      ]
     },
     "execution_count": 35,
     "metadata": {},
     "output_type": "execute_result"
    }
   ],
   "source": [
    "df.shape, test.shape"
   ]
  },
  {
   "cell_type": "markdown",
   "id": "2d1f0407-0110-4922-b299-d39a943a14bd",
   "metadata": {},
   "source": [
    "**Note** we can see that some features are still correlated but as we are not dealing with regression problem it doesn't matter the most. Inded we did features engineering very well."
   ]
  },
  {
   "cell_type": "code",
   "execution_count": 37,
   "id": "ce6238e7-3931-482b-a40c-adca0b1bee48",
   "metadata": {},
   "outputs": [
    {
     "data": {
      "text/plain": [
       "<AxesSubplot:ylabel='Frequency'>"
      ]
     },
     "execution_count": 37,
     "metadata": {},
     "output_type": "execute_result"
    },
    {
     "data": {
      "image/png": "[encoded data removed]",
      "text/plain": [
       "<Figure size 432x288 with 1 Axes>"
      ]
     },
     "metadata": {
      "needs_background": "light"
     },
     "output_type": "display_data"
    }
   ],
   "source": [
    "df.age_of_respondent.plot(kind=\"hist\")"
   ]
  },
  {
   "cell_type": "code",
   "execution_count": 38,
   "id": "eee452c9-174a-4a03-92d8-9575a35aaa7e",
   "metadata": {},
   "outputs": [],
   "source": [
    "X = df.drop([\"bank_account\"], 1)\n",
    "y = df.bank_account.values"
   ]
  },
  {
   "cell_type": "code",
   "execution_count": 39,
   "id": "7a3fe34c-bc7d-447a-8a12-7260a12fda77",
   "metadata": {},
   "outputs": [],
   "source": [
    "from imblearn.over_sampling import SMOTE"
   ]
  },
  {
   "cell_type": "code",
   "execution_count": 40,
   "id": "a23e30c2-7311-4010-8315-e0aa53e794dd",
   "metadata": {},
   "outputs": [],
   "source": [
    "oversample = SMOTE()\n",
    "X, y = oversample.fit_resample(X, y)"
   ]
  },
  {
   "cell_type": "code",
   "execution_count": 41,
   "id": "4522956b-a330-4fdd-b952-96aaee228314",
   "metadata": {},
   "outputs": [
    {
     "data": {
      "text/plain": [
       "<AxesSubplot:title={'center':'Balanced classes'}, ylabel='count'>"
      ]
     },
     "execution_count": 41,
     "metadata": {},
     "output_type": "execute_result"
    },
    {
     "data": {
      "image/png": "[encoded data removed]",
      "text/plain": [
       "<Figure size 432x288 with 1 Axes>"
      ]
     },
     "metadata": {
      "needs_background": "light"
     },
     "output_type": "display_data"
    }
   ],
   "source": [
    "oversample = SMOTE()\n",
    "# Oversampling the target data\n",
    "X, y = oversample.fit_resample(X, y)\n",
    "plt.title(\"Balanced classes\")\n",
    "sns.countplot(y)"
   ]
  },
  {
   "cell_type": "markdown",
   "id": "eb9eddc9-79be-4e01-9e00-9a3b06b8ca61",
   "metadata": {},
   "source": [
    "## Trying Different Algorithms from Sklearn"
   ]
  },
  {
   "cell_type": "code",
   "execution_count": 42,
   "id": "f8103cc0-6e6e-4ed0-b374-b46c58a1a698",
   "metadata": {},
   "outputs": [],
   "source": [
    "X_train, X_test, y_train, y_test = train_test_split(\n",
    "    X, y, random_state=seed, test_size=0.2\n",
    ")"
   ]
  },
  {
   "cell_type": "code",
   "execution_count": 43,
   "id": "eff2c7f3-78cd-4d2a-b366-930e7057cfe3",
   "metadata": {},
   "outputs": [],
   "source": [
    "scaler = StandardScaler()\n",
    "X_train = scaler.fit_transform(X_train)\n",
    "X_test = scaler.transform(X_test)"
   ]
  },
  {
   "cell_type": "code",
   "execution_count": 44,
   "id": "d6951b28-2809-4265-98d6-72df02ad8fdf",
   "metadata": {},
   "outputs": [
    {
     "name": "stdout",
     "output_type": "stream",
     "text": [
      "Train XGB\n",
      "[14:42:42] WARNING: ../src/learner.cc:1115: Starting in XGBoost 1.3.0, the default evaluation metric used with the objective 'binary:logistic' was changed from 'error' to 'logloss'. Explicitly set eval_metric if you'd like to restore the old behavior.\n",
      "[14:42:59] WARNING: ../src/learner.cc:1115: Starting in XGBoost 1.3.0, the default evaluation metric used with the objective 'binary:logistic' was changed from 'error' to 'logloss'. Explicitly set eval_metric if you'd like to restore the old behavior.\n",
      "[14:43:14] WARNING: ../src/learner.cc:1115: Starting in XGBoost 1.3.0, the default evaluation metric used with the objective 'binary:logistic' was changed from 'error' to 'logloss'. Explicitly set eval_metric if you'd like to restore the old behavior.\n",
      "[14:43:27] WARNING: ../src/learner.cc:1115: Starting in XGBoost 1.3.0, the default evaluation metric used with the objective 'binary:logistic' was changed from 'error' to 'logloss'. Explicitly set eval_metric if you'd like to restore the old behavior.\n",
      "[14:43:44] WARNING: ../src/learner.cc:1115: Starting in XGBoost 1.3.0, the default evaluation metric used with the objective 'binary:logistic' was changed from 'error' to 'logloss'. Explicitly set eval_metric if you'd like to restore the old behavior.\n",
      "[14:43:55] WARNING: ../src/learner.cc:1115: Starting in XGBoost 1.3.0, the default evaluation metric used with the objective 'binary:logistic' was changed from 'error' to 'logloss'. Explicitly set eval_metric if you'd like to restore the old behavior.\n",
      "[14:44:05] WARNING: ../src/learner.cc:1115: Starting in XGBoost 1.3.0, the default evaluation metric used with the objective 'binary:logistic' was changed from 'error' to 'logloss'. Explicitly set eval_metric if you'd like to restore the old behavior.\n",
      "[14:44:12] WARNING: ../src/learner.cc:1115: Starting in XGBoost 1.3.0, the default evaluation metric used with the objective 'binary:logistic' was changed from 'error' to 'logloss'. Explicitly set eval_metric if you'd like to restore the old behavior.\n",
      "[14:44:21] WARNING: ../src/learner.cc:1115: Starting in XGBoost 1.3.0, the default evaluation metric used with the objective 'binary:logistic' was changed from 'error' to 'logloss'. Explicitly set eval_metric if you'd like to restore the old behavior.\n",
      "[14:44:36] WARNING: ../src/learner.cc:1115: Starting in XGBoost 1.3.0, the default evaluation metric used with the objective 'binary:logistic' was changed from 'error' to 'logloss'. Explicitly set eval_metric if you'd like to restore the old behavior.\n",
      "List of scores for XGB: [0.89908834 0.89423686 0.9017744  0.89980855 0.90468701 0.91341579\n",
      " 0.90468701 0.901078   0.90537084 0.90298034]\n",
      "The mean score for XGB: 0.9027127139191802\n",
      "-------------The End------------------\n",
      "Train KNN\n",
      "List of scores for KNN: [0.89338235 0.89855072 0.89434431 0.89269337 0.89633959 0.90110565\n",
      " 0.89990761 0.89947741 0.90217725 0.89199255]\n",
      "The mean score for KNN: 0.8969970805632466\n",
      "-------------The End------------------\n",
      "Train RF\n",
      "List of scores for RF: [0.90569504 0.89935365 0.91077493 0.90416793 0.91209801 0.91288344\n",
      " 0.90942699 0.90689762 0.91607309 0.91223733]\n",
      "The mean score for RF: 0.9089608019724491\n",
      "-------------The End------------------\n",
      "Train GB\n",
      "List of scores for GB: [0.87354147 0.86683417 0.86293131 0.87003495 0.87153652 0.87926675\n",
      " 0.8782636  0.8776797  0.8753568  0.8701464 ]\n",
      "The mean score for GB: 0.8725591685468354\n",
      "-------------The End------------------\n",
      "Train DTC\n",
      "List of scores for DTC: [0.88943189 0.88820827 0.88696191 0.89263804 0.89417505 0.89161805\n",
      " 0.89073051 0.88916256 0.89421894 0.89917254]\n",
      "The mean score for DTC: 0.8916317762326662\n",
      "-------------The End------------------\n",
      "Train HGB\n",
      "List of scores for HGB: [0.89990527 0.89309366 0.90015848 0.90104995 0.89731438 0.9137603\n",
      " 0.89949431 0.89488727 0.90178571 0.90148876]\n",
      "The mean score for HGB: 0.9002938091908176\n",
      "-------------The End------------------\n",
      "Train ADB\n",
      "List of scores for ADB: [0.87210409 0.85786322 0.86084756 0.8653603  0.86428345 0.87334594\n",
      " 0.87527216 0.86662453 0.86445498 0.86531131]\n",
      "The mean score for ADB: 0.8665467546170733\n",
      "-------------The End------------------\n"
     ]
    }
   ],
   "source": [
    "models = {\n",
    "    \"SVM\": SVC(),\n",
    "    \"XGB\": XGBClassifier(),\n",
    "    \"KNN\": KNeighborsClassifier(),\n",
    "    \"RF\": RandomForestClassifier(),\n",
    "    \"GB\": GradientBoostingClassifier(),\n",
    "    \"DTC\": DecisionTreeClassifier(),\n",
    "    \"HGB\": HistGradientBoostingClassifier(),\n",
    "    \"ADB\": AdaBoostClassifier(),\n",
    "}\n",
    "\n",
    "\n",
    "for model_name, model in models.items():\n",
    "    print(\"Train {}\".format(model_name))\n",
    "    # cross_val_score for each classifier\n",
    "    scores = cross_val_score(model, X_train, y_train, cv=10, scoring=\"f1\")\n",
    "\n",
    "    print(\"List of scores for {}: {}\".format(model_name, scores))\n",
    "    print(\"The mean score for {}: {}\".format(model_name, scores.mean()))\n",
    "    print(\"-------------The End------------------\")"
   ]
  },
  {
   "cell_type": "markdown",
   "id": "8b514db5-ab99-47b4-bb34-7df8f7480fec",
   "metadata": {},
   "source": [
    "### SVM"
   ]
  },
  {
   "cell_type": "code",
   "execution_count": 45,
   "id": "c5ecbf80-9180-4359-be44-eff732a578b0",
   "metadata": {},
   "outputs": [
    {
     "name": "stdout",
     "output_type": "stream",
     "text": [
      "Accuracy of svc: 0.8977118119975263\n",
      "precision of svc: 0.9405805038335159\n",
      "f1 of svc: 0.8925555411199169\n",
      "recall of svc : 0.8491965389369592\n"
     ]
    }
   ],
   "source": [
    "svc = SVC(gamma=\"auto\", kernel=\"rbf\", C=5)\n",
    "svc.fit(X_train, y_train)\n",
    "y_pred_svc = svc.predict(X_test)\n",
    "\n",
    "f1_svc = f1_score(y_test, y_pred_svc)\n",
    "precision_score_svc = precision_score(y_test, y_pred_svc)\n",
    "recall_svc = recall_score(y_test, y_pred_svc)\n",
    "accuracy_score_svc = accuracy_score(y_test, y_pred_svc)\n",
    "\n",
    "print(f\"Accuracy of svc: {accuracy_score_svc}\")\n",
    "print(f\"precision of svc: {precision_score_svc}\")\n",
    "print(f\"f1 of svc: {f1_svc}\")\n",
    "print(f\"recall of svc : {recall_svc}\")"
   ]
  },
  {
   "cell_type": "markdown",
   "id": "a62aa05f-abc4-4860-8488-2b156ab3f3e9",
   "metadata": {},
   "source": [
    "### XGBoost"
   ]
  },
  {
   "cell_type": "code",
   "execution_count": 46,
   "id": "7220adfd-21db-4d70-ac16-530ed4ffb7e4",
   "metadata": {},
   "outputs": [
    {
     "name": "stdout",
     "output_type": "stream",
     "text": [
      "[14:53:07] WARNING: ../src/learner.cc:1115: Starting in XGBoost 1.3.0, the default evaluation metric used with the objective 'binary:logistic' was changed from 'error' to 'logloss'. Explicitly set eval_metric if you'd like to restore the old behavior.\n"
     ]
    }
   ],
   "source": [
    "xgb = XGBClassifier(n_estimators=200, random_state=42)\n",
    "xgb.fit(X_train, y_train)\n",
    "y_pred_xgb = xgb.predict(X_test)\n",
    "\n",
    "f1_xgb = f1_score(y_test, y_pred_xgb)\n",
    "precision_score_xgb = precision_score(y_test, y_pred_xgb)\n",
    "recall_xgb = recall_score(y_test, y_pred_xgb)\n",
    "accuracy_score_xgb = accuracy_score(y_test, y_pred_xgb)"
   ]
  },
  {
   "cell_type": "code",
   "execution_count": 47,
   "id": "2e0496c7-dab5-40c8-9a96-0b13a6503d43",
   "metadata": {},
   "outputs": [
    {
     "name": "stdout",
     "output_type": "stream",
     "text": [
      "Accuracy of xgb: 0.9083487940630798\n",
      "precision of xgb: 0.9240246406570842\n",
      "recall of xgb: 0.8899876390605687\n",
      "f1 of xgb: 0.9066868152625613\n"
     ]
    }
   ],
   "source": [
    "print(f\"Accuracy of xgb: {accuracy_score_xgb}\")\n",
    "print(f\"precision of xgb: {precision_score_xgb}\")\n",
    "print(f\"recall of xgb: {recall_xgb}\")\n",
    "print(f\"f1 of xgb: {f1_xgb}\")"
   ]
  },
  {
   "cell_type": "markdown",
   "id": "eea30305-14f3-4dc6-af3a-979ccc25e145",
   "metadata": {},
   "source": [
    "### KNN"
   ]
  },
  {
   "cell_type": "code",
   "execution_count": 48,
   "id": "bd226667-9a6f-42a0-b92f-c85fb3ccb4fc",
   "metadata": {},
   "outputs": [],
   "source": [
    "knn = KNeighborsClassifier()\n",
    "knn.fit(X_train, y_train)\n",
    "y_pred_knn = knn.predict(X_test)\n",
    "\n",
    "f1_knn = f1_score(y_test, y_pred_knn)\n",
    "precision_score_knn = precision_score(y_test, y_pred_knn)\n",
    "recall_knn = recall_score(y_test, y_pred_knn)\n",
    "accuracy_score_knn = accuracy_score(y_test, y_pred_knn)"
   ]
  },
  {
   "cell_type": "code",
   "execution_count": 49,
   "id": "587489f8-478c-497a-ac55-fcd5fe50f748",
   "metadata": {},
   "outputs": [
    {
     "name": "stdout",
     "output_type": "stream",
     "text": [
      "Accuracy of knn: 0.894743351886209\n",
      "precision of knn: 0.8916135360470819\n",
      "f1 of knn: 0.8952357503385449\n",
      "recall of knn: 0.8988875154511743\n"
     ]
    }
   ],
   "source": [
    "print(f\"Accuracy of knn: {accuracy_score_knn}\")\n",
    "print(f\"precision of knn: {precision_score_knn}\")\n",
    "print(f\"f1 of knn: {f1_knn}\")\n",
    "print(f\"recall of knn: {recall_knn}\")"
   ]
  },
  {
   "cell_type": "markdown",
   "id": "f43f82a6-5a73-4615-8f44-42cf8f9aecb5",
   "metadata": {},
   "source": [
    "### Random Forest"
   ]
  },
  {
   "cell_type": "code",
   "execution_count": 50,
   "id": "932159ea-f9d2-4c68-b2e6-5ecb8aebf94b",
   "metadata": {},
   "outputs": [],
   "source": [
    "rfc = RandomForestClassifier(\n",
    "    n_estimators=200,\n",
    "    random_state=42,\n",
    ")\n",
    "rfc.fit(X_train, y_train)\n",
    "y_pred_rfc = rfc.predict(X_test)\n",
    "\n",
    "f1_rfc = f1_score(y_test, y_pred_rfc)\n",
    "precision_score_rfc = precision_score(y_test, y_pred_rfc)\n",
    "recall_rfc = recall_score(y_test, y_pred_rfc)\n",
    "accuracy_score_rfc = accuracy_score(y_test, y_pred_rfc)"
   ]
  },
  {
   "cell_type": "code",
   "execution_count": 51,
   "id": "44923fd6-1047-49f0-af49-22d6dc03b482",
   "metadata": {},
   "outputs": [
    {
     "name": "stdout",
     "output_type": "stream",
     "text": [
      "Accuracy of rfc: 0.9084724799010513\n",
      "precision of rfc: 0.902557856272838\n",
      "f1 of rfc: 0.90920245398773\n",
      "recall of rfc: 0.9159456118665018\n"
     ]
    }
   ],
   "source": [
    "print(f\"Accuracy of rfc: {accuracy_score_rfc}\")\n",
    "print(f\"precision of rfc: {precision_score_rfc}\")\n",
    "print(f\"f1 of rfc: {f1_rfc}\")\n",
    "print(f\"recall of rfc: {recall_rfc}\")"
   ]
  },
  {
   "cell_type": "markdown",
   "id": "608ddc41-970e-45e4-89b4-f0ba82af9859",
   "metadata": {},
   "source": [
    "### Logistic Regression"
   ]
  },
  {
   "cell_type": "code",
   "execution_count": 52,
   "id": "46b8b607-8b63-43a7-8774-85109ec8f351",
   "metadata": {},
   "outputs": [],
   "source": [
    "lg = LogisticRegression()\n",
    "lg.fit(X_train, y_train)\n",
    "y_pred_lg = lg.predict(X_test)\n",
    "\n",
    "f1_lg = f1_score(y_test, y_pred_lg)\n",
    "precision_score_lg = precision_score(y_test, y_pred_lg)\n",
    "recall_lg = recall_score(y_test, y_pred_lg)\n",
    "accuracy_score_lg = accuracy_score(y_test, y_pred_lg)"
   ]
  },
  {
   "cell_type": "code",
   "execution_count": 53,
   "id": "15939ac2-17da-4577-aa14-52d5b56b20b3",
   "metadata": {},
   "outputs": [
    {
     "name": "stdout",
     "output_type": "stream",
     "text": [
      "Accuracy of lg: 0.893382807668522\n",
      "precision of lg: 0.9323553382233088\n",
      "f1 of lg: 0.888428682371214\n",
      "recall of lg: 0.8484548825710754\n"
     ]
    }
   ],
   "source": [
    "print(f\"Accuracy of lg: {accuracy_score_lg}\")\n",
    "print(f\"precision of lg: {precision_score_lg}\")\n",
    "print(f\"f1 of lg: {f1_lg}\")\n",
    "print(f\"recall of lg: {recall_lg}\")"
   ]
  },
  {
   "cell_type": "code",
   "execution_count": 1,
   "id": "9c328fa6-199a-4b4e-8284-fd9a7a9fc57f",
   "metadata": {},
   "outputs": [],
   "source": [
    "# Gradient Boosting Classifier"
   ]
  },
  {
   "cell_type": "code",
   "execution_count": 54,
   "id": "10684a2a-b1e7-4da6-a43a-2378afe5e892",
   "metadata": {},
   "outputs": [],
   "source": [
    "gbc = GradientBoostingClassifier(n_estimators=200, random_state=42)\n",
    "gbc.fit(X_train, y_train)\n",
    "y_pred_gbc = gbc.predict(X_test)\n",
    "\n",
    "f1_gbc = f1_score(y_test, y_pred_gbc)\n",
    "precision_score_gbc = precision_score(y_test, y_pred_gbc)\n",
    "recall_gbc = recall_score(y_test, y_pred_gbc)\n",
    "accuracy_score_gbc = accuracy_score(y_test, y_pred_gbc)"
   ]
  },
  {
   "cell_type": "code",
   "execution_count": 55,
   "id": "e68f03c8-1eda-4573-afe9-6af084323ad0",
   "metadata": {},
   "outputs": [
    {
     "name": "stdout",
     "output_type": "stream",
     "text": [
      "Accuracy of gbc: 0.8848484848484849\n",
      "precision of gbc: 0.903995848469123\n",
      "f1 of gbc: 0.8821369793644765\n",
      "recall of gbc: 0.8613102595797281\n"
     ]
    }
   ],
   "source": [
    "print(f\"Accuracy of gbc: {accuracy_score_gbc}\")\n",
    "print(f\"precision of gbc: {precision_score_gbc}\")\n",
    "print(f\"f1 of gbc: {f1_gbc}\")\n",
    "print(f\"recall of gbc: {recall_gbc}\")"
   ]
  },
  {
   "cell_type": "markdown",
   "id": "1fa12aa7-8d86-4130-9f52-3e3c24e9c721",
   "metadata": {},
   "source": [
    "### Decision Tree"
   ]
  },
  {
   "cell_type": "code",
   "execution_count": 56,
   "id": "eae148bf-cfb9-423f-9d43-bd035a3a492e",
   "metadata": {},
   "outputs": [],
   "source": [
    "dt = DecisionTreeClassifier()\n",
    "dt.fit(X_train, y_train)\n",
    "y_pred_dt = dt.predict(X_test)\n",
    "\n",
    "f1_dt = f1_score(y_test, y_pred_dt)\n",
    "precision_score_dt = precision_score(y_test, y_pred_dt)\n",
    "recall_df = recall_score(y_test, y_pred_dt)\n",
    "accuracy_score_dt = accuracy_score(y_test, y_pred_dt)"
   ]
  },
  {
   "cell_type": "code",
   "execution_count": 57,
   "id": "9a2d7c0f-6d80-4b03-baa1-ebfa3d0f1d28",
   "metadata": {},
   "outputs": [
    {
     "name": "stdout",
     "output_type": "stream",
     "text": [
      "Accuracy of dt: 0.8900432900432901\n",
      "precision of dt: 0.881159420289855\n",
      "f1 of dt: 0.8913866829566279\n",
      "recall of df: 0.9018541409147095\n"
     ]
    }
   ],
   "source": [
    "print(f\"Accuracy of dt: {accuracy_score_dt}\")\n",
    "print(f\"precision of dt: {precision_score_dt}\")\n",
    "print(f\"f1 of dt: {f1_dt}\")\n",
    "print(f\"recall of df: {recall_df}\")"
   ]
  },
  {
   "cell_type": "markdown",
   "id": "5b91e729-12e3-4864-9269-643ca65cb1cb",
   "metadata": {},
   "source": [
    "### Histogram-based Gradient Boosting"
   ]
  },
  {
   "cell_type": "code",
   "execution_count": 58,
   "id": "28907034-eea5-40f3-8b5c-3feb681d3d75",
   "metadata": {},
   "outputs": [],
   "source": [
    "hg = HistGradientBoostingClassifier()\n",
    "hg.fit(X_train, y_train)\n",
    "y_pred_hg = hg.predict(X_test)\n",
    "\n",
    "f1_hg = f1_score(y_test, y_pred_hg)\n",
    "precision_score_hg = precision_score(y_test, y_pred_hg)\n",
    "recall_hg = recall_score(y_test, y_pred_hg)\n",
    "accuracy_score_hg = accuracy_score(y_test, y_pred_hg)"
   ]
  },
  {
   "cell_type": "code",
   "execution_count": 59,
   "id": "7450be76-abbf-471f-8a69-80e616e741e6",
   "metadata": {},
   "outputs": [
    {
     "name": "stdout",
     "output_type": "stream",
     "text": [
      "Accuracy of hg: 0.901917130488559\n",
      "precision of hg: 0.9221183800623053\n",
      "f1 of hg: 0.899582119792326\n",
      "recall of hg : 0.8781211372064277\n"
     ]
    }
   ],
   "source": [
    "print(f\"Accuracy of hg: {accuracy_score_hg}\")\n",
    "print(f\"precision of hg: {precision_score_hg}\")\n",
    "print(f\"f1 of hg: {f1_hg}\")\n",
    "print(f\"recall of hg : {recall_hg}\")"
   ]
  },
  {
   "cell_type": "markdown",
   "id": "2fce5722-eef5-4c36-865c-8d97ac9173b4",
   "metadata": {},
   "source": [
    "### Adaboost"
   ]
  },
  {
   "cell_type": "code",
   "execution_count": 60,
   "id": "8d53d6d2-686c-4b83-9137-692656760a21",
   "metadata": {},
   "outputs": [
    {
     "name": "stdout",
     "output_type": "stream",
     "text": [
      "Accuracy of adb: 0.8713667285095856\n",
      "precision of adb: 0.8885440910266357\n",
      "f1 of adb: 0.8685540950455005\n",
      "recall of adb : 0.8494437577255871\n"
     ]
    }
   ],
   "source": [
    "adb = AdaBoostClassifier()\n",
    "adb.fit(X_train, y_train)\n",
    "y_pred_adb = adb.predict(X_test)\n",
    "\n",
    "f1_adb = f1_score(y_test, y_pred_adb)\n",
    "precision_score_adb = precision_score(y_test, y_pred_adb)\n",
    "recall_adb = recall_score(y_test, y_pred_adb)\n",
    "accuracy_score_adb = accuracy_score(y_test, y_pred_adb)\n",
    "\n",
    "print(f\"Accuracy of adb: {accuracy_score_adb}\")\n",
    "print(f\"precision of adb: {precision_score_adb}\")\n",
    "print(f\"f1 of adb: {f1_adb}\")\n",
    "print(f\"recall of adb : {recall_adb}\")"
   ]
  },
  {
   "cell_type": "markdown",
   "id": "2bf02295-e0e1-40b9-b24d-7b78302e98bd",
   "metadata": {},
   "source": [
    "## Table of evaluation matrics"
   ]
  },
  {
   "cell_type": "code",
   "execution_count": 61,
   "id": "2d3cbaa5-94ee-4ab0-9216-bc02f6ceaf8a",
   "metadata": {},
   "outputs": [
    {
     "data": {
      "text/html": [
       "<div>\n",
       "<style scoped>\n",
       "    .dataframe tbody tr th:only-of-type {\n",
       "        vertical-align: middle;\n",
       "    }\n",
       "\n",
       "    .dataframe tbody tr th {\n",
       "        vertical-align: top;\n",
       "    }\n",
       "\n",
       "    .dataframe thead th {\n",
       "        text-align: right;\n",
       "    }\n",
       "</style>\n",
       "<table border=\"1\" class=\"dataframe\">\n",
       "  <thead>\n",
       "    <tr style=\"text-align: right;\">\n",
       "      <th></th>\n",
       "      <th>Algoritm</th>\n",
       "      <th>Accuracy</th>\n",
       "      <th>F1 score</th>\n",
       "      <th>Precision</th>\n",
       "      <th>Recall</th>\n",
       "    </tr>\n",
       "  </thead>\n",
       "  <tbody>\n",
       "    <tr>\n",
       "      <th>0</th>\n",
       "      <td>SVM</td>\n",
       "      <td>0.897712</td>\n",
       "      <td>0.892556</td>\n",
       "      <td>0.940581</td>\n",
       "      <td>0.849197</td>\n",
       "    </tr>\n",
       "    <tr>\n",
       "      <th>1</th>\n",
       "      <td>Logistc Regression</td>\n",
       "      <td>0.893383</td>\n",
       "      <td>0.888429</td>\n",
       "      <td>0.932355</td>\n",
       "      <td>0.848455</td>\n",
       "    </tr>\n",
       "    <tr>\n",
       "      <th>2</th>\n",
       "      <td>XGB</td>\n",
       "      <td>0.908349</td>\n",
       "      <td>0.906687</td>\n",
       "      <td>0.924025</td>\n",
       "      <td>0.889988</td>\n",
       "    </tr>\n",
       "    <tr>\n",
       "      <th>3</th>\n",
       "      <td>Random Forest</td>\n",
       "      <td>0.908472</td>\n",
       "      <td>0.909202</td>\n",
       "      <td>0.902558</td>\n",
       "      <td>0.915946</td>\n",
       "    </tr>\n",
       "    <tr>\n",
       "      <th>4</th>\n",
       "      <td>Gradient Boosting</td>\n",
       "      <td>0.884848</td>\n",
       "      <td>0.882137</td>\n",
       "      <td>0.903996</td>\n",
       "      <td>0.861310</td>\n",
       "    </tr>\n",
       "    <tr>\n",
       "      <th>5</th>\n",
       "      <td>Decision tree</td>\n",
       "      <td>0.890043</td>\n",
       "      <td>0.891387</td>\n",
       "      <td>0.881159</td>\n",
       "      <td>0.901854</td>\n",
       "    </tr>\n",
       "    <tr>\n",
       "      <th>6</th>\n",
       "      <td>KNN</td>\n",
       "      <td>0.894743</td>\n",
       "      <td>0.895236</td>\n",
       "      <td>0.891614</td>\n",
       "      <td>0.898888</td>\n",
       "    </tr>\n",
       "    <tr>\n",
       "      <th>7</th>\n",
       "      <td>Historgam Gradient Boosting</td>\n",
       "      <td>0.901917</td>\n",
       "      <td>0.899582</td>\n",
       "      <td>0.922118</td>\n",
       "      <td>0.878121</td>\n",
       "    </tr>\n",
       "    <tr>\n",
       "      <th>8</th>\n",
       "      <td>Adaboost</td>\n",
       "      <td>0.849444</td>\n",
       "      <td>0.868554</td>\n",
       "      <td>0.888544</td>\n",
       "      <td>0.849444</td>\n",
       "    </tr>\n",
       "  </tbody>\n",
       "</table>\n",
       "</div>"
      ],
      "text/plain": [
       "                      Algoritm  Accuracy  F1 score  Precision    Recall\n",
       "0                          SVM  0.897712  0.892556   0.940581  0.849197\n",
       "1           Logistc Regression  0.893383  0.888429   0.932355  0.848455\n",
       "2                          XGB  0.908349  0.906687   0.924025  0.889988\n",
       "3                Random Forest  0.908472  0.909202   0.902558  0.915946\n",
       "4            Gradient Boosting  0.884848  0.882137   0.903996  0.861310\n",
       "5                Decision tree  0.890043  0.891387   0.881159  0.901854\n",
       "6                          KNN  0.894743  0.895236   0.891614  0.898888\n",
       "7  Historgam Gradient Boosting  0.901917  0.899582   0.922118  0.878121\n",
       "8                     Adaboost  0.849444  0.868554   0.888544  0.849444"
      ]
     },
     "execution_count": 61,
     "metadata": {},
     "output_type": "execute_result"
    }
   ],
   "source": [
    "scores = pd.DataFrame(\n",
    "    {\n",
    "        \"Algoritm\": [\n",
    "            \"SVM\",\n",
    "            \"Logistc Regression\",\n",
    "            \"XGB\",\n",
    "            \"Random Forest\",\n",
    "            \"Gradient Boosting\",\n",
    "            \"Decision tree\",\n",
    "            \"KNN\",\n",
    "            \"Historgam Gradient Boosting\",\n",
    "            \"Adaboost\",\n",
    "        ],\n",
    "        \"Accuracy\": [\n",
    "            accuracy_score_svc,\n",
    "            accuracy_score_lg,\n",
    "            accuracy_score_xgb,\n",
    "            accuracy_score_rfc,\n",
    "            accuracy_score_gbc,\n",
    "            accuracy_score_dt,\n",
    "            accuracy_score_knn,\n",
    "            accuracy_score_hg,\n",
    "            recall_adb,\n",
    "        ],\n",
    "        \"F1 score\": [\n",
    "            f1_svc,\n",
    "            f1_lg,\n",
    "            f1_xgb,\n",
    "            f1_rfc,\n",
    "            f1_gbc,\n",
    "            f1_dt,\n",
    "            f1_knn,\n",
    "            f1_hg,\n",
    "            f1_adb,\n",
    "        ],\n",
    "        \"Precision\": [\n",
    "            precision_score_svc,\n",
    "            precision_score_lg,\n",
    "            precision_score_xgb,\n",
    "            precision_score_rfc,\n",
    "            precision_score_gbc,\n",
    "            precision_score_dt,\n",
    "            precision_score_knn,\n",
    "            precision_score_hg,\n",
    "            precision_score_adb,\n",
    "        ],\n",
    "        \"Recall\": [\n",
    "            recall_svc,\n",
    "            recall_lg,\n",
    "            recall_xgb,\n",
    "            recall_rfc,\n",
    "            recall_gbc,\n",
    "            recall_df,\n",
    "            recall_knn,\n",
    "            recall_hg,\n",
    "            recall_adb,\n",
    "        ],\n",
    "    }\n",
    ")\n",
    "\n",
    "scores"
   ]
  },
  {
   "cell_type": "code",
   "execution_count": null,
   "id": "c97c21d4-4f93-437c-8a6d-fd63e53ef4c6",
   "metadata": {},
   "outputs": [],
   "source": []
  }
 ],
 "metadata": {
  "kernelspec": {
   "display_name": "Python 3 (ipykernel)",
   "language": "python",
   "name": "python3"
  },
  "language_info": {
   "codemirror_mode": {
    "name": "ipython",
    "version": 3
   },
   "file_extension": ".py",
   "mimetype": "text/x-python",
   "name": "python",
   "nbconvert_exporter": "python",
   "pygments_lexer": "ipython3",
   "version": "3.9.5"
  }
 },
 "nbformat": 4,
 "nbformat_minor": 5
}
