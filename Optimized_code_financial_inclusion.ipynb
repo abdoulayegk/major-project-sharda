{
  "cells": [
    {
      "cell_type": "markdown",
      "metadata": {
        "id": "view-in-github",
        "colab_type": "text"
      },
      "source": [
        "<a href=\"https://colab.research.google.com/github/abdoulayegk/major-project-sharda/blob/main/Optimized_code_financial_inclusion.ipynb\" target=\"_parent\"><img src=\"https://colab.research.google.com/assets/colab-badge.svg\" alt=\"Open In Colab\"/></a>"
      ]
    },
    {
      "cell_type": "code",
      "source": [
        "pip install -q catboost"
      ],
      "metadata": {
        "id": "CekbIvKSGwUR"
      },
      "id": "CekbIvKSGwUR",
      "execution_count": 1,
      "outputs": []
    },
    {
      "cell_type": "code",
      "execution_count": 2,
      "id": "a1c985fa-b960-449f-af76-2e56e7fd237a",
      "metadata": {
        "id": "a1c985fa-b960-449f-af76-2e56e7fd237a"
      },
      "outputs": [],
      "source": [
        "import warnings\n",
        "\n",
        "import matplotlib.pyplot as plt\n",
        "import pandas as pd\n",
        "import seaborn as sns\n",
        "\n",
        "warnings.filterwarnings(\"ignore\")\n",
        "from catboost import CatBoostClassifier\n",
        "from imblearn.over_sampling import SMOTE\n",
        "from lightgbm import LGBMClassifier\n",
        "from sklearn.ensemble import (\n",
        "    AdaBoostClassifier,\n",
        "    GradientBoostingClassifier,\n",
        "    HistGradientBoostingClassifier,\n",
        "    RandomForestClassifier,\n",
        ")\n",
        "# import classification algorithm\n",
        "from sklearn.experimental import enable_hist_gradient_boosting\n",
        "from sklearn.linear_model import LogisticRegression\n",
        "# evaluation matrics\n",
        "from sklearn.metrics import (\n",
        "    accuracy_score,\n",
        "    f1_score,\n",
        "    precision_score,\n",
        "    recall_score,\n",
        "    roc_auc_score,\n",
        ")\n",
        "from sklearn.model_selection import cross_val_score, train_test_split\n",
        "from sklearn.neighbors import KNeighborsClassifier\n",
        "# import preprocessing module\n",
        "from sklearn.preprocessing import LabelEncoder, MinMaxScaler, StandardScaler\n",
        "from sklearn.svm import SVC\n",
        "from sklearn.tree import DecisionTreeClassifier\n",
        "from xgboost import XGBClassifier"
      ]
    },
    {
      "cell_type": "code",
      "execution_count": 3,
      "id": "5ab2b5e7-1f44-49ea-8a61-9b44a70efdaf",
      "metadata": {
        "id": "5ab2b5e7-1f44-49ea-8a61-9b44a70efdaf"
      },
      "outputs": [],
      "source": [
        "# Sed set up\n",
        "import numpy as np\n",
        "from numpy import random\n",
        "import io\n",
        "from google.colab import files\n",
        "\n",
        "random.seed(42)\n",
        "seed = np.random.seed(42)"
      ]
    },
    {
      "cell_type": "code",
      "execution_count": 4,
      "id": "29238508-9ee0-439d-99cc-95525b73f3b9",
      "metadata": {
        "colab": {
          "resources": {
            "http://localhost:8080/nbextensions/google.colab/files.js": {
              "data": "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",
              "ok": true,
              "headers": [
                [
                  "content-type",
                  "application/javascript"
                ]
              ],
              "status": 200,
              "status_text": ""
            }
          },
          "base_uri": "https://localhost:8080/",
          "height": 119
        },
        "id": "29238508-9ee0-439d-99cc-95525b73f3b9",
        "outputId": "1a7181c0-9be5-4f15-cfcf-e094aedd2ae4"
      },
      "outputs": [
        {
          "output_type": "display_data",
          "data": {
            "text/plain": [
              "<IPython.core.display.HTML object>"
            ],
            "text/html": [
              "\n",
              "     <input type=\"file\" id=\"files-f1bfa838-21e8-4a4c-a1a8-24557bb23a59\" name=\"files[]\" multiple disabled\n",
              "        style=\"border:none\" />\n",
              "     <output id=\"result-f1bfa838-21e8-4a4c-a1a8-24557bb23a59\">\n",
              "      Upload widget is only available when the cell has been executed in the\n",
              "      current browser session. Please rerun this cell to enable.\n",
              "      </output>\n",
              "      <script src=\"/nbextensions/google.colab/files.js\"></script> "
            ]
          },
          "metadata": {}
        },
        {
          "output_type": "stream",
          "name": "stdout",
          "text": [
            "Saving Test_v2.csv to Test_v2.csv\n",
            "Saving Train_v2.csv to Train_v2.csv\n"
          ]
        }
      ],
      "source": [
        "uploaded = files.upload()"
      ]
    },
    {
      "cell_type": "code",
      "execution_count": 5,
      "id": "8eadc88c-1f19-460b-9de8-ed31632c7662",
      "metadata": {
        "colab": {
          "base_uri": "https://localhost:8080/",
          "height": 374
        },
        "id": "8eadc88c-1f19-460b-9de8-ed31632c7662",
        "outputId": "6bb5d89e-289f-4844-cc96-a723311ef3cc"
      },
      "outputs": [
        {
          "output_type": "execute_result",
          "data": {
            "text/plain": [
              "  country  year    uniqueid bank_account location_type cellphone_access  \\\n",
              "0   Kenya  2018  uniqueid_1          Yes         Rural              Yes   \n",
              "1   Kenya  2018  uniqueid_2           No         Rural               No   \n",
              "2   Kenya  2018  uniqueid_3          Yes         Urban              Yes   \n",
              "3   Kenya  2018  uniqueid_4           No         Rural              Yes   \n",
              "4   Kenya  2018  uniqueid_5           No         Urban               No   \n",
              "\n",
              "   household_size  age_of_respondent gender_of_respondent  \\\n",
              "0               3                 24               Female   \n",
              "1               5                 70               Female   \n",
              "2               5                 26                 Male   \n",
              "3               5                 34               Female   \n",
              "4               8                 26                 Male   \n",
              "\n",
              "  relationship_with_head           marital_status  \\\n",
              "0                 Spouse  Married/Living together   \n",
              "1      Head of Household                  Widowed   \n",
              "2         Other relative     Single/Never Married   \n",
              "3      Head of Household  Married/Living together   \n",
              "4                  Child     Single/Never Married   \n",
              "\n",
              "                   education_level                   job_type  \n",
              "0              Secondary education              Self employed  \n",
              "1              No formal education       Government Dependent  \n",
              "2  Vocational/Specialised training              Self employed  \n",
              "3                Primary education  Formally employed Private  \n",
              "4                Primary education        Informally employed  "
            ],
            "text/html": [
              "\n",
              "  <div id=\"df-77ddd4b2-b4a4-42c4-92cf-474a545f1a3a\">\n",
              "    <div class=\"colab-df-container\">\n",
              "      <div>\n",
              "<style scoped>\n",
              "    .dataframe tbody tr th:only-of-type {\n",
              "        vertical-align: middle;\n",
              "    }\n",
              "\n",
              "    .dataframe tbody tr th {\n",
              "        vertical-align: top;\n",
              "    }\n",
              "\n",
              "    .dataframe thead th {\n",
              "        text-align: right;\n",
              "    }\n",
              "</style>\n",
              "<table border=\"1\" class=\"dataframe\">\n",
              "  <thead>\n",
              "    <tr style=\"text-align: right;\">\n",
              "      <th></th>\n",
              "      <th>country</th>\n",
              "      <th>year</th>\n",
              "      <th>uniqueid</th>\n",
              "      <th>bank_account</th>\n",
              "      <th>location_type</th>\n",
              "      <th>cellphone_access</th>\n",
              "      <th>household_size</th>\n",
              "      <th>age_of_respondent</th>\n",
              "      <th>gender_of_respondent</th>\n",
              "      <th>relationship_with_head</th>\n",
              "      <th>marital_status</th>\n",
              "      <th>education_level</th>\n",
              "      <th>job_type</th>\n",
              "    </tr>\n",
              "  </thead>\n",
              "  <tbody>\n",
              "    <tr>\n",
              "      <th>0</th>\n",
              "      <td>Kenya</td>\n",
              "      <td>2018</td>\n",
              "      <td>uniqueid_1</td>\n",
              "      <td>Yes</td>\n",
              "      <td>Rural</td>\n",
              "      <td>Yes</td>\n",
              "      <td>3</td>\n",
              "      <td>24</td>\n",
              "      <td>Female</td>\n",
              "      <td>Spouse</td>\n",
              "      <td>Married/Living together</td>\n",
              "      <td>Secondary education</td>\n",
              "      <td>Self employed</td>\n",
              "    </tr>\n",
              "    <tr>\n",
              "      <th>1</th>\n",
              "      <td>Kenya</td>\n",
              "      <td>2018</td>\n",
              "      <td>uniqueid_2</td>\n",
              "      <td>No</td>\n",
              "      <td>Rural</td>\n",
              "      <td>No</td>\n",
              "      <td>5</td>\n",
              "      <td>70</td>\n",
              "      <td>Female</td>\n",
              "      <td>Head of Household</td>\n",
              "      <td>Widowed</td>\n",
              "      <td>No formal education</td>\n",
              "      <td>Government Dependent</td>\n",
              "    </tr>\n",
              "    <tr>\n",
              "      <th>2</th>\n",
              "      <td>Kenya</td>\n",
              "      <td>2018</td>\n",
              "      <td>uniqueid_3</td>\n",
              "      <td>Yes</td>\n",
              "      <td>Urban</td>\n",
              "      <td>Yes</td>\n",
              "      <td>5</td>\n",
              "      <td>26</td>\n",
              "      <td>Male</td>\n",
              "      <td>Other relative</td>\n",
              "      <td>Single/Never Married</td>\n",
              "      <td>Vocational/Specialised training</td>\n",
              "      <td>Self employed</td>\n",
              "    </tr>\n",
              "    <tr>\n",
              "      <th>3</th>\n",
              "      <td>Kenya</td>\n",
              "      <td>2018</td>\n",
              "      <td>uniqueid_4</td>\n",
              "      <td>No</td>\n",
              "      <td>Rural</td>\n",
              "      <td>Yes</td>\n",
              "      <td>5</td>\n",
              "      <td>34</td>\n",
              "      <td>Female</td>\n",
              "      <td>Head of Household</td>\n",
              "      <td>Married/Living together</td>\n",
              "      <td>Primary education</td>\n",
              "      <td>Formally employed Private</td>\n",
              "    </tr>\n",
              "    <tr>\n",
              "      <th>4</th>\n",
              "      <td>Kenya</td>\n",
              "      <td>2018</td>\n",
              "      <td>uniqueid_5</td>\n",
              "      <td>No</td>\n",
              "      <td>Urban</td>\n",
              "      <td>No</td>\n",
              "      <td>8</td>\n",
              "      <td>26</td>\n",
              "      <td>Male</td>\n",
              "      <td>Child</td>\n",
              "      <td>Single/Never Married</td>\n",
              "      <td>Primary education</td>\n",
              "      <td>Informally employed</td>\n",
              "    </tr>\n",
              "  </tbody>\n",
              "</table>\n",
              "</div>\n",
              "      <button class=\"colab-df-convert\" onclick=\"convertToInteractive('df-77ddd4b2-b4a4-42c4-92cf-474a545f1a3a')\"\n",
              "              title=\"Convert this dataframe to an interactive table.\"\n",
              "              style=\"display:none;\">\n",
              "        \n",
              "  <svg xmlns=\"http://www.w3.org/2000/svg\" height=\"24px\"viewBox=\"0 0 24 24\"\n",
              "       width=\"24px\">\n",
              "    <path d=\"M0 0h24v24H0V0z\" fill=\"none\"/>\n",
              "    <path d=\"M18.56 5.44l.94 2.06.94-2.06 2.06-.94-2.06-.94-.94-2.06-.94 2.06-2.06.94zm-11 1L8.5 8.5l.94-2.06 2.06-.94-2.06-.94L8.5 2.5l-.94 2.06-2.06.94zm10 10l.94 2.06.94-2.06 2.06-.94-2.06-.94-.94-2.06-.94 2.06-2.06.94z\"/><path d=\"M17.41 7.96l-1.37-1.37c-.4-.4-.92-.59-1.43-.59-.52 0-1.04.2-1.43.59L10.3 9.45l-7.72 7.72c-.78.78-.78 2.05 0 2.83L4 21.41c.39.39.9.59 1.41.59.51 0 1.02-.2 1.41-.59l7.78-7.78 2.81-2.81c.8-.78.8-2.07 0-2.86zM5.41 20L4 18.59l7.72-7.72 1.47 1.35L5.41 20z\"/>\n",
              "  </svg>\n",
              "      </button>\n",
              "      \n",
              "  <style>\n",
              "    .colab-df-container {\n",
              "      display:flex;\n",
              "      flex-wrap:wrap;\n",
              "      gap: 12px;\n",
              "    }\n",
              "\n",
              "    .colab-df-convert {\n",
              "      background-color: #E8F0FE;\n",
              "      border: none;\n",
              "      border-radius: 50%;\n",
              "      cursor: pointer;\n",
              "      display: none;\n",
              "      fill: #1967D2;\n",
              "      height: 32px;\n",
              "      padding: 0 0 0 0;\n",
              "      width: 32px;\n",
              "    }\n",
              "\n",
              "    .colab-df-convert:hover {\n",
              "      background-color: #E2EBFA;\n",
              "      box-shadow: 0px 1px 2px rgba(60, 64, 67, 0.3), 0px 1px 3px 1px rgba(60, 64, 67, 0.15);\n",
              "      fill: #174EA6;\n",
              "    }\n",
              "\n",
              "    [theme=dark] .colab-df-convert {\n",
              "      background-color: #3B4455;\n",
              "      fill: #D2E3FC;\n",
              "    }\n",
              "\n",
              "    [theme=dark] .colab-df-convert:hover {\n",
              "      background-color: #434B5C;\n",
              "      box-shadow: 0px 1px 3px 1px rgba(0, 0, 0, 0.15);\n",
              "      filter: drop-shadow(0px 1px 2px rgba(0, 0, 0, 0.3));\n",
              "      fill: #FFFFFF;\n",
              "    }\n",
              "  </style>\n",
              "\n",
              "      <script>\n",
              "        const buttonEl =\n",
              "          document.querySelector('#df-77ddd4b2-b4a4-42c4-92cf-474a545f1a3a button.colab-df-convert');\n",
              "        buttonEl.style.display =\n",
              "          google.colab.kernel.accessAllowed ? 'block' : 'none';\n",
              "\n",
              "        async function convertToInteractive(key) {\n",
              "          const element = document.querySelector('#df-77ddd4b2-b4a4-42c4-92cf-474a545f1a3a');\n",
              "          const dataTable =\n",
              "            await google.colab.kernel.invokeFunction('convertToInteractive',\n",
              "                                                     [key], {});\n",
              "          if (!dataTable) return;\n",
              "\n",
              "          const docLinkHtml = 'Like what you see? Visit the ' +\n",
              "            '<a target=\"_blank\" href=https://colab.research.google.com/notebooks/data_table.ipynb>data table notebook</a>'\n",
              "            + ' to learn more about interactive tables.';\n",
              "          element.innerHTML = '';\n",
              "          dataTable['output_type'] = 'display_data';\n",
              "          await google.colab.output.renderOutput(dataTable, element);\n",
              "          const docLink = document.createElement('div');\n",
              "          docLink.innerHTML = docLinkHtml;\n",
              "          element.appendChild(docLink);\n",
              "        }\n",
              "      </script>\n",
              "    </div>\n",
              "  </div>\n",
              "  "
            ]
          },
          "metadata": {},
          "execution_count": 5
        }
      ],
      "source": [
        "train = pd.read_csv(io.BytesIO(uploaded['Train_v2.csv']))\n",
        "test = pd.read_csv(io.BytesIO(uploaded['Test_v2.csv']))\n",
        "train.head()"
      ]
    },
    {
      "cell_type": "code",
      "execution_count": 6,
      "id": "95762195-b6c1-4e8f-b2dc-917486a6f5c3",
      "metadata": {
        "colab": {
          "base_uri": "https://localhost:8080/",
          "height": 391
        },
        "id": "95762195-b6c1-4e8f-b2dc-917486a6f5c3",
        "outputId": "a720cd71-2940-474c-fbc8-113c5a6b73b0"
      },
      "outputs": [
        {
          "output_type": "execute_result",
          "data": {
            "text/plain": [
              "  country  year       uniqueid location_type cellphone_access  household_size  \\\n",
              "0   Kenya  2018  uniqueid_6056         Urban              Yes               3   \n",
              "1   Kenya  2018  uniqueid_6060         Urban              Yes               7   \n",
              "2   Kenya  2018  uniqueid_6065         Rural               No               3   \n",
              "3   Kenya  2018  uniqueid_6072         Rural               No               6   \n",
              "4   Kenya  2018  uniqueid_6073         Urban               No               3   \n",
              "\n",
              "   age_of_respondent gender_of_respondent relationship_with_head  \\\n",
              "0                 30                 Male      Head of Household   \n",
              "1                 51                 Male      Head of Household   \n",
              "2                 77               Female                 Parent   \n",
              "3                 39               Female      Head of Household   \n",
              "4                 16                 Male                  Child   \n",
              "\n",
              "            marital_status                  education_level  \\\n",
              "0  Married/Living together              Secondary education   \n",
              "1  Married/Living together  Vocational/Specialised training   \n",
              "2  Married/Living together              No formal education   \n",
              "3  Married/Living together                Primary education   \n",
              "4     Single/Never Married              Secondary education   \n",
              "\n",
              "                       job_type  \n",
              "0  Formally employed Government  \n",
              "1     Formally employed Private  \n",
              "2          Remittance Dependent  \n",
              "3          Remittance Dependent  \n",
              "4          Remittance Dependent  "
            ],
            "text/html": [
              "\n",
              "  <div id=\"df-00f46fea-399d-4094-9131-fd455c49ab83\">\n",
              "    <div class=\"colab-df-container\">\n",
              "      <div>\n",
              "<style scoped>\n",
              "    .dataframe tbody tr th:only-of-type {\n",
              "        vertical-align: middle;\n",
              "    }\n",
              "\n",
              "    .dataframe tbody tr th {\n",
              "        vertical-align: top;\n",
              "    }\n",
              "\n",
              "    .dataframe thead th {\n",
              "        text-align: right;\n",
              "    }\n",
              "</style>\n",
              "<table border=\"1\" class=\"dataframe\">\n",
              "  <thead>\n",
              "    <tr style=\"text-align: right;\">\n",
              "      <th></th>\n",
              "      <th>country</th>\n",
              "      <th>year</th>\n",
              "      <th>uniqueid</th>\n",
              "      <th>location_type</th>\n",
              "      <th>cellphone_access</th>\n",
              "      <th>household_size</th>\n",
              "      <th>age_of_respondent</th>\n",
              "      <th>gender_of_respondent</th>\n",
              "      <th>relationship_with_head</th>\n",
              "      <th>marital_status</th>\n",
              "      <th>education_level</th>\n",
              "      <th>job_type</th>\n",
              "    </tr>\n",
              "  </thead>\n",
              "  <tbody>\n",
              "    <tr>\n",
              "      <th>0</th>\n",
              "      <td>Kenya</td>\n",
              "      <td>2018</td>\n",
              "      <td>uniqueid_6056</td>\n",
              "      <td>Urban</td>\n",
              "      <td>Yes</td>\n",
              "      <td>3</td>\n",
              "      <td>30</td>\n",
              "      <td>Male</td>\n",
              "      <td>Head of Household</td>\n",
              "      <td>Married/Living together</td>\n",
              "      <td>Secondary education</td>\n",
              "      <td>Formally employed Government</td>\n",
              "    </tr>\n",
              "    <tr>\n",
              "      <th>1</th>\n",
              "      <td>Kenya</td>\n",
              "      <td>2018</td>\n",
              "      <td>uniqueid_6060</td>\n",
              "      <td>Urban</td>\n",
              "      <td>Yes</td>\n",
              "      <td>7</td>\n",
              "      <td>51</td>\n",
              "      <td>Male</td>\n",
              "      <td>Head of Household</td>\n",
              "      <td>Married/Living together</td>\n",
              "      <td>Vocational/Specialised training</td>\n",
              "      <td>Formally employed Private</td>\n",
              "    </tr>\n",
              "    <tr>\n",
              "      <th>2</th>\n",
              "      <td>Kenya</td>\n",
              "      <td>2018</td>\n",
              "      <td>uniqueid_6065</td>\n",
              "      <td>Rural</td>\n",
              "      <td>No</td>\n",
              "      <td>3</td>\n",
              "      <td>77</td>\n",
              "      <td>Female</td>\n",
              "      <td>Parent</td>\n",
              "      <td>Married/Living together</td>\n",
              "      <td>No formal education</td>\n",
              "      <td>Remittance Dependent</td>\n",
              "    </tr>\n",
              "    <tr>\n",
              "      <th>3</th>\n",
              "      <td>Kenya</td>\n",
              "      <td>2018</td>\n",
              "      <td>uniqueid_6072</td>\n",
              "      <td>Rural</td>\n",
              "      <td>No</td>\n",
              "      <td>6</td>\n",
              "      <td>39</td>\n",
              "      <td>Female</td>\n",
              "      <td>Head of Household</td>\n",
              "      <td>Married/Living together</td>\n",
              "      <td>Primary education</td>\n",
              "      <td>Remittance Dependent</td>\n",
              "    </tr>\n",
              "    <tr>\n",
              "      <th>4</th>\n",
              "      <td>Kenya</td>\n",
              "      <td>2018</td>\n",
              "      <td>uniqueid_6073</td>\n",
              "      <td>Urban</td>\n",
              "      <td>No</td>\n",
              "      <td>3</td>\n",
              "      <td>16</td>\n",
              "      <td>Male</td>\n",
              "      <td>Child</td>\n",
              "      <td>Single/Never Married</td>\n",
              "      <td>Secondary education</td>\n",
              "      <td>Remittance Dependent</td>\n",
              "    </tr>\n",
              "  </tbody>\n",
              "</table>\n",
              "</div>\n",
              "      <button class=\"colab-df-convert\" onclick=\"convertToInteractive('df-00f46fea-399d-4094-9131-fd455c49ab83')\"\n",
              "              title=\"Convert this dataframe to an interactive table.\"\n",
              "              style=\"display:none;\">\n",
              "        \n",
              "  <svg xmlns=\"http://www.w3.org/2000/svg\" height=\"24px\"viewBox=\"0 0 24 24\"\n",
              "       width=\"24px\">\n",
              "    <path d=\"M0 0h24v24H0V0z\" fill=\"none\"/>\n",
              "    <path d=\"M18.56 5.44l.94 2.06.94-2.06 2.06-.94-2.06-.94-.94-2.06-.94 2.06-2.06.94zm-11 1L8.5 8.5l.94-2.06 2.06-.94-2.06-.94L8.5 2.5l-.94 2.06-2.06.94zm10 10l.94 2.06.94-2.06 2.06-.94-2.06-.94-.94-2.06-.94 2.06-2.06.94z\"/><path d=\"M17.41 7.96l-1.37-1.37c-.4-.4-.92-.59-1.43-.59-.52 0-1.04.2-1.43.59L10.3 9.45l-7.72 7.72c-.78.78-.78 2.05 0 2.83L4 21.41c.39.39.9.59 1.41.59.51 0 1.02-.2 1.41-.59l7.78-7.78 2.81-2.81c.8-.78.8-2.07 0-2.86zM5.41 20L4 18.59l7.72-7.72 1.47 1.35L5.41 20z\"/>\n",
              "  </svg>\n",
              "      </button>\n",
              "      \n",
              "  <style>\n",
              "    .colab-df-container {\n",
              "      display:flex;\n",
              "      flex-wrap:wrap;\n",
              "      gap: 12px;\n",
              "    }\n",
              "\n",
              "    .colab-df-convert {\n",
              "      background-color: #E8F0FE;\n",
              "      border: none;\n",
              "      border-radius: 50%;\n",
              "      cursor: pointer;\n",
              "      display: none;\n",
              "      fill: #1967D2;\n",
              "      height: 32px;\n",
              "      padding: 0 0 0 0;\n",
              "      width: 32px;\n",
              "    }\n",
              "\n",
              "    .colab-df-convert:hover {\n",
              "      background-color: #E2EBFA;\n",
              "      box-shadow: 0px 1px 2px rgba(60, 64, 67, 0.3), 0px 1px 3px 1px rgba(60, 64, 67, 0.15);\n",
              "      fill: #174EA6;\n",
              "    }\n",
              "\n",
              "    [theme=dark] .colab-df-convert {\n",
              "      background-color: #3B4455;\n",
              "      fill: #D2E3FC;\n",
              "    }\n",
              "\n",
              "    [theme=dark] .colab-df-convert:hover {\n",
              "      background-color: #434B5C;\n",
              "      box-shadow: 0px 1px 3px 1px rgba(0, 0, 0, 0.15);\n",
              "      filter: drop-shadow(0px 1px 2px rgba(0, 0, 0, 0.3));\n",
              "      fill: #FFFFFF;\n",
              "    }\n",
              "  </style>\n",
              "\n",
              "      <script>\n",
              "        const buttonEl =\n",
              "          document.querySelector('#df-00f46fea-399d-4094-9131-fd455c49ab83 button.colab-df-convert');\n",
              "        buttonEl.style.display =\n",
              "          google.colab.kernel.accessAllowed ? 'block' : 'none';\n",
              "\n",
              "        async function convertToInteractive(key) {\n",
              "          const element = document.querySelector('#df-00f46fea-399d-4094-9131-fd455c49ab83');\n",
              "          const dataTable =\n",
              "            await google.colab.kernel.invokeFunction('convertToInteractive',\n",
              "                                                     [key], {});\n",
              "          if (!dataTable) return;\n",
              "\n",
              "          const docLinkHtml = 'Like what you see? Visit the ' +\n",
              "            '<a target=\"_blank\" href=https://colab.research.google.com/notebooks/data_table.ipynb>data table notebook</a>'\n",
              "            + ' to learn more about interactive tables.';\n",
              "          element.innerHTML = '';\n",
              "          dataTable['output_type'] = 'display_data';\n",
              "          await google.colab.output.renderOutput(dataTable, element);\n",
              "          const docLink = document.createElement('div');\n",
              "          docLink.innerHTML = docLinkHtml;\n",
              "          element.appendChild(docLink);\n",
              "        }\n",
              "      </script>\n",
              "    </div>\n",
              "  </div>\n",
              "  "
            ]
          },
          "metadata": {},
          "execution_count": 6
        }
      ],
      "source": [
        "test.head()"
      ]
    },
    {
      "cell_type": "markdown",
      "id": "f946cc8b-1329-4024-bf18-7cd18271e6e2",
      "metadata": {
        "id": "f946cc8b-1329-4024-bf18-7cd18271e6e2"
      },
      "source": [
        "# Explolatory Data Analysis\n",
        "*This is the process of finding some insights from you dataset before create predictive models.*\n",
        "\n",
        "Note: This is important steps in your Data science workflow."
      ]
    },
    {
      "cell_type": "code",
      "execution_count": 7,
      "id": "6e9a2beb-ff5c-419a-8ec2-18cd9ffe53ff",
      "metadata": {
        "colab": {
          "base_uri": "https://localhost:8080/"
        },
        "id": "6e9a2beb-ff5c-419a-8ec2-18cd9ffe53ff",
        "outputId": "d530726c-a3a0-46a4-b90d-e6204520c45b"
      },
      "outputs": [
        {
          "output_type": "stream",
          "name": "stdout",
          "text": [
            "<class 'pandas.core.frame.DataFrame'>\n",
            "RangeIndex: 23524 entries, 0 to 23523\n",
            "Data columns (total 13 columns):\n",
            " #   Column                  Non-Null Count  Dtype \n",
            "---  ------                  --------------  ----- \n",
            " 0   country                 23524 non-null  object\n",
            " 1   year                    23524 non-null  int64 \n",
            " 2   uniqueid                23524 non-null  object\n",
            " 3   bank_account            23524 non-null  object\n",
            " 4   location_type           23524 non-null  object\n",
            " 5   cellphone_access        23524 non-null  object\n",
            " 6   household_size          23524 non-null  int64 \n",
            " 7   age_of_respondent       23524 non-null  int64 \n",
            " 8   gender_of_respondent    23524 non-null  object\n",
            " 9   relationship_with_head  23524 non-null  object\n",
            " 10  marital_status          23524 non-null  object\n",
            " 11  education_level         23524 non-null  object\n",
            " 12  job_type                23524 non-null  object\n",
            "dtypes: int64(3), object(10)\n",
            "memory usage: 2.3+ MB\n"
          ]
        }
      ],
      "source": [
        "train.info()"
      ]
    },
    {
      "cell_type": "markdown",
      "id": "d7f20b6c-50eb-430e-876e-3d496013e490",
      "metadata": {
        "id": "d7f20b6c-50eb-430e-876e-3d496013e490"
      },
      "source": [
        "## Let see the statistical overview of our dataset"
      ]
    },
    {
      "cell_type": "code",
      "execution_count": 8,
      "id": "25aefcce-ab5f-4f59-90ba-762107e6d28b",
      "metadata": {
        "colab": {
          "base_uri": "https://localhost:8080/",
          "height": 300
        },
        "id": "25aefcce-ab5f-4f59-90ba-762107e6d28b",
        "outputId": "acfe96c6-131b-4ec8-cfa1-587fb29e7ed2"
      },
      "outputs": [
        {
          "output_type": "execute_result",
          "data": {
            "text/plain": [
              "               year  household_size  age_of_respondent\n",
              "count  23524.000000    23524.000000       23524.000000\n",
              "mean    2016.975939        3.797483          38.805220\n",
              "std        0.847371        2.227613          16.520569\n",
              "min     2016.000000        1.000000          16.000000\n",
              "25%     2016.000000        2.000000          26.000000\n",
              "50%     2017.000000        3.000000          35.000000\n",
              "75%     2018.000000        5.000000          49.000000\n",
              "max     2018.000000       21.000000         100.000000"
            ],
            "text/html": [
              "\n",
              "  <div id=\"df-1fee843e-dc20-4ef5-9364-ad42a75fd9d1\">\n",
              "    <div class=\"colab-df-container\">\n",
              "      <div>\n",
              "<style scoped>\n",
              "    .dataframe tbody tr th:only-of-type {\n",
              "        vertical-align: middle;\n",
              "    }\n",
              "\n",
              "    .dataframe tbody tr th {\n",
              "        vertical-align: top;\n",
              "    }\n",
              "\n",
              "    .dataframe thead th {\n",
              "        text-align: right;\n",
              "    }\n",
              "</style>\n",
              "<table border=\"1\" class=\"dataframe\">\n",
              "  <thead>\n",
              "    <tr style=\"text-align: right;\">\n",
              "      <th></th>\n",
              "      <th>year</th>\n",
              "      <th>household_size</th>\n",
              "      <th>age_of_respondent</th>\n",
              "    </tr>\n",
              "  </thead>\n",
              "  <tbody>\n",
              "    <tr>\n",
              "      <th>count</th>\n",
              "      <td>23524.000000</td>\n",
              "      <td>23524.000000</td>\n",
              "      <td>23524.000000</td>\n",
              "    </tr>\n",
              "    <tr>\n",
              "      <th>mean</th>\n",
              "      <td>2016.975939</td>\n",
              "      <td>3.797483</td>\n",
              "      <td>38.805220</td>\n",
              "    </tr>\n",
              "    <tr>\n",
              "      <th>std</th>\n",
              "      <td>0.847371</td>\n",
              "      <td>2.227613</td>\n",
              "      <td>16.520569</td>\n",
              "    </tr>\n",
              "    <tr>\n",
              "      <th>min</th>\n",
              "      <td>2016.000000</td>\n",
              "      <td>1.000000</td>\n",
              "      <td>16.000000</td>\n",
              "    </tr>\n",
              "    <tr>\n",
              "      <th>25%</th>\n",
              "      <td>2016.000000</td>\n",
              "      <td>2.000000</td>\n",
              "      <td>26.000000</td>\n",
              "    </tr>\n",
              "    <tr>\n",
              "      <th>50%</th>\n",
              "      <td>2017.000000</td>\n",
              "      <td>3.000000</td>\n",
              "      <td>35.000000</td>\n",
              "    </tr>\n",
              "    <tr>\n",
              "      <th>75%</th>\n",
              "      <td>2018.000000</td>\n",
              "      <td>5.000000</td>\n",
              "      <td>49.000000</td>\n",
              "    </tr>\n",
              "    <tr>\n",
              "      <th>max</th>\n",
              "      <td>2018.000000</td>\n",
              "      <td>21.000000</td>\n",
              "      <td>100.000000</td>\n",
              "    </tr>\n",
              "  </tbody>\n",
              "</table>\n",
              "</div>\n",
              "      <button class=\"colab-df-convert\" onclick=\"convertToInteractive('df-1fee843e-dc20-4ef5-9364-ad42a75fd9d1')\"\n",
              "              title=\"Convert this dataframe to an interactive table.\"\n",
              "              style=\"display:none;\">\n",
              "        \n",
              "  <svg xmlns=\"http://www.w3.org/2000/svg\" height=\"24px\"viewBox=\"0 0 24 24\"\n",
              "       width=\"24px\">\n",
              "    <path d=\"M0 0h24v24H0V0z\" fill=\"none\"/>\n",
              "    <path d=\"M18.56 5.44l.94 2.06.94-2.06 2.06-.94-2.06-.94-.94-2.06-.94 2.06-2.06.94zm-11 1L8.5 8.5l.94-2.06 2.06-.94-2.06-.94L8.5 2.5l-.94 2.06-2.06.94zm10 10l.94 2.06.94-2.06 2.06-.94-2.06-.94-.94-2.06-.94 2.06-2.06.94z\"/><path d=\"M17.41 7.96l-1.37-1.37c-.4-.4-.92-.59-1.43-.59-.52 0-1.04.2-1.43.59L10.3 9.45l-7.72 7.72c-.78.78-.78 2.05 0 2.83L4 21.41c.39.39.9.59 1.41.59.51 0 1.02-.2 1.41-.59l7.78-7.78 2.81-2.81c.8-.78.8-2.07 0-2.86zM5.41 20L4 18.59l7.72-7.72 1.47 1.35L5.41 20z\"/>\n",
              "  </svg>\n",
              "      </button>\n",
              "      \n",
              "  <style>\n",
              "    .colab-df-container {\n",
              "      display:flex;\n",
              "      flex-wrap:wrap;\n",
              "      gap: 12px;\n",
              "    }\n",
              "\n",
              "    .colab-df-convert {\n",
              "      background-color: #E8F0FE;\n",
              "      border: none;\n",
              "      border-radius: 50%;\n",
              "      cursor: pointer;\n",
              "      display: none;\n",
              "      fill: #1967D2;\n",
              "      height: 32px;\n",
              "      padding: 0 0 0 0;\n",
              "      width: 32px;\n",
              "    }\n",
              "\n",
              "    .colab-df-convert:hover {\n",
              "      background-color: #E2EBFA;\n",
              "      box-shadow: 0px 1px 2px rgba(60, 64, 67, 0.3), 0px 1px 3px 1px rgba(60, 64, 67, 0.15);\n",
              "      fill: #174EA6;\n",
              "    }\n",
              "\n",
              "    [theme=dark] .colab-df-convert {\n",
              "      background-color: #3B4455;\n",
              "      fill: #D2E3FC;\n",
              "    }\n",
              "\n",
              "    [theme=dark] .colab-df-convert:hover {\n",
              "      background-color: #434B5C;\n",
              "      box-shadow: 0px 1px 3px 1px rgba(0, 0, 0, 0.15);\n",
              "      filter: drop-shadow(0px 1px 2px rgba(0, 0, 0, 0.3));\n",
              "      fill: #FFFFFF;\n",
              "    }\n",
              "  </style>\n",
              "\n",
              "      <script>\n",
              "        const buttonEl =\n",
              "          document.querySelector('#df-1fee843e-dc20-4ef5-9364-ad42a75fd9d1 button.colab-df-convert');\n",
              "        buttonEl.style.display =\n",
              "          google.colab.kernel.accessAllowed ? 'block' : 'none';\n",
              "\n",
              "        async function convertToInteractive(key) {\n",
              "          const element = document.querySelector('#df-1fee843e-dc20-4ef5-9364-ad42a75fd9d1');\n",
              "          const dataTable =\n",
              "            await google.colab.kernel.invokeFunction('convertToInteractive',\n",
              "                                                     [key], {});\n",
              "          if (!dataTable) return;\n",
              "\n",
              "          const docLinkHtml = 'Like what you see? Visit the ' +\n",
              "            '<a target=\"_blank\" href=https://colab.research.google.com/notebooks/data_table.ipynb>data table notebook</a>'\n",
              "            + ' to learn more about interactive tables.';\n",
              "          element.innerHTML = '';\n",
              "          dataTable['output_type'] = 'display_data';\n",
              "          await google.colab.output.renderOutput(dataTable, element);\n",
              "          const docLink = document.createElement('div');\n",
              "          docLink.innerHTML = docLinkHtml;\n",
              "          element.appendChild(docLink);\n",
              "        }\n",
              "      </script>\n",
              "    </div>\n",
              "  </div>\n",
              "  "
            ]
          },
          "metadata": {},
          "execution_count": 8
        }
      ],
      "source": [
        "# describe will show statistical info\n",
        "train.describe()"
      ]
    },
    {
      "cell_type": "markdown",
      "id": "ee90f807-f43a-4abf-a9b8-fd91b6f22697",
      "metadata": {
        "id": "ee90f807-f43a-4abf-a9b8-fd91b6f22697"
      },
      "source": [
        "From the above cell we can see that most of our features are categorical because ony 3 columns are numerical that's why it shows only those 3 with the mean, count, standard deviation also the minimum value of each columns the maximum value of each columns along with the interquartile range"
      ]
    },
    {
      "cell_type": "code",
      "execution_count": 9,
      "id": "e0155400-5c43-4df3-9170-e701412f885b",
      "metadata": {
        "colab": {
          "base_uri": "https://localhost:8080/"
        },
        "id": "e0155400-5c43-4df3-9170-e701412f885b",
        "outputId": "fe244ec0-e145-4f0a-889f-f319f7f54efd"
      },
      "outputs": [
        {
          "output_type": "stream",
          "name": "stdout",
          "text": [
            "<class 'pandas.core.frame.DataFrame'>\n",
            "RangeIndex: 23524 entries, 0 to 23523\n",
            "Data columns (total 13 columns):\n",
            " #   Column                  Non-Null Count  Dtype \n",
            "---  ------                  --------------  ----- \n",
            " 0   country                 23524 non-null  object\n",
            " 1   year                    23524 non-null  int64 \n",
            " 2   uniqueid                23524 non-null  object\n",
            " 3   bank_account            23524 non-null  object\n",
            " 4   location_type           23524 non-null  object\n",
            " 5   cellphone_access        23524 non-null  object\n",
            " 6   household_size          23524 non-null  int64 \n",
            " 7   age_of_respondent       23524 non-null  int64 \n",
            " 8   gender_of_respondent    23524 non-null  object\n",
            " 9   relationship_with_head  23524 non-null  object\n",
            " 10  marital_status          23524 non-null  object\n",
            " 11  education_level         23524 non-null  object\n",
            " 12  job_type                23524 non-null  object\n",
            "dtypes: int64(3), object(10)\n",
            "memory usage: 2.3+ MB\n"
          ]
        }
      ],
      "source": [
        "train.info()"
      ]
    },
    {
      "cell_type": "markdown",
      "id": "b03c78ad-344b-454f-85d3-0c36bc87248c",
      "metadata": {
        "id": "b03c78ad-344b-454f-85d3-0c36bc87248c"
      },
      "source": [
        "From this info method we got to know more about our data it first show us the number of non null count als the datatype of each columns along with the total number of each datatypes we have. It shows here that we have 3 features with *int* dataypte and 10 *objects* datatype also it tell us about the size of the file we have which is in our case 2.3MB"
      ]
    },
    {
      "cell_type": "code",
      "execution_count": 10,
      "id": "d2166a6f-4288-4cd9-92f2-243dc1e16d8e",
      "metadata": {
        "colab": {
          "base_uri": "https://localhost:8080/"
        },
        "id": "d2166a6f-4288-4cd9-92f2-243dc1e16d8e",
        "outputId": "ebc31856-d470-4b0b-e22a-bb0b2c38712c"
      },
      "outputs": [
        {
          "output_type": "execute_result",
          "data": {
            "text/plain": [
              "(23524, 13)"
            ]
          },
          "metadata": {},
          "execution_count": 10
        }
      ],
      "source": [
        "# to show the shape of the data\n",
        "train.shape"
      ]
    },
    {
      "cell_type": "code",
      "execution_count": 11,
      "id": "1e8d97c5-a551-42ef-95f2-7e3140973172",
      "metadata": {
        "colab": {
          "base_uri": "https://localhost:8080/"
        },
        "id": "1e8d97c5-a551-42ef-95f2-7e3140973172",
        "outputId": "e2c0a65c-4f68-4853-f6e0-57eee312766d"
      },
      "outputs": [
        {
          "output_type": "execute_result",
          "data": {
            "text/plain": [
              "2016    8735\n",
              "2018    8169\n",
              "2017    6620\n",
              "Name: year, dtype: int64"
            ]
          },
          "metadata": {},
          "execution_count": 11
        }
      ],
      "source": [
        "train.year.value_counts()"
      ]
    },
    {
      "cell_type": "markdown",
      "id": "7ace16cb-1349-484f-88d5-5ee96a3816c1",
      "metadata": {
        "id": "7ace16cb-1349-484f-88d5-5ee96a3816c1"
      },
      "source": [
        "### Target Distribution"
      ]
    },
    {
      "cell_type": "code",
      "execution_count": 12,
      "id": "311bd0ca-7244-42c1-a3bb-53a4218b8c84",
      "metadata": {
        "colab": {
          "base_uri": "https://localhost:8080/",
          "height": 295
        },
        "id": "311bd0ca-7244-42c1-a3bb-53a4218b8c84",
        "outputId": "50bece13-0cb4-4865-b871-3a30ca142a52"
      },
      "outputs": [
        {
          "output_type": "display_data",
          "data": {
            "text/plain": [
              "<Figure size 432x288 with 1 Axes>"
            ],
            "image/png": "[encoded data removed]"
          },
          "metadata": {
            "needs_background": "light"
          }
        }
      ],
      "source": [
        "plt.title(\"Unbalance classes\")\n",
        "sns.countplot(y=\"bank_account\", data=train)\n",
        "plt.show()"
      ]
    },
    {
      "cell_type": "markdown",
      "id": "9ea5d7e0-6e4a-4fd1-90c7-e3cc7cef40e5",
      "metadata": {
        "id": "9ea5d7e0-6e4a-4fd1-90c7-e3cc7cef40e5"
      },
      "source": [
        "From the above cell we can see that we have unbalanced data basically the number of No is much higher than the number of yes which can lead to poor model performence sometimes. In this can we've about 2500 yes and 20000 No which gives us a big difference later on we will what we can do for this ."
      ]
    },
    {
      "cell_type": "markdown",
      "id": "efd705fe-273c-4fc2-8747-2667f33aa62c",
      "metadata": {
        "id": "efd705fe-273c-4fc2-8747-2667f33aa62c"
      },
      "source": [
        "### Let's see missing data"
      ]
    },
    {
      "cell_type": "code",
      "execution_count": 13,
      "id": "387e76c4-dd86-4e85-aabd-cb0f64b458fb",
      "metadata": {
        "colab": {
          "base_uri": "https://localhost:8080/",
          "height": 585
        },
        "id": "387e76c4-dd86-4e85-aabd-cb0f64b458fb",
        "outputId": "52cba35a-ff05-4993-fda7-2df3eb132fc9"
      },
      "outputs": [
        {
          "output_type": "execute_result",
          "data": {
            "text/plain": [
              "<matplotlib.axes._subplots.AxesSubplot at 0x7f73269c54d0>"
            ]
          },
          "metadata": {},
          "execution_count": 13
        },
        {
          "output_type": "display_data",
          "data": {
            "text/plain": [
              "<Figure size 1800x720 with 2 Axes>"
            ],
            "image/png": "[encoded data removed]"
          },
          "metadata": {
            "needs_background": "light"
          }
        }
      ],
      "source": [
        "import missingno as mn\n",
        "\n",
        "mn.matrix(train)"
      ]
    },
    {
      "cell_type": "markdown",
      "id": "31e05354-01d9-4c1a-96a5-a3c1abcb9bde",
      "metadata": {
        "id": "31e05354-01d9-4c1a-96a5-a3c1abcb9bde"
      },
      "source": [
        "It shows that we don't have any missing values which is good"
      ]
    },
    {
      "cell_type": "markdown",
      "id": "3313a1f3-c73e-486e-ab89-ce1dacecff10",
      "metadata": {
        "id": "3313a1f3-c73e-486e-ab89-ce1dacecff10"
      },
      "source": [
        "### Let's see the disctribution of the people with cellphone based on gender."
      ]
    },
    {
      "cell_type": "code",
      "execution_count": 14,
      "id": "6d89982f-667d-4da6-a102-4ada7a5eee0c",
      "metadata": {
        "colab": {
          "base_uri": "https://localhost:8080/",
          "height": 369
        },
        "id": "6d89982f-667d-4da6-a102-4ada7a5eee0c",
        "outputId": "965f702a-784d-48bf-f24f-5b9f384026f0"
      },
      "outputs": [
        {
          "output_type": "display_data",
          "data": {
            "text/plain": [
              "<Figure size 479.75x360 with 1 Axes>"
            ],
            "image/png": "[encoded data removed]"
          },
          "metadata": {
            "needs_background": "light"
          }
        }
      ],
      "source": [
        "sns.catplot(x=\"cellphone_access\", data=train, kind=\"count\", hue=\"gender_of_respondent\")\n",
        "plt.show()"
      ]
    },
    {
      "cell_type": "markdown",
      "id": "efeca5a7-c772-4938-8372-1b8bee4bb34e",
      "metadata": {
        "id": "efeca5a7-c772-4938-8372-1b8bee4bb34e"
      },
      "source": [
        "This shows that number of male having cellphones is higher than the numbero female in this case."
      ]
    },
    {
      "cell_type": "markdown",
      "id": "f2f58cef-0524-481a-8cb6-afb0bbc1e61d",
      "metadata": {
        "id": "f2f58cef-0524-481a-8cb6-afb0bbc1e61d"
      },
      "source": [
        "## Let's see the distribution of age"
      ]
    },
    {
      "cell_type": "code",
      "execution_count": 15,
      "id": "acc49e47-b963-47e3-9589-4242c33bb232",
      "metadata": {
        "colab": {
          "base_uri": "https://localhost:8080/",
          "height": 300
        },
        "id": "acc49e47-b963-47e3-9589-4242c33bb232",
        "outputId": "328f8457-01df-40e6-9c73-aa72bfeb82f0"
      },
      "outputs": [
        {
          "output_type": "execute_result",
          "data": {
            "text/plain": [
              "<matplotlib.axes._subplots.AxesSubplot at 0x7f7324153f50>"
            ]
          },
          "metadata": {},
          "execution_count": 15
        },
        {
          "output_type": "display_data",
          "data": {
            "text/plain": [
              "<Figure size 432x288 with 1 Axes>"
            ],
            "image/png": "[encoded data removed]"
          },
          "metadata": {
            "needs_background": "light"
          }
        }
      ],
      "source": [
        "sns.distplot(train.age_of_respondent)"
      ]
    },
    {
      "cell_type": "markdown",
      "id": "3f02426c-d19d-427b-a787-8014900f8675",
      "metadata": {
        "id": "3f02426c-d19d-427b-a787-8014900f8675"
      },
      "source": [
        "This distribution make sense because we have age range from 16 years old to 100 year"
      ]
    },
    {
      "cell_type": "code",
      "execution_count": 16,
      "id": "0cc5c995-adc5-4388-9911-ab9360ce5052",
      "metadata": {
        "colab": {
          "base_uri": "https://localhost:8080/",
          "height": 280
        },
        "id": "0cc5c995-adc5-4388-9911-ab9360ce5052",
        "outputId": "f3b1efc6-f7ac-4d93-d3e3-65b2bf869e6f"
      },
      "outputs": [
        {
          "output_type": "display_data",
          "data": {
            "text/plain": [
              "<Figure size 432x288 with 1 Axes>"
            ],
            "image/png": "[encoded data removed]"
          },
          "metadata": {
            "needs_background": "light"
          }
        }
      ],
      "source": [
        "# Distribution of the gender\n",
        "sns.countplot(train.gender_of_respondent, hue=\"bank_account\", data=train)\n",
        "plt.show()"
      ]
    },
    {
      "cell_type": "markdown",
      "id": "a6bde4ef-5417-44df-9f8b-cd8b5ddd3065",
      "metadata": {
        "id": "a6bde4ef-5417-44df-9f8b-cd8b5ddd3065"
      },
      "source": [
        "we can see that the number of female that have bank account is higher than the number of male with a bank account. "
      ]
    },
    {
      "cell_type": "code",
      "execution_count": 17,
      "id": "c011b253-3fb0-4674-846a-6895be3835f4",
      "metadata": {
        "colab": {
          "base_uri": "https://localhost:8080/",
          "height": 587
        },
        "id": "c011b253-3fb0-4674-846a-6895be3835f4",
        "outputId": "b12032d3-f1fe-4f54-d74f-b7f3054d4157"
      },
      "outputs": [
        {
          "output_type": "display_data",
          "data": {
            "text/plain": [
              "<Figure size 1080x504 with 1 Axes>"
            ],
            "image/png": "[encoded data removed]"
          },
          "metadata": {
            "needs_background": "light"
          }
        }
      ],
      "source": [
        "# distribution of job type\n",
        "plt.figure(figsize=(15, 7))\n",
        "sns.countplot(train.job_type, orient=\"h\", hue=\"bank_account\", data=train)\n",
        "labels = [\n",
        "    \"Self employed\",\n",
        "    \"Government Dependent\",\n",
        "    \"Formally employed Private\",\n",
        "    \"Informally employed\",\n",
        "    \"Formally employed Government\",\n",
        "    \"Farming and Fishing\",\n",
        "    \"Remittance Dependent\",\n",
        "    \"Other Income\",\n",
        "    \"Dont Know/Refuse to answer\",\n",
        "    \"No Income\",\n",
        "]\n",
        "ax = plt.gca()\n",
        "ax.set_xticklabels(labels=labels, rotation=70);"
      ]
    },
    {
      "cell_type": "markdown",
      "id": "0dfbf759-16eb-47c8-8bb1-3864963bb4cb",
      "metadata": {
        "id": "0dfbf759-16eb-47c8-8bb1-3864963bb4cb"
      },
      "source": [
        "we can see from the above graph the the people who are self employed and farming and fishing are those who are more likely to have bank account as compare to the those who work for the Government or other income. \n",
        "We can notice also those who don't have no Income and does who reuse to answer don't have high chance of having bank account."
      ]
    },
    {
      "cell_type": "code",
      "execution_count": 18,
      "id": "f9abb468-32ea-47be-9698-14dcf758352d",
      "metadata": {
        "colab": {
          "base_uri": "https://localhost:8080/",
          "height": 298
        },
        "id": "f9abb468-32ea-47be-9698-14dcf758352d",
        "outputId": "77d79c8c-0a17-4413-fa1c-7ed72fb5a445"
      },
      "outputs": [
        {
          "output_type": "execute_result",
          "data": {
            "text/plain": [
              "<matplotlib.axes._subplots.AxesSubplot at 0x7f7321e51850>"
            ]
          },
          "metadata": {},
          "execution_count": 18
        },
        {
          "output_type": "display_data",
          "data": {
            "text/plain": [
              "<Figure size 432x288 with 1 Axes>"
            ],
            "image/png": "[encoded data removed]"
          },
          "metadata": {
            "needs_background": "light"
          }
        }
      ],
      "source": [
        "# Distribution of the location based on account\n",
        "sns.countplot(train.location_type, hue=\"bank_account\", data=train)"
      ]
    },
    {
      "cell_type": "markdown",
      "id": "71a4ca40-a079-451c-b949-0ecde4931621",
      "metadata": {
        "tags": [],
        "id": "71a4ca40-a079-451c-b949-0ecde4931621"
      },
      "source": [
        "We can see that people in Urban area is have more chance to have bank_account than those who are in Rural area although we can see also the number people in Rural area is higher."
      ]
    },
    {
      "cell_type": "code",
      "execution_count": 19,
      "id": "7b7a9feb-2662-4d08-9730-fcadea407ab3",
      "metadata": {
        "colab": {
          "base_uri": "https://localhost:8080/",
          "height": 298
        },
        "id": "7b7a9feb-2662-4d08-9730-fcadea407ab3",
        "outputId": "bec7244e-1e3e-4c72-d149-c5513a80c657"
      },
      "outputs": [
        {
          "output_type": "execute_result",
          "data": {
            "text/plain": [
              "<matplotlib.axes._subplots.AxesSubplot at 0x7f7326fb1690>"
            ]
          },
          "metadata": {},
          "execution_count": 19
        },
        {
          "output_type": "display_data",
          "data": {
            "text/plain": [
              "<Figure size 432x288 with 1 Axes>"
            ],
            "image/png": "[encoded data removed]"
          },
          "metadata": {
            "needs_background": "light"
          }
        }
      ],
      "source": [
        "# Distirbution of the household_size\n",
        "sns.countplot(train.household_size, hue=\"bank_account\", data=train)"
      ]
    },
    {
      "cell_type": "markdown",
      "id": "1b98c1d1-c5ee-4e39-83c1-92c166a588ee",
      "metadata": {
        "id": "1b98c1d1-c5ee-4e39-83c1-92c166a588ee"
      },
      "source": [
        "## How many people have cellphone"
      ]
    },
    {
      "cell_type": "code",
      "execution_count": 20,
      "id": "1fc32588-7913-4a2c-b6a2-3c88fe0a7bbc",
      "metadata": {
        "colab": {
          "base_uri": "https://localhost:8080/"
        },
        "id": "1fc32588-7913-4a2c-b6a2-3c88fe0a7bbc",
        "outputId": "1b355abc-17d7-45e2-a759-44a3ff290fd9"
      },
      "outputs": [
        {
          "output_type": "execute_result",
          "data": {
            "text/plain": [
              "17454"
            ]
          },
          "metadata": {},
          "execution_count": 20
        }
      ],
      "source": [
        "train.cellphone_access.value_counts()[0]"
      ]
    },
    {
      "cell_type": "markdown",
      "id": "2353aafb-3d49-4f6b-bfdc-25fd48bbb9ea",
      "metadata": {
        "id": "2353aafb-3d49-4f6b-bfdc-25fd48bbb9ea"
      },
      "source": [
        "we can see that the number of people who have cellphone access is 17454 which is more than the half which make more sense in this case"
      ]
    },
    {
      "cell_type": "markdown",
      "id": "636107a5-a82a-4bc1-ad7a-faef955c70ac",
      "metadata": {
        "id": "636107a5-a82a-4bc1-ad7a-faef955c70ac"
      },
      "source": [
        "### How many types of education do the dataset has?"
      ]
    },
    {
      "cell_type": "code",
      "execution_count": 21,
      "id": "a5cb5c13-4042-413c-96b9-3b8b89ae0db4",
      "metadata": {
        "colab": {
          "base_uri": "https://localhost:8080/"
        },
        "id": "a5cb5c13-4042-413c-96b9-3b8b89ae0db4",
        "outputId": "172030bb-bec7-400c-e303-f730472bb56e"
      },
      "outputs": [
        {
          "output_type": "execute_result",
          "data": {
            "text/plain": [
              "array(['Secondary education', 'No formal education',\n",
              "       'Vocational/Specialised training', 'Primary education',\n",
              "       'Tertiary education', 'Other/Dont know/RTA'], dtype=object)"
            ]
          },
          "metadata": {},
          "execution_count": 21
        }
      ],
      "source": [
        "train.education_level.unique()"
      ]
    },
    {
      "cell_type": "code",
      "execution_count": 22,
      "id": "4679b658-6782-416f-87d2-6e9d827ef36c",
      "metadata": {
        "colab": {
          "base_uri": "https://localhost:8080/",
          "height": 395
        },
        "id": "4679b658-6782-416f-87d2-6e9d827ef36c",
        "outputId": "b04133b9-f009-4326-c909-54484e532973"
      },
      "outputs": [
        {
          "output_type": "display_data",
          "data": {
            "text/plain": [
              "<Figure size 432x288 with 1 Axes>"
            ],
            "image/png": "[encoded data removed]"
          },
          "metadata": {
            "needs_background": "light"
          }
        }
      ],
      "source": [
        "sns.countplot(train.education_level, hue=\"bank_account\", data=train)\n",
        "labels = [\n",
        "    \"Secondary education\",\n",
        "    \"No formal education\",\n",
        "    \"Vocational/Specialised training\",\n",
        "    \"Primary education\",\n",
        "    \"Tertiary education\",\n",
        "    \"Other/Dont know/RTA\",\n",
        "]\n",
        "ax = plt.gca()\n",
        "ax.set_xticklabels(labels=labels, rotation=50);"
      ]
    },
    {
      "cell_type": "markdown",
      "id": "cc5cb797-52ab-42cd-955d-b300d171bca2",
      "metadata": {
        "id": "cc5cb797-52ab-42cd-955d-b300d171bca2"
      },
      "source": [
        "we can see that the vocational/ specialised training is the majority in this case and we have few people with No formal education"
      ]
    },
    {
      "cell_type": "code",
      "execution_count": 23,
      "id": "a75da0e6-bb56-4fd5-bf2c-b71c75d5f522",
      "metadata": {
        "colab": {
          "base_uri": "https://localhost:8080/"
        },
        "id": "a75da0e6-bb56-4fd5-bf2c-b71c75d5f522",
        "outputId": "cd98f155-a0bd-4feb-fd5f-cd475a536e72"
      },
      "outputs": [
        {
          "output_type": "execute_result",
          "data": {
            "text/plain": [
              "Married/Living together    10749\n",
              "Single/Never Married        7983\n",
              "Widowed                     2708\n",
              "Divorced/Seperated          2076\n",
              "Dont know                      8\n",
              "Name: marital_status, dtype: int64"
            ]
          },
          "metadata": {},
          "execution_count": 23
        }
      ],
      "source": [
        "train.marital_status.value_counts()"
      ]
    },
    {
      "cell_type": "code",
      "execution_count": 24,
      "id": "375dda02-2de1-41a9-a377-b4c217cc9dd2",
      "metadata": {
        "colab": {
          "base_uri": "https://localhost:8080/",
          "height": 367
        },
        "id": "375dda02-2de1-41a9-a377-b4c217cc9dd2",
        "outputId": "2ce48a81-8872-40b0-af19-e888188ea209"
      },
      "outputs": [
        {
          "output_type": "display_data",
          "data": {
            "text/plain": [
              "<Figure size 432x288 with 1 Axes>"
            ],
            "image/png": "[encoded data removed]"
          },
          "metadata": {
            "needs_background": "light"
          }
        }
      ],
      "source": [
        "sns.countplot(train.marital_status, hue=\"bank_account\", data=train)\n",
        "labels = [\n",
        "    \"Married/Living together\",\n",
        "    \"Widowed\",\n",
        "    \"Single/Never Married\",\n",
        "    \"Divorced/Seperated\",\n",
        "    \"Dont know\",\n",
        "]\n",
        "ax = plt.gca()\n",
        "ax.set_xticklabels(labels=labels, rotation=50);"
      ]
    },
    {
      "cell_type": "markdown",
      "id": "ea4bd304-8f9b-4a11-a9bf-e9bfdf096492",
      "metadata": {
        "id": "ea4bd304-8f9b-4a11-a9bf-e9bfdf096492"
      },
      "source": [
        "This shows that people who are married and living together are more likely to have a bank account as compare to ther slike single or divorced"
      ]
    },
    {
      "cell_type": "code",
      "execution_count": 25,
      "id": "d5e05536-080a-4dec-aad5-df271ae386c6",
      "metadata": {
        "id": "d5e05536-080a-4dec-aad5-df271ae386c6"
      },
      "outputs": [],
      "source": [
        "# Convert target label to numerical Data\n",
        "le = LabelEncoder()\n",
        "train[\"bank_account\"] = le.fit_transform(train[\"bank_account\"])\n",
        "\n",
        "# Separate training features from target\n",
        "X_train = train.drop([\"bank_account\"], axis=1)\n",
        "y_train = train[\"bank_account\"]"
      ]
    },
    {
      "cell_type": "code",
      "execution_count": 26,
      "id": "28bcb2dc-1b75-4e8c-9f6d-03181c97cd17",
      "metadata": {
        "id": "28bcb2dc-1b75-4e8c-9f6d-03181c97cd17"
      },
      "outputs": [],
      "source": [
        "train[\"country+location\"] = train[\"country\"] + train[\"location_type\"]\n",
        "train[\"location+cellphone_access\"] = train[\"location_type\"] + train[\"cellphone_access\"]\n",
        "train[\"gender+cellphone_access\"] = (\n",
        "    train[\"gender_of_respondent\"] + train[\"cellphone_access\"]\n",
        ")\n",
        "train[\"country+cellphone_access\"] = train[\"country\"] + train[\"cellphone_access\"]"
      ]
    },
    {
      "cell_type": "code",
      "execution_count": 27,
      "id": "6b700ddd-265f-4b48-8940-d7f7b3174f12",
      "metadata": {
        "id": "6b700ddd-265f-4b48-8940-d7f7b3174f12"
      },
      "outputs": [],
      "source": [
        "test[\"country+location\"] = test[\"country\"] + test[\"location_type\"]\n",
        "test[\"location+cellphone_access\"] = test[\"location_type\"] + test[\"cellphone_access\"]\n",
        "test[\"gender+cellphone_access\"] = (\n",
        "    test[\"gender_of_respondent\"] + test[\"cellphone_access\"]\n",
        ")\n",
        "test[\"country+cellphone_access\"] = test[\"country\"] + test[\"cellphone_access\"]"
      ]
    },
    {
      "cell_type": "code",
      "execution_count": 28,
      "id": "71b2c91b-a401-4f36-8c6f-9ae4eeb695f8",
      "metadata": {
        "id": "71b2c91b-a401-4f36-8c6f-9ae4eeb695f8"
      },
      "outputs": [],
      "source": [
        "df = train.drop([\"uniqueid\", \"year\"], 1)"
      ]
    },
    {
      "cell_type": "code",
      "execution_count": 29,
      "id": "3163c57a-86fe-4b51-adbf-d7f053eacfe2",
      "metadata": {
        "id": "3163c57a-86fe-4b51-adbf-d7f053eacfe2"
      },
      "outputs": [],
      "source": [
        "col_test = test.uniqueid\n",
        "test = test.drop(\"uniqueid\", 1)"
      ]
    },
    {
      "cell_type": "code",
      "execution_count": 30,
      "id": "86811650-d1a5-4370-a058-6e0ea0ed8d17",
      "metadata": {
        "colab": {
          "base_uri": "https://localhost:8080/",
          "height": 391
        },
        "id": "86811650-d1a5-4370-a058-6e0ea0ed8d17",
        "outputId": "5f65b121-0c3f-4c41-e7fd-2243bef72872"
      },
      "outputs": [
        {
          "output_type": "execute_result",
          "data": {
            "text/plain": [
              "  country  year location_type cellphone_access  household_size  \\\n",
              "0   Kenya  2018         Urban              Yes               3   \n",
              "1   Kenya  2018         Urban              Yes               7   \n",
              "2   Kenya  2018         Rural               No               3   \n",
              "3   Kenya  2018         Rural               No               6   \n",
              "4   Kenya  2018         Urban               No               3   \n",
              "\n",
              "   age_of_respondent gender_of_respondent relationship_with_head  \\\n",
              "0                 30                 Male      Head of Household   \n",
              "1                 51                 Male      Head of Household   \n",
              "2                 77               Female                 Parent   \n",
              "3                 39               Female      Head of Household   \n",
              "4                 16                 Male                  Child   \n",
              "\n",
              "            marital_status                  education_level  \\\n",
              "0  Married/Living together              Secondary education   \n",
              "1  Married/Living together  Vocational/Specialised training   \n",
              "2  Married/Living together              No formal education   \n",
              "3  Married/Living together                Primary education   \n",
              "4     Single/Never Married              Secondary education   \n",
              "\n",
              "                       job_type country+location location+cellphone_access  \\\n",
              "0  Formally employed Government       KenyaUrban                  UrbanYes   \n",
              "1     Formally employed Private       KenyaUrban                  UrbanYes   \n",
              "2          Remittance Dependent       KenyaRural                   RuralNo   \n",
              "3          Remittance Dependent       KenyaRural                   RuralNo   \n",
              "4          Remittance Dependent       KenyaUrban                   UrbanNo   \n",
              "\n",
              "  gender+cellphone_access country+cellphone_access  \n",
              "0                 MaleYes                 KenyaYes  \n",
              "1                 MaleYes                 KenyaYes  \n",
              "2                FemaleNo                  KenyaNo  \n",
              "3                FemaleNo                  KenyaNo  \n",
              "4                  MaleNo                  KenyaNo  "
            ],
            "text/html": [
              "\n",
              "  <div id=\"df-840297de-845f-445d-a98b-92743efb197b\">\n",
              "    <div class=\"colab-df-container\">\n",
              "      <div>\n",
              "<style scoped>\n",
              "    .dataframe tbody tr th:only-of-type {\n",
              "        vertical-align: middle;\n",
              "    }\n",
              "\n",
              "    .dataframe tbody tr th {\n",
              "        vertical-align: top;\n",
              "    }\n",
              "\n",
              "    .dataframe thead th {\n",
              "        text-align: right;\n",
              "    }\n",
              "</style>\n",
              "<table border=\"1\" class=\"dataframe\">\n",
              "  <thead>\n",
              "    <tr style=\"text-align: right;\">\n",
              "      <th></th>\n",
              "      <th>country</th>\n",
              "      <th>year</th>\n",
              "      <th>location_type</th>\n",
              "      <th>cellphone_access</th>\n",
              "      <th>household_size</th>\n",
              "      <th>age_of_respondent</th>\n",
              "      <th>gender_of_respondent</th>\n",
              "      <th>relationship_with_head</th>\n",
              "      <th>marital_status</th>\n",
              "      <th>education_level</th>\n",
              "      <th>job_type</th>\n",
              "      <th>country+location</th>\n",
              "      <th>location+cellphone_access</th>\n",
              "      <th>gender+cellphone_access</th>\n",
              "      <th>country+cellphone_access</th>\n",
              "    </tr>\n",
              "  </thead>\n",
              "  <tbody>\n",
              "    <tr>\n",
              "      <th>0</th>\n",
              "      <td>Kenya</td>\n",
              "      <td>2018</td>\n",
              "      <td>Urban</td>\n",
              "      <td>Yes</td>\n",
              "      <td>3</td>\n",
              "      <td>30</td>\n",
              "      <td>Male</td>\n",
              "      <td>Head of Household</td>\n",
              "      <td>Married/Living together</td>\n",
              "      <td>Secondary education</td>\n",
              "      <td>Formally employed Government</td>\n",
              "      <td>KenyaUrban</td>\n",
              "      <td>UrbanYes</td>\n",
              "      <td>MaleYes</td>\n",
              "      <td>KenyaYes</td>\n",
              "    </tr>\n",
              "    <tr>\n",
              "      <th>1</th>\n",
              "      <td>Kenya</td>\n",
              "      <td>2018</td>\n",
              "      <td>Urban</td>\n",
              "      <td>Yes</td>\n",
              "      <td>7</td>\n",
              "      <td>51</td>\n",
              "      <td>Male</td>\n",
              "      <td>Head of Household</td>\n",
              "      <td>Married/Living together</td>\n",
              "      <td>Vocational/Specialised training</td>\n",
              "      <td>Formally employed Private</td>\n",
              "      <td>KenyaUrban</td>\n",
              "      <td>UrbanYes</td>\n",
              "      <td>MaleYes</td>\n",
              "      <td>KenyaYes</td>\n",
              "    </tr>\n",
              "    <tr>\n",
              "      <th>2</th>\n",
              "      <td>Kenya</td>\n",
              "      <td>2018</td>\n",
              "      <td>Rural</td>\n",
              "      <td>No</td>\n",
              "      <td>3</td>\n",
              "      <td>77</td>\n",
              "      <td>Female</td>\n",
              "      <td>Parent</td>\n",
              "      <td>Married/Living together</td>\n",
              "      <td>No formal education</td>\n",
              "      <td>Remittance Dependent</td>\n",
              "      <td>KenyaRural</td>\n",
              "      <td>RuralNo</td>\n",
              "      <td>FemaleNo</td>\n",
              "      <td>KenyaNo</td>\n",
              "    </tr>\n",
              "    <tr>\n",
              "      <th>3</th>\n",
              "      <td>Kenya</td>\n",
              "      <td>2018</td>\n",
              "      <td>Rural</td>\n",
              "      <td>No</td>\n",
              "      <td>6</td>\n",
              "      <td>39</td>\n",
              "      <td>Female</td>\n",
              "      <td>Head of Household</td>\n",
              "      <td>Married/Living together</td>\n",
              "      <td>Primary education</td>\n",
              "      <td>Remittance Dependent</td>\n",
              "      <td>KenyaRural</td>\n",
              "      <td>RuralNo</td>\n",
              "      <td>FemaleNo</td>\n",
              "      <td>KenyaNo</td>\n",
              "    </tr>\n",
              "    <tr>\n",
              "      <th>4</th>\n",
              "      <td>Kenya</td>\n",
              "      <td>2018</td>\n",
              "      <td>Urban</td>\n",
              "      <td>No</td>\n",
              "      <td>3</td>\n",
              "      <td>16</td>\n",
              "      <td>Male</td>\n",
              "      <td>Child</td>\n",
              "      <td>Single/Never Married</td>\n",
              "      <td>Secondary education</td>\n",
              "      <td>Remittance Dependent</td>\n",
              "      <td>KenyaUrban</td>\n",
              "      <td>UrbanNo</td>\n",
              "      <td>MaleNo</td>\n",
              "      <td>KenyaNo</td>\n",
              "    </tr>\n",
              "  </tbody>\n",
              "</table>\n",
              "</div>\n",
              "      <button class=\"colab-df-convert\" onclick=\"convertToInteractive('df-840297de-845f-445d-a98b-92743efb197b')\"\n",
              "              title=\"Convert this dataframe to an interactive table.\"\n",
              "              style=\"display:none;\">\n",
              "        \n",
              "  <svg xmlns=\"http://www.w3.org/2000/svg\" height=\"24px\"viewBox=\"0 0 24 24\"\n",
              "       width=\"24px\">\n",
              "    <path d=\"M0 0h24v24H0V0z\" fill=\"none\"/>\n",
              "    <path d=\"M18.56 5.44l.94 2.06.94-2.06 2.06-.94-2.06-.94-.94-2.06-.94 2.06-2.06.94zm-11 1L8.5 8.5l.94-2.06 2.06-.94-2.06-.94L8.5 2.5l-.94 2.06-2.06.94zm10 10l.94 2.06.94-2.06 2.06-.94-2.06-.94-.94-2.06-.94 2.06-2.06.94z\"/><path d=\"M17.41 7.96l-1.37-1.37c-.4-.4-.92-.59-1.43-.59-.52 0-1.04.2-1.43.59L10.3 9.45l-7.72 7.72c-.78.78-.78 2.05 0 2.83L4 21.41c.39.39.9.59 1.41.59.51 0 1.02-.2 1.41-.59l7.78-7.78 2.81-2.81c.8-.78.8-2.07 0-2.86zM5.41 20L4 18.59l7.72-7.72 1.47 1.35L5.41 20z\"/>\n",
              "  </svg>\n",
              "      </button>\n",
              "      \n",
              "  <style>\n",
              "    .colab-df-container {\n",
              "      display:flex;\n",
              "      flex-wrap:wrap;\n",
              "      gap: 12px;\n",
              "    }\n",
              "\n",
              "    .colab-df-convert {\n",
              "      background-color: #E8F0FE;\n",
              "      border: none;\n",
              "      border-radius: 50%;\n",
              "      cursor: pointer;\n",
              "      display: none;\n",
              "      fill: #1967D2;\n",
              "      height: 32px;\n",
              "      padding: 0 0 0 0;\n",
              "      width: 32px;\n",
              "    }\n",
              "\n",
              "    .colab-df-convert:hover {\n",
              "      background-color: #E2EBFA;\n",
              "      box-shadow: 0px 1px 2px rgba(60, 64, 67, 0.3), 0px 1px 3px 1px rgba(60, 64, 67, 0.15);\n",
              "      fill: #174EA6;\n",
              "    }\n",
              "\n",
              "    [theme=dark] .colab-df-convert {\n",
              "      background-color: #3B4455;\n",
              "      fill: #D2E3FC;\n",
              "    }\n",
              "\n",
              "    [theme=dark] .colab-df-convert:hover {\n",
              "      background-color: #434B5C;\n",
              "      box-shadow: 0px 1px 3px 1px rgba(0, 0, 0, 0.15);\n",
              "      filter: drop-shadow(0px 1px 2px rgba(0, 0, 0, 0.3));\n",
              "      fill: #FFFFFF;\n",
              "    }\n",
              "  </style>\n",
              "\n",
              "      <script>\n",
              "        const buttonEl =\n",
              "          document.querySelector('#df-840297de-845f-445d-a98b-92743efb197b button.colab-df-convert');\n",
              "        buttonEl.style.display =\n",
              "          google.colab.kernel.accessAllowed ? 'block' : 'none';\n",
              "\n",
              "        async function convertToInteractive(key) {\n",
              "          const element = document.querySelector('#df-840297de-845f-445d-a98b-92743efb197b');\n",
              "          const dataTable =\n",
              "            await google.colab.kernel.invokeFunction('convertToInteractive',\n",
              "                                                     [key], {});\n",
              "          if (!dataTable) return;\n",
              "\n",
              "          const docLinkHtml = 'Like what you see? Visit the ' +\n",
              "            '<a target=\"_blank\" href=https://colab.research.google.com/notebooks/data_table.ipynb>data table notebook</a>'\n",
              "            + ' to learn more about interactive tables.';\n",
              "          element.innerHTML = '';\n",
              "          dataTable['output_type'] = 'display_data';\n",
              "          await google.colab.output.renderOutput(dataTable, element);\n",
              "          const docLink = document.createElement('div');\n",
              "          docLink.innerHTML = docLinkHtml;\n",
              "          element.appendChild(docLink);\n",
              "        }\n",
              "      </script>\n",
              "    </div>\n",
              "  </div>\n",
              "  "
            ]
          },
          "metadata": {},
          "execution_count": 30
        }
      ],
      "source": [
        "test.head()"
      ]
    },
    {
      "cell_type": "code",
      "execution_count": 31,
      "id": "7600e5c0-9504-4bff-ae0f-950255e0fed7",
      "metadata": {
        "colab": {
          "base_uri": "https://localhost:8080/",
          "height": 374
        },
        "id": "7600e5c0-9504-4bff-ae0f-950255e0fed7",
        "outputId": "4c407bb7-3ea5-445c-9658-d02c6e9525db"
      },
      "outputs": [
        {
          "output_type": "execute_result",
          "data": {
            "text/plain": [
              "  country  bank_account location_type cellphone_access  household_size  \\\n",
              "0   Kenya             1         Rural              Yes               3   \n",
              "1   Kenya             0         Rural               No               5   \n",
              "2   Kenya             1         Urban              Yes               5   \n",
              "3   Kenya             0         Rural              Yes               5   \n",
              "4   Kenya             0         Urban               No               8   \n",
              "\n",
              "   age_of_respondent gender_of_respondent relationship_with_head  \\\n",
              "0                 24               Female                 Spouse   \n",
              "1                 70               Female      Head of Household   \n",
              "2                 26                 Male         Other relative   \n",
              "3                 34               Female      Head of Household   \n",
              "4                 26                 Male                  Child   \n",
              "\n",
              "            marital_status                  education_level  \\\n",
              "0  Married/Living together              Secondary education   \n",
              "1                  Widowed              No formal education   \n",
              "2     Single/Never Married  Vocational/Specialised training   \n",
              "3  Married/Living together                Primary education   \n",
              "4     Single/Never Married                Primary education   \n",
              "\n",
              "                    job_type country+location location+cellphone_access  \\\n",
              "0              Self employed       KenyaRural                  RuralYes   \n",
              "1       Government Dependent       KenyaRural                   RuralNo   \n",
              "2              Self employed       KenyaUrban                  UrbanYes   \n",
              "3  Formally employed Private       KenyaRural                  RuralYes   \n",
              "4        Informally employed       KenyaUrban                   UrbanNo   \n",
              "\n",
              "  gender+cellphone_access country+cellphone_access  \n",
              "0               FemaleYes                 KenyaYes  \n",
              "1                FemaleNo                  KenyaNo  \n",
              "2                 MaleYes                 KenyaYes  \n",
              "3               FemaleYes                 KenyaYes  \n",
              "4                  MaleNo                  KenyaNo  "
            ],
            "text/html": [
              "\n",
              "  <div id=\"df-c788e248-bc1b-4aa6-994c-2d4f69211ab6\">\n",
              "    <div class=\"colab-df-container\">\n",
              "      <div>\n",
              "<style scoped>\n",
              "    .dataframe tbody tr th:only-of-type {\n",
              "        vertical-align: middle;\n",
              "    }\n",
              "\n",
              "    .dataframe tbody tr th {\n",
              "        vertical-align: top;\n",
              "    }\n",
              "\n",
              "    .dataframe thead th {\n",
              "        text-align: right;\n",
              "    }\n",
              "</style>\n",
              "<table border=\"1\" class=\"dataframe\">\n",
              "  <thead>\n",
              "    <tr style=\"text-align: right;\">\n",
              "      <th></th>\n",
              "      <th>country</th>\n",
              "      <th>bank_account</th>\n",
              "      <th>location_type</th>\n",
              "      <th>cellphone_access</th>\n",
              "      <th>household_size</th>\n",
              "      <th>age_of_respondent</th>\n",
              "      <th>gender_of_respondent</th>\n",
              "      <th>relationship_with_head</th>\n",
              "      <th>marital_status</th>\n",
              "      <th>education_level</th>\n",
              "      <th>job_type</th>\n",
              "      <th>country+location</th>\n",
              "      <th>location+cellphone_access</th>\n",
              "      <th>gender+cellphone_access</th>\n",
              "      <th>country+cellphone_access</th>\n",
              "    </tr>\n",
              "  </thead>\n",
              "  <tbody>\n",
              "    <tr>\n",
              "      <th>0</th>\n",
              "      <td>Kenya</td>\n",
              "      <td>1</td>\n",
              "      <td>Rural</td>\n",
              "      <td>Yes</td>\n",
              "      <td>3</td>\n",
              "      <td>24</td>\n",
              "      <td>Female</td>\n",
              "      <td>Spouse</td>\n",
              "      <td>Married/Living together</td>\n",
              "      <td>Secondary education</td>\n",
              "      <td>Self employed</td>\n",
              "      <td>KenyaRural</td>\n",
              "      <td>RuralYes</td>\n",
              "      <td>FemaleYes</td>\n",
              "      <td>KenyaYes</td>\n",
              "    </tr>\n",
              "    <tr>\n",
              "      <th>1</th>\n",
              "      <td>Kenya</td>\n",
              "      <td>0</td>\n",
              "      <td>Rural</td>\n",
              "      <td>No</td>\n",
              "      <td>5</td>\n",
              "      <td>70</td>\n",
              "      <td>Female</td>\n",
              "      <td>Head of Household</td>\n",
              "      <td>Widowed</td>\n",
              "      <td>No formal education</td>\n",
              "      <td>Government Dependent</td>\n",
              "      <td>KenyaRural</td>\n",
              "      <td>RuralNo</td>\n",
              "      <td>FemaleNo</td>\n",
              "      <td>KenyaNo</td>\n",
              "    </tr>\n",
              "    <tr>\n",
              "      <th>2</th>\n",
              "      <td>Kenya</td>\n",
              "      <td>1</td>\n",
              "      <td>Urban</td>\n",
              "      <td>Yes</td>\n",
              "      <td>5</td>\n",
              "      <td>26</td>\n",
              "      <td>Male</td>\n",
              "      <td>Other relative</td>\n",
              "      <td>Single/Never Married</td>\n",
              "      <td>Vocational/Specialised training</td>\n",
              "      <td>Self employed</td>\n",
              "      <td>KenyaUrban</td>\n",
              "      <td>UrbanYes</td>\n",
              "      <td>MaleYes</td>\n",
              "      <td>KenyaYes</td>\n",
              "    </tr>\n",
              "    <tr>\n",
              "      <th>3</th>\n",
              "      <td>Kenya</td>\n",
              "      <td>0</td>\n",
              "      <td>Rural</td>\n",
              "      <td>Yes</td>\n",
              "      <td>5</td>\n",
              "      <td>34</td>\n",
              "      <td>Female</td>\n",
              "      <td>Head of Household</td>\n",
              "      <td>Married/Living together</td>\n",
              "      <td>Primary education</td>\n",
              "      <td>Formally employed Private</td>\n",
              "      <td>KenyaRural</td>\n",
              "      <td>RuralYes</td>\n",
              "      <td>FemaleYes</td>\n",
              "      <td>KenyaYes</td>\n",
              "    </tr>\n",
              "    <tr>\n",
              "      <th>4</th>\n",
              "      <td>Kenya</td>\n",
              "      <td>0</td>\n",
              "      <td>Urban</td>\n",
              "      <td>No</td>\n",
              "      <td>8</td>\n",
              "      <td>26</td>\n",
              "      <td>Male</td>\n",
              "      <td>Child</td>\n",
              "      <td>Single/Never Married</td>\n",
              "      <td>Primary education</td>\n",
              "      <td>Informally employed</td>\n",
              "      <td>KenyaUrban</td>\n",
              "      <td>UrbanNo</td>\n",
              "      <td>MaleNo</td>\n",
              "      <td>KenyaNo</td>\n",
              "    </tr>\n",
              "  </tbody>\n",
              "</table>\n",
              "</div>\n",
              "      <button class=\"colab-df-convert\" onclick=\"convertToInteractive('df-c788e248-bc1b-4aa6-994c-2d4f69211ab6')\"\n",
              "              title=\"Convert this dataframe to an interactive table.\"\n",
              "              style=\"display:none;\">\n",
              "        \n",
              "  <svg xmlns=\"http://www.w3.org/2000/svg\" height=\"24px\"viewBox=\"0 0 24 24\"\n",
              "       width=\"24px\">\n",
              "    <path d=\"M0 0h24v24H0V0z\" fill=\"none\"/>\n",
              "    <path d=\"M18.56 5.44l.94 2.06.94-2.06 2.06-.94-2.06-.94-.94-2.06-.94 2.06-2.06.94zm-11 1L8.5 8.5l.94-2.06 2.06-.94-2.06-.94L8.5 2.5l-.94 2.06-2.06.94zm10 10l.94 2.06.94-2.06 2.06-.94-2.06-.94-.94-2.06-.94 2.06-2.06.94z\"/><path d=\"M17.41 7.96l-1.37-1.37c-.4-.4-.92-.59-1.43-.59-.52 0-1.04.2-1.43.59L10.3 9.45l-7.72 7.72c-.78.78-.78 2.05 0 2.83L4 21.41c.39.39.9.59 1.41.59.51 0 1.02-.2 1.41-.59l7.78-7.78 2.81-2.81c.8-.78.8-2.07 0-2.86zM5.41 20L4 18.59l7.72-7.72 1.47 1.35L5.41 20z\"/>\n",
              "  </svg>\n",
              "      </button>\n",
              "      \n",
              "  <style>\n",
              "    .colab-df-container {\n",
              "      display:flex;\n",
              "      flex-wrap:wrap;\n",
              "      gap: 12px;\n",
              "    }\n",
              "\n",
              "    .colab-df-convert {\n",
              "      background-color: #E8F0FE;\n",
              "      border: none;\n",
              "      border-radius: 50%;\n",
              "      cursor: pointer;\n",
              "      display: none;\n",
              "      fill: #1967D2;\n",
              "      height: 32px;\n",
              "      padding: 0 0 0 0;\n",
              "      width: 32px;\n",
              "    }\n",
              "\n",
              "    .colab-df-convert:hover {\n",
              "      background-color: #E2EBFA;\n",
              "      box-shadow: 0px 1px 2px rgba(60, 64, 67, 0.3), 0px 1px 3px 1px rgba(60, 64, 67, 0.15);\n",
              "      fill: #174EA6;\n",
              "    }\n",
              "\n",
              "    [theme=dark] .colab-df-convert {\n",
              "      background-color: #3B4455;\n",
              "      fill: #D2E3FC;\n",
              "    }\n",
              "\n",
              "    [theme=dark] .colab-df-convert:hover {\n",
              "      background-color: #434B5C;\n",
              "      box-shadow: 0px 1px 3px 1px rgba(0, 0, 0, 0.15);\n",
              "      filter: drop-shadow(0px 1px 2px rgba(0, 0, 0, 0.3));\n",
              "      fill: #FFFFFF;\n",
              "    }\n",
              "  </style>\n",
              "\n",
              "      <script>\n",
              "        const buttonEl =\n",
              "          document.querySelector('#df-c788e248-bc1b-4aa6-994c-2d4f69211ab6 button.colab-df-convert');\n",
              "        buttonEl.style.display =\n",
              "          google.colab.kernel.accessAllowed ? 'block' : 'none';\n",
              "\n",
              "        async function convertToInteractive(key) {\n",
              "          const element = document.querySelector('#df-c788e248-bc1b-4aa6-994c-2d4f69211ab6');\n",
              "          const dataTable =\n",
              "            await google.colab.kernel.invokeFunction('convertToInteractive',\n",
              "                                                     [key], {});\n",
              "          if (!dataTable) return;\n",
              "\n",
              "          const docLinkHtml = 'Like what you see? Visit the ' +\n",
              "            '<a target=\"_blank\" href=https://colab.research.google.com/notebooks/data_table.ipynb>data table notebook</a>'\n",
              "            + ' to learn more about interactive tables.';\n",
              "          element.innerHTML = '';\n",
              "          dataTable['output_type'] = 'display_data';\n",
              "          await google.colab.output.renderOutput(dataTable, element);\n",
              "          const docLink = document.createElement('div');\n",
              "          docLink.innerHTML = docLinkHtml;\n",
              "          element.appendChild(docLink);\n",
              "        }\n",
              "      </script>\n",
              "    </div>\n",
              "  </div>\n",
              "  "
            ]
          },
          "metadata": {},
          "execution_count": 31
        }
      ],
      "source": [
        "df.head()"
      ]
    },
    {
      "cell_type": "code",
      "execution_count": 32,
      "id": "f80bb42d-15e7-452b-8e8b-ded6935b652a",
      "metadata": {
        "colab": {
          "base_uri": "https://localhost:8080/",
          "height": 299
        },
        "id": "f80bb42d-15e7-452b-8e8b-ded6935b652a",
        "outputId": "cbd38074-f327-4c4f-8cfb-556ffac1cd8c"
      },
      "outputs": [
        {
          "output_type": "execute_result",
          "data": {
            "text/plain": [
              "   bank_account  household_size  age_of_respondent  country_Kenya  \\\n",
              "0             1               3                 24              1   \n",
              "1             0               5                 70              1   \n",
              "2             1               5                 26              1   \n",
              "3             0               5                 34              1   \n",
              "4             0               8                 26              1   \n",
              "\n",
              "   country_Rwanda  country_Tanzania  country_Uganda  location_type_Rural  \\\n",
              "0               0                 0               0                    1   \n",
              "1               0                 0               0                    1   \n",
              "2               0                 0               0                    0   \n",
              "3               0                 0               0                    1   \n",
              "4               0                 0               0                    0   \n",
              "\n",
              "   location_type_Urban  cellphone_access_No  ...  \\\n",
              "0                    0                    0  ...   \n",
              "1                    0                    1  ...   \n",
              "2                    1                    0  ...   \n",
              "3                    0                    0  ...   \n",
              "4                    1                    1  ...   \n",
              "\n",
              "   gender+cellphone_access_MaleNo  gender+cellphone_access_MaleYes  \\\n",
              "0                               0                                0   \n",
              "1                               0                                0   \n",
              "2                               0                                1   \n",
              "3                               0                                0   \n",
              "4                               1                                0   \n",
              "\n",
              "   country+cellphone_access_KenyaNo  country+cellphone_access_KenyaYes  \\\n",
              "0                                 0                                  1   \n",
              "1                                 1                                  0   \n",
              "2                                 0                                  1   \n",
              "3                                 0                                  1   \n",
              "4                                 1                                  0   \n",
              "\n",
              "   country+cellphone_access_RwandaNo  country+cellphone_access_RwandaYes  \\\n",
              "0                                  0                                   0   \n",
              "1                                  0                                   0   \n",
              "2                                  0                                   0   \n",
              "3                                  0                                   0   \n",
              "4                                  0                                   0   \n",
              "\n",
              "   country+cellphone_access_TanzaniaNo  country+cellphone_access_TanzaniaYes  \\\n",
              "0                                    0                                     0   \n",
              "1                                    0                                     0   \n",
              "2                                    0                                     0   \n",
              "3                                    0                                     0   \n",
              "4                                    0                                     0   \n",
              "\n",
              "   country+cellphone_access_UgandaNo  country+cellphone_access_UgandaYes  \n",
              "0                                  0                                   0  \n",
              "1                                  0                                   0  \n",
              "2                                  0                                   0  \n",
              "3                                  0                                   0  \n",
              "4                                  0                                   0  \n",
              "\n",
              "[5 rows x 64 columns]"
            ],
            "text/html": [
              "\n",
              "  <div id=\"df-31fac2df-4e22-4a6b-ab2a-890cf2148b1a\">\n",
              "    <div class=\"colab-df-container\">\n",
              "      <div>\n",
              "<style scoped>\n",
              "    .dataframe tbody tr th:only-of-type {\n",
              "        vertical-align: middle;\n",
              "    }\n",
              "\n",
              "    .dataframe tbody tr th {\n",
              "        vertical-align: top;\n",
              "    }\n",
              "\n",
              "    .dataframe thead th {\n",
              "        text-align: right;\n",
              "    }\n",
              "</style>\n",
              "<table border=\"1\" class=\"dataframe\">\n",
              "  <thead>\n",
              "    <tr style=\"text-align: right;\">\n",
              "      <th></th>\n",
              "      <th>bank_account</th>\n",
              "      <th>household_size</th>\n",
              "      <th>age_of_respondent</th>\n",
              "      <th>country_Kenya</th>\n",
              "      <th>country_Rwanda</th>\n",
              "      <th>country_Tanzania</th>\n",
              "      <th>country_Uganda</th>\n",
              "      <th>location_type_Rural</th>\n",
              "      <th>location_type_Urban</th>\n",
              "      <th>cellphone_access_No</th>\n",
              "      <th>...</th>\n",
              "      <th>gender+cellphone_access_MaleNo</th>\n",
              "      <th>gender+cellphone_access_MaleYes</th>\n",
              "      <th>country+cellphone_access_KenyaNo</th>\n",
              "      <th>country+cellphone_access_KenyaYes</th>\n",
              "      <th>country+cellphone_access_RwandaNo</th>\n",
              "      <th>country+cellphone_access_RwandaYes</th>\n",
              "      <th>country+cellphone_access_TanzaniaNo</th>\n",
              "      <th>country+cellphone_access_TanzaniaYes</th>\n",
              "      <th>country+cellphone_access_UgandaNo</th>\n",
              "      <th>country+cellphone_access_UgandaYes</th>\n",
              "    </tr>\n",
              "  </thead>\n",
              "  <tbody>\n",
              "    <tr>\n",
              "      <th>0</th>\n",
              "      <td>1</td>\n",
              "      <td>3</td>\n",
              "      <td>24</td>\n",
              "      <td>1</td>\n",
              "      <td>0</td>\n",
              "      <td>0</td>\n",
              "      <td>0</td>\n",
              "      <td>1</td>\n",
              "      <td>0</td>\n",
              "      <td>0</td>\n",
              "      <td>...</td>\n",
              "      <td>0</td>\n",
              "      <td>0</td>\n",
              "      <td>0</td>\n",
              "      <td>1</td>\n",
              "      <td>0</td>\n",
              "      <td>0</td>\n",
              "      <td>0</td>\n",
              "      <td>0</td>\n",
              "      <td>0</td>\n",
              "      <td>0</td>\n",
              "    </tr>\n",
              "    <tr>\n",
              "      <th>1</th>\n",
              "      <td>0</td>\n",
              "      <td>5</td>\n",
              "      <td>70</td>\n",
              "      <td>1</td>\n",
              "      <td>0</td>\n",
              "      <td>0</td>\n",
              "      <td>0</td>\n",
              "      <td>1</td>\n",
              "      <td>0</td>\n",
              "      <td>1</td>\n",
              "      <td>...</td>\n",
              "      <td>0</td>\n",
              "      <td>0</td>\n",
              "      <td>1</td>\n",
              "      <td>0</td>\n",
              "      <td>0</td>\n",
              "      <td>0</td>\n",
              "      <td>0</td>\n",
              "      <td>0</td>\n",
              "      <td>0</td>\n",
              "      <td>0</td>\n",
              "    </tr>\n",
              "    <tr>\n",
              "      <th>2</th>\n",
              "      <td>1</td>\n",
              "      <td>5</td>\n",
              "      <td>26</td>\n",
              "      <td>1</td>\n",
              "      <td>0</td>\n",
              "      <td>0</td>\n",
              "      <td>0</td>\n",
              "      <td>0</td>\n",
              "      <td>1</td>\n",
              "      <td>0</td>\n",
              "      <td>...</td>\n",
              "      <td>0</td>\n",
              "      <td>1</td>\n",
              "      <td>0</td>\n",
              "      <td>1</td>\n",
              "      <td>0</td>\n",
              "      <td>0</td>\n",
              "      <td>0</td>\n",
              "      <td>0</td>\n",
              "      <td>0</td>\n",
              "      <td>0</td>\n",
              "    </tr>\n",
              "    <tr>\n",
              "      <th>3</th>\n",
              "      <td>0</td>\n",
              "      <td>5</td>\n",
              "      <td>34</td>\n",
              "      <td>1</td>\n",
              "      <td>0</td>\n",
              "      <td>0</td>\n",
              "      <td>0</td>\n",
              "      <td>1</td>\n",
              "      <td>0</td>\n",
              "      <td>0</td>\n",
              "      <td>...</td>\n",
              "      <td>0</td>\n",
              "      <td>0</td>\n",
              "      <td>0</td>\n",
              "      <td>1</td>\n",
              "      <td>0</td>\n",
              "      <td>0</td>\n",
              "      <td>0</td>\n",
              "      <td>0</td>\n",
              "      <td>0</td>\n",
              "      <td>0</td>\n",
              "    </tr>\n",
              "    <tr>\n",
              "      <th>4</th>\n",
              "      <td>0</td>\n",
              "      <td>8</td>\n",
              "      <td>26</td>\n",
              "      <td>1</td>\n",
              "      <td>0</td>\n",
              "      <td>0</td>\n",
              "      <td>0</td>\n",
              "      <td>0</td>\n",
              "      <td>1</td>\n",
              "      <td>1</td>\n",
              "      <td>...</td>\n",
              "      <td>1</td>\n",
              "      <td>0</td>\n",
              "      <td>1</td>\n",
              "      <td>0</td>\n",
              "      <td>0</td>\n",
              "      <td>0</td>\n",
              "      <td>0</td>\n",
              "      <td>0</td>\n",
              "      <td>0</td>\n",
              "      <td>0</td>\n",
              "    </tr>\n",
              "  </tbody>\n",
              "</table>\n",
              "<p>5 rows × 64 columns</p>\n",
              "</div>\n",
              "      <button class=\"colab-df-convert\" onclick=\"convertToInteractive('df-31fac2df-4e22-4a6b-ab2a-890cf2148b1a')\"\n",
              "              title=\"Convert this dataframe to an interactive table.\"\n",
              "              style=\"display:none;\">\n",
              "        \n",
              "  <svg xmlns=\"http://www.w3.org/2000/svg\" height=\"24px\"viewBox=\"0 0 24 24\"\n",
              "       width=\"24px\">\n",
              "    <path d=\"M0 0h24v24H0V0z\" fill=\"none\"/>\n",
              "    <path d=\"M18.56 5.44l.94 2.06.94-2.06 2.06-.94-2.06-.94-.94-2.06-.94 2.06-2.06.94zm-11 1L8.5 8.5l.94-2.06 2.06-.94-2.06-.94L8.5 2.5l-.94 2.06-2.06.94zm10 10l.94 2.06.94-2.06 2.06-.94-2.06-.94-.94-2.06-.94 2.06-2.06.94z\"/><path d=\"M17.41 7.96l-1.37-1.37c-.4-.4-.92-.59-1.43-.59-.52 0-1.04.2-1.43.59L10.3 9.45l-7.72 7.72c-.78.78-.78 2.05 0 2.83L4 21.41c.39.39.9.59 1.41.59.51 0 1.02-.2 1.41-.59l7.78-7.78 2.81-2.81c.8-.78.8-2.07 0-2.86zM5.41 20L4 18.59l7.72-7.72 1.47 1.35L5.41 20z\"/>\n",
              "  </svg>\n",
              "      </button>\n",
              "      \n",
              "  <style>\n",
              "    .colab-df-container {\n",
              "      display:flex;\n",
              "      flex-wrap:wrap;\n",
              "      gap: 12px;\n",
              "    }\n",
              "\n",
              "    .colab-df-convert {\n",
              "      background-color: #E8F0FE;\n",
              "      border: none;\n",
              "      border-radius: 50%;\n",
              "      cursor: pointer;\n",
              "      display: none;\n",
              "      fill: #1967D2;\n",
              "      height: 32px;\n",
              "      padding: 0 0 0 0;\n",
              "      width: 32px;\n",
              "    }\n",
              "\n",
              "    .colab-df-convert:hover {\n",
              "      background-color: #E2EBFA;\n",
              "      box-shadow: 0px 1px 2px rgba(60, 64, 67, 0.3), 0px 1px 3px 1px rgba(60, 64, 67, 0.15);\n",
              "      fill: #174EA6;\n",
              "    }\n",
              "\n",
              "    [theme=dark] .colab-df-convert {\n",
              "      background-color: #3B4455;\n",
              "      fill: #D2E3FC;\n",
              "    }\n",
              "\n",
              "    [theme=dark] .colab-df-convert:hover {\n",
              "      background-color: #434B5C;\n",
              "      box-shadow: 0px 1px 3px 1px rgba(0, 0, 0, 0.15);\n",
              "      filter: drop-shadow(0px 1px 2px rgba(0, 0, 0, 0.3));\n",
              "      fill: #FFFFFF;\n",
              "    }\n",
              "  </style>\n",
              "\n",
              "      <script>\n",
              "        const buttonEl =\n",
              "          document.querySelector('#df-31fac2df-4e22-4a6b-ab2a-890cf2148b1a button.colab-df-convert');\n",
              "        buttonEl.style.display =\n",
              "          google.colab.kernel.accessAllowed ? 'block' : 'none';\n",
              "\n",
              "        async function convertToInteractive(key) {\n",
              "          const element = document.querySelector('#df-31fac2df-4e22-4a6b-ab2a-890cf2148b1a');\n",
              "          const dataTable =\n",
              "            await google.colab.kernel.invokeFunction('convertToInteractive',\n",
              "                                                     [key], {});\n",
              "          if (!dataTable) return;\n",
              "\n",
              "          const docLinkHtml = 'Like what you see? Visit the ' +\n",
              "            '<a target=\"_blank\" href=https://colab.research.google.com/notebooks/data_table.ipynb>data table notebook</a>'\n",
              "            + ' to learn more about interactive tables.';\n",
              "          element.innerHTML = '';\n",
              "          dataTable['output_type'] = 'display_data';\n",
              "          await google.colab.output.renderOutput(dataTable, element);\n",
              "          const docLink = document.createElement('div');\n",
              "          docLink.innerHTML = docLinkHtml;\n",
              "          element.appendChild(docLink);\n",
              "        }\n",
              "      </script>\n",
              "    </div>\n",
              "  </div>\n",
              "  "
            ]
          },
          "metadata": {},
          "execution_count": 32
        }
      ],
      "source": [
        "df = pd.get_dummies(df)\n",
        "df.head()"
      ]
    },
    {
      "cell_type": "code",
      "execution_count": 33,
      "id": "f4e99345-4cc7-4296-8bb4-b192a4a8af5b",
      "metadata": {
        "id": "f4e99345-4cc7-4296-8bb4-b192a4a8af5b"
      },
      "outputs": [],
      "source": [
        "test = pd.get_dummies(test)"
      ]
    },
    {
      "cell_type": "code",
      "execution_count": 34,
      "id": "1db9b27f-166c-4af2-901b-053db61510b3",
      "metadata": {
        "colab": {
          "base_uri": "https://localhost:8080/"
        },
        "id": "1db9b27f-166c-4af2-901b-053db61510b3",
        "outputId": "f2d77a7e-d0da-49ca-8fb6-db75b0983cad"
      },
      "outputs": [
        {
          "output_type": "execute_result",
          "data": {
            "text/plain": [
              "((23524, 64), (10086, 64))"
            ]
          },
          "metadata": {},
          "execution_count": 34
        }
      ],
      "source": [
        "df.shape, test.shape"
      ]
    },
    {
      "cell_type": "code",
      "execution_count": 35,
      "id": "9c328fa6-199a-4b4e-8284-fd9a7a9fc57f",
      "metadata": {
        "id": "9c328fa6-199a-4b4e-8284-fd9a7a9fc57f"
      },
      "outputs": [],
      "source": [
        "# df.profile_report()"
      ]
    },
    {
      "cell_type": "code",
      "execution_count": 36,
      "id": "ce6238e7-3931-482b-a40c-adca0b1bee48",
      "metadata": {
        "colab": {
          "base_uri": "https://localhost:8080/",
          "height": 283
        },
        "id": "ce6238e7-3931-482b-a40c-adca0b1bee48",
        "outputId": "c4e82a18-fd6e-4d9b-cf33-d9db03353aaf"
      },
      "outputs": [
        {
          "output_type": "execute_result",
          "data": {
            "text/plain": [
              "<matplotlib.axes._subplots.AxesSubplot at 0x7f73214571d0>"
            ]
          },
          "metadata": {},
          "execution_count": 36
        },
        {
          "output_type": "display_data",
          "data": {
            "text/plain": [
              "<Figure size 432x288 with 1 Axes>"
            ],
            "image/png": "[encoded data removed]"
          },
          "metadata": {
            "needs_background": "light"
          }
        }
      ],
      "source": [
        "df.age_of_respondent.plot(kind=\"hist\")"
      ]
    },
    {
      "cell_type": "code",
      "execution_count": 37,
      "id": "eee452c9-174a-4a03-92d8-9575a35aaa7e",
      "metadata": {
        "id": "eee452c9-174a-4a03-92d8-9575a35aaa7e"
      },
      "outputs": [],
      "source": [
        "X = df.drop([\"bank_account\"], 1)\n",
        "y = df.bank_account.values"
      ]
    },
    {
      "cell_type": "code",
      "execution_count": 38,
      "id": "7a3fe34c-bc7d-447a-8a12-7260a12fda77",
      "metadata": {
        "id": "7a3fe34c-bc7d-447a-8a12-7260a12fda77"
      },
      "outputs": [],
      "source": [
        "from imblearn.over_sampling import SMOTE"
      ]
    },
    {
      "cell_type": "code",
      "execution_count": 39,
      "id": "a23e30c2-7311-4010-8315-e0aa53e794dd",
      "metadata": {
        "id": "a23e30c2-7311-4010-8315-e0aa53e794dd"
      },
      "outputs": [],
      "source": [
        "oversample = SMOTE()\n",
        "X, y = oversample.fit_resample(X, y)"
      ]
    },
    {
      "cell_type": "code",
      "execution_count": 40,
      "id": "4522956b-a330-4fdd-b952-96aaee228314",
      "metadata": {
        "colab": {
          "base_uri": "https://localhost:8080/",
          "height": 299
        },
        "id": "4522956b-a330-4fdd-b952-96aaee228314",
        "outputId": "9fded55a-c52f-4bd6-9f61-ef3d2c9634e0"
      },
      "outputs": [
        {
          "output_type": "execute_result",
          "data": {
            "text/plain": [
              "<matplotlib.axes._subplots.AxesSubplot at 0x7f7321ceb890>"
            ]
          },
          "metadata": {},
          "execution_count": 40
        },
        {
          "output_type": "display_data",
          "data": {
            "text/plain": [
              "<Figure size 432x288 with 1 Axes>"
            ],
            "image/png": "[encoded data removed]"
          },
          "metadata": {
            "needs_background": "light"
          }
        }
      ],
      "source": [
        "oversample = SMOTE()\n",
        "# Oversampling the target data\n",
        "X, y = oversample.fit_resample(X, y)\n",
        "plt.title(\"Balanced classes\")\n",
        "sns.countplot(y)"
      ]
    },
    {
      "cell_type": "code",
      "execution_count": 41,
      "id": "389ce10d-c172-4e33-83d1-415cb7f15073",
      "metadata": {
        "id": "389ce10d-c172-4e33-83d1-415cb7f15073"
      },
      "outputs": [],
      "source": [
        "# import statsmodels.api as sm\n",
        "# model = sm.Logit(y,X)\n",
        "# results = model.fit()\n",
        "# result.summary()"
      ]
    },
    {
      "cell_type": "markdown",
      "id": "eb9eddc9-79be-4e01-9e00-9a3b06b8ca61",
      "metadata": {
        "id": "eb9eddc9-79be-4e01-9e00-9a3b06b8ca61"
      },
      "source": [
        "## Trying Different Algorithms from Sklearn"
      ]
    },
    {
      "cell_type": "code",
      "execution_count": 42,
      "id": "f8103cc0-6e6e-4ed0-b374-b46c58a1a698",
      "metadata": {
        "id": "f8103cc0-6e6e-4ed0-b374-b46c58a1a698"
      },
      "outputs": [],
      "source": [
        "X_train, X_test, y_train, y_test = train_test_split(\n",
        "    X, y, random_state=seed, test_size=0.2, stratify=y\n",
        ")"
      ]
    },
    {
      "cell_type": "code",
      "execution_count": 43,
      "id": "eff2c7f3-78cd-4d2a-b366-930e7057cfe3",
      "metadata": {
        "id": "eff2c7f3-78cd-4d2a-b366-930e7057cfe3"
      },
      "outputs": [],
      "source": [
        "scaler = StandardScaler()\n",
        "X_train = scaler.fit_transform(X_train)\n",
        "X_test = scaler.transform(X_test)"
      ]
    },
    {
      "cell_type": "code",
      "execution_count": 44,
      "id": "d6951b28-2809-4265-98d6-72df02ad8fdf",
      "metadata": {
        "colab": {
          "base_uri": "https://localhost:8080/"
        },
        "id": "d6951b28-2809-4265-98d6-72df02ad8fdf",
        "outputId": "bb2b88cb-3850-4bdb-fbb4-33c39a1ba328"
      },
      "outputs": [
        {
          "output_type": "stream",
          "name": "stdout",
          "text": [
            "Train SVM\n",
            "List of scores for SVM: [0.89480519 0.88737644 0.89714471 0.8878017  0.8946684 ]\n",
            "The mean score for SVM: 0.8923592881502558\n",
            "-------------The End------------------\n",
            "Train XGB\n",
            "List of scores for XGB: [0.87523511 0.86884477 0.87573964 0.8663522  0.87796504]\n",
            "The mean score for XGB: 0.8728273541255851\n",
            "-------------The End------------------\n",
            "Train KNN\n",
            "List of scores for KNN: [0.89144434 0.88725038 0.89984544 0.89075369 0.89142857]\n",
            "The mean score for KNN: 0.8921444857855482\n",
            "-------------The End------------------\n",
            "Train RF\n",
            "List of scores for RF: [0.9042391  0.90026046 0.91268989 0.90440387 0.90256727]\n",
            "The mean score for RF: 0.9048321167245497\n",
            "-------------The End------------------\n",
            "Train GB\n",
            "List of scores for GB: [0.87348735 0.87046308 0.87670803 0.86677215 0.87519697]\n",
            "The mean score for GB: 0.8725255159424181\n",
            "-------------The End------------------\n",
            "Train DTC\n",
            "List of scores for DTC: [0.88715596 0.88813768 0.89163992 0.88215385 0.8879257 ]\n",
            "The mean score for DTC: 0.8874026206564742\n",
            "-------------The End------------------\n",
            "Train HGB\n",
            "List of scores for HGB: [0.8980305  0.89515363 0.90377898 0.89362379 0.90212227]\n",
            "The mean score for HGB: 0.8985418310816705\n",
            "-------------The End------------------\n",
            "Train ADB\n",
            "List of scores for ADB: [0.86670918 0.86307184 0.87079535 0.85360432 0.86786503]\n",
            "The mean score for ADB: 0.8644091441469971\n",
            "-------------The End------------------\n",
            "Train LGBM\n",
            "List of scores for LGBM: [0.89680279 0.8929819  0.90138161 0.89598221 0.89830508]\n",
            "The mean score for LGBM: 0.8970907186992386\n",
            "-------------The End------------------\n",
            "Train CB\n",
            "List of scores for CB: [0.90068113 0.89711019 0.90569028 0.90125218 0.90444444]\n",
            "The mean score for CB: 0.9018356470944416\n",
            "-------------The End------------------\n"
          ]
        }
      ],
      "source": [
        "models = {\n",
        "    \"SVM\": SVC(C=1.0, kernel=\"rbf\"),\n",
        "    \"XGB\": XGBClassifier(),\n",
        "    \"KNN\": KNeighborsClassifier(),\n",
        "    \"RF\": RandomForestClassifier(),\n",
        "    \"GB\": GradientBoostingClassifier(),\n",
        "    \"DTC\": DecisionTreeClassifier(),\n",
        "    \"HGB\": HistGradientBoostingClassifier(),\n",
        "    \"ADB\": AdaBoostClassifier(),\n",
        "    \"LGBM\": LGBMClassifier(),\n",
        "    \"CB\": CatBoostClassifier(verbose=0),\n",
        "}\n",
        "\n",
        "\n",
        "for model_name, model in models.items():\n",
        "    print(\"Train {}\".format(model_name))\n",
        "    # cross_val_score for each classifier\n",
        "    scores = cross_val_score(model, X_train, y_train, cv=5, scoring=\"f1\")\n",
        "\n",
        "    print(\"List of scores for {}: {}\".format(model_name, scores))\n",
        "    print(\"The mean score for {}: {}\".format(model_name, scores.mean()))\n",
        "    print(\"-------------The End------------------\")"
      ]
    },
    {
      "cell_type": "markdown",
      "id": "8b514db5-ab99-47b4-bb34-7df8f7480fec",
      "metadata": {
        "id": "8b514db5-ab99-47b4-bb34-7df8f7480fec"
      },
      "source": [
        "### SVM"
      ]
    },
    {
      "cell_type": "code",
      "execution_count": 45,
      "id": "c5ecbf80-9180-4359-be44-eff732a578b0",
      "metadata": {
        "colab": {
          "base_uri": "https://localhost:8080/"
        },
        "id": "c5ecbf80-9180-4359-be44-eff732a578b0",
        "outputId": "23898526-74d5-4cc0-d4a4-692899749703"
      },
      "outputs": [
        {
          "output_type": "stream",
          "name": "stdout",
          "text": [
            "Accuracy of svc: 0.9011750154607298\n",
            "precision of svc: 0.9431538671768243\n",
            "f1 of svc: 0.8962472406181016\n",
            "recall of svc : 0.8537852548243444\n"
          ]
        }
      ],
      "source": [
        "svc = SVC(gamma=\"auto\", kernel=\"rbf\", C=5)\n",
        "svc.fit(X_train, y_train)\n",
        "y_pred_svc = svc.predict(X_test)\n",
        "\n",
        "f1_svc = f1_score(y_test, y_pred_svc)\n",
        "precision_score_svc = precision_score(y_test, y_pred_svc)\n",
        "recall_svc = recall_score(y_test, y_pred_svc)\n",
        "accuracy_score_svc = accuracy_score(y_test, y_pred_svc)\n",
        "\n",
        "print(f\"Accuracy of svc: {accuracy_score_svc}\")\n",
        "print(f\"precision of svc: {precision_score_svc}\")\n",
        "print(f\"f1 of svc: {f1_svc}\")\n",
        "print(f\"recall of svc : {recall_svc}\")"
      ]
    },
    {
      "cell_type": "markdown",
      "id": "a62aa05f-abc4-4860-8488-2b156ab3f3e9",
      "metadata": {
        "id": "a62aa05f-abc4-4860-8488-2b156ab3f3e9"
      },
      "source": [
        "### XGBoost"
      ]
    },
    {
      "cell_type": "code",
      "execution_count": 46,
      "id": "7220adfd-21db-4d70-ac16-530ed4ffb7e4",
      "metadata": {
        "id": "7220adfd-21db-4d70-ac16-530ed4ffb7e4"
      },
      "outputs": [],
      "source": [
        "xgb = XGBClassifier(n_estimators=200, random_state=42)\n",
        "xgb.fit(X_train, y_train)\n",
        "y_pred_xgb = xgb.predict(X_test)\n",
        "\n",
        "f1_xgb = f1_score(y_test, y_pred_xgb)\n",
        "precision_score_xgb = precision_score(y_test, y_pred_xgb)\n",
        "recall_xgb = recall_score(y_test, y_pred_xgb)\n",
        "accuracy_score_xgb = accuracy_score(y_test, y_pred_xgb)"
      ]
    },
    {
      "cell_type": "code",
      "execution_count": 47,
      "id": "478e5d84-7302-4132-95b5-622d7bf44849",
      "metadata": {
        "colab": {
          "base_uri": "https://localhost:8080/"
        },
        "id": "478e5d84-7302-4132-95b5-622d7bf44849",
        "outputId": "904bf129-e550-4ae9-8138-88bcf342b6dd"
      },
      "outputs": [
        {
          "output_type": "stream",
          "name": "stdout",
          "text": [
            "XGBoost Accuracy of xgb: {accuracy_score_xgb}\n",
            "precision of xgb: 0.9125455491931286\n",
            "recall of xgb: 0.867392380009896\n",
            "f1 of xgb: 0.8893962455606291\n"
          ]
        }
      ],
      "source": [
        "print(\"XGBoost Accuracy of xgb: {accuracy_score_xgb}\")\n",
        "print(f\"precision of xgb: {precision_score_xgb}\")\n",
        "print(f\"recall of xgb: {recall_xgb}\")\n",
        "print(f\"f1 of xgb: {f1_xgb}\")"
      ]
    },
    {
      "cell_type": "markdown",
      "id": "b9b3ec97-c608-40f9-a344-d78e261b313e",
      "metadata": {
        "id": "b9b3ec97-c608-40f9-a344-d78e261b313e"
      },
      "source": [
        "# LightGBM"
      ]
    },
    {
      "cell_type": "code",
      "execution_count": 48,
      "id": "ebba23fc-ff1a-41d5-85ab-83797a12287d",
      "metadata": {
        "id": "ebba23fc-ff1a-41d5-85ab-83797a12287d"
      },
      "outputs": [],
      "source": [
        "lgb = LGBMClassifier(n_estimators=200, random_state=42)\n",
        "lgb.fit(X_train, y_train)\n",
        "y_pred_lgb = lgb.predict(X_test)\n",
        "\n",
        "f1_lgb = f1_score(y_test, y_pred_lgb)\n",
        "precision_score_lgb = precision_score(y_test, y_pred_lgb)\n",
        "recall_lgb = recall_score(y_test, y_pred_lgb)\n",
        "accuracy_score_lgb = accuracy_score(y_test, y_pred_lgb)"
      ]
    },
    {
      "cell_type": "code",
      "execution_count": 49,
      "id": "2e0496c7-dab5-40c8-9a96-0b13a6503d43",
      "metadata": {
        "colab": {
          "base_uri": "https://localhost:8080/"
        },
        "id": "2e0496c7-dab5-40c8-9a96-0b13a6503d43",
        "outputId": "1625c292-4eb0-4846-e8cb-4547c797f94c"
      },
      "outputs": [
        {
          "output_type": "stream",
          "name": "stdout",
          "text": [
            "LGBMClassifier Accuracy of lgb: {accuracy_score_lgb}\n",
            "precision of lgb: 0.9348849372384938\n",
            "recall of lgb: 0.884463137060861\n",
            "f1 of lgb: 0.908975336892957\n"
          ]
        }
      ],
      "source": [
        "print(\"LGBMClassifier Accuracy of lgb: {accuracy_score_lgb}\")\n",
        "print(f\"precision of lgb: {precision_score_lgb}\")\n",
        "print(f\"recall of lgb: {recall_lgb}\")\n",
        "print(f\"f1 of lgb: {f1_lgb}\")"
      ]
    },
    {
      "cell_type": "markdown",
      "id": "eea30305-14f3-4dc6-af3a-979ccc25e145",
      "metadata": {
        "id": "eea30305-14f3-4dc6-af3a-979ccc25e145"
      },
      "source": [
        "### KNN"
      ]
    },
    {
      "cell_type": "code",
      "execution_count": 50,
      "id": "bd226667-9a6f-42a0-b92f-c85fb3ccb4fc",
      "metadata": {
        "id": "bd226667-9a6f-42a0-b92f-c85fb3ccb4fc"
      },
      "outputs": [],
      "source": [
        "knn = KNeighborsClassifier()\n",
        "knn.fit(X_train, y_train)\n",
        "y_pred_knn = knn.predict(X_test)\n",
        "\n",
        "f1_knn = f1_score(y_test, y_pred_knn)\n",
        "precision_score_knn = precision_score(y_test, y_pred_knn)\n",
        "recall_knn = recall_score(y_test, y_pred_knn)\n",
        "accuracy_score_knn = accuracy_score(y_test, y_pred_knn)"
      ]
    },
    {
      "cell_type": "code",
      "execution_count": 51,
      "id": "587489f8-478c-497a-ac55-fcd5fe50f748",
      "metadata": {
        "colab": {
          "base_uri": "https://localhost:8080/"
        },
        "id": "587489f8-478c-497a-ac55-fcd5fe50f748",
        "outputId": "abeba04a-c799-4a42-c25e-ae2a01b5df01"
      },
      "outputs": [
        {
          "output_type": "stream",
          "name": "stdout",
          "text": [
            "Accuracy of knn: 0.9043908472479901\n",
            "precision of knn: 0.9018932874354562\n",
            "f1 of knn: 0.90467381921322\n",
            "recall of knn: 0.9074715487382484\n"
          ]
        }
      ],
      "source": [
        "print(f\"Accuracy of knn: {accuracy_score_knn}\")\n",
        "print(f\"precision of knn: {precision_score_knn}\")\n",
        "print(f\"f1 of knn: {f1_knn}\")\n",
        "print(f\"recall of knn: {recall_knn}\")"
      ]
    },
    {
      "cell_type": "markdown",
      "id": "f43f82a6-5a73-4615-8f44-42cf8f9aecb5",
      "metadata": {
        "id": "f43f82a6-5a73-4615-8f44-42cf8f9aecb5"
      },
      "source": [
        "### Random Forest"
      ]
    },
    {
      "cell_type": "code",
      "execution_count": 52,
      "id": "932159ea-f9d2-4c68-b2e6-5ecb8aebf94b",
      "metadata": {
        "id": "932159ea-f9d2-4c68-b2e6-5ecb8aebf94b"
      },
      "outputs": [],
      "source": [
        "rfc = RandomForestClassifier(\n",
        "    n_estimators=200,\n",
        "    random_state=42,\n",
        ")\n",
        "rfc.fit(X_train, y_train)\n",
        "y_pred_rfc = rfc.predict(X_test)\n",
        "\n",
        "f1_rfc = f1_score(y_test, y_pred_rfc)\n",
        "precision_score_rfc = precision_score(y_test, y_pred_rfc)\n",
        "recall_rfc = recall_score(y_test, y_pred_rfc)\n",
        "accuracy_score_rfc = accuracy_score(y_test, y_pred_rfc)"
      ]
    },
    {
      "cell_type": "code",
      "execution_count": 53,
      "id": "44923fd6-1047-49f0-af49-22d6dc03b482",
      "metadata": {
        "colab": {
          "base_uri": "https://localhost:8080/"
        },
        "id": "44923fd6-1047-49f0-af49-22d6dc03b482",
        "outputId": "4860d93f-54c2-4055-dc11-7f8681812553"
      },
      "outputs": [
        {
          "output_type": "stream",
          "name": "stdout",
          "text": [
            "Accuracy of rfc: 0.9156462585034013\n",
            "precision of rfc: 0.9117647058823529\n",
            "f1 of rfc: 0.9160305343511451\n",
            "recall of rfc: 0.9203364670954973\n"
          ]
        }
      ],
      "source": [
        "print(f\"Accuracy of rfc: {accuracy_score_rfc}\")\n",
        "print(f\"precision of rfc: {precision_score_rfc}\")\n",
        "print(f\"f1 of rfc: {f1_rfc}\")\n",
        "print(f\"recall of rfc: {recall_rfc}\")"
      ]
    },
    {
      "cell_type": "markdown",
      "id": "608ddc41-970e-45e4-89b4-f0ba82af9859",
      "metadata": {
        "id": "608ddc41-970e-45e4-89b4-f0ba82af9859"
      },
      "source": [
        "### Logistic Regression"
      ]
    },
    {
      "cell_type": "code",
      "execution_count": 54,
      "id": "46b8b607-8b63-43a7-8774-85109ec8f351",
      "metadata": {
        "id": "46b8b607-8b63-43a7-8774-85109ec8f351"
      },
      "outputs": [],
      "source": [
        "lg = LogisticRegression()\n",
        "lg.fit(X_train, y_train)\n",
        "y_pred_lg = lg.predict(X_test)\n",
        "\n",
        "f1_lg = f1_score(y_test, y_pred_lg)\n",
        "precision_score_lg = precision_score(y_test, y_pred_lg)\n",
        "recall_lg = recall_score(y_test, y_pred_lg)\n",
        "accuracy_score_lg = accuracy_score(y_test, y_pred_lg)"
      ]
    },
    {
      "cell_type": "code",
      "execution_count": 55,
      "id": "15939ac2-17da-4577-aa14-52d5b56b20b3",
      "metadata": {
        "colab": {
          "base_uri": "https://localhost:8080/"
        },
        "id": "15939ac2-17da-4577-aa14-52d5b56b20b3",
        "outputId": "41c0caa0-370e-4ef2-fee2-091039a80e14"
      },
      "outputs": [
        {
          "output_type": "stream",
          "name": "stdout",
          "text": [
            "Accuracy of lg: 0.9015460729746444\n",
            "precision of lg: 0.9446575342465754\n",
            "f1 of lg: 0.8965158606344253\n",
            "recall of lg: 0.8530430479960416\n"
          ]
        }
      ],
      "source": [
        "print(f\"Accuracy of lg: {accuracy_score_lg}\")\n",
        "print(f\"precision of lg: {precision_score_lg}\")\n",
        "print(f\"f1 of lg: {f1_lg}\")\n",
        "print(f\"recall of lg: {recall_lg}\")"
      ]
    },
    {
      "cell_type": "code",
      "execution_count": 56,
      "id": "10684a2a-b1e7-4da6-a43a-2378afe5e892",
      "metadata": {
        "id": "10684a2a-b1e7-4da6-a43a-2378afe5e892"
      },
      "outputs": [],
      "source": [
        "gbc = GradientBoostingClassifier(n_estimators=200, random_state=42)\n",
        "gbc.fit(X_train, y_train)\n",
        "y_pred_gbc = gbc.predict(X_test)\n",
        "\n",
        "f1_gbc = f1_score(y_test, y_pred_gbc)\n",
        "precision_score_gbc = precision_score(y_test, y_pred_gbc)\n",
        "recall_gbc = recall_score(y_test, y_pred_gbc)\n",
        "accuracy_score_gbc = accuracy_score(y_test, y_pred_gbc)"
      ]
    },
    {
      "cell_type": "code",
      "execution_count": 57,
      "id": "e68f03c8-1eda-4573-afe9-6af084323ad0",
      "metadata": {
        "colab": {
          "base_uri": "https://localhost:8080/"
        },
        "id": "e68f03c8-1eda-4573-afe9-6af084323ad0",
        "outputId": "0b5ca482-85a9-42c0-e86e-bf2bed0db29c"
      },
      "outputs": [
        {
          "output_type": "stream",
          "name": "stdout",
          "text": [
            "Accuracy of gbc: 0.8938775510204081\n",
            "precision of gbc: 0.918286915396742\n",
            "f1 of gbc: 0.8906727828746178\n",
            "recall of gbc: 0.8646709549727858\n"
          ]
        }
      ],
      "source": [
        "print(f\"Accuracy of gbc: {accuracy_score_gbc}\")\n",
        "print(f\"precision of gbc: {precision_score_gbc}\")\n",
        "print(f\"f1 of gbc: {f1_gbc}\")\n",
        "print(f\"recall of gbc: {recall_gbc}\")"
      ]
    },
    {
      "cell_type": "markdown",
      "id": "1fa12aa7-8d86-4130-9f52-3e3c24e9c721",
      "metadata": {
        "id": "1fa12aa7-8d86-4130-9f52-3e3c24e9c721"
      },
      "source": [
        "### Decision Tree"
      ]
    },
    {
      "cell_type": "code",
      "execution_count": 58,
      "id": "eae148bf-cfb9-423f-9d43-bd035a3a492e",
      "metadata": {
        "id": "eae148bf-cfb9-423f-9d43-bd035a3a492e"
      },
      "outputs": [],
      "source": [
        "dt = DecisionTreeClassifier()\n",
        "dt.fit(X_train, y_train)\n",
        "y_pred_dt = dt.predict(X_test)\n",
        "\n",
        "f1_dt = f1_score(y_test, y_pred_dt)\n",
        "precision_score_dt = precision_score(y_test, y_pred_dt)\n",
        "recall_df = recall_score(y_test, y_pred_dt)\n",
        "accuracy_score_dt = accuracy_score(y_test, y_pred_dt)"
      ]
    },
    {
      "cell_type": "code",
      "execution_count": 59,
      "id": "9a2d7c0f-6d80-4b03-baa1-ebfa3d0f1d28",
      "metadata": {
        "colab": {
          "base_uri": "https://localhost:8080/"
        },
        "id": "9a2d7c0f-6d80-4b03-baa1-ebfa3d0f1d28",
        "outputId": "347e2e97-2e14-4f97-eae7-e844688a2639"
      },
      "outputs": [
        {
          "output_type": "stream",
          "name": "stdout",
          "text": [
            "Accuracy of dt: 0.8989486703772418\n",
            "precision of dt: 0.8937728937728938\n",
            "f1 of dt: 0.8995944451271969\n",
            "recall of df: 0.9054923305294409\n"
          ]
        }
      ],
      "source": [
        "print(f\"Accuracy of dt: {accuracy_score_dt}\")\n",
        "print(f\"precision of dt: {precision_score_dt}\")\n",
        "print(f\"f1 of dt: {f1_dt}\")\n",
        "print(f\"recall of df: {recall_df}\")"
      ]
    },
    {
      "cell_type": "markdown",
      "id": "5b91e729-12e3-4864-9269-643ca65cb1cb",
      "metadata": {
        "id": "5b91e729-12e3-4864-9269-643ca65cb1cb"
      },
      "source": [
        "### Histogram-based Gradient Boosting"
      ]
    },
    {
      "cell_type": "code",
      "execution_count": 60,
      "id": "28907034-eea5-40f3-8b5c-3feb681d3d75",
      "metadata": {
        "id": "28907034-eea5-40f3-8b5c-3feb681d3d75"
      },
      "outputs": [],
      "source": [
        "hg = HistGradientBoostingClassifier()\n",
        "hg.fit(X_train, y_train)\n",
        "y_pred_hg = hg.predict(X_test)\n",
        "\n",
        "f1_hg = f1_score(y_test, y_pred_hg)\n",
        "precision_score_hg = precision_score(y_test, y_pred_hg)\n",
        "recall_hg = recall_score(y_test, y_pred_hg)\n",
        "accuracy_score_hg = accuracy_score(y_test, y_pred_hg)"
      ]
    },
    {
      "cell_type": "code",
      "execution_count": 61,
      "id": "7450be76-abbf-471f-8a69-80e616e741e6",
      "metadata": {
        "colab": {
          "base_uri": "https://localhost:8080/"
        },
        "id": "7450be76-abbf-471f-8a69-80e616e741e6",
        "outputId": "b2755bf8-b772-42cd-f079-e720df76ef8e"
      },
      "outputs": [
        {
          "output_type": "stream",
          "name": "stdout",
          "text": [
            "Accuracy of hg: 0.9081014223871366\n",
            "precision of hg: 0.9319193506153444\n",
            "f1 of hg: 0.905482763007251\n",
            "recall of hg : 0.8805047006432459\n"
          ]
        }
      ],
      "source": [
        "print(f\"Accuracy of hg: {accuracy_score_hg}\")\n",
        "print(f\"precision of hg: {precision_score_hg}\")\n",
        "print(f\"f1 of hg: {f1_hg}\")\n",
        "print(f\"recall of hg : {recall_hg}\")"
      ]
    },
    {
      "cell_type": "markdown",
      "id": "2fce5722-eef5-4c36-865c-8d97ac9173b4",
      "metadata": {
        "id": "2fce5722-eef5-4c36-865c-8d97ac9173b4"
      },
      "source": [
        "### Adaboost"
      ]
    },
    {
      "cell_type": "code",
      "execution_count": 62,
      "id": "8d53d6d2-686c-4b83-9137-692656760a21",
      "metadata": {
        "colab": {
          "base_uri": "https://localhost:8080/"
        },
        "id": "8d53d6d2-686c-4b83-9137-692656760a21",
        "outputId": "262a0d7a-f6fb-4f7a-b188-0f3f875f76ab"
      },
      "outputs": [
        {
          "output_type": "stream",
          "name": "stdout",
          "text": [
            "Accuracy of adb: 0.876808905380334\n",
            "precision of adb: 0.9014232999472852\n",
            "f1 of adb: 0.8728943338437979\n",
            "recall of adb : 0.8461157842652153\n"
          ]
        }
      ],
      "source": [
        "adb = AdaBoostClassifier()\n",
        "adb.fit(X_train, y_train)\n",
        "y_pred_adb = adb.predict(X_test)\n",
        "\n",
        "f1_adb = f1_score(y_test, y_pred_adb)\n",
        "precision_score_adb = precision_score(y_test, y_pred_adb)\n",
        "recall_adb = recall_score(y_test, y_pred_adb)\n",
        "accuracy_score_adb = accuracy_score(y_test, y_pred_adb)\n",
        "\n",
        "print(f\"Accuracy of adb: {accuracy_score_adb}\")\n",
        "print(f\"precision of adb: {precision_score_adb}\")\n",
        "print(f\"f1 of adb: {f1_adb}\")\n",
        "print(f\"recall of adb : {recall_adb}\")"
      ]
    },
    {
      "cell_type": "markdown",
      "id": "2bf02295-e0e1-40b9-b24d-7b78302e98bd",
      "metadata": {
        "id": "2bf02295-e0e1-40b9-b24d-7b78302e98bd"
      },
      "source": [
        "## Table of evaluation matrics"
      ]
    },
    {
      "cell_type": "code",
      "execution_count": 63,
      "id": "2d3cbaa5-94ee-4ab0-9216-bc02f6ceaf8a",
      "metadata": {
        "colab": {
          "base_uri": "https://localhost:8080/",
          "height": 331
        },
        "id": "2d3cbaa5-94ee-4ab0-9216-bc02f6ceaf8a",
        "outputId": "10c068bf-cc27-49e6-da95-d5577377a3a3"
      },
      "outputs": [
        {
          "output_type": "execute_result",
          "data": {
            "text/plain": [
              "                      Algoritm  Accuracy  F1 score  Precision    Recall\n",
              "0                         LGBM  0.911441  0.908975   0.934885  0.884463\n",
              "1           Logistc Regression  0.901546  0.896516   0.944658  0.853043\n",
              "2                          XGB  0.892146  0.889396   0.912546  0.867392\n",
              "3                Random Forest  0.915646  0.916031   0.911765  0.920336\n",
              "4            Gradient Boosting  0.893878  0.890673   0.918287  0.864671\n",
              "5                Decision tree  0.898949  0.899594   0.893773  0.905492\n",
              "6                          KNN  0.904391  0.904674   0.901893  0.907472\n",
              "7  Historgam Gradient Boosting  0.908101  0.905483   0.931919  0.880505\n",
              "8                     Adaboost  0.846116  0.872894   0.901423  0.846116"
            ],
            "text/html": [
              "\n",
              "  <div id=\"df-95ec12e3-b807-431e-8799-72c27cc71f39\">\n",
              "    <div class=\"colab-df-container\">\n",
              "      <div>\n",
              "<style scoped>\n",
              "    .dataframe tbody tr th:only-of-type {\n",
              "        vertical-align: middle;\n",
              "    }\n",
              "\n",
              "    .dataframe tbody tr th {\n",
              "        vertical-align: top;\n",
              "    }\n",
              "\n",
              "    .dataframe thead th {\n",
              "        text-align: right;\n",
              "    }\n",
              "</style>\n",
              "<table border=\"1\" class=\"dataframe\">\n",
              "  <thead>\n",
              "    <tr style=\"text-align: right;\">\n",
              "      <th></th>\n",
              "      <th>Algoritm</th>\n",
              "      <th>Accuracy</th>\n",
              "      <th>F1 score</th>\n",
              "      <th>Precision</th>\n",
              "      <th>Recall</th>\n",
              "    </tr>\n",
              "  </thead>\n",
              "  <tbody>\n",
              "    <tr>\n",
              "      <th>0</th>\n",
              "      <td>LGBM</td>\n",
              "      <td>0.911441</td>\n",
              "      <td>0.908975</td>\n",
              "      <td>0.934885</td>\n",
              "      <td>0.884463</td>\n",
              "    </tr>\n",
              "    <tr>\n",
              "      <th>1</th>\n",
              "      <td>Logistc Regression</td>\n",
              "      <td>0.901546</td>\n",
              "      <td>0.896516</td>\n",
              "      <td>0.944658</td>\n",
              "      <td>0.853043</td>\n",
              "    </tr>\n",
              "    <tr>\n",
              "      <th>2</th>\n",
              "      <td>XGB</td>\n",
              "      <td>0.892146</td>\n",
              "      <td>0.889396</td>\n",
              "      <td>0.912546</td>\n",
              "      <td>0.867392</td>\n",
              "    </tr>\n",
              "    <tr>\n",
              "      <th>3</th>\n",
              "      <td>Random Forest</td>\n",
              "      <td>0.915646</td>\n",
              "      <td>0.916031</td>\n",
              "      <td>0.911765</td>\n",
              "      <td>0.920336</td>\n",
              "    </tr>\n",
              "    <tr>\n",
              "      <th>4</th>\n",
              "      <td>Gradient Boosting</td>\n",
              "      <td>0.893878</td>\n",
              "      <td>0.890673</td>\n",
              "      <td>0.918287</td>\n",
              "      <td>0.864671</td>\n",
              "    </tr>\n",
              "    <tr>\n",
              "      <th>5</th>\n",
              "      <td>Decision tree</td>\n",
              "      <td>0.898949</td>\n",
              "      <td>0.899594</td>\n",
              "      <td>0.893773</td>\n",
              "      <td>0.905492</td>\n",
              "    </tr>\n",
              "    <tr>\n",
              "      <th>6</th>\n",
              "      <td>KNN</td>\n",
              "      <td>0.904391</td>\n",
              "      <td>0.904674</td>\n",
              "      <td>0.901893</td>\n",
              "      <td>0.907472</td>\n",
              "    </tr>\n",
              "    <tr>\n",
              "      <th>7</th>\n",
              "      <td>Historgam Gradient Boosting</td>\n",
              "      <td>0.908101</td>\n",
              "      <td>0.905483</td>\n",
              "      <td>0.931919</td>\n",
              "      <td>0.880505</td>\n",
              "    </tr>\n",
              "    <tr>\n",
              "      <th>8</th>\n",
              "      <td>Adaboost</td>\n",
              "      <td>0.846116</td>\n",
              "      <td>0.872894</td>\n",
              "      <td>0.901423</td>\n",
              "      <td>0.846116</td>\n",
              "    </tr>\n",
              "  </tbody>\n",
              "</table>\n",
              "</div>\n",
              "      <button class=\"colab-df-convert\" onclick=\"convertToInteractive('df-95ec12e3-b807-431e-8799-72c27cc71f39')\"\n",
              "              title=\"Convert this dataframe to an interactive table.\"\n",
              "              style=\"display:none;\">\n",
              "        \n",
              "  <svg xmlns=\"http://www.w3.org/2000/svg\" height=\"24px\"viewBox=\"0 0 24 24\"\n",
              "       width=\"24px\">\n",
              "    <path d=\"M0 0h24v24H0V0z\" fill=\"none\"/>\n",
              "    <path d=\"M18.56 5.44l.94 2.06.94-2.06 2.06-.94-2.06-.94-.94-2.06-.94 2.06-2.06.94zm-11 1L8.5 8.5l.94-2.06 2.06-.94-2.06-.94L8.5 2.5l-.94 2.06-2.06.94zm10 10l.94 2.06.94-2.06 2.06-.94-2.06-.94-.94-2.06-.94 2.06-2.06.94z\"/><path d=\"M17.41 7.96l-1.37-1.37c-.4-.4-.92-.59-1.43-.59-.52 0-1.04.2-1.43.59L10.3 9.45l-7.72 7.72c-.78.78-.78 2.05 0 2.83L4 21.41c.39.39.9.59 1.41.59.51 0 1.02-.2 1.41-.59l7.78-7.78 2.81-2.81c.8-.78.8-2.07 0-2.86zM5.41 20L4 18.59l7.72-7.72 1.47 1.35L5.41 20z\"/>\n",
              "  </svg>\n",
              "      </button>\n",
              "      \n",
              "  <style>\n",
              "    .colab-df-container {\n",
              "      display:flex;\n",
              "      flex-wrap:wrap;\n",
              "      gap: 12px;\n",
              "    }\n",
              "\n",
              "    .colab-df-convert {\n",
              "      background-color: #E8F0FE;\n",
              "      border: none;\n",
              "      border-radius: 50%;\n",
              "      cursor: pointer;\n",
              "      display: none;\n",
              "      fill: #1967D2;\n",
              "      height: 32px;\n",
              "      padding: 0 0 0 0;\n",
              "      width: 32px;\n",
              "    }\n",
              "\n",
              "    .colab-df-convert:hover {\n",
              "      background-color: #E2EBFA;\n",
              "      box-shadow: 0px 1px 2px rgba(60, 64, 67, 0.3), 0px 1px 3px 1px rgba(60, 64, 67, 0.15);\n",
              "      fill: #174EA6;\n",
              "    }\n",
              "\n",
              "    [theme=dark] .colab-df-convert {\n",
              "      background-color: #3B4455;\n",
              "      fill: #D2E3FC;\n",
              "    }\n",
              "\n",
              "    [theme=dark] .colab-df-convert:hover {\n",
              "      background-color: #434B5C;\n",
              "      box-shadow: 0px 1px 3px 1px rgba(0, 0, 0, 0.15);\n",
              "      filter: drop-shadow(0px 1px 2px rgba(0, 0, 0, 0.3));\n",
              "      fill: #FFFFFF;\n",
              "    }\n",
              "  </style>\n",
              "\n",
              "      <script>\n",
              "        const buttonEl =\n",
              "          document.querySelector('#df-95ec12e3-b807-431e-8799-72c27cc71f39 button.colab-df-convert');\n",
              "        buttonEl.style.display =\n",
              "          google.colab.kernel.accessAllowed ? 'block' : 'none';\n",
              "\n",
              "        async function convertToInteractive(key) {\n",
              "          const element = document.querySelector('#df-95ec12e3-b807-431e-8799-72c27cc71f39');\n",
              "          const dataTable =\n",
              "            await google.colab.kernel.invokeFunction('convertToInteractive',\n",
              "                                                     [key], {});\n",
              "          if (!dataTable) return;\n",
              "\n",
              "          const docLinkHtml = 'Like what you see? Visit the ' +\n",
              "            '<a target=\"_blank\" href=https://colab.research.google.com/notebooks/data_table.ipynb>data table notebook</a>'\n",
              "            + ' to learn more about interactive tables.';\n",
              "          element.innerHTML = '';\n",
              "          dataTable['output_type'] = 'display_data';\n",
              "          await google.colab.output.renderOutput(dataTable, element);\n",
              "          const docLink = document.createElement('div');\n",
              "          docLink.innerHTML = docLinkHtml;\n",
              "          element.appendChild(docLink);\n",
              "        }\n",
              "      </script>\n",
              "    </div>\n",
              "  </div>\n",
              "  "
            ]
          },
          "metadata": {},
          "execution_count": 63
        }
      ],
      "source": [
        "scores = pd.DataFrame(\n",
        "    {\n",
        "        \"Algoritm\": [\n",
        "            \"LGBM\",\n",
        "            \"Logistc Regression\",\n",
        "            \"XGB\",\n",
        "            \"Random Forest\",\n",
        "            \"Gradient Boosting\",\n",
        "            \"Decision tree\",\n",
        "            \"KNN\",\n",
        "            \"Historgam Gradient Boosting\",\n",
        "            \"Adaboost\",\n",
        "        ],\n",
        "        \"Accuracy\": [\n",
        "            accuracy_score_lgb,\n",
        "            accuracy_score_lg,\n",
        "            accuracy_score_xgb,\n",
        "            accuracy_score_rfc,\n",
        "            accuracy_score_gbc,\n",
        "            accuracy_score_dt,\n",
        "            accuracy_score_knn,\n",
        "            accuracy_score_hg,\n",
        "            recall_adb,\n",
        "        ],\n",
        "        \"F1 score\": [\n",
        "            f1_lgb,\n",
        "            f1_lg,\n",
        "            f1_xgb,\n",
        "            f1_rfc,\n",
        "            f1_gbc,\n",
        "            f1_dt,\n",
        "            f1_knn,\n",
        "            f1_hg,\n",
        "            f1_adb,\n",
        "        ],\n",
        "        \"Precision\": [\n",
        "            precision_score_lgb,\n",
        "            precision_score_lg,\n",
        "            precision_score_xgb,\n",
        "            precision_score_rfc,\n",
        "            precision_score_gbc,\n",
        "            precision_score_dt,\n",
        "            precision_score_knn,\n",
        "            precision_score_hg,\n",
        "            precision_score_adb,\n",
        "        ],\n",
        "        \"Recall\": [\n",
        "            recall_lgb,\n",
        "            recall_lg,\n",
        "            recall_xgb,\n",
        "            recall_rfc,\n",
        "            recall_gbc,\n",
        "            recall_df,\n",
        "            recall_knn,\n",
        "            recall_hg,\n",
        "            recall_adb,\n",
        "        ],\n",
        "    }\n",
        ")\n",
        "\n",
        "scores"
      ]
    },
    {
      "cell_type": "markdown",
      "id": "74d92fb7-a4d2-4cc3-907c-6dd62bfac9fa",
      "metadata": {
        "id": "74d92fb7-a4d2-4cc3-907c-6dd62bfac9fa"
      },
      "source": [
        "# Optimization using optuma"
      ]
    },
    {
      "cell_type": "code",
      "execution_count": 64,
      "id": "3a2f6a65-8fb3-4aeb-9ce6-d041f70bdf06",
      "metadata": {
        "colab": {
          "base_uri": "https://localhost:8080/"
        },
        "id": "3a2f6a65-8fb3-4aeb-9ce6-d041f70bdf06",
        "outputId": "24a27bd3-54fb-47ee-bc6b-3259fa4a22df"
      },
      "outputs": [
        {
          "output_type": "execute_result",
          "data": {
            "text/plain": [
              "((32339, 63), (32339,))"
            ]
          },
          "metadata": {},
          "execution_count": 64
        }
      ],
      "source": [
        "X_train.shape, y_train.shape"
      ]
    },
    {
      "cell_type": "code",
      "execution_count": 65,
      "id": "96435121-0faf-4d4d-abd2-1f23c281e895",
      "metadata": {
        "colab": {
          "base_uri": "https://localhost:8080/"
        },
        "id": "96435121-0faf-4d4d-abd2-1f23c281e895",
        "outputId": "744e2b8c-1b77-4a52-be68-027ae7008671"
      },
      "outputs": [
        {
          "output_type": "execute_result",
          "data": {
            "text/plain": [
              "((8085, 63), (8085,))"
            ]
          },
          "metadata": {},
          "execution_count": 65
        }
      ],
      "source": [
        "X_test.shape, y_test.shape"
      ]
    },
    {
      "cell_type": "markdown",
      "id": "12bdf8cf-fed7-4616-afcd-bc505d4ae671",
      "metadata": {
        "id": "12bdf8cf-fed7-4616-afcd-bc505d4ae671"
      },
      "source": [
        "# Lightgbm classifier"
      ]
    },
    {
      "cell_type": "code",
      "source": [
        "!pip install -q optuna"
      ],
      "metadata": {
        "id": "sDJyuMX9hVAF"
      },
      "id": "sDJyuMX9hVAF",
      "execution_count": 66,
      "outputs": []
    },
    {
      "cell_type": "code",
      "execution_count": 67,
      "id": "546aa549-91e6-4198-86c5-1be35b27b08d",
      "metadata": {
        "id": "546aa549-91e6-4198-86c5-1be35b27b08d"
      },
      "outputs": [],
      "source": [
        "import warnings\n",
        "\n",
        "import lightgbm\n",
        "import numpy as np\n",
        "import optuna\n",
        "from optuna.integration import LightGBMPruningCallback\n",
        "from sklearn.metrics import log_loss\n",
        "from sklearn.model_selection import StratifiedKFold\n",
        "\n",
        "warnings.filterwarnings(\"ignore\", category=UserWarning)\n",
        "# optuna.logging.set_verbosity(optuna.logging.WARNING)\n",
        "\n",
        "\n",
        "def objective(trial, X_train, y_train, cv=5):\n",
        "\n",
        "    param_grid = {\n",
        "        \"n_estimators\": trial.suggest_categorical(\"n_estimators\", [200, 900]),\n",
        "        \"learning_rate\": trial.suggest_categorical(\"learning_rate\", [0.01, 0.02]),\n",
        "    }\n",
        "\n",
        "    cv_iterator = StratifiedKFold(n_splits=cv, shuffle=True, random_state=seed)\n",
        "\n",
        "    cv_scores = np.zeros(cv)\n",
        "    for idx, (train_sub_idx, valid_idx) in enumerate(\n",
        "        cv_iterator.split(X_train, y_train)\n",
        "    ):\n",
        "\n",
        "        X_train_sub, X_valid = X_train[train_sub_idx], X_train[valid_idx]\n",
        "        y_train_sub, y_valid = y_train[train_sub_idx], y_train[valid_idx]\n",
        "\n",
        "        model = lightgbm.LGBMClassifier(objective=\"binary\", **param_grid)\n",
        "        model.fit(\n",
        "            X_train_sub,\n",
        "            y_train_sub,\n",
        "            eval_set=[(X_valid, y_valid)],\n",
        "            eval_metric=\"binary_logloss\",\n",
        "            verbose=-1,\n",
        "            early_stopping_rounds=100,\n",
        "            callbacks=[\n",
        "                LightGBMPruningCallback(trial=trial, metric=\"binary_logloss\")\n",
        "            ],  # Add a pruning callback to eliminate unpromising candidates\n",
        "        )\n",
        "        preds = model.score(X_valid, y_valid)\n",
        "\n",
        "        cv_scores[idx] = preds\n",
        "\n",
        "    return 1 - np.mean(cv_scores)"
      ]
    },
    {
      "cell_type": "code",
      "execution_count": 68,
      "id": "1af30e6c-4723-4f62-a537-f1b56f572a25",
      "metadata": {
        "colab": {
          "base_uri": "https://localhost:8080/"
        },
        "id": "1af30e6c-4723-4f62-a537-f1b56f572a25",
        "outputId": "a9b9b10c-3f10-43fa-abf4-db567747e6ec"
      },
      "outputs": [
        {
          "output_type": "stream",
          "name": "stderr",
          "text": [
            "\u001b[32m[I 2022-04-23 20:39:24,036]\u001b[0m A new study created in memory with name: LGBM Classifier\u001b[0m\n"
          ]
        },
        {
          "output_type": "stream",
          "name": "stdout",
          "text": [
            "Training until validation scores don't improve for 100 rounds.\n",
            "Did not meet early stopping. Best iteration is:\n",
            "[900]\tvalid_0's binary_logloss: 0.236219\tvalid_0's binary_logloss: 0.236219\n",
            "Training until validation scores don't improve for 100 rounds.\n",
            "Did not meet early stopping. Best iteration is:\n",
            "[900]\tvalid_0's binary_logloss: 0.227255\tvalid_0's binary_logloss: 0.227255\n",
            "Training until validation scores don't improve for 100 rounds.\n",
            "Did not meet early stopping. Best iteration is:\n",
            "[900]\tvalid_0's binary_logloss: 0.235998\tvalid_0's binary_logloss: 0.235998\n",
            "Training until validation scores don't improve for 100 rounds.\n",
            "Did not meet early stopping. Best iteration is:\n",
            "[900]\tvalid_0's binary_logloss: 0.224921\tvalid_0's binary_logloss: 0.224921\n",
            "Training until validation scores don't improve for 100 rounds.\n",
            "Did not meet early stopping. Best iteration is:\n",
            "[900]\tvalid_0's binary_logloss: 0.229668\tvalid_0's binary_logloss: 0.229668\n"
          ]
        },
        {
          "output_type": "stream",
          "name": "stderr",
          "text": [
            "\u001b[32m[I 2022-04-23 20:41:12,432]\u001b[0m Trial 0 finished with value: 0.10127086863816204 and parameters: {'n_estimators': 900, 'learning_rate': 0.01}. Best is trial 0 with value: 0.10127086863816204.\u001b[0m\n"
          ]
        },
        {
          "output_type": "stream",
          "name": "stdout",
          "text": [
            "Training until validation scores don't improve for 100 rounds.\n",
            "Did not meet early stopping. Best iteration is:\n",
            "[900]\tvalid_0's binary_logloss: 0.216106\tvalid_0's binary_logloss: 0.216106\n",
            "Training until validation scores don't improve for 100 rounds.\n",
            "Did not meet early stopping. Best iteration is:\n",
            "[900]\tvalid_0's binary_logloss: 0.208793\tvalid_0's binary_logloss: 0.208793\n",
            "Training until validation scores don't improve for 100 rounds.\n",
            "Did not meet early stopping. Best iteration is:\n",
            "[899]\tvalid_0's binary_logloss: 0.223331\tvalid_0's binary_logloss: 0.223331\n",
            "Training until validation scores don't improve for 100 rounds.\n",
            "Did not meet early stopping. Best iteration is:\n",
            "[900]\tvalid_0's binary_logloss: 0.227332\tvalid_0's binary_logloss: 0.227332\n",
            "Training until validation scores don't improve for 100 rounds.\n",
            "Did not meet early stopping. Best iteration is:\n",
            "[900]\tvalid_0's binary_logloss: 0.225841\tvalid_0's binary_logloss: 0.225841\n"
          ]
        },
        {
          "output_type": "stream",
          "name": "stderr",
          "text": [
            "\u001b[32m[I 2022-04-23 20:42:12,995]\u001b[0m Trial 1 finished with value: 0.09527216287361195 and parameters: {'n_estimators': 900, 'learning_rate': 0.02}. Best is trial 1 with value: 0.09527216287361195.\u001b[0m\n"
          ]
        },
        {
          "output_type": "stream",
          "name": "stdout",
          "text": [
            "Training until validation scores don't improve for 100 rounds.\n",
            "Did not meet early stopping. Best iteration is:\n",
            "[200]\tvalid_0's binary_logloss: 0.274704\tvalid_0's binary_logloss: 0.274704\n",
            "Training until validation scores don't improve for 100 rounds.\n",
            "Did not meet early stopping. Best iteration is:\n",
            "[200]\tvalid_0's binary_logloss: 0.255231\tvalid_0's binary_logloss: 0.255231\n",
            "Training until validation scores don't improve for 100 rounds.\n",
            "Did not meet early stopping. Best iteration is:\n",
            "[200]\tvalid_0's binary_logloss: 0.264666\tvalid_0's binary_logloss: 0.264666\n",
            "Training until validation scores don't improve for 100 rounds.\n",
            "Did not meet early stopping. Best iteration is:\n",
            "[200]\tvalid_0's binary_logloss: 0.255924\tvalid_0's binary_logloss: 0.255924\n",
            "Training until validation scores don't improve for 100 rounds.\n"
          ]
        },
        {
          "output_type": "stream",
          "name": "stderr",
          "text": [
            "\u001b[32m[I 2022-04-23 20:42:31,595]\u001b[0m Trial 2 finished with value: 0.11159910946961682 and parameters: {'n_estimators': 200, 'learning_rate': 0.02}. Best is trial 1 with value: 0.09527216287361195.\u001b[0m\n"
          ]
        },
        {
          "output_type": "stream",
          "name": "stdout",
          "text": [
            "Did not meet early stopping. Best iteration is:\n",
            "[200]\tvalid_0's binary_logloss: 0.266682\tvalid_0's binary_logloss: 0.266682\n",
            "Training until validation scores don't improve for 100 rounds.\n",
            "Did not meet early stopping. Best iteration is:\n",
            "[899]\tvalid_0's binary_logloss: 0.229969\tvalid_0's binary_logloss: 0.229969\n",
            "Training until validation scores don't improve for 100 rounds.\n",
            "Did not meet early stopping. Best iteration is:\n",
            "[900]\tvalid_0's binary_logloss: 0.235254\tvalid_0's binary_logloss: 0.235254\n",
            "Training until validation scores don't improve for 100 rounds.\n",
            "Did not meet early stopping. Best iteration is:\n",
            "[900]\tvalid_0's binary_logloss: 0.233604\tvalid_0's binary_logloss: 0.233604\n",
            "Training until validation scores don't improve for 100 rounds.\n",
            "Did not meet early stopping. Best iteration is:\n",
            "[900]\tvalid_0's binary_logloss: 0.229252\tvalid_0's binary_logloss: 0.229252\n",
            "Training until validation scores don't improve for 100 rounds.\n",
            "Did not meet early stopping. Best iteration is:\n",
            "[900]\tvalid_0's binary_logloss: 0.225807\tvalid_0's binary_logloss: 0.225807\n"
          ]
        },
        {
          "output_type": "stream",
          "name": "stderr",
          "text": [
            "\u001b[32m[I 2022-04-23 20:43:40,398]\u001b[0m Trial 3 finished with value: 0.10046691547276931 and parameters: {'n_estimators': 900, 'learning_rate': 0.01}. Best is trial 1 with value: 0.09527216287361195.\u001b[0m\n"
          ]
        },
        {
          "output_type": "stream",
          "name": "stdout",
          "text": [
            "Training until validation scores don't improve for 100 rounds.\n",
            "Did not meet early stopping. Best iteration is:\n",
            "[900]\tvalid_0's binary_logloss: 0.229179\tvalid_0's binary_logloss: 0.229179\n",
            "Training until validation scores don't improve for 100 rounds.\n",
            "Did not meet early stopping. Best iteration is:\n",
            "[900]\tvalid_0's binary_logloss: 0.234253\tvalid_0's binary_logloss: 0.234253\n",
            "Training until validation scores don't improve for 100 rounds.\n",
            "Did not meet early stopping. Best iteration is:\n",
            "[900]\tvalid_0's binary_logloss: 0.22608\tvalid_0's binary_logloss: 0.22608\n",
            "Training until validation scores don't improve for 100 rounds.\n",
            "Did not meet early stopping. Best iteration is:\n",
            "[900]\tvalid_0's binary_logloss: 0.235925\tvalid_0's binary_logloss: 0.235925\n",
            "Training until validation scores don't improve for 100 rounds.\n",
            "Did not meet early stopping. Best iteration is:\n",
            "[900]\tvalid_0's binary_logloss: 0.224592\tvalid_0's binary_logloss: 0.224592\n"
          ]
        },
        {
          "output_type": "stream",
          "name": "stderr",
          "text": [
            "\u001b[32m[I 2022-04-23 20:44:49,463]\u001b[0m Trial 4 finished with value: 0.09991036745327764 and parameters: {'n_estimators': 900, 'learning_rate': 0.01}. Best is trial 1 with value: 0.09527216287361195.\u001b[0m\n"
          ]
        },
        {
          "output_type": "stream",
          "name": "stdout",
          "text": [
            "Training until validation scores don't improve for 100 rounds.\n",
            "Did not meet early stopping. Best iteration is:\n",
            "[200]\tvalid_0's binary_logloss: 0.265348\tvalid_0's binary_logloss: 0.265348\n",
            "Training until validation scores don't improve for 100 rounds.\n",
            "Did not meet early stopping. Best iteration is:\n",
            "[200]\tvalid_0's binary_logloss: 0.266711\tvalid_0's binary_logloss: 0.266711\n",
            "Training until validation scores don't improve for 100 rounds.\n",
            "Did not meet early stopping. Best iteration is:\n",
            "[200]\tvalid_0's binary_logloss: 0.262406\tvalid_0's binary_logloss: 0.262406\n",
            "Training until validation scores don't improve for 100 rounds.\n",
            "Did not meet early stopping. Best iteration is:\n",
            "[200]\tvalid_0's binary_logloss: 0.256315\tvalid_0's binary_logloss: 0.256315\n",
            "Training until validation scores don't improve for 100 rounds.\n"
          ]
        },
        {
          "output_type": "stream",
          "name": "stderr",
          "text": [
            "\u001b[32m[I 2022-04-23 20:45:07,038]\u001b[0m Trial 5 finished with value: 0.11125879172113895 and parameters: {'n_estimators': 200, 'learning_rate': 0.02}. Best is trial 1 with value: 0.09527216287361195.\u001b[0m\n"
          ]
        },
        {
          "output_type": "stream",
          "name": "stdout",
          "text": [
            "Did not meet early stopping. Best iteration is:\n",
            "[200]\tvalid_0's binary_logloss: 0.264952\tvalid_0's binary_logloss: 0.264952\n",
            "Training until validation scores don't improve for 100 rounds.\n",
            "Did not meet early stopping. Best iteration is:\n",
            "[900]\tvalid_0's binary_logloss: 0.214896\tvalid_0's binary_logloss: 0.214896\n",
            "Training until validation scores don't improve for 100 rounds.\n",
            "Did not meet early stopping. Best iteration is:\n",
            "[900]\tvalid_0's binary_logloss: 0.215291\tvalid_0's binary_logloss: 0.215291\n",
            "Training until validation scores don't improve for 100 rounds.\n",
            "Did not meet early stopping. Best iteration is:\n",
            "[899]\tvalid_0's binary_logloss: 0.231129\tvalid_0's binary_logloss: 0.231129\n",
            "Training until validation scores don't improve for 100 rounds.\n",
            "Did not meet early stopping. Best iteration is:\n",
            "[900]\tvalid_0's binary_logloss: 0.22235\tvalid_0's binary_logloss: 0.22235\n",
            "Training until validation scores don't improve for 100 rounds.\n",
            "Did not meet early stopping. Best iteration is:\n",
            "[899]\tvalid_0's binary_logloss: 0.216903\tvalid_0's binary_logloss: 0.216903\n"
          ]
        },
        {
          "output_type": "stream",
          "name": "stderr",
          "text": [
            "\u001b[32m[I 2022-04-23 20:46:09,604]\u001b[0m Trial 6 finished with value: 0.09576664324725903 and parameters: {'n_estimators': 900, 'learning_rate': 0.02}. Best is trial 1 with value: 0.09527216287361195.\u001b[0m\n",
            "\u001b[32m[I 2022-04-23 20:46:09,838]\u001b[0m Trial 7 pruned. Trial was pruned at iteration 0.\u001b[0m\n"
          ]
        },
        {
          "output_type": "stream",
          "name": "stdout",
          "text": [
            "Training until validation scores don't improve for 100 rounds.\n",
            "Did not meet early stopping. Best iteration is:\n",
            "[899]\tvalid_0's binary_logloss: 0.222495\tvalid_0's binary_logloss: 0.222495\n",
            "Training until validation scores don't improve for 100 rounds.\n",
            "Did not meet early stopping. Best iteration is:\n",
            "[899]\tvalid_0's binary_logloss: 0.222845\tvalid_0's binary_logloss: 0.222845\n",
            "Training until validation scores don't improve for 100 rounds.\n",
            "Did not meet early stopping. Best iteration is:\n",
            "[900]\tvalid_0's binary_logloss: 0.219226\tvalid_0's binary_logloss: 0.219226\n",
            "Training until validation scores don't improve for 100 rounds.\n",
            "Did not meet early stopping. Best iteration is:\n",
            "[899]\tvalid_0's binary_logloss: 0.226126\tvalid_0's binary_logloss: 0.226126\n",
            "Training until validation scores don't improve for 100 rounds.\n",
            "Did not meet early stopping. Best iteration is:\n",
            "[900]\tvalid_0's binary_logloss: 0.219663\tvalid_0's binary_logloss: 0.219663\n"
          ]
        },
        {
          "output_type": "stream",
          "name": "stderr",
          "text": [
            "\u001b[32m[I 2022-04-23 20:47:12,034]\u001b[0m Trial 8 finished with value: 0.0965706729154121 and parameters: {'n_estimators': 900, 'learning_rate': 0.02}. Best is trial 1 with value: 0.09527216287361195.\u001b[0m\n",
            "\u001b[32m[I 2022-04-23 20:47:12,285]\u001b[0m Trial 9 pruned. Trial was pruned at iteration 0.\u001b[0m\n"
          ]
        },
        {
          "output_type": "stream",
          "name": "stdout",
          "text": [
            "Training until validation scores don't improve for 100 rounds.\n",
            "Did not meet early stopping. Best iteration is:\n",
            "[888]\tvalid_0's binary_logloss: 0.217407\tvalid_0's binary_logloss: 0.217407\n",
            "Training until validation scores don't improve for 100 rounds.\n",
            "Did not meet early stopping. Best iteration is:\n",
            "[900]\tvalid_0's binary_logloss: 0.207049\tvalid_0's binary_logloss: 0.207049\n",
            "Training until validation scores don't improve for 100 rounds.\n",
            "Did not meet early stopping. Best iteration is:\n",
            "[900]\tvalid_0's binary_logloss: 0.231934\tvalid_0's binary_logloss: 0.231934\n",
            "Training until validation scores don't improve for 100 rounds.\n",
            "Did not meet early stopping. Best iteration is:\n",
            "[900]\tvalid_0's binary_logloss: 0.219624\tvalid_0's binary_logloss: 0.219624\n",
            "Training until validation scores don't improve for 100 rounds.\n",
            "Did not meet early stopping. Best iteration is:\n",
            "[897]\tvalid_0's binary_logloss: 0.223591\tvalid_0's binary_logloss: 0.223591\n"
          ]
        },
        {
          "output_type": "stream",
          "name": "stderr",
          "text": [
            "\u001b[32m[I 2022-04-23 20:48:16,147]\u001b[0m Trial 10 finished with value: 0.09505556443306351 and parameters: {'n_estimators': 900, 'learning_rate': 0.02}. Best is trial 10 with value: 0.09505556443306351.\u001b[0m\n"
          ]
        },
        {
          "output_type": "stream",
          "name": "stdout",
          "text": [
            "Training until validation scores don't improve for 100 rounds.\n"
          ]
        },
        {
          "output_type": "stream",
          "name": "stderr",
          "text": [
            "\u001b[32m[I 2022-04-23 20:48:19,408]\u001b[0m Trial 11 pruned. Trial was pruned at iteration 190.\u001b[0m\n",
            "\u001b[32m[I 2022-04-23 20:48:19,667]\u001b[0m Trial 12 pruned. Trial was pruned at iteration 1.\u001b[0m\n"
          ]
        },
        {
          "output_type": "stream",
          "name": "stdout",
          "text": [
            "Training until validation scores don't improve for 100 rounds.\n"
          ]
        },
        {
          "output_type": "stream",
          "name": "stderr",
          "text": [
            "\u001b[32m[I 2022-04-23 20:48:19,923]\u001b[0m Trial 13 pruned. Trial was pruned at iteration 0.\u001b[0m\n"
          ]
        },
        {
          "output_type": "stream",
          "name": "stdout",
          "text": [
            "Training until validation scores don't improve for 100 rounds.\n",
            "Did not meet early stopping. Best iteration is:\n",
            "[900]\tvalid_0's binary_logloss: 0.214459\tvalid_0's binary_logloss: 0.214459\n",
            "Training until validation scores don't improve for 100 rounds.\n",
            "Did not meet early stopping. Best iteration is:\n",
            "[900]\tvalid_0's binary_logloss: 0.214381\tvalid_0's binary_logloss: 0.214381\n",
            "Training until validation scores don't improve for 100 rounds.\n",
            "Did not meet early stopping. Best iteration is:\n",
            "[899]\tvalid_0's binary_logloss: 0.215613\tvalid_0's binary_logloss: 0.215613\n",
            "Training until validation scores don't improve for 100 rounds.\n",
            "Did not meet early stopping. Best iteration is:\n",
            "[900]\tvalid_0's binary_logloss: 0.22746\tvalid_0's binary_logloss: 0.22746\n",
            "Training until validation scores don't improve for 100 rounds.\n",
            "Did not meet early stopping. Best iteration is:\n",
            "[900]\tvalid_0's binary_logloss: 0.224466\tvalid_0's binary_logloss: 0.224466\n"
          ]
        },
        {
          "output_type": "stream",
          "name": "stderr",
          "text": [
            "\u001b[32m[I 2022-04-23 20:49:24,216]\u001b[0m Trial 14 finished with value: 0.09610699924711719 and parameters: {'n_estimators': 900, 'learning_rate': 0.02}. Best is trial 10 with value: 0.09505556443306351.\u001b[0m\n"
          ]
        },
        {
          "output_type": "stream",
          "name": "stdout",
          "text": [
            "Training until validation scores don't improve for 100 rounds.\n",
            "Did not meet early stopping. Best iteration is:\n",
            "[200]\tvalid_0's binary_logloss: 0.254968\tvalid_0's binary_logloss: 0.254968\n",
            "Training until validation scores don't improve for 100 rounds.\n",
            "Did not meet early stopping. Best iteration is:\n",
            "[200]\tvalid_0's binary_logloss: 0.272006\tvalid_0's binary_logloss: 0.272006\n",
            "Training until validation scores don't improve for 100 rounds.\n",
            "Did not meet early stopping. Best iteration is:\n",
            "[200]\tvalid_0's binary_logloss: 0.265207\tvalid_0's binary_logloss: 0.265207\n",
            "Training until validation scores don't improve for 100 rounds.\n",
            "Did not meet early stopping. Best iteration is:\n",
            "[200]\tvalid_0's binary_logloss: 0.261912\tvalid_0's binary_logloss: 0.261912\n",
            "Training until validation scores don't improve for 100 rounds.\n"
          ]
        },
        {
          "output_type": "stream",
          "name": "stderr",
          "text": [
            "\u001b[32m[I 2022-04-23 20:49:41,736]\u001b[0m Trial 15 finished with value: 0.11162990661212402 and parameters: {'n_estimators': 200, 'learning_rate': 0.02}. Best is trial 10 with value: 0.09505556443306351.\u001b[0m\n"
          ]
        },
        {
          "output_type": "stream",
          "name": "stdout",
          "text": [
            "Did not meet early stopping. Best iteration is:\n",
            "[200]\tvalid_0's binary_logloss: 0.262143\tvalid_0's binary_logloss: 0.262143\n"
          ]
        },
        {
          "output_type": "stream",
          "name": "stderr",
          "text": [
            "\u001b[32m[I 2022-04-23 20:49:42,008]\u001b[0m Trial 16 pruned. Trial was pruned at iteration 1.\u001b[0m\n"
          ]
        },
        {
          "output_type": "stream",
          "name": "stdout",
          "text": [
            "Training until validation scores don't improve for 100 rounds.\n",
            "Training until validation scores don't improve for 100 rounds.\n"
          ]
        },
        {
          "output_type": "stream",
          "name": "stderr",
          "text": [
            "\u001b[32m[I 2022-04-23 20:49:47,756]\u001b[0m Trial 17 pruned. Trial was pruned at iteration 359.\u001b[0m\n",
            "\u001b[32m[I 2022-04-23 20:49:48,001]\u001b[0m Trial 18 pruned. Trial was pruned at iteration 0.\u001b[0m\n",
            "\u001b[32m[I 2022-04-23 20:49:48,236]\u001b[0m Trial 19 pruned. Trial was pruned at iteration 0.\u001b[0m\n"
          ]
        },
        {
          "output_type": "stream",
          "name": "stdout",
          "text": [
            "Training until validation scores don't improve for 100 rounds.\n",
            "Did not meet early stopping. Best iteration is:\n",
            "[900]\tvalid_0's binary_logloss: 0.217392\tvalid_0's binary_logloss: 0.217392\n",
            "Training until validation scores don't improve for 100 rounds.\n",
            "Did not meet early stopping. Best iteration is:\n",
            "[899]\tvalid_0's binary_logloss: 0.226773\tvalid_0's binary_logloss: 0.226773\n",
            "Training until validation scores don't improve for 100 rounds.\n",
            "Did not meet early stopping. Best iteration is:\n",
            "[900]\tvalid_0's binary_logloss: 0.217827\tvalid_0's binary_logloss: 0.217827\n",
            "Training until validation scores don't improve for 100 rounds.\n",
            "Did not meet early stopping. Best iteration is:\n",
            "[897]\tvalid_0's binary_logloss: 0.219842\tvalid_0's binary_logloss: 0.219842\n",
            "Training until validation scores don't improve for 100 rounds.\n",
            "Did not meet early stopping. Best iteration is:\n",
            "[897]\tvalid_0's binary_logloss: 0.2182\tvalid_0's binary_logloss: 0.2182\n"
          ]
        },
        {
          "output_type": "stream",
          "name": "stderr",
          "text": [
            "\u001b[32m[I 2022-04-23 20:50:51,147]\u001b[0m Trial 20 finished with value: 0.09653984708436991 and parameters: {'n_estimators': 900, 'learning_rate': 0.02}. Best is trial 10 with value: 0.09505556443306351.\u001b[0m\n",
            "\u001b[32m[I 2022-04-23 20:50:51,409]\u001b[0m Trial 21 pruned. Trial was pruned at iteration 0.\u001b[0m\n"
          ]
        },
        {
          "output_type": "stream",
          "name": "stdout",
          "text": [
            "Training until validation scores don't improve for 100 rounds.\n"
          ]
        },
        {
          "output_type": "stream",
          "name": "stderr",
          "text": [
            "\u001b[32m[I 2022-04-23 20:50:57,960]\u001b[0m Trial 22 pruned. Trial was pruned at iteration 416.\u001b[0m\n"
          ]
        },
        {
          "output_type": "stream",
          "name": "stdout",
          "text": [
            "Training until validation scores don't improve for 100 rounds.\n"
          ]
        },
        {
          "output_type": "stream",
          "name": "stderr",
          "text": [
            "\u001b[32m[I 2022-04-23 20:51:01,302]\u001b[0m Trial 23 pruned. Trial was pruned at iteration 200.\u001b[0m\n",
            "\u001b[32m[I 2022-04-23 20:51:01,555]\u001b[0m Trial 24 pruned. Trial was pruned at iteration 0.\u001b[0m\n",
            "\u001b[32m[I 2022-04-23 20:51:01,952]\u001b[0m Trial 25 pruned. Trial was pruned at iteration 9.\u001b[0m\n"
          ]
        },
        {
          "output_type": "stream",
          "name": "stdout",
          "text": [
            "Training until validation scores don't improve for 100 rounds.\n"
          ]
        },
        {
          "output_type": "stream",
          "name": "stderr",
          "text": [
            "\u001b[32m[I 2022-04-23 20:51:02,202]\u001b[0m Trial 26 pruned. Trial was pruned at iteration 0.\u001b[0m\n",
            "\u001b[32m[I 2022-04-23 20:51:02,447]\u001b[0m Trial 27 pruned. Trial was pruned at iteration 0.\u001b[0m\n",
            "\u001b[32m[I 2022-04-23 20:51:02,685]\u001b[0m Trial 28 pruned. Trial was pruned at iteration 0.\u001b[0m\n",
            "\u001b[32m[I 2022-04-23 20:51:02,919]\u001b[0m Trial 29 pruned. Trial was pruned at iteration 0.\u001b[0m\n"
          ]
        },
        {
          "output_type": "stream",
          "name": "stdout",
          "text": [
            "Training until validation scores don't improve for 100 rounds.\n"
          ]
        },
        {
          "output_type": "stream",
          "name": "stderr",
          "text": [
            "\u001b[32m[I 2022-04-23 20:51:05,227]\u001b[0m Trial 30 pruned. Trial was pruned at iteration 134.\u001b[0m\n",
            "\u001b[32m[I 2022-04-23 20:51:05,480]\u001b[0m Trial 31 pruned. Trial was pruned at iteration 0.\u001b[0m\n"
          ]
        },
        {
          "output_type": "stream",
          "name": "stdout",
          "text": [
            "Training until validation scores don't improve for 100 rounds.\n"
          ]
        },
        {
          "output_type": "stream",
          "name": "stderr",
          "text": [
            "\u001b[32m[I 2022-04-23 20:51:07,393]\u001b[0m Trial 32 pruned. Trial was pruned at iteration 104.\u001b[0m\n"
          ]
        },
        {
          "output_type": "stream",
          "name": "stdout",
          "text": [
            "Training until validation scores don't improve for 100 rounds.\n"
          ]
        },
        {
          "output_type": "stream",
          "name": "stderr",
          "text": [
            "\u001b[32m[I 2022-04-23 20:51:15,078]\u001b[0m Trial 33 pruned. Trial was pruned at iteration 508.\u001b[0m\n"
          ]
        },
        {
          "output_type": "stream",
          "name": "stdout",
          "text": [
            "Training until validation scores don't improve for 100 rounds.\n"
          ]
        },
        {
          "output_type": "stream",
          "name": "stderr",
          "text": [
            "\u001b[32m[I 2022-04-23 20:51:18,445]\u001b[0m Trial 34 pruned. Trial was pruned at iteration 198.\u001b[0m\n",
            "\u001b[32m[I 2022-04-23 20:51:18,683]\u001b[0m Trial 35 pruned. Trial was pruned at iteration 0.\u001b[0m\n",
            "\u001b[32m[I 2022-04-23 20:51:18,930]\u001b[0m Trial 36 pruned. Trial was pruned at iteration 0.\u001b[0m\n",
            "\u001b[32m[I 2022-04-23 20:51:19,178]\u001b[0m Trial 37 pruned. Trial was pruned at iteration 0.\u001b[0m\n",
            "\u001b[32m[I 2022-04-23 20:51:19,436]\u001b[0m Trial 38 pruned. Trial was pruned at iteration 0.\u001b[0m\n"
          ]
        },
        {
          "output_type": "stream",
          "name": "stdout",
          "text": [
            "Training until validation scores don't improve for 100 rounds.\n"
          ]
        },
        {
          "output_type": "stream",
          "name": "stderr",
          "text": [
            "\u001b[32m[I 2022-04-23 20:51:20,603]\u001b[0m Trial 39 pruned. Trial was pruned at iteration 57.\u001b[0m\n",
            "\u001b[32m[I 2022-04-23 20:51:20,858]\u001b[0m Trial 40 pruned. Trial was pruned at iteration 0.\u001b[0m\n",
            "\u001b[32m[I 2022-04-23 20:51:21,106]\u001b[0m Trial 41 pruned. Trial was pruned at iteration 0.\u001b[0m\n"
          ]
        },
        {
          "output_type": "stream",
          "name": "stdout",
          "text": [
            "Training until validation scores don't improve for 100 rounds.\n",
            "Did not meet early stopping. Best iteration is:\n",
            "[899]\tvalid_0's binary_logloss: 0.214057\tvalid_0's binary_logloss: 0.214057\n",
            "Training until validation scores don't improve for 100 rounds.\n",
            "Did not meet early stopping. Best iteration is:\n",
            "[897]\tvalid_0's binary_logloss: 0.218937\tvalid_0's binary_logloss: 0.218937\n",
            "Training until validation scores don't improve for 100 rounds.\n",
            "Did not meet early stopping. Best iteration is:\n",
            "[899]\tvalid_0's binary_logloss: 0.21688\tvalid_0's binary_logloss: 0.21688\n",
            "Training until validation scores don't improve for 100 rounds.\n",
            "Did not meet early stopping. Best iteration is:\n",
            "[900]\tvalid_0's binary_logloss: 0.222918\tvalid_0's binary_logloss: 0.222918\n",
            "Training until validation scores don't improve for 100 rounds.\n",
            "Did not meet early stopping. Best iteration is:\n",
            "[900]\tvalid_0's binary_logloss: 0.226597\tvalid_0's binary_logloss: 0.226597\n"
          ]
        },
        {
          "output_type": "stream",
          "name": "stderr",
          "text": [
            "\u001b[32m[I 2022-04-23 20:52:24,030]\u001b[0m Trial 42 finished with value: 0.09555038428771012 and parameters: {'n_estimators': 900, 'learning_rate': 0.02}. Best is trial 10 with value: 0.09505556443306351.\u001b[0m\n",
            "\u001b[32m[I 2022-04-23 20:52:24,371]\u001b[0m Trial 43 pruned. Trial was pruned at iteration 5.\u001b[0m\n"
          ]
        },
        {
          "output_type": "stream",
          "name": "stdout",
          "text": [
            "Training until validation scores don't improve for 100 rounds.\n"
          ]
        },
        {
          "output_type": "stream",
          "name": "stderr",
          "text": [
            "\u001b[32m[I 2022-04-23 20:52:24,626]\u001b[0m Trial 44 pruned. Trial was pruned at iteration 0.\u001b[0m\n"
          ]
        },
        {
          "output_type": "stream",
          "name": "stdout",
          "text": [
            "Training until validation scores don't improve for 100 rounds.\n"
          ]
        },
        {
          "output_type": "stream",
          "name": "stderr",
          "text": [
            "\u001b[32m[I 2022-04-23 20:52:29,384]\u001b[0m Trial 45 pruned. Trial was pruned at iteration 285.\u001b[0m\n",
            "\u001b[32m[I 2022-04-23 20:52:29,641]\u001b[0m Trial 46 pruned. Trial was pruned at iteration 0.\u001b[0m\n",
            "\u001b[32m[I 2022-04-23 20:52:29,896]\u001b[0m Trial 47 pruned. Trial was pruned at iteration 0.\u001b[0m\n",
            "\u001b[32m[I 2022-04-23 20:52:30,152]\u001b[0m Trial 48 pruned. Trial was pruned at iteration 0.\u001b[0m\n",
            "\u001b[32m[I 2022-04-23 20:52:30,407]\u001b[0m Trial 49 pruned. Trial was pruned at iteration 0.\u001b[0m\n"
          ]
        }
      ],
      "source": [
        "study = optuna.create_study(direction=\"minimize\", study_name=\"LGBM Classifier\")\n",
        "\n",
        "\n",
        "def func(trial):\n",
        "    return objective(trial, X_train, y_train)\n",
        "\n",
        "\n",
        "study.optimize(func, n_trials=50);"
      ]
    },
    {
      "cell_type": "code",
      "execution_count": 69,
      "id": "9dcaabaf-8d38-4962-bb41-832d0b19d802",
      "metadata": {
        "colab": {
          "base_uri": "https://localhost:8080/"
        },
        "id": "9dcaabaf-8d38-4962-bb41-832d0b19d802",
        "outputId": "b8cd9bbc-377b-41c2-83ee-e61ce0a8d33b"
      },
      "outputs": [
        {
          "output_type": "stream",
          "name": "stdout",
          "text": [
            "\tBest value: 0.09506\n",
            "\tBest params:\n",
            "\t\tn_estimators: 900\n",
            "\t\tlearning_rate: 0.02\n"
          ]
        }
      ],
      "source": [
        "print(f\"\\tBest value: {study.best_value:.5f}\")\n",
        "print(f\"\\tBest params:\")\n",
        "\n",
        "for key, value in study.best_params.items():\n",
        "    print(f\"\\t\\t{key}: {value}\")"
      ]
    },
    {
      "cell_type": "code",
      "execution_count": 70,
      "id": "819c3e1c-04e8-4b72-9d7e-5fad8098a483",
      "metadata": {
        "colab": {
          "base_uri": "https://localhost:8080/"
        },
        "id": "819c3e1c-04e8-4b72-9d7e-5fad8098a483",
        "outputId": "c1e8efe1-09ab-4c13-f9ed-d4625d9d79ff"
      },
      "outputs": [
        {
          "output_type": "execute_result",
          "data": {
            "text/plain": [
              "LGBMClassifier(learning_rate=0.02, n_estimators=900, objective='binary')"
            ]
          },
          "metadata": {},
          "execution_count": 70
        }
      ],
      "source": [
        "model = lightgbm.LGBMClassifier(objective=\"binary\", **study.best_params)\n",
        "model.fit(X_train, y_train)"
      ]
    },
    {
      "cell_type": "code",
      "execution_count": 71,
      "id": "9dbaf442-1e9e-478e-a51d-84b5f3def292",
      "metadata": {
        "colab": {
          "base_uri": "https://localhost:8080/"
        },
        "id": "9dbaf442-1e9e-478e-a51d-84b5f3def292",
        "outputId": "1ffbd386-7e3e-4bb9-8109-3537c1f1c15e"
      },
      "outputs": [
        {
          "output_type": "stream",
          "name": "stdout",
          "text": [
            "Training Accuracy: 0.92\n",
            "Test Accuracy: 0.91\n"
          ]
        }
      ],
      "source": [
        "print(f\"Training Accuracy: {model.score(X_train, y_train):0.2f}\")\n",
        "print(f\"Test Accuracy: {model.score(X_test, y_test):0.2f}\")"
      ]
    },
    {
      "cell_type": "code",
      "execution_count": 72,
      "id": "a2e35022-0ba7-4e46-8f2d-528cfd750ab5",
      "metadata": {
        "colab": {
          "base_uri": "https://localhost:8080/",
          "height": 542
        },
        "id": "a2e35022-0ba7-4e46-8f2d-528cfd750ab5",
        "outputId": "84df0f29-c740-44cc-9374-b9dfdd393daa"
      },
      "outputs": [
        {
          "output_type": "display_data",
          "data": {
            "text/html": [
              "<html>\n",
              "<head><meta charset=\"utf-8\" /></head>\n",
              "<body>\n",
              "    <div>            <script src=\"https://cdnjs.cloudflare.com/ajax/libs/mathjax/2.7.5/MathJax.js?config=TeX-AMS-MML_SVG\"></script><script type=\"text/javascript\">if (window.MathJax) {MathJax.Hub.Config({SVG: {font: \"STIX-Web\"}});}</script>                <script type=\"text/javascript\">window.PlotlyConfig = {MathJaxConfig: 'local'};</script>\n",
              "        <script src=\"https://cdn.plot.ly/plotly-2.8.3.min.js\"></script>                <div id=\"866291c1-aa8d-401a-a141-0a7b29dfb3ad\" class=\"plotly-graph-div\" style=\"height:525px; width:100%;\"></div>            <script type=\"text/javascript\">                                    window.PLOTLYENV=window.PLOTLYENV || {};                                    if (document.getElementById(\"866291c1-aa8d-401a-a141-0a7b29dfb3ad\")) {                    Plotly.newPlot(                        \"866291c1-aa8d-401a-a141-0a7b29dfb3ad\",                        [{\"mode\":\"markers\",\"name\":\"Objective Value\",\"x\":[0,1,2,3,4,5,6,8,10,14,15,20,42],\"y\":[0.10127086863816204,0.09527216287361195,0.11159910946961682,0.10046691547276931,0.09991036745327764,0.11125879172113895,0.09576664324725903,0.0965706729154121,0.09505556443306351,0.09610699924711719,0.11162990661212402,0.09653984708436991,0.09555038428771012],\"type\":\"scatter\"},{\"name\":\"Best Value\",\"x\":[0,1,2,3,4,5,6,8,10,14,15,20,42],\"y\":[0.10127086863816204,0.09527216287361195,0.09527216287361195,0.09527216287361195,0.09527216287361195,0.09527216287361195,0.09527216287361195,0.09527216287361195,0.09505556443306351,0.09505556443306351,0.09505556443306351,0.09505556443306351,0.09505556443306351],\"type\":\"scatter\"}],                        {\"title\":{\"text\":\"Optimization History Plot\"},\"xaxis\":{\"title\":{\"text\":\"#Trials\"}},\"yaxis\":{\"title\":{\"text\":\"Objective Value\"}},\"template\":{\"data\":{\"bar\":[{\"error_x\":{\"color\":\"#2a3f5f\"},\"error_y\":{\"color\":\"#2a3f5f\"},\"marker\":{\"line\":{\"color\":\"#E5ECF6\",\"width\":0.5},\"pattern\":{\"fillmode\":\"overlay\",\"size\":10,\"solidity\":0.2}},\"type\":\"bar\"}],\"barpolar\":[{\"marker\":{\"line\":{\"color\":\"#E5ECF6\",\"width\":0.5},\"pattern\":{\"fillmode\":\"overlay\",\"size\":10,\"solidity\":0.2}},\"type\":\"barpolar\"}],\"carpet\":[{\"aaxis\":{\"endlinecolor\":\"#2a3f5f\",\"gridcolor\":\"white\",\"linecolor\":\"white\",\"minorgridcolor\":\"white\",\"startlinecolor\":\"#2a3f5f\"},\"baxis\":{\"endlinecolor\":\"#2a3f5f\",\"gridcolor\":\"white\",\"linecolor\":\"white\",\"minorgridcolor\":\"white\",\"startlinecolor\":\"#2a3f5f\"},\"type\":\"carpet\"}],\"choropleth\":[{\"colorbar\":{\"outlinewidth\":0,\"ticks\":\"\"},\"type\":\"choropleth\"}],\"contour\":[{\"colorbar\":{\"outlinewidth\":0,\"ticks\":\"\"},\"colorscale\":[[0.0,\"#0d0887\"],[0.1111111111111111,\"#46039f\"],[0.2222222222222222,\"#7201a8\"],[0.3333333333333333,\"#9c179e\"],[0.4444444444444444,\"#bd3786\"],[0.5555555555555556,\"#d8576b\"],[0.6666666666666666,\"#ed7953\"],[0.7777777777777778,\"#fb9f3a\"],[0.8888888888888888,\"#fdca26\"],[1.0,\"#f0f921\"]],\"type\":\"contour\"}],\"contourcarpet\":[{\"colorbar\":{\"outlinewidth\":0,\"ticks\":\"\"},\"type\":\"contourcarpet\"}],\"heatmap\":[{\"colorbar\":{\"outlinewidth\":0,\"ticks\":\"\"},\"colorscale\":[[0.0,\"#0d0887\"],[0.1111111111111111,\"#46039f\"],[0.2222222222222222,\"#7201a8\"],[0.3333333333333333,\"#9c179e\"],[0.4444444444444444,\"#bd3786\"],[0.5555555555555556,\"#d8576b\"],[0.6666666666666666,\"#ed7953\"],[0.7777777777777778,\"#fb9f3a\"],[0.8888888888888888,\"#fdca26\"],[1.0,\"#f0f921\"]],\"type\":\"heatmap\"}],\"heatmapgl\":[{\"colorbar\":{\"outlinewidth\":0,\"ticks\":\"\"},\"colorscale\":[[0.0,\"#0d0887\"],[0.1111111111111111,\"#46039f\"],[0.2222222222222222,\"#7201a8\"],[0.3333333333333333,\"#9c179e\"],[0.4444444444444444,\"#bd3786\"],[0.5555555555555556,\"#d8576b\"],[0.6666666666666666,\"#ed7953\"],[0.7777777777777778,\"#fb9f3a\"],[0.8888888888888888,\"#fdca26\"],[1.0,\"#f0f921\"]],\"type\":\"heatmapgl\"}],\"histogram\":[{\"marker\":{\"pattern\":{\"fillmode\":\"overlay\",\"size\":10,\"solidity\":0.2}},\"type\":\"histogram\"}],\"histogram2d\":[{\"colorbar\":{\"outlinewidth\":0,\"ticks\":\"\"},\"colorscale\":[[0.0,\"#0d0887\"],[0.1111111111111111,\"#46039f\"],[0.2222222222222222,\"#7201a8\"],[0.3333333333333333,\"#9c179e\"],[0.4444444444444444,\"#bd3786\"],[0.5555555555555556,\"#d8576b\"],[0.6666666666666666,\"#ed7953\"],[0.7777777777777778,\"#fb9f3a\"],[0.8888888888888888,\"#fdca26\"],[1.0,\"#f0f921\"]],\"type\":\"histogram2d\"}],\"histogram2dcontour\":[{\"colorbar\":{\"outlinewidth\":0,\"ticks\":\"\"},\"colorscale\":[[0.0,\"#0d0887\"],[0.1111111111111111,\"#46039f\"],[0.2222222222222222,\"#7201a8\"],[0.3333333333333333,\"#9c179e\"],[0.4444444444444444,\"#bd3786\"],[0.5555555555555556,\"#d8576b\"],[0.6666666666666666,\"#ed7953\"],[0.7777777777777778,\"#fb9f3a\"],[0.8888888888888888,\"#fdca26\"],[1.0,\"#f0f921\"]],\"type\":\"histogram2dcontour\"}],\"mesh3d\":[{\"colorbar\":{\"outlinewidth\":0,\"ticks\":\"\"},\"type\":\"mesh3d\"}],\"parcoords\":[{\"line\":{\"colorbar\":{\"outlinewidth\":0,\"ticks\":\"\"}},\"type\":\"parcoords\"}],\"pie\":[{\"automargin\":true,\"type\":\"pie\"}],\"scatter\":[{\"marker\":{\"colorbar\":{\"outlinewidth\":0,\"ticks\":\"\"}},\"type\":\"scatter\"}],\"scatter3d\":[{\"line\":{\"colorbar\":{\"outlinewidth\":0,\"ticks\":\"\"}},\"marker\":{\"colorbar\":{\"outlinewidth\":0,\"ticks\":\"\"}},\"type\":\"scatter3d\"}],\"scattercarpet\":[{\"marker\":{\"colorbar\":{\"outlinewidth\":0,\"ticks\":\"\"}},\"type\":\"scattercarpet\"}],\"scattergeo\":[{\"marker\":{\"colorbar\":{\"outlinewidth\":0,\"ticks\":\"\"}},\"type\":\"scattergeo\"}],\"scattergl\":[{\"marker\":{\"colorbar\":{\"outlinewidth\":0,\"ticks\":\"\"}},\"type\":\"scattergl\"}],\"scattermapbox\":[{\"marker\":{\"colorbar\":{\"outlinewidth\":0,\"ticks\":\"\"}},\"type\":\"scattermapbox\"}],\"scatterpolar\":[{\"marker\":{\"colorbar\":{\"outlinewidth\":0,\"ticks\":\"\"}},\"type\":\"scatterpolar\"}],\"scatterpolargl\":[{\"marker\":{\"colorbar\":{\"outlinewidth\":0,\"ticks\":\"\"}},\"type\":\"scatterpolargl\"}],\"scatterternary\":[{\"marker\":{\"colorbar\":{\"outlinewidth\":0,\"ticks\":\"\"}},\"type\":\"scatterternary\"}],\"surface\":[{\"colorbar\":{\"outlinewidth\":0,\"ticks\":\"\"},\"colorscale\":[[0.0,\"#0d0887\"],[0.1111111111111111,\"#46039f\"],[0.2222222222222222,\"#7201a8\"],[0.3333333333333333,\"#9c179e\"],[0.4444444444444444,\"#bd3786\"],[0.5555555555555556,\"#d8576b\"],[0.6666666666666666,\"#ed7953\"],[0.7777777777777778,\"#fb9f3a\"],[0.8888888888888888,\"#fdca26\"],[1.0,\"#f0f921\"]],\"type\":\"surface\"}],\"table\":[{\"cells\":{\"fill\":{\"color\":\"#EBF0F8\"},\"line\":{\"color\":\"white\"}},\"header\":{\"fill\":{\"color\":\"#C8D4E3\"},\"line\":{\"color\":\"white\"}},\"type\":\"table\"}]},\"layout\":{\"annotationdefaults\":{\"arrowcolor\":\"#2a3f5f\",\"arrowhead\":0,\"arrowwidth\":1},\"autotypenumbers\":\"strict\",\"coloraxis\":{\"colorbar\":{\"outlinewidth\":0,\"ticks\":\"\"}},\"colorscale\":{\"diverging\":[[0,\"#8e0152\"],[0.1,\"#c51b7d\"],[0.2,\"#de77ae\"],[0.3,\"#f1b6da\"],[0.4,\"#fde0ef\"],[0.5,\"#f7f7f7\"],[0.6,\"#e6f5d0\"],[0.7,\"#b8e186\"],[0.8,\"#7fbc41\"],[0.9,\"#4d9221\"],[1,\"#276419\"]],\"sequential\":[[0.0,\"#0d0887\"],[0.1111111111111111,\"#46039f\"],[0.2222222222222222,\"#7201a8\"],[0.3333333333333333,\"#9c179e\"],[0.4444444444444444,\"#bd3786\"],[0.5555555555555556,\"#d8576b\"],[0.6666666666666666,\"#ed7953\"],[0.7777777777777778,\"#fb9f3a\"],[0.8888888888888888,\"#fdca26\"],[1.0,\"#f0f921\"]],\"sequentialminus\":[[0.0,\"#0d0887\"],[0.1111111111111111,\"#46039f\"],[0.2222222222222222,\"#7201a8\"],[0.3333333333333333,\"#9c179e\"],[0.4444444444444444,\"#bd3786\"],[0.5555555555555556,\"#d8576b\"],[0.6666666666666666,\"#ed7953\"],[0.7777777777777778,\"#fb9f3a\"],[0.8888888888888888,\"#fdca26\"],[1.0,\"#f0f921\"]]},\"colorway\":[\"#636efa\",\"#EF553B\",\"#00cc96\",\"#ab63fa\",\"#FFA15A\",\"#19d3f3\",\"#FF6692\",\"#B6E880\",\"#FF97FF\",\"#FECB52\"],\"font\":{\"color\":\"#2a3f5f\"},\"geo\":{\"bgcolor\":\"white\",\"lakecolor\":\"white\",\"landcolor\":\"#E5ECF6\",\"showlakes\":true,\"showland\":true,\"subunitcolor\":\"white\"},\"hoverlabel\":{\"align\":\"left\"},\"hovermode\":\"closest\",\"mapbox\":{\"style\":\"light\"},\"paper_bgcolor\":\"white\",\"plot_bgcolor\":\"#E5ECF6\",\"polar\":{\"angularaxis\":{\"gridcolor\":\"white\",\"linecolor\":\"white\",\"ticks\":\"\"},\"bgcolor\":\"#E5ECF6\",\"radialaxis\":{\"gridcolor\":\"white\",\"linecolor\":\"white\",\"ticks\":\"\"}},\"scene\":{\"xaxis\":{\"backgroundcolor\":\"#E5ECF6\",\"gridcolor\":\"white\",\"gridwidth\":2,\"linecolor\":\"white\",\"showbackground\":true,\"ticks\":\"\",\"zerolinecolor\":\"white\"},\"yaxis\":{\"backgroundcolor\":\"#E5ECF6\",\"gridcolor\":\"white\",\"gridwidth\":2,\"linecolor\":\"white\",\"showbackground\":true,\"ticks\":\"\",\"zerolinecolor\":\"white\"},\"zaxis\":{\"backgroundcolor\":\"#E5ECF6\",\"gridcolor\":\"white\",\"gridwidth\":2,\"linecolor\":\"white\",\"showbackground\":true,\"ticks\":\"\",\"zerolinecolor\":\"white\"}},\"shapedefaults\":{\"line\":{\"color\":\"#2a3f5f\"}},\"ternary\":{\"aaxis\":{\"gridcolor\":\"white\",\"linecolor\":\"white\",\"ticks\":\"\"},\"baxis\":{\"gridcolor\":\"white\",\"linecolor\":\"white\",\"ticks\":\"\"},\"bgcolor\":\"#E5ECF6\",\"caxis\":{\"gridcolor\":\"white\",\"linecolor\":\"white\",\"ticks\":\"\"}},\"title\":{\"x\":0.05},\"xaxis\":{\"automargin\":true,\"gridcolor\":\"white\",\"linecolor\":\"white\",\"ticks\":\"\",\"title\":{\"standoff\":15},\"zerolinecolor\":\"white\",\"zerolinewidth\":2},\"yaxis\":{\"automargin\":true,\"gridcolor\":\"white\",\"linecolor\":\"white\",\"ticks\":\"\",\"title\":{\"standoff\":15},\"zerolinecolor\":\"white\",\"zerolinewidth\":2}}}},                        {\"responsive\": true}                    ).then(function(){\n",
              "                            \n",
              "var gd = document.getElementById('866291c1-aa8d-401a-a141-0a7b29dfb3ad');\n",
              "var x = new MutationObserver(function (mutations, observer) {{\n",
              "        var display = window.getComputedStyle(gd).display;\n",
              "        if (!display || display === 'none') {{\n",
              "            console.log([gd, 'removed!']);\n",
              "            Plotly.purge(gd);\n",
              "            observer.disconnect();\n",
              "        }}\n",
              "}});\n",
              "\n",
              "// Listen for the removal of the full notebook cells\n",
              "var notebookContainer = gd.closest('#notebook-container');\n",
              "if (notebookContainer) {{\n",
              "    x.observe(notebookContainer, {childList: true});\n",
              "}}\n",
              "\n",
              "// Listen for the clearing of the current output cell\n",
              "var outputEl = gd.closest('.output');\n",
              "if (outputEl) {{\n",
              "    x.observe(outputEl, {childList: true});\n",
              "}}\n",
              "\n",
              "                        })                };                            </script>        </div>\n",
              "</body>\n",
              "</html>"
            ]
          },
          "metadata": {}
        }
      ],
      "source": [
        "optuna.visualization.plot_optimization_history(study)"
      ]
    },
    {
      "cell_type": "markdown",
      "id": "3d9cfba0-af22-45eb-9ad5-d8f97c96f34c",
      "metadata": {
        "id": "3d9cfba0-af22-45eb-9ad5-d8f97c96f34c"
      },
      "source": [
        "# XGBoost classifer"
      ]
    },
    {
      "cell_type": "code",
      "execution_count": 73,
      "id": "abddcbac-6702-4c18-8105-b1dffc5e1f3a",
      "metadata": {
        "id": "abddcbac-6702-4c18-8105-b1dffc5e1f3a"
      },
      "outputs": [],
      "source": [
        "def optimization_objective(trial, X_train, y_train, cv=5):\n",
        "\n",
        "    params = {\n",
        "        \"n_estimators\": trial.suggest_categorical(\"n_estimators\", [200, 900]),\n",
        "        \"learning_rate\": trial.suggest_categorical(\"learning_rate\", [0.01, 0.02]),\n",
        "        \"lambda\": trial.suggest_loguniform(\"lambda\", 1e-8, 1.0),\n",
        "        \"alpha\": trial.suggest_loguniform(\"alpha\", 1e-8, 1.0),\n",
        "    }\n",
        "\n",
        "    cv_iterator = StratifiedKFold(n_splits=cv, shuffle=True, random_state=seed)\n",
        "\n",
        "    cv_scores = np.zeros(cv)\n",
        "    for idx, (train_sub_idx, valid_idx) in enumerate(\n",
        "        cv_iterator.split(X_train, y_train)\n",
        "    ):\n",
        "\n",
        "        X_train_sub, X_valid = X_train[train_sub_idx], X_train[valid_idx]\n",
        "        y_train_sub, y_valid = y_train[train_sub_idx], y_train[valid_idx]\n",
        "\n",
        "        model = XGBClassifier(**params, random_state=42, use_label_encoder=False)\n",
        "\n",
        "        model.fit(\n",
        "            X_train_sub,\n",
        "            y_train_sub,\n",
        "            verbose=False,\n",
        "            eval_set=[(X_valid, y_valid)],\n",
        "            eval_metric=\"auc\",\n",
        "            early_stopping_rounds=100,\n",
        "        )\n",
        "\n",
        "        preds = model.score(X_valid, y_valid)\n",
        "\n",
        "        cv_scores[idx] = preds\n",
        "\n",
        "    return np.mean(cv_scores)"
      ]
    },
    {
      "cell_type": "code",
      "execution_count": 74,
      "id": "9072f766-d2f7-4648-bf5e-42a347aed3c9",
      "metadata": {
        "colab": {
          "base_uri": "https://localhost:8080/"
        },
        "id": "9072f766-d2f7-4648-bf5e-42a347aed3c9",
        "outputId": "0355403d-b855-4dc3-8da8-8b6a09b64af1"
      },
      "outputs": [
        {
          "output_type": "stream",
          "name": "stderr",
          "text": [
            "\u001b[32m[I 2022-04-23 20:52:56,888]\u001b[0m A new study created in memory with name: XGBoost Classifier\u001b[0m\n",
            "\u001b[32m[I 2022-04-23 20:56:23,071]\u001b[0m Trial 0 finished with value: 0.8714553426133094 and parameters: {'n_estimators': 900, 'learning_rate': 0.01, 'lambda': 0.7997882814199415, 'alpha': 1.4444327792633732e-07}. Best is trial 0 with value: 0.8714553426133094.\u001b[0m\n",
            "\u001b[32m[I 2022-04-23 20:57:06,872]\u001b[0m Trial 1 finished with value: 0.8182381672463185 and parameters: {'n_estimators': 200, 'learning_rate': 0.01, 'lambda': 1.4987398576615973e-08, 'alpha': 2.6739810918500203e-06}. Best is trial 0 with value: 0.8714553426133094.\u001b[0m\n",
            "\u001b[32m[I 2022-04-23 21:00:19,134]\u001b[0m Trial 2 finished with value: 0.8828968038007335 and parameters: {'n_estimators': 900, 'learning_rate': 0.02, 'lambda': 3.4291903686211183e-05, 'alpha': 0.002241310165816421}. Best is trial 2 with value: 0.8828968038007335.\u001b[0m\n",
            "\u001b[32m[I 2022-04-23 21:03:26,654]\u001b[0m Trial 3 finished with value: 0.8826495851303114 and parameters: {'n_estimators': 900, 'learning_rate': 0.02, 'lambda': 0.25808088095738724, 'alpha': 0.04666315568720214}. Best is trial 2 with value: 0.8828968038007335.\u001b[0m\n",
            "\u001b[32m[I 2022-04-23 21:04:08,525]\u001b[0m Trial 4 finished with value: 0.8525000863046767 and parameters: {'n_estimators': 200, 'learning_rate': 0.02, 'lambda': 3.22592324882295e-05, 'alpha': 1.166273591011578e-06}. Best is trial 2 with value: 0.8828968038007335.\u001b[0m\n",
            "\u001b[32m[I 2022-04-23 21:04:50,355]\u001b[0m Trial 5 finished with value: 0.8191036573196551 and parameters: {'n_estimators': 200, 'learning_rate': 0.01, 'lambda': 6.571979743442836e-06, 'alpha': 0.003819625068271906}. Best is trial 2 with value: 0.8828968038007335.\u001b[0m\n",
            "\u001b[32m[I 2022-04-23 21:07:55,763]\u001b[0m Trial 6 finished with value: 0.882092903230989 and parameters: {'n_estimators': 900, 'learning_rate': 0.02, 'lambda': 7.151625953797744e-08, 'alpha': 1.3672834761112807e-06}. Best is trial 2 with value: 0.8828968038007335.\u001b[0m\n",
            "\u001b[32m[I 2022-04-23 21:10:59,679]\u001b[0m Trial 7 finished with value: 0.8721974193897586 and parameters: {'n_estimators': 900, 'learning_rate': 0.01, 'lambda': 0.05247235653195503, 'alpha': 6.231962345185974e-05}. Best is trial 2 with value: 0.8828968038007335.\u001b[0m\n",
            "\u001b[32m[I 2022-04-23 21:14:03,043]\u001b[0m Trial 8 finished with value: 0.8822784128622561 and parameters: {'n_estimators': 900, 'learning_rate': 0.02, 'lambda': 0.01652252598791442, 'alpha': 7.430441600999238e-05}. Best is trial 2 with value: 0.8828968038007335.\u001b[0m\n",
            "\u001b[32m[I 2022-04-23 21:17:06,026]\u001b[0m Trial 9 finished with value: 0.8825877230856355 and parameters: {'n_estimators': 900, 'learning_rate': 0.02, 'lambda': 0.004294794991050471, 'alpha': 1.4199003908380175e-08}. Best is trial 2 with value: 0.8828968038007335.\u001b[0m\n"
          ]
        }
      ],
      "source": [
        "study = optuna.create_study(direction=\"maximize\", study_name=\"XGBoost Classifier\")\n",
        "\n",
        "\n",
        "def func(trial):\n",
        "    return optimization_objective(trial, X_train, y_train)\n",
        "\n",
        "\n",
        "study.optimize(func, n_trials=10);"
      ]
    },
    {
      "cell_type": "code",
      "execution_count": 75,
      "id": "b209b735-755a-4b24-9f80-a4307756dc8a",
      "metadata": {
        "colab": {
          "base_uri": "https://localhost:8080/"
        },
        "id": "b209b735-755a-4b24-9f80-a4307756dc8a",
        "outputId": "2dfee215-0ae5-4819-d6ed-271d6cb4fe60"
      },
      "outputs": [
        {
          "output_type": "stream",
          "name": "stdout",
          "text": [
            "Best CV accuracy: 0.88290\n",
            "Best params:\n",
            "\tn_estimators: 900\n",
            "\tlearning_rate: 0.02\n",
            "\tlambda: 3.4291903686211183e-05\n",
            "\talpha: 0.002241310165816421\n"
          ]
        }
      ],
      "source": [
        "print(f\"Best CV accuracy: {study.best_value:.5f}\")\n",
        "print(\"Best params:\")\n",
        "\n",
        "for key, value in study.best_params.items():\n",
        "    print(f\"\\t{key}: {value}\")"
      ]
    },
    {
      "cell_type": "code",
      "execution_count": 76,
      "id": "b8b693a3-a4ef-438d-88cc-31767e4e47d2",
      "metadata": {
        "colab": {
          "base_uri": "https://localhost:8080/"
        },
        "id": "b8b693a3-a4ef-438d-88cc-31767e4e47d2",
        "outputId": "d8fe4549-70c3-485a-fdf8-697ceb61a166"
      },
      "outputs": [
        {
          "output_type": "execute_result",
          "data": {
            "text/plain": [
              "XGBClassifier(alpha=0.002241310165816421, lambda=3.4291903686211183e-05,\n",
              "              learning_rate=0.02, n_estimators=900, random_state=42,\n",
              "              use_label_encoder=False)"
            ]
          },
          "metadata": {},
          "execution_count": 76
        }
      ],
      "source": [
        "model = XGBClassifier(**study.best_params, random_state=42, use_label_encoder=False)\n",
        "model.fit(\n",
        "    X_train,\n",
        "    y_train,\n",
        "    verbose=False,\n",
        "    # eval_set=[(X_valid, y_valid)],\n",
        "    eval_metric=\"auc\",\n",
        "    # early_stopping_rounds=100,\n",
        ")"
      ]
    },
    {
      "cell_type": "code",
      "execution_count": 77,
      "id": "af90e8cf-1806-48be-b143-de952f012e58",
      "metadata": {
        "colab": {
          "base_uri": "https://localhost:8080/"
        },
        "id": "af90e8cf-1806-48be-b143-de952f012e58",
        "outputId": "76d2388d-f2ad-4e79-d3b0-509f21d2c02d"
      },
      "outputs": [
        {
          "output_type": "stream",
          "name": "stdout",
          "text": [
            "Training Accuracy: 0.89\n",
            "Test Accuracy: 0.89\n"
          ]
        }
      ],
      "source": [
        "print(f\"Training Accuracy: {model.score(X_train, y_train):0.2f}\")\n",
        "print(f\"Test Accuracy: {model.score(X_test, y_test):0.2f}\")"
      ]
    },
    {
      "cell_type": "code",
      "execution_count": 78,
      "id": "ff063632-7878-4d28-b7d2-8ddeb69e9ca5",
      "metadata": {
        "colab": {
          "base_uri": "https://localhost:8080/",
          "height": 542
        },
        "id": "ff063632-7878-4d28-b7d2-8ddeb69e9ca5",
        "outputId": "c60aca9e-ab72-4273-8c8c-536e931d0f33"
      },
      "outputs": [
        {
          "output_type": "display_data",
          "data": {
            "text/html": [
              "<html>\n",
              "<head><meta charset=\"utf-8\" /></head>\n",
              "<body>\n",
              "    <div>            <script src=\"https://cdnjs.cloudflare.com/ajax/libs/mathjax/2.7.5/MathJax.js?config=TeX-AMS-MML_SVG\"></script><script type=\"text/javascript\">if (window.MathJax) {MathJax.Hub.Config({SVG: {font: \"STIX-Web\"}});}</script>                <script type=\"text/javascript\">window.PlotlyConfig = {MathJaxConfig: 'local'};</script>\n",
              "        <script src=\"https://cdn.plot.ly/plotly-2.8.3.min.js\"></script>                <div id=\"df190eac-2153-48b8-95c4-25403d45d719\" class=\"plotly-graph-div\" style=\"height:525px; width:100%;\"></div>            <script type=\"text/javascript\">                                    window.PLOTLYENV=window.PLOTLYENV || {};                                    if (document.getElementById(\"df190eac-2153-48b8-95c4-25403d45d719\")) {                    Plotly.newPlot(                        \"df190eac-2153-48b8-95c4-25403d45d719\",                        [{\"mode\":\"markers\",\"name\":\"Objective Value\",\"x\":[0,1,2,3,4,5,6,7,8,9],\"y\":[0.8714553426133094,0.8182381672463185,0.8828968038007335,0.8826495851303114,0.8525000863046767,0.8191036573196551,0.882092903230989,0.8721974193897586,0.8822784128622561,0.8825877230856355],\"type\":\"scatter\"},{\"name\":\"Best Value\",\"x\":[0,1,2,3,4,5,6,7,8,9],\"y\":[0.8714553426133094,0.8714553426133094,0.8828968038007335,0.8828968038007335,0.8828968038007335,0.8828968038007335,0.8828968038007335,0.8828968038007335,0.8828968038007335,0.8828968038007335],\"type\":\"scatter\"}],                        {\"title\":{\"text\":\"Optimization History Plot\"},\"xaxis\":{\"title\":{\"text\":\"#Trials\"}},\"yaxis\":{\"title\":{\"text\":\"Objective Value\"}},\"template\":{\"data\":{\"bar\":[{\"error_x\":{\"color\":\"#2a3f5f\"},\"error_y\":{\"color\":\"#2a3f5f\"},\"marker\":{\"line\":{\"color\":\"#E5ECF6\",\"width\":0.5},\"pattern\":{\"fillmode\":\"overlay\",\"size\":10,\"solidity\":0.2}},\"type\":\"bar\"}],\"barpolar\":[{\"marker\":{\"line\":{\"color\":\"#E5ECF6\",\"width\":0.5},\"pattern\":{\"fillmode\":\"overlay\",\"size\":10,\"solidity\":0.2}},\"type\":\"barpolar\"}],\"carpet\":[{\"aaxis\":{\"endlinecolor\":\"#2a3f5f\",\"gridcolor\":\"white\",\"linecolor\":\"white\",\"minorgridcolor\":\"white\",\"startlinecolor\":\"#2a3f5f\"},\"baxis\":{\"endlinecolor\":\"#2a3f5f\",\"gridcolor\":\"white\",\"linecolor\":\"white\",\"minorgridcolor\":\"white\",\"startlinecolor\":\"#2a3f5f\"},\"type\":\"carpet\"}],\"choropleth\":[{\"colorbar\":{\"outlinewidth\":0,\"ticks\":\"\"},\"type\":\"choropleth\"}],\"contour\":[{\"colorbar\":{\"outlinewidth\":0,\"ticks\":\"\"},\"colorscale\":[[0.0,\"#0d0887\"],[0.1111111111111111,\"#46039f\"],[0.2222222222222222,\"#7201a8\"],[0.3333333333333333,\"#9c179e\"],[0.4444444444444444,\"#bd3786\"],[0.5555555555555556,\"#d8576b\"],[0.6666666666666666,\"#ed7953\"],[0.7777777777777778,\"#fb9f3a\"],[0.8888888888888888,\"#fdca26\"],[1.0,\"#f0f921\"]],\"type\":\"contour\"}],\"contourcarpet\":[{\"colorbar\":{\"outlinewidth\":0,\"ticks\":\"\"},\"type\":\"contourcarpet\"}],\"heatmap\":[{\"colorbar\":{\"outlinewidth\":0,\"ticks\":\"\"},\"colorscale\":[[0.0,\"#0d0887\"],[0.1111111111111111,\"#46039f\"],[0.2222222222222222,\"#7201a8\"],[0.3333333333333333,\"#9c179e\"],[0.4444444444444444,\"#bd3786\"],[0.5555555555555556,\"#d8576b\"],[0.6666666666666666,\"#ed7953\"],[0.7777777777777778,\"#fb9f3a\"],[0.8888888888888888,\"#fdca26\"],[1.0,\"#f0f921\"]],\"type\":\"heatmap\"}],\"heatmapgl\":[{\"colorbar\":{\"outlinewidth\":0,\"ticks\":\"\"},\"colorscale\":[[0.0,\"#0d0887\"],[0.1111111111111111,\"#46039f\"],[0.2222222222222222,\"#7201a8\"],[0.3333333333333333,\"#9c179e\"],[0.4444444444444444,\"#bd3786\"],[0.5555555555555556,\"#d8576b\"],[0.6666666666666666,\"#ed7953\"],[0.7777777777777778,\"#fb9f3a\"],[0.8888888888888888,\"#fdca26\"],[1.0,\"#f0f921\"]],\"type\":\"heatmapgl\"}],\"histogram\":[{\"marker\":{\"pattern\":{\"fillmode\":\"overlay\",\"size\":10,\"solidity\":0.2}},\"type\":\"histogram\"}],\"histogram2d\":[{\"colorbar\":{\"outlinewidth\":0,\"ticks\":\"\"},\"colorscale\":[[0.0,\"#0d0887\"],[0.1111111111111111,\"#46039f\"],[0.2222222222222222,\"#7201a8\"],[0.3333333333333333,\"#9c179e\"],[0.4444444444444444,\"#bd3786\"],[0.5555555555555556,\"#d8576b\"],[0.6666666666666666,\"#ed7953\"],[0.7777777777777778,\"#fb9f3a\"],[0.8888888888888888,\"#fdca26\"],[1.0,\"#f0f921\"]],\"type\":\"histogram2d\"}],\"histogram2dcontour\":[{\"colorbar\":{\"outlinewidth\":0,\"ticks\":\"\"},\"colorscale\":[[0.0,\"#0d0887\"],[0.1111111111111111,\"#46039f\"],[0.2222222222222222,\"#7201a8\"],[0.3333333333333333,\"#9c179e\"],[0.4444444444444444,\"#bd3786\"],[0.5555555555555556,\"#d8576b\"],[0.6666666666666666,\"#ed7953\"],[0.7777777777777778,\"#fb9f3a\"],[0.8888888888888888,\"#fdca26\"],[1.0,\"#f0f921\"]],\"type\":\"histogram2dcontour\"}],\"mesh3d\":[{\"colorbar\":{\"outlinewidth\":0,\"ticks\":\"\"},\"type\":\"mesh3d\"}],\"parcoords\":[{\"line\":{\"colorbar\":{\"outlinewidth\":0,\"ticks\":\"\"}},\"type\":\"parcoords\"}],\"pie\":[{\"automargin\":true,\"type\":\"pie\"}],\"scatter\":[{\"marker\":{\"colorbar\":{\"outlinewidth\":0,\"ticks\":\"\"}},\"type\":\"scatter\"}],\"scatter3d\":[{\"line\":{\"colorbar\":{\"outlinewidth\":0,\"ticks\":\"\"}},\"marker\":{\"colorbar\":{\"outlinewidth\":0,\"ticks\":\"\"}},\"type\":\"scatter3d\"}],\"scattercarpet\":[{\"marker\":{\"colorbar\":{\"outlinewidth\":0,\"ticks\":\"\"}},\"type\":\"scattercarpet\"}],\"scattergeo\":[{\"marker\":{\"colorbar\":{\"outlinewidth\":0,\"ticks\":\"\"}},\"type\":\"scattergeo\"}],\"scattergl\":[{\"marker\":{\"colorbar\":{\"outlinewidth\":0,\"ticks\":\"\"}},\"type\":\"scattergl\"}],\"scattermapbox\":[{\"marker\":{\"colorbar\":{\"outlinewidth\":0,\"ticks\":\"\"}},\"type\":\"scattermapbox\"}],\"scatterpolar\":[{\"marker\":{\"colorbar\":{\"outlinewidth\":0,\"ticks\":\"\"}},\"type\":\"scatterpolar\"}],\"scatterpolargl\":[{\"marker\":{\"colorbar\":{\"outlinewidth\":0,\"ticks\":\"\"}},\"type\":\"scatterpolargl\"}],\"scatterternary\":[{\"marker\":{\"colorbar\":{\"outlinewidth\":0,\"ticks\":\"\"}},\"type\":\"scatterternary\"}],\"surface\":[{\"colorbar\":{\"outlinewidth\":0,\"ticks\":\"\"},\"colorscale\":[[0.0,\"#0d0887\"],[0.1111111111111111,\"#46039f\"],[0.2222222222222222,\"#7201a8\"],[0.3333333333333333,\"#9c179e\"],[0.4444444444444444,\"#bd3786\"],[0.5555555555555556,\"#d8576b\"],[0.6666666666666666,\"#ed7953\"],[0.7777777777777778,\"#fb9f3a\"],[0.8888888888888888,\"#fdca26\"],[1.0,\"#f0f921\"]],\"type\":\"surface\"}],\"table\":[{\"cells\":{\"fill\":{\"color\":\"#EBF0F8\"},\"line\":{\"color\":\"white\"}},\"header\":{\"fill\":{\"color\":\"#C8D4E3\"},\"line\":{\"color\":\"white\"}},\"type\":\"table\"}]},\"layout\":{\"annotationdefaults\":{\"arrowcolor\":\"#2a3f5f\",\"arrowhead\":0,\"arrowwidth\":1},\"autotypenumbers\":\"strict\",\"coloraxis\":{\"colorbar\":{\"outlinewidth\":0,\"ticks\":\"\"}},\"colorscale\":{\"diverging\":[[0,\"#8e0152\"],[0.1,\"#c51b7d\"],[0.2,\"#de77ae\"],[0.3,\"#f1b6da\"],[0.4,\"#fde0ef\"],[0.5,\"#f7f7f7\"],[0.6,\"#e6f5d0\"],[0.7,\"#b8e186\"],[0.8,\"#7fbc41\"],[0.9,\"#4d9221\"],[1,\"#276419\"]],\"sequential\":[[0.0,\"#0d0887\"],[0.1111111111111111,\"#46039f\"],[0.2222222222222222,\"#7201a8\"],[0.3333333333333333,\"#9c179e\"],[0.4444444444444444,\"#bd3786\"],[0.5555555555555556,\"#d8576b\"],[0.6666666666666666,\"#ed7953\"],[0.7777777777777778,\"#fb9f3a\"],[0.8888888888888888,\"#fdca26\"],[1.0,\"#f0f921\"]],\"sequentialminus\":[[0.0,\"#0d0887\"],[0.1111111111111111,\"#46039f\"],[0.2222222222222222,\"#7201a8\"],[0.3333333333333333,\"#9c179e\"],[0.4444444444444444,\"#bd3786\"],[0.5555555555555556,\"#d8576b\"],[0.6666666666666666,\"#ed7953\"],[0.7777777777777778,\"#fb9f3a\"],[0.8888888888888888,\"#fdca26\"],[1.0,\"#f0f921\"]]},\"colorway\":[\"#636efa\",\"#EF553B\",\"#00cc96\",\"#ab63fa\",\"#FFA15A\",\"#19d3f3\",\"#FF6692\",\"#B6E880\",\"#FF97FF\",\"#FECB52\"],\"font\":{\"color\":\"#2a3f5f\"},\"geo\":{\"bgcolor\":\"white\",\"lakecolor\":\"white\",\"landcolor\":\"#E5ECF6\",\"showlakes\":true,\"showland\":true,\"subunitcolor\":\"white\"},\"hoverlabel\":{\"align\":\"left\"},\"hovermode\":\"closest\",\"mapbox\":{\"style\":\"light\"},\"paper_bgcolor\":\"white\",\"plot_bgcolor\":\"#E5ECF6\",\"polar\":{\"angularaxis\":{\"gridcolor\":\"white\",\"linecolor\":\"white\",\"ticks\":\"\"},\"bgcolor\":\"#E5ECF6\",\"radialaxis\":{\"gridcolor\":\"white\",\"linecolor\":\"white\",\"ticks\":\"\"}},\"scene\":{\"xaxis\":{\"backgroundcolor\":\"#E5ECF6\",\"gridcolor\":\"white\",\"gridwidth\":2,\"linecolor\":\"white\",\"showbackground\":true,\"ticks\":\"\",\"zerolinecolor\":\"white\"},\"yaxis\":{\"backgroundcolor\":\"#E5ECF6\",\"gridcolor\":\"white\",\"gridwidth\":2,\"linecolor\":\"white\",\"showbackground\":true,\"ticks\":\"\",\"zerolinecolor\":\"white\"},\"zaxis\":{\"backgroundcolor\":\"#E5ECF6\",\"gridcolor\":\"white\",\"gridwidth\":2,\"linecolor\":\"white\",\"showbackground\":true,\"ticks\":\"\",\"zerolinecolor\":\"white\"}},\"shapedefaults\":{\"line\":{\"color\":\"#2a3f5f\"}},\"ternary\":{\"aaxis\":{\"gridcolor\":\"white\",\"linecolor\":\"white\",\"ticks\":\"\"},\"baxis\":{\"gridcolor\":\"white\",\"linecolor\":\"white\",\"ticks\":\"\"},\"bgcolor\":\"#E5ECF6\",\"caxis\":{\"gridcolor\":\"white\",\"linecolor\":\"white\",\"ticks\":\"\"}},\"title\":{\"x\":0.05},\"xaxis\":{\"automargin\":true,\"gridcolor\":\"white\",\"linecolor\":\"white\",\"ticks\":\"\",\"title\":{\"standoff\":15},\"zerolinecolor\":\"white\",\"zerolinewidth\":2},\"yaxis\":{\"automargin\":true,\"gridcolor\":\"white\",\"linecolor\":\"white\",\"ticks\":\"\",\"title\":{\"standoff\":15},\"zerolinecolor\":\"white\",\"zerolinewidth\":2}}}},                        {\"responsive\": true}                    ).then(function(){\n",
              "                            \n",
              "var gd = document.getElementById('df190eac-2153-48b8-95c4-25403d45d719');\n",
              "var x = new MutationObserver(function (mutations, observer) {{\n",
              "        var display = window.getComputedStyle(gd).display;\n",
              "        if (!display || display === 'none') {{\n",
              "            console.log([gd, 'removed!']);\n",
              "            Plotly.purge(gd);\n",
              "            observer.disconnect();\n",
              "        }}\n",
              "}});\n",
              "\n",
              "// Listen for the removal of the full notebook cells\n",
              "var notebookContainer = gd.closest('#notebook-container');\n",
              "if (notebookContainer) {{\n",
              "    x.observe(notebookContainer, {childList: true});\n",
              "}}\n",
              "\n",
              "// Listen for the clearing of the current output cell\n",
              "var outputEl = gd.closest('.output');\n",
              "if (outputEl) {{\n",
              "    x.observe(outputEl, {childList: true});\n",
              "}}\n",
              "\n",
              "                        })                };                            </script>        </div>\n",
              "</body>\n",
              "</html>"
            ]
          },
          "metadata": {}
        }
      ],
      "source": [
        "optuna.visualization.plot_optimization_history(study)"
      ]
    },
    {
      "cell_type": "code",
      "execution_count": 79,
      "id": "9d2c9908-9293-486a-aa4b-c2e9e044bcdf",
      "metadata": {
        "id": "9d2c9908-9293-486a-aa4b-c2e9e044bcdf"
      },
      "outputs": [],
      "source": [
        "from optuna.visualization import plot_param_importances"
      ]
    },
    {
      "cell_type": "code",
      "execution_count": 80,
      "id": "12baa204-40b8-4109-b44f-e3c11621b363",
      "metadata": {
        "colab": {
          "base_uri": "https://localhost:8080/",
          "height": 542
        },
        "id": "12baa204-40b8-4109-b44f-e3c11621b363",
        "outputId": "f9f2a4d1-9f61-42e1-dc68-319f803cd9ea"
      },
      "outputs": [
        {
          "output_type": "display_data",
          "data": {
            "text/html": [
              "<html>\n",
              "<head><meta charset=\"utf-8\" /></head>\n",
              "<body>\n",
              "    <div>            <script src=\"https://cdnjs.cloudflare.com/ajax/libs/mathjax/2.7.5/MathJax.js?config=TeX-AMS-MML_SVG\"></script><script type=\"text/javascript\">if (window.MathJax) {MathJax.Hub.Config({SVG: {font: \"STIX-Web\"}});}</script>                <script type=\"text/javascript\">window.PlotlyConfig = {MathJaxConfig: 'local'};</script>\n",
              "        <script src=\"https://cdn.plot.ly/plotly-2.8.3.min.js\"></script>                <div id=\"ffec3403-19fc-45e2-8683-f6575b3fe3d8\" class=\"plotly-graph-div\" style=\"height:525px; width:100%;\"></div>            <script type=\"text/javascript\">                                    window.PLOTLYENV=window.PLOTLYENV || {};                                    if (document.getElementById(\"ffec3403-19fc-45e2-8683-f6575b3fe3d8\")) {                    Plotly.newPlot(                        \"ffec3403-19fc-45e2-8683-f6575b3fe3d8\",                        [{\"cliponaxis\":false,\"hovertemplate\":[\"alpha (LogUniformDistribution): 0.04601439894012327<extra></extra>\",\"lambda (LogUniformDistribution): 0.06570521133181419<extra></extra>\",\"learning_rate (CategoricalDistribution): 0.12896870538160907<extra></extra>\",\"n_estimators (CategoricalDistribution): 0.7593116843464535<extra></extra>\"],\"marker\":{\"color\":\"rgb(66,146,198)\"},\"orientation\":\"h\",\"text\":[\"0.04601439894012327\",\"0.06570521133181419\",\"0.12896870538160907\",\"0.7593116843464535\"],\"textposition\":\"outside\",\"texttemplate\":\"%{text:.2f}\",\"x\":[0.04601439894012327,0.06570521133181419,0.12896870538160907,0.7593116843464535],\"y\":[\"alpha\",\"lambda\",\"learning_rate\",\"n_estimators\"],\"type\":\"bar\"}],                        {\"showlegend\":false,\"title\":{\"text\":\"Hyperparameter Importances\"},\"xaxis\":{\"title\":{\"text\":\"Importance for Objective Value\"}},\"yaxis\":{\"title\":{\"text\":\"Hyperparameter\"}},\"template\":{\"data\":{\"bar\":[{\"error_x\":{\"color\":\"#2a3f5f\"},\"error_y\":{\"color\":\"#2a3f5f\"},\"marker\":{\"line\":{\"color\":\"#E5ECF6\",\"width\":0.5},\"pattern\":{\"fillmode\":\"overlay\",\"size\":10,\"solidity\":0.2}},\"type\":\"bar\"}],\"barpolar\":[{\"marker\":{\"line\":{\"color\":\"#E5ECF6\",\"width\":0.5},\"pattern\":{\"fillmode\":\"overlay\",\"size\":10,\"solidity\":0.2}},\"type\":\"barpolar\"}],\"carpet\":[{\"aaxis\":{\"endlinecolor\":\"#2a3f5f\",\"gridcolor\":\"white\",\"linecolor\":\"white\",\"minorgridcolor\":\"white\",\"startlinecolor\":\"#2a3f5f\"},\"baxis\":{\"endlinecolor\":\"#2a3f5f\",\"gridcolor\":\"white\",\"linecolor\":\"white\",\"minorgridcolor\":\"white\",\"startlinecolor\":\"#2a3f5f\"},\"type\":\"carpet\"}],\"choropleth\":[{\"colorbar\":{\"outlinewidth\":0,\"ticks\":\"\"},\"type\":\"choropleth\"}],\"contour\":[{\"colorbar\":{\"outlinewidth\":0,\"ticks\":\"\"},\"colorscale\":[[0.0,\"#0d0887\"],[0.1111111111111111,\"#46039f\"],[0.2222222222222222,\"#7201a8\"],[0.3333333333333333,\"#9c179e\"],[0.4444444444444444,\"#bd3786\"],[0.5555555555555556,\"#d8576b\"],[0.6666666666666666,\"#ed7953\"],[0.7777777777777778,\"#fb9f3a\"],[0.8888888888888888,\"#fdca26\"],[1.0,\"#f0f921\"]],\"type\":\"contour\"}],\"contourcarpet\":[{\"colorbar\":{\"outlinewidth\":0,\"ticks\":\"\"},\"type\":\"contourcarpet\"}],\"heatmap\":[{\"colorbar\":{\"outlinewidth\":0,\"ticks\":\"\"},\"colorscale\":[[0.0,\"#0d0887\"],[0.1111111111111111,\"#46039f\"],[0.2222222222222222,\"#7201a8\"],[0.3333333333333333,\"#9c179e\"],[0.4444444444444444,\"#bd3786\"],[0.5555555555555556,\"#d8576b\"],[0.6666666666666666,\"#ed7953\"],[0.7777777777777778,\"#fb9f3a\"],[0.8888888888888888,\"#fdca26\"],[1.0,\"#f0f921\"]],\"type\":\"heatmap\"}],\"heatmapgl\":[{\"colorbar\":{\"outlinewidth\":0,\"ticks\":\"\"},\"colorscale\":[[0.0,\"#0d0887\"],[0.1111111111111111,\"#46039f\"],[0.2222222222222222,\"#7201a8\"],[0.3333333333333333,\"#9c179e\"],[0.4444444444444444,\"#bd3786\"],[0.5555555555555556,\"#d8576b\"],[0.6666666666666666,\"#ed7953\"],[0.7777777777777778,\"#fb9f3a\"],[0.8888888888888888,\"#fdca26\"],[1.0,\"#f0f921\"]],\"type\":\"heatmapgl\"}],\"histogram\":[{\"marker\":{\"pattern\":{\"fillmode\":\"overlay\",\"size\":10,\"solidity\":0.2}},\"type\":\"histogram\"}],\"histogram2d\":[{\"colorbar\":{\"outlinewidth\":0,\"ticks\":\"\"},\"colorscale\":[[0.0,\"#0d0887\"],[0.1111111111111111,\"#46039f\"],[0.2222222222222222,\"#7201a8\"],[0.3333333333333333,\"#9c179e\"],[0.4444444444444444,\"#bd3786\"],[0.5555555555555556,\"#d8576b\"],[0.6666666666666666,\"#ed7953\"],[0.7777777777777778,\"#fb9f3a\"],[0.8888888888888888,\"#fdca26\"],[1.0,\"#f0f921\"]],\"type\":\"histogram2d\"}],\"histogram2dcontour\":[{\"colorbar\":{\"outlinewidth\":0,\"ticks\":\"\"},\"colorscale\":[[0.0,\"#0d0887\"],[0.1111111111111111,\"#46039f\"],[0.2222222222222222,\"#7201a8\"],[0.3333333333333333,\"#9c179e\"],[0.4444444444444444,\"#bd3786\"],[0.5555555555555556,\"#d8576b\"],[0.6666666666666666,\"#ed7953\"],[0.7777777777777778,\"#fb9f3a\"],[0.8888888888888888,\"#fdca26\"],[1.0,\"#f0f921\"]],\"type\":\"histogram2dcontour\"}],\"mesh3d\":[{\"colorbar\":{\"outlinewidth\":0,\"ticks\":\"\"},\"type\":\"mesh3d\"}],\"parcoords\":[{\"line\":{\"colorbar\":{\"outlinewidth\":0,\"ticks\":\"\"}},\"type\":\"parcoords\"}],\"pie\":[{\"automargin\":true,\"type\":\"pie\"}],\"scatter\":[{\"marker\":{\"colorbar\":{\"outlinewidth\":0,\"ticks\":\"\"}},\"type\":\"scatter\"}],\"scatter3d\":[{\"line\":{\"colorbar\":{\"outlinewidth\":0,\"ticks\":\"\"}},\"marker\":{\"colorbar\":{\"outlinewidth\":0,\"ticks\":\"\"}},\"type\":\"scatter3d\"}],\"scattercarpet\":[{\"marker\":{\"colorbar\":{\"outlinewidth\":0,\"ticks\":\"\"}},\"type\":\"scattercarpet\"}],\"scattergeo\":[{\"marker\":{\"colorbar\":{\"outlinewidth\":0,\"ticks\":\"\"}},\"type\":\"scattergeo\"}],\"scattergl\":[{\"marker\":{\"colorbar\":{\"outlinewidth\":0,\"ticks\":\"\"}},\"type\":\"scattergl\"}],\"scattermapbox\":[{\"marker\":{\"colorbar\":{\"outlinewidth\":0,\"ticks\":\"\"}},\"type\":\"scattermapbox\"}],\"scatterpolar\":[{\"marker\":{\"colorbar\":{\"outlinewidth\":0,\"ticks\":\"\"}},\"type\":\"scatterpolar\"}],\"scatterpolargl\":[{\"marker\":{\"colorbar\":{\"outlinewidth\":0,\"ticks\":\"\"}},\"type\":\"scatterpolargl\"}],\"scatterternary\":[{\"marker\":{\"colorbar\":{\"outlinewidth\":0,\"ticks\":\"\"}},\"type\":\"scatterternary\"}],\"surface\":[{\"colorbar\":{\"outlinewidth\":0,\"ticks\":\"\"},\"colorscale\":[[0.0,\"#0d0887\"],[0.1111111111111111,\"#46039f\"],[0.2222222222222222,\"#7201a8\"],[0.3333333333333333,\"#9c179e\"],[0.4444444444444444,\"#bd3786\"],[0.5555555555555556,\"#d8576b\"],[0.6666666666666666,\"#ed7953\"],[0.7777777777777778,\"#fb9f3a\"],[0.8888888888888888,\"#fdca26\"],[1.0,\"#f0f921\"]],\"type\":\"surface\"}],\"table\":[{\"cells\":{\"fill\":{\"color\":\"#EBF0F8\"},\"line\":{\"color\":\"white\"}},\"header\":{\"fill\":{\"color\":\"#C8D4E3\"},\"line\":{\"color\":\"white\"}},\"type\":\"table\"}]},\"layout\":{\"annotationdefaults\":{\"arrowcolor\":\"#2a3f5f\",\"arrowhead\":0,\"arrowwidth\":1},\"autotypenumbers\":\"strict\",\"coloraxis\":{\"colorbar\":{\"outlinewidth\":0,\"ticks\":\"\"}},\"colorscale\":{\"diverging\":[[0,\"#8e0152\"],[0.1,\"#c51b7d\"],[0.2,\"#de77ae\"],[0.3,\"#f1b6da\"],[0.4,\"#fde0ef\"],[0.5,\"#f7f7f7\"],[0.6,\"#e6f5d0\"],[0.7,\"#b8e186\"],[0.8,\"#7fbc41\"],[0.9,\"#4d9221\"],[1,\"#276419\"]],\"sequential\":[[0.0,\"#0d0887\"],[0.1111111111111111,\"#46039f\"],[0.2222222222222222,\"#7201a8\"],[0.3333333333333333,\"#9c179e\"],[0.4444444444444444,\"#bd3786\"],[0.5555555555555556,\"#d8576b\"],[0.6666666666666666,\"#ed7953\"],[0.7777777777777778,\"#fb9f3a\"],[0.8888888888888888,\"#fdca26\"],[1.0,\"#f0f921\"]],\"sequentialminus\":[[0.0,\"#0d0887\"],[0.1111111111111111,\"#46039f\"],[0.2222222222222222,\"#7201a8\"],[0.3333333333333333,\"#9c179e\"],[0.4444444444444444,\"#bd3786\"],[0.5555555555555556,\"#d8576b\"],[0.6666666666666666,\"#ed7953\"],[0.7777777777777778,\"#fb9f3a\"],[0.8888888888888888,\"#fdca26\"],[1.0,\"#f0f921\"]]},\"colorway\":[\"#636efa\",\"#EF553B\",\"#00cc96\",\"#ab63fa\",\"#FFA15A\",\"#19d3f3\",\"#FF6692\",\"#B6E880\",\"#FF97FF\",\"#FECB52\"],\"font\":{\"color\":\"#2a3f5f\"},\"geo\":{\"bgcolor\":\"white\",\"lakecolor\":\"white\",\"landcolor\":\"#E5ECF6\",\"showlakes\":true,\"showland\":true,\"subunitcolor\":\"white\"},\"hoverlabel\":{\"align\":\"left\"},\"hovermode\":\"closest\",\"mapbox\":{\"style\":\"light\"},\"paper_bgcolor\":\"white\",\"plot_bgcolor\":\"#E5ECF6\",\"polar\":{\"angularaxis\":{\"gridcolor\":\"white\",\"linecolor\":\"white\",\"ticks\":\"\"},\"bgcolor\":\"#E5ECF6\",\"radialaxis\":{\"gridcolor\":\"white\",\"linecolor\":\"white\",\"ticks\":\"\"}},\"scene\":{\"xaxis\":{\"backgroundcolor\":\"#E5ECF6\",\"gridcolor\":\"white\",\"gridwidth\":2,\"linecolor\":\"white\",\"showbackground\":true,\"ticks\":\"\",\"zerolinecolor\":\"white\"},\"yaxis\":{\"backgroundcolor\":\"#E5ECF6\",\"gridcolor\":\"white\",\"gridwidth\":2,\"linecolor\":\"white\",\"showbackground\":true,\"ticks\":\"\",\"zerolinecolor\":\"white\"},\"zaxis\":{\"backgroundcolor\":\"#E5ECF6\",\"gridcolor\":\"white\",\"gridwidth\":2,\"linecolor\":\"white\",\"showbackground\":true,\"ticks\":\"\",\"zerolinecolor\":\"white\"}},\"shapedefaults\":{\"line\":{\"color\":\"#2a3f5f\"}},\"ternary\":{\"aaxis\":{\"gridcolor\":\"white\",\"linecolor\":\"white\",\"ticks\":\"\"},\"baxis\":{\"gridcolor\":\"white\",\"linecolor\":\"white\",\"ticks\":\"\"},\"bgcolor\":\"#E5ECF6\",\"caxis\":{\"gridcolor\":\"white\",\"linecolor\":\"white\",\"ticks\":\"\"}},\"title\":{\"x\":0.05},\"xaxis\":{\"automargin\":true,\"gridcolor\":\"white\",\"linecolor\":\"white\",\"ticks\":\"\",\"title\":{\"standoff\":15},\"zerolinecolor\":\"white\",\"zerolinewidth\":2},\"yaxis\":{\"automargin\":true,\"gridcolor\":\"white\",\"linecolor\":\"white\",\"ticks\":\"\",\"title\":{\"standoff\":15},\"zerolinecolor\":\"white\",\"zerolinewidth\":2}}}},                        {\"responsive\": true}                    ).then(function(){\n",
              "                            \n",
              "var gd = document.getElementById('ffec3403-19fc-45e2-8683-f6575b3fe3d8');\n",
              "var x = new MutationObserver(function (mutations, observer) {{\n",
              "        var display = window.getComputedStyle(gd).display;\n",
              "        if (!display || display === 'none') {{\n",
              "            console.log([gd, 'removed!']);\n",
              "            Plotly.purge(gd);\n",
              "            observer.disconnect();\n",
              "        }}\n",
              "}});\n",
              "\n",
              "// Listen for the removal of the full notebook cells\n",
              "var notebookContainer = gd.closest('#notebook-container');\n",
              "if (notebookContainer) {{\n",
              "    x.observe(notebookContainer, {childList: true});\n",
              "}}\n",
              "\n",
              "// Listen for the clearing of the current output cell\n",
              "var outputEl = gd.closest('.output');\n",
              "if (outputEl) {{\n",
              "    x.observe(outputEl, {childList: true});\n",
              "}}\n",
              "\n",
              "                        })                };                            </script>        </div>\n",
              "</body>\n",
              "</html>"
            ]
          },
          "metadata": {}
        }
      ],
      "source": [
        "plot_param_importances(study)"
      ]
    },
    {
      "cell_type": "code",
      "execution_count": 81,
      "id": "59f0b63a-1e1c-4ae7-bf8c-6da47d08376a",
      "metadata": {
        "id": "59f0b63a-1e1c-4ae7-bf8c-6da47d08376a"
      },
      "outputs": [],
      "source": [
        "X_train_sub, X_valid, y_train_sub, y_valid = train_test_split(\n",
        "    X_train, y_train, test_size=0.1, random_state=1, stratify=y_train\n",
        ")"
      ]
    },
    {
      "cell_type": "code",
      "execution_count": 82,
      "id": "64c798cd-a0d3-4cfd-8986-372d0e694f1c",
      "metadata": {
        "colab": {
          "base_uri": "https://localhost:8080/"
        },
        "id": "64c798cd-a0d3-4cfd-8986-372d0e694f1c",
        "outputId": "a71ccf1d-65ee-4a0c-aba5-8b6531d1ad0f"
      },
      "outputs": [
        {
          "output_type": "stream",
          "name": "stderr",
          "text": [
            "\u001b[32m[I 2022-04-23 21:17:50,027]\u001b[0m A new study created in memory with name: no-name-1efd859e-b360-4818-822b-18d758501dbd\u001b[0m\n",
            "\u001b[32m[I 2022-04-23 21:18:11,620]\u001b[0m Trial 0 finished with value: 0.8794063079777366 and parameters: {'objective': 'Logloss', 'colsample_bylevel': 0.06257001473126508, 'depth': 2, 'boosting_type': 'Ordered', 'bootstrap_type': 'Bernoulli', 'subsample': 0.20279560006318562}. Best is trial 0 with value: 0.8794063079777366.\u001b[0m\n",
            "\u001b[32m[I 2022-04-23 21:19:09,883]\u001b[0m Trial 1 finished with value: 0.9063079777365491 and parameters: {'objective': 'CrossEntropy', 'colsample_bylevel': 0.06722353453932439, 'depth': 10, 'boosting_type': 'Ordered', 'bootstrap_type': 'MVS'}. Best is trial 1 with value: 0.9063079777365491.\u001b[0m\n",
            "\u001b[32m[I 2022-04-23 21:19:43,837]\u001b[0m Trial 2 finished with value: 0.9004329004329005 and parameters: {'objective': 'CrossEntropy', 'colsample_bylevel': 0.05961866856124289, 'depth': 7, 'boosting_type': 'Ordered', 'bootstrap_type': 'MVS'}. Best is trial 1 with value: 0.9063079777365491.\u001b[0m\n",
            "\u001b[32m[I 2022-04-23 21:20:05,957]\u001b[0m Trial 3 finished with value: 0.873222016079159 and parameters: {'objective': 'Logloss', 'colsample_bylevel': 0.029859342120432772, 'depth': 2, 'boosting_type': 'Ordered', 'bootstrap_type': 'MVS'}. Best is trial 1 with value: 0.9063079777365491.\u001b[0m\n",
            "\u001b[32m[I 2022-04-23 21:20:12,116]\u001b[0m Trial 4 finished with value: 0.8933209647495362 and parameters: {'objective': 'Logloss', 'colsample_bylevel': 0.04179627808843842, 'depth': 4, 'boosting_type': 'Plain', 'bootstrap_type': 'Bayesian', 'bagging_temperature': 5.009606448892269}. Best is trial 1 with value: 0.9063079777365491.\u001b[0m\n",
            "\u001b[32m[I 2022-04-23 21:20:26,512]\u001b[0m Trial 5 finished with value: 0.9332096474953617 and parameters: {'objective': 'Logloss', 'colsample_bylevel': 0.07073008168913376, 'depth': 9, 'boosting_type': 'Plain', 'bootstrap_type': 'MVS'}. Best is trial 5 with value: 0.9332096474953617.\u001b[0m\n",
            "\u001b[32m[I 2022-04-23 21:20:31,297]\u001b[0m Trial 6 finished with value: 0.8815708101422387 and parameters: {'objective': 'Logloss', 'colsample_bylevel': 0.016428304785328793, 'depth': 11, 'boosting_type': 'Plain', 'bootstrap_type': 'Bayesian', 'bagging_temperature': 0.5980111967065804}. Best is trial 5 with value: 0.9332096474953617.\u001b[0m\n",
            "\u001b[32m[I 2022-04-23 21:21:11,448]\u001b[0m Trial 7 finished with value: 0.904143475572047 and parameters: {'objective': 'CrossEntropy', 'colsample_bylevel': 0.07275359210314049, 'depth': 8, 'boosting_type': 'Ordered', 'bootstrap_type': 'MVS'}. Best is trial 5 with value: 0.9332096474953617.\u001b[0m\n",
            "\u001b[32m[I 2022-04-23 21:21:42,175]\u001b[0m Trial 8 finished with value: 0.9050711193568336 and parameters: {'objective': 'Logloss', 'colsample_bylevel': 0.09318026785425942, 'depth': 5, 'boosting_type': 'Ordered', 'bootstrap_type': 'MVS'}. Best is trial 5 with value: 0.9332096474953617.\u001b[0m\n",
            "\u001b[32m[I 2022-04-23 21:21:49,077]\u001b[0m Trial 9 finished with value: 0.9084724799010513 and parameters: {'objective': 'Logloss', 'colsample_bylevel': 0.08824965514139886, 'depth': 5, 'boosting_type': 'Plain', 'bootstrap_type': 'Bernoulli', 'subsample': 0.6806829521666556}. Best is trial 5 with value: 0.9332096474953617.\u001b[0m\n"
          ]
        },
        {
          "output_type": "stream",
          "name": "stdout",
          "text": [
            "Number of finished trials: 10\n",
            "Best trial:\n",
            "  Value: 0.9332096474953617\n",
            "  Params: \n",
            "    objective: Logloss\n",
            "    colsample_bylevel: 0.07073008168913376\n",
            "    depth: 9\n",
            "    boosting_type: Plain\n",
            "    bootstrap_type: MVS\n"
          ]
        }
      ],
      "source": [
        "from catboost import CatBoostClassifier\n",
        "\n",
        "\n",
        "def objective(trial):\n",
        "\n",
        "    param = {\n",
        "        \"objective\": trial.suggest_categorical(\n",
        "            \"objective\", [\"Logloss\", \"CrossEntropy\"]\n",
        "        ),\n",
        "        \"colsample_bylevel\": trial.suggest_float(\"colsample_bylevel\", 0.01, 0.1),\n",
        "        \"depth\": trial.suggest_int(\"depth\", 1, 12),\n",
        "        \"boosting_type\": trial.suggest_categorical(\n",
        "            \"boosting_type\", [\"Ordered\", \"Plain\"]\n",
        "        ),\n",
        "        \"bootstrap_type\": trial.suggest_categorical(\n",
        "            \"bootstrap_type\", [\"Bayesian\", \"Bernoulli\", \"MVS\"]\n",
        "        ),\n",
        "        \"used_ram_limit\": \"3gb\",\n",
        "    }\n",
        "\n",
        "    if param[\"bootstrap_type\"] == \"Bayesian\":\n",
        "        param[\"bagging_temperature\"] = trial.suggest_float(\"bagging_temperature\", 0, 10)\n",
        "    elif param[\"bootstrap_type\"] == \"Bernoulli\":\n",
        "        param[\"subsample\"] = trial.suggest_float(\"subsample\", 0.1, 1)\n",
        "\n",
        "    gbm = CatBoostClassifier(**param)\n",
        "\n",
        "    gbm.fit(\n",
        "        X_train,\n",
        "        y_train,\n",
        "        eval_set=[(X_valid, y_valid)],\n",
        "        verbose=0,\n",
        "        early_stopping_rounds=100,\n",
        "    )\n",
        "\n",
        "    preds = gbm.predict(X_valid)\n",
        "    pred_labels = np.rint(preds)\n",
        "    accuracy = accuracy_score(y_valid, pred_labels)\n",
        "    return accuracy\n",
        "\n",
        "\n",
        "if __name__ == \"__main__\":\n",
        "    study = optuna.create_study(direction=\"maximize\")\n",
        "    study.optimize(objective, n_trials=10, timeout=600)\n",
        "\n",
        "    print(\"Number of finished trials: {}\".format(len(study.trials)))\n",
        "\n",
        "    print(\"Best trial:\")\n",
        "    trial = study.best_trial\n",
        "\n",
        "    print(\"  Value: {}\".format(trial.value))\n",
        "\n",
        "    print(\"  Params: \")\n",
        "    for key, value in trial.params.items():\n",
        "        print(\"    {}: {}\".format(key, value))"
      ]
    },
    {
      "cell_type": "code",
      "execution_count": 83,
      "id": "da9cfcfe-26d8-4b92-b624-cb0c15e3220b",
      "metadata": {
        "colab": {
          "base_uri": "https://localhost:8080/"
        },
        "id": "da9cfcfe-26d8-4b92-b624-cb0c15e3220b",
        "outputId": "fef1c759-262d-42b0-fdc9-c12116a2207b"
      },
      "outputs": [
        {
          "output_type": "execute_result",
          "data": {
            "text/plain": [
              "<catboost.core.CatBoostClassifier at 0x7f731e09ce10>"
            ]
          },
          "metadata": {},
          "execution_count": 83
        }
      ],
      "source": [
        "model = CatBoostClassifier(**study.best_params, random_state=seed)\n",
        "model.fit(\n",
        "    X_train,\n",
        "    y_train,\n",
        "    verbose=False,\n",
        "    # eval_set=[(X_valid, y_valid)],\n",
        "    # eval_metric=\"auc\",\n",
        "    # early_stopping_rounds=100,\n",
        ")"
      ]
    },
    {
      "cell_type": "code",
      "execution_count": 84,
      "id": "48ba4eed-2a44-46dd-bd71-4f7daaa8eb5e",
      "metadata": {
        "colab": {
          "base_uri": "https://localhost:8080/",
          "height": 542
        },
        "id": "48ba4eed-2a44-46dd-bd71-4f7daaa8eb5e",
        "outputId": "f2a766fa-cb25-4658-d6e3-b74f7ef3f664"
      },
      "outputs": [
        {
          "output_type": "display_data",
          "data": {
            "text/html": [
              "<html>\n",
              "<head><meta charset=\"utf-8\" /></head>\n",
              "<body>\n",
              "    <div>            <script src=\"https://cdnjs.cloudflare.com/ajax/libs/mathjax/2.7.5/MathJax.js?config=TeX-AMS-MML_SVG\"></script><script type=\"text/javascript\">if (window.MathJax) {MathJax.Hub.Config({SVG: {font: \"STIX-Web\"}});}</script>                <script type=\"text/javascript\">window.PlotlyConfig = {MathJaxConfig: 'local'};</script>\n",
              "        <script src=\"https://cdn.plot.ly/plotly-2.8.3.min.js\"></script>                <div id=\"fdd7527e-9e18-40d8-a9bc-50d29ecb40f5\" class=\"plotly-graph-div\" style=\"height:525px; width:100%;\"></div>            <script type=\"text/javascript\">                                    window.PLOTLYENV=window.PLOTLYENV || {};                                    if (document.getElementById(\"fdd7527e-9e18-40d8-a9bc-50d29ecb40f5\")) {                    Plotly.newPlot(                        \"fdd7527e-9e18-40d8-a9bc-50d29ecb40f5\",                        [{\"mode\":\"markers\",\"name\":\"Objective Value\",\"x\":[0,1,2,3,4,5,6,7,8,9],\"y\":[0.8794063079777366,0.9063079777365491,0.9004329004329005,0.873222016079159,0.8933209647495362,0.9332096474953617,0.8815708101422387,0.904143475572047,0.9050711193568336,0.9084724799010513],\"type\":\"scatter\"},{\"name\":\"Best Value\",\"x\":[0,1,2,3,4,5,6,7,8,9],\"y\":[0.8794063079777366,0.9063079777365491,0.9063079777365491,0.9063079777365491,0.9063079777365491,0.9332096474953617,0.9332096474953617,0.9332096474953617,0.9332096474953617,0.9332096474953617],\"type\":\"scatter\"}],                        {\"title\":{\"text\":\"Optimization History Plot\"},\"xaxis\":{\"title\":{\"text\":\"#Trials\"}},\"yaxis\":{\"title\":{\"text\":\"Objective Value\"}},\"template\":{\"data\":{\"bar\":[{\"error_x\":{\"color\":\"#2a3f5f\"},\"error_y\":{\"color\":\"#2a3f5f\"},\"marker\":{\"line\":{\"color\":\"#E5ECF6\",\"width\":0.5},\"pattern\":{\"fillmode\":\"overlay\",\"size\":10,\"solidity\":0.2}},\"type\":\"bar\"}],\"barpolar\":[{\"marker\":{\"line\":{\"color\":\"#E5ECF6\",\"width\":0.5},\"pattern\":{\"fillmode\":\"overlay\",\"size\":10,\"solidity\":0.2}},\"type\":\"barpolar\"}],\"carpet\":[{\"aaxis\":{\"endlinecolor\":\"#2a3f5f\",\"gridcolor\":\"white\",\"linecolor\":\"white\",\"minorgridcolor\":\"white\",\"startlinecolor\":\"#2a3f5f\"},\"baxis\":{\"endlinecolor\":\"#2a3f5f\",\"gridcolor\":\"white\",\"linecolor\":\"white\",\"minorgridcolor\":\"white\",\"startlinecolor\":\"#2a3f5f\"},\"type\":\"carpet\"}],\"choropleth\":[{\"colorbar\":{\"outlinewidth\":0,\"ticks\":\"\"},\"type\":\"choropleth\"}],\"contour\":[{\"colorbar\":{\"outlinewidth\":0,\"ticks\":\"\"},\"colorscale\":[[0.0,\"#0d0887\"],[0.1111111111111111,\"#46039f\"],[0.2222222222222222,\"#7201a8\"],[0.3333333333333333,\"#9c179e\"],[0.4444444444444444,\"#bd3786\"],[0.5555555555555556,\"#d8576b\"],[0.6666666666666666,\"#ed7953\"],[0.7777777777777778,\"#fb9f3a\"],[0.8888888888888888,\"#fdca26\"],[1.0,\"#f0f921\"]],\"type\":\"contour\"}],\"contourcarpet\":[{\"colorbar\":{\"outlinewidth\":0,\"ticks\":\"\"},\"type\":\"contourcarpet\"}],\"heatmap\":[{\"colorbar\":{\"outlinewidth\":0,\"ticks\":\"\"},\"colorscale\":[[0.0,\"#0d0887\"],[0.1111111111111111,\"#46039f\"],[0.2222222222222222,\"#7201a8\"],[0.3333333333333333,\"#9c179e\"],[0.4444444444444444,\"#bd3786\"],[0.5555555555555556,\"#d8576b\"],[0.6666666666666666,\"#ed7953\"],[0.7777777777777778,\"#fb9f3a\"],[0.8888888888888888,\"#fdca26\"],[1.0,\"#f0f921\"]],\"type\":\"heatmap\"}],\"heatmapgl\":[{\"colorbar\":{\"outlinewidth\":0,\"ticks\":\"\"},\"colorscale\":[[0.0,\"#0d0887\"],[0.1111111111111111,\"#46039f\"],[0.2222222222222222,\"#7201a8\"],[0.3333333333333333,\"#9c179e\"],[0.4444444444444444,\"#bd3786\"],[0.5555555555555556,\"#d8576b\"],[0.6666666666666666,\"#ed7953\"],[0.7777777777777778,\"#fb9f3a\"],[0.8888888888888888,\"#fdca26\"],[1.0,\"#f0f921\"]],\"type\":\"heatmapgl\"}],\"histogram\":[{\"marker\":{\"pattern\":{\"fillmode\":\"overlay\",\"size\":10,\"solidity\":0.2}},\"type\":\"histogram\"}],\"histogram2d\":[{\"colorbar\":{\"outlinewidth\":0,\"ticks\":\"\"},\"colorscale\":[[0.0,\"#0d0887\"],[0.1111111111111111,\"#46039f\"],[0.2222222222222222,\"#7201a8\"],[0.3333333333333333,\"#9c179e\"],[0.4444444444444444,\"#bd3786\"],[0.5555555555555556,\"#d8576b\"],[0.6666666666666666,\"#ed7953\"],[0.7777777777777778,\"#fb9f3a\"],[0.8888888888888888,\"#fdca26\"],[1.0,\"#f0f921\"]],\"type\":\"histogram2d\"}],\"histogram2dcontour\":[{\"colorbar\":{\"outlinewidth\":0,\"ticks\":\"\"},\"colorscale\":[[0.0,\"#0d0887\"],[0.1111111111111111,\"#46039f\"],[0.2222222222222222,\"#7201a8\"],[0.3333333333333333,\"#9c179e\"],[0.4444444444444444,\"#bd3786\"],[0.5555555555555556,\"#d8576b\"],[0.6666666666666666,\"#ed7953\"],[0.7777777777777778,\"#fb9f3a\"],[0.8888888888888888,\"#fdca26\"],[1.0,\"#f0f921\"]],\"type\":\"histogram2dcontour\"}],\"mesh3d\":[{\"colorbar\":{\"outlinewidth\":0,\"ticks\":\"\"},\"type\":\"mesh3d\"}],\"parcoords\":[{\"line\":{\"colorbar\":{\"outlinewidth\":0,\"ticks\":\"\"}},\"type\":\"parcoords\"}],\"pie\":[{\"automargin\":true,\"type\":\"pie\"}],\"scatter\":[{\"marker\":{\"colorbar\":{\"outlinewidth\":0,\"ticks\":\"\"}},\"type\":\"scatter\"}],\"scatter3d\":[{\"line\":{\"colorbar\":{\"outlinewidth\":0,\"ticks\":\"\"}},\"marker\":{\"colorbar\":{\"outlinewidth\":0,\"ticks\":\"\"}},\"type\":\"scatter3d\"}],\"scattercarpet\":[{\"marker\":{\"colorbar\":{\"outlinewidth\":0,\"ticks\":\"\"}},\"type\":\"scattercarpet\"}],\"scattergeo\":[{\"marker\":{\"colorbar\":{\"outlinewidth\":0,\"ticks\":\"\"}},\"type\":\"scattergeo\"}],\"scattergl\":[{\"marker\":{\"colorbar\":{\"outlinewidth\":0,\"ticks\":\"\"}},\"type\":\"scattergl\"}],\"scattermapbox\":[{\"marker\":{\"colorbar\":{\"outlinewidth\":0,\"ticks\":\"\"}},\"type\":\"scattermapbox\"}],\"scatterpolar\":[{\"marker\":{\"colorbar\":{\"outlinewidth\":0,\"ticks\":\"\"}},\"type\":\"scatterpolar\"}],\"scatterpolargl\":[{\"marker\":{\"colorbar\":{\"outlinewidth\":0,\"ticks\":\"\"}},\"type\":\"scatterpolargl\"}],\"scatterternary\":[{\"marker\":{\"colorbar\":{\"outlinewidth\":0,\"ticks\":\"\"}},\"type\":\"scatterternary\"}],\"surface\":[{\"colorbar\":{\"outlinewidth\":0,\"ticks\":\"\"},\"colorscale\":[[0.0,\"#0d0887\"],[0.1111111111111111,\"#46039f\"],[0.2222222222222222,\"#7201a8\"],[0.3333333333333333,\"#9c179e\"],[0.4444444444444444,\"#bd3786\"],[0.5555555555555556,\"#d8576b\"],[0.6666666666666666,\"#ed7953\"],[0.7777777777777778,\"#fb9f3a\"],[0.8888888888888888,\"#fdca26\"],[1.0,\"#f0f921\"]],\"type\":\"surface\"}],\"table\":[{\"cells\":{\"fill\":{\"color\":\"#EBF0F8\"},\"line\":{\"color\":\"white\"}},\"header\":{\"fill\":{\"color\":\"#C8D4E3\"},\"line\":{\"color\":\"white\"}},\"type\":\"table\"}]},\"layout\":{\"annotationdefaults\":{\"arrowcolor\":\"#2a3f5f\",\"arrowhead\":0,\"arrowwidth\":1},\"autotypenumbers\":\"strict\",\"coloraxis\":{\"colorbar\":{\"outlinewidth\":0,\"ticks\":\"\"}},\"colorscale\":{\"diverging\":[[0,\"#8e0152\"],[0.1,\"#c51b7d\"],[0.2,\"#de77ae\"],[0.3,\"#f1b6da\"],[0.4,\"#fde0ef\"],[0.5,\"#f7f7f7\"],[0.6,\"#e6f5d0\"],[0.7,\"#b8e186\"],[0.8,\"#7fbc41\"],[0.9,\"#4d9221\"],[1,\"#276419\"]],\"sequential\":[[0.0,\"#0d0887\"],[0.1111111111111111,\"#46039f\"],[0.2222222222222222,\"#7201a8\"],[0.3333333333333333,\"#9c179e\"],[0.4444444444444444,\"#bd3786\"],[0.5555555555555556,\"#d8576b\"],[0.6666666666666666,\"#ed7953\"],[0.7777777777777778,\"#fb9f3a\"],[0.8888888888888888,\"#fdca26\"],[1.0,\"#f0f921\"]],\"sequentialminus\":[[0.0,\"#0d0887\"],[0.1111111111111111,\"#46039f\"],[0.2222222222222222,\"#7201a8\"],[0.3333333333333333,\"#9c179e\"],[0.4444444444444444,\"#bd3786\"],[0.5555555555555556,\"#d8576b\"],[0.6666666666666666,\"#ed7953\"],[0.7777777777777778,\"#fb9f3a\"],[0.8888888888888888,\"#fdca26\"],[1.0,\"#f0f921\"]]},\"colorway\":[\"#636efa\",\"#EF553B\",\"#00cc96\",\"#ab63fa\",\"#FFA15A\",\"#19d3f3\",\"#FF6692\",\"#B6E880\",\"#FF97FF\",\"#FECB52\"],\"font\":{\"color\":\"#2a3f5f\"},\"geo\":{\"bgcolor\":\"white\",\"lakecolor\":\"white\",\"landcolor\":\"#E5ECF6\",\"showlakes\":true,\"showland\":true,\"subunitcolor\":\"white\"},\"hoverlabel\":{\"align\":\"left\"},\"hovermode\":\"closest\",\"mapbox\":{\"style\":\"light\"},\"paper_bgcolor\":\"white\",\"plot_bgcolor\":\"#E5ECF6\",\"polar\":{\"angularaxis\":{\"gridcolor\":\"white\",\"linecolor\":\"white\",\"ticks\":\"\"},\"bgcolor\":\"#E5ECF6\",\"radialaxis\":{\"gridcolor\":\"white\",\"linecolor\":\"white\",\"ticks\":\"\"}},\"scene\":{\"xaxis\":{\"backgroundcolor\":\"#E5ECF6\",\"gridcolor\":\"white\",\"gridwidth\":2,\"linecolor\":\"white\",\"showbackground\":true,\"ticks\":\"\",\"zerolinecolor\":\"white\"},\"yaxis\":{\"backgroundcolor\":\"#E5ECF6\",\"gridcolor\":\"white\",\"gridwidth\":2,\"linecolor\":\"white\",\"showbackground\":true,\"ticks\":\"\",\"zerolinecolor\":\"white\"},\"zaxis\":{\"backgroundcolor\":\"#E5ECF6\",\"gridcolor\":\"white\",\"gridwidth\":2,\"linecolor\":\"white\",\"showbackground\":true,\"ticks\":\"\",\"zerolinecolor\":\"white\"}},\"shapedefaults\":{\"line\":{\"color\":\"#2a3f5f\"}},\"ternary\":{\"aaxis\":{\"gridcolor\":\"white\",\"linecolor\":\"white\",\"ticks\":\"\"},\"baxis\":{\"gridcolor\":\"white\",\"linecolor\":\"white\",\"ticks\":\"\"},\"bgcolor\":\"#E5ECF6\",\"caxis\":{\"gridcolor\":\"white\",\"linecolor\":\"white\",\"ticks\":\"\"}},\"title\":{\"x\":0.05},\"xaxis\":{\"automargin\":true,\"gridcolor\":\"white\",\"linecolor\":\"white\",\"ticks\":\"\",\"title\":{\"standoff\":15},\"zerolinecolor\":\"white\",\"zerolinewidth\":2},\"yaxis\":{\"automargin\":true,\"gridcolor\":\"white\",\"linecolor\":\"white\",\"ticks\":\"\",\"title\":{\"standoff\":15},\"zerolinecolor\":\"white\",\"zerolinewidth\":2}}}},                        {\"responsive\": true}                    ).then(function(){\n",
              "                            \n",
              "var gd = document.getElementById('fdd7527e-9e18-40d8-a9bc-50d29ecb40f5');\n",
              "var x = new MutationObserver(function (mutations, observer) {{\n",
              "        var display = window.getComputedStyle(gd).display;\n",
              "        if (!display || display === 'none') {{\n",
              "            console.log([gd, 'removed!']);\n",
              "            Plotly.purge(gd);\n",
              "            observer.disconnect();\n",
              "        }}\n",
              "}});\n",
              "\n",
              "// Listen for the removal of the full notebook cells\n",
              "var notebookContainer = gd.closest('#notebook-container');\n",
              "if (notebookContainer) {{\n",
              "    x.observe(notebookContainer, {childList: true});\n",
              "}}\n",
              "\n",
              "// Listen for the clearing of the current output cell\n",
              "var outputEl = gd.closest('.output');\n",
              "if (outputEl) {{\n",
              "    x.observe(outputEl, {childList: true});\n",
              "}}\n",
              "\n",
              "                        })                };                            </script>        </div>\n",
              "</body>\n",
              "</html>"
            ]
          },
          "metadata": {}
        }
      ],
      "source": [
        "optuna.visualization.plot_optimization_history(study)"
      ]
    },
    {
      "cell_type": "code",
      "execution_count": 84,
      "id": "5c4adb31-3ea6-4a00-9ae7-e5871ba3f221",
      "metadata": {
        "id": "5c4adb31-3ea6-4a00-9ae7-e5871ba3f221"
      },
      "outputs": [],
      "source": [
        ""
      ]
    }
  ],
  "metadata": {
    "kernelspec": {
      "display_name": "Python 3 (ipykernel)",
      "language": "python",
      "name": "python3"
    },
    "language_info": {
      "codemirror_mode": {
        "name": "ipython",
        "version": 3
      },
      "file_extension": ".py",
      "mimetype": "text/x-python",
      "name": "python",
      "nbconvert_exporter": "python",
      "pygments_lexer": "ipython3",
      "version": "3.9.5"
    },
    "colab": {
      "name": "Optimized code financial inclusion.ipynb",
      "provenance": [],
      "include_colab_link": true
    }
  },
  "nbformat": 4,
  "nbformat_minor": 5
}